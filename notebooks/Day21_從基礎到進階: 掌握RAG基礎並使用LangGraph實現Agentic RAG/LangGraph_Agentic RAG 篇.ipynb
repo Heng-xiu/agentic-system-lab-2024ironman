{
  "cells": [
    {
      "cell_type": "markdown",
      "id": "425fb020-e864-40ce-a31f-8da40c73d14b",
      "metadata": {
        "id": "425fb020-e864-40ce-a31f-8da40c73d14b"
      },
      "source": [
        "# 🥱 LangGraph_Agentic RAG 篇\n",
        "\n",
        "❤️ Created by [hengshiousheu](https://huggingface.co/Heng666).\n"
      ]
    },
    {
      "cell_type": "markdown",
      "source": [
        "# 環境建置\n",
        "\n",
        "## 安裝套件包\n",
        "\n",
        "在深入 RAG 機制之前，我們需要先搭建實驗環境。以下是所需的套件安裝命令："
      ],
      "metadata": {
        "id": "bi5k73uttorl"
      },
      "id": "bi5k73uttorl"
    },
    {
      "cell_type": "code",
      "source": [
        "%%capture --no-stderr\n",
        "%pip install --upgrade --quiet langchain-community\n",
        "%pip install --upgrade --quiet langchain-openai\n",
        "%pip install --upgrade --quiet tiktoken\n",
        "%pip install --upgrade --quiet langchainhub\n",
        "%pip install --upgrade --quiet chromadb\n",
        "%pip install --upgrade --quiet langchain\n",
        "%pip install --upgrade --quiet langgraph\n",
        "%pip install --upgrade --quiet langchain-text-splitters"
      ],
      "metadata": {
        "id": "K2JtL1cytstg"
      },
      "id": "K2JtL1cytstg",
      "execution_count": null,
      "outputs": []
    },
    {
      "cell_type": "markdown",
      "source": [
        "我們需要設置 環境變數 OPENAI_API_KEY ，可以直接完成，如下所示："
      ],
      "metadata": {
        "id": "SAQgoPcLt4Sv"
      },
      "id": "SAQgoPcLt4Sv"
    },
    {
      "cell_type": "code",
      "execution_count": null,
      "id": "e4958a8c",
      "metadata": {
        "id": "e4958a8c"
      },
      "outputs": [],
      "source": [
        "import os\n",
        "import getpass\n",
        "from google.colab import userdata\n",
        "\n",
        "os.environ[\"OPENAI_API_KEY\"] = userdata.get('OPENAI_API_KEY')"
      ]
    },
    {
      "cell_type": "markdown",
      "id": "3d07e8d4",
      "metadata": {
        "id": "3d07e8d4"
      },
      "source": [
        "> 📌 實用提示：確保所有環境變數都正確設置，這對於順利運行後續程式碼至關重要。"
      ]
    },
    {
      "cell_type": "markdown",
      "source": [
        "### (可用可不用)LangSmith\n",
        "\n",
        "你用LangChain構建的許多應用程式將包含多個步驟，並多次調用LLM調用。隨著這些應用程式變得越來越複雜，能夠檢查您的鏈或代理內部到底發生了什麼變得至關重要。最好的方法是與[LangSmith](https://smith.langchain.com)合作。\n",
        "\n",
        "請注意，LangSmith 不是必需的，但它很有説明。如果您確實想使用 LangSmith，請在上面的鏈接中註冊后，請確保設置環境變數以開始記錄跟蹤："
      ],
      "metadata": {
        "id": "1IFmz-ZXt98m"
      },
      "id": "1IFmz-ZXt98m"
    },
    {
      "cell_type": "code",
      "source": [
        "import os\n",
        "import getpass\n",
        "from datetime import datetime\n",
        "import pytz\n",
        "\n",
        "current_time = datetime.now(pytz.timezone('Asia/Taipei')).strftime(\"%Y-%m-%d %Z\")\n",
        "\n",
        "os.environ[\"LANGCHAIN_TRACING_V2\"] = \"false\" ##想要使用記得改 true, 不要時改 false.\n",
        "os.environ[\"LANGCHAIN_ENDPOINT\"] = \"https://api.smith.langchain.com\"\n",
        "os.environ[\"LANGCHAIN_PROJECT\"] = f\"LangGraph Agentic RAG-{current_time}\"\n",
        "os.environ[\"LANGCHAIN_API_KEY\"] = userdata.get('LANGCHAIN_API_KEY')"
      ],
      "metadata": {
        "id": "6-CbrDvCt_te"
      },
      "id": "6-CbrDvCt_te",
      "execution_count": null,
      "outputs": []
    },
    {
      "cell_type": "markdown",
      "id": "c74e4532",
      "metadata": {
        "id": "c74e4532"
      },
      "source": [
        "## 建立檢索器(Retriever)\n",
        "\n",
        "首先讀取三篇部落格文章，建立索引，並且存入到 Chroma 向量資料庫中"
      ]
    },
    {
      "cell_type": "code",
      "execution_count": null,
      "id": "e50c9efe-4abe-42fa-b35a-05eeeede9ec6",
      "metadata": {
        "colab": {
          "base_uri": "https://localhost:8080/"
        },
        "id": "e50c9efe-4abe-42fa-b35a-05eeeede9ec6",
        "outputId": "ba4af7bc-917e-40b8-d9c4-f9a9e882257b"
      },
      "outputs": [
        {
          "output_type": "stream",
          "name": "stderr",
          "text": [
            "WARNING:langchain_community.utils.user_agent:USER_AGENT environment variable not set, consider setting it to identify your requests.\n"
          ]
        }
      ],
      "source": [
        "from langchain_community.document_loaders import WebBaseLoader\n",
        "from langchain_community.vectorstores import Chroma\n",
        "from langchain_openai import OpenAIEmbeddings\n",
        "from langchain_text_splitters import RecursiveCharacterTextSplitter\n",
        "\n",
        "urls = [\n",
        "    \"https://lilianweng.github.io/posts/2023-06-23-agent/\",\n",
        "    \"https://lilianweng.github.io/posts/2023-03-15-prompt-engineering/\",\n",
        "    \"https://lilianweng.github.io/posts/2023-10-25-adv-attack-llm/\",\n",
        "]\n",
        "\n",
        "docs = [WebBaseLoader(url).load() for url in urls]\n",
        "docs_list = [item for sublist in docs for item in sublist]\n",
        "\n",
        "text_splitter = RecursiveCharacterTextSplitter.from_tiktoken_encoder(\n",
        "    chunk_size=100, chunk_overlap=50\n",
        ")\n",
        "doc_splits = text_splitter.split_documents(docs_list)\n",
        "\n",
        "# Add to vectorDB\n",
        "vectorstore = Chroma.from_documents(\n",
        "    documents=doc_splits,\n",
        "    collection_name=\"rag-chroma\",\n",
        "    embedding=OpenAIEmbeddings(),\n",
        ")\n",
        "retriever = vectorstore.as_retriever()"
      ]
    },
    {
      "cell_type": "markdown",
      "id": "225d2277-45b2-4ae8-a7d6-62b07fb4a002",
      "metadata": {
        "id": "225d2277-45b2-4ae8-a7d6-62b07fb4a002"
      },
      "source": [
        "接著來建立 Tool，等等要提供給 Agent 做使用"
      ]
    },
    {
      "cell_type": "code",
      "execution_count": null,
      "id": "0b97bdd8-d7e3-444d-ac96-5ef4725f9048",
      "metadata": {
        "id": "0b97bdd8-d7e3-444d-ac96-5ef4725f9048"
      },
      "outputs": [],
      "source": [
        "from langchain.tools.retriever import create_retriever_tool\n",
        "\n",
        "retriever_tool = create_retriever_tool(\n",
        "    retriever,\n",
        "    \"retrieve_blog_posts\",\n",
        "    \"Search and return information about Lilian Weng blog posts on LLM agents, prompt engineering, and adversarial attacks on LLMs.\",\n",
        ")\n",
        "\n",
        "tools = [retriever_tool]"
      ]
    },
    {
      "cell_type": "markdown",
      "id": "fe6e8f78-1ef7-42ad-b2bf-835ed5850553",
      "metadata": {
        "id": "fe6e8f78-1ef7-42ad-b2bf-835ed5850553"
      },
      "source": [
        "## 描述整體 Graph 狀態\n",
        "\n",
        "\n",
        "我們將定義一個圖結構。\n",
        "\n",
        "`state` 物件會在圖中的每個節點之間傳遞。\n",
        "\n",
        "我們的 `state` 將會是一個 `messages` 的列表。\n",
        "\n",
        "圖中的每個節點都會將內容附加到該列表中。"
      ]
    },
    {
      "cell_type": "code",
      "execution_count": null,
      "id": "0e378706-47d5-425a-8ba0-57b9acffbd0c",
      "metadata": {
        "id": "0e378706-47d5-425a-8ba0-57b9acffbd0c"
      },
      "outputs": [],
      "source": [
        "from typing import Annotated, Sequence, TypedDict\n",
        "\n",
        "from langchain_core.messages import BaseMessage\n",
        "\n",
        "from langgraph.graph.message import add_messages\n",
        "\n",
        "\n",
        "class AgentState(TypedDict):\n",
        "    # The add_messages function defines how an update should be processed\n",
        "    # Default is to replace. add_messages says \"append\"\n",
        "    messages: Annotated[Sequence[BaseMessage], add_messages]"
      ]
    },
    {
      "cell_type": "markdown",
      "id": "dc949d42-8a34-4231-bff0-b8198975e2ce",
      "metadata": {
        "id": "dc949d42-8a34-4231-bff0-b8198975e2ce"
      },
      "source": [
        "## 建立節點函數與邊\n",
        "\n",
        "我們可以如下方式構建一個 Agentic RAG 圖：\n",
        "\n",
        "* `state` 是一組訊息的集合\n",
        "* 每個節點都會更新（附加）`state`\n",
        "* 條件邊決定下一個要訪問的節點\n",
        "\n",
        "![流程圖](https://i.imgur.com/PnshbIH.png)"
      ]
    },
    {
      "cell_type": "markdown",
      "source": [
        "### Import Wall"
      ],
      "metadata": {
        "id": "hZQoqsMJvla3"
      },
      "id": "hZQoqsMJvla3"
    },
    {
      "cell_type": "code",
      "source": [
        "from typing import Annotated, Literal, Sequence, TypedDict\n",
        "\n",
        "from langchain import hub\n",
        "from langchain_core.messages import BaseMessage, HumanMessage\n",
        "from langchain_core.output_parsers import StrOutputParser\n",
        "from langchain_core.prompts import PromptTemplate\n",
        "from langchain_core.pydantic_v1 import BaseModel, Field\n",
        "from langchain_openai import ChatOpenAI\n",
        "\n",
        "from langgraph.prebuilt import tools_condition\n"
      ],
      "metadata": {
        "id": "MdDaIi_mvo59"
      },
      "id": "MdDaIi_mvo59",
      "execution_count": null,
      "outputs": []
    },
    {
      "cell_type": "markdown",
      "source": [
        "### 建立邊\n",
        "\n",
        "在 LangGraph 的工作流程中，conditional edges 扮演著決策點的角色，決定下一步操作的走向。這個函式專門用於評估檢索文件的相關性，進而引導工作流程的分支選擇。\n",
        "\n",
        "在 LangGraph 的上下文中，`grade_documents` 函式的主要任務是：\n",
        "1. 接收當前狀態（包含用戶查詢和檢索到的文件）。\n",
        "2. 使用進階的語言模型（如 GPT-4）評估文件與查詢的相關性。\n",
        "3. 基於評估結果，返回一個決策 —— \"generate\" 或 \"rewrite\"。\n",
        "\n",
        "這個決策直接影響工作流程的下一步：如果文件被判定為相關（返回 \"generate\"），工作流程會進入生成答案的階段；如果不相關（返回 \"rewrite\"），則可能轉向重新檢索文件或重新制定查詢策略。"
      ],
      "metadata": {
        "id": "C7hp3vP3vpnD"
      },
      "id": "C7hp3vP3vpnD"
    },
    {
      "cell_type": "code",
      "source": [
        "### Edges\n",
        "def grade_documents(state) -> Literal[\"generate\", \"rewrite\"]:\n",
        "    \"\"\"\n",
        "    判斷檢索到的文件是否與問題相關。\n",
        "\n",
        "    參數:\n",
        "        state (messages): 當前狀態\n",
        "\n",
        "    返回:\n",
        "        str: 文件是否相關的決定，\"generate\" 或 \"rewrite\"\n",
        "    \"\"\"\n",
        "\n",
        "    print(\"---CHECK RELEVANCE---\")\n",
        "\n",
        "    # 定義數據模型\n",
        "    class grade(BaseModel):\n",
        "        \"\"\"用於相關性檢查的二元評分。\"\"\"\n",
        "\n",
        "        binary_score: str = Field(description=\"相關性評分，'yes' 或 'no'\")\n",
        "\n",
        "    # 初始化 LLM 模型\n",
        "    model = ChatOpenAI(temperature=0, model=\"gpt-4-0125-preview\", streaming=True)\n",
        "\n",
        "    # 將 LLM 與工具和驗證結合\n",
        "    llm_with_tool = model.with_structured_output(grade)\n",
        "\n",
        "    # 定義提示模板\n",
        "    prompt = PromptTemplate(\n",
        "        template=\"\"\"您是一位評估檢索文件與用戶問題相關性的評分員。\\n\n",
        "        以下是檢索到的文件：\\n\\n {context} \\n\\n\n",
        "        以下是用戶問題：{question} \\n\n",
        "        如果文件包含與用戶問題相關的關鍵詞或語義，請將其評為相關。\\n\n",
        "        給出二元評分 'yes' 或 'no' 以表示文件是否與問題相關。\"\"\",\n",
        "        input_variables=[\"context\", \"question\"],\n",
        "    )\n",
        "\n",
        "    # 創建鏈\n",
        "    chain = prompt | llm_with_tool\n",
        "\n",
        "    # 從狀態中提取消息\n",
        "    messages = state[\"messages\"]\n",
        "    last_message = messages[-1]\n",
        "\n",
        "    # 提取問題和文件\n",
        "    question = messages[0].content\n",
        "    docs = last_message.content\n",
        "\n",
        "    # 調用鏈進行評分\n",
        "    scored_result = chain.invoke({\"question\": question, \"context\": docs})\n",
        "\n",
        "    # 獲取評分結果\n",
        "    score = scored_result.binary_score\n",
        "\n",
        "    # 根據評分結果返回決策\n",
        "    if score == \"yes\":\n",
        "        print(\"---DECISION: DOCS RELEVANT---\")\n",
        "        return \"generate\"\n",
        "    else:\n",
        "        print(\"---DECISION: DOCS NOT RELEVANT---\")\n",
        "        print(score)\n",
        "        return \"rewrite\""
      ],
      "metadata": {
        "id": "tkF5Q6GVvsER"
      },
      "id": "tkF5Q6GVvsER",
      "execution_count": null,
      "outputs": []
    },
    {
      "cell_type": "markdown",
      "source": [
        "### 建立節點\n",
        "\n",
        "下面定義了 LangGraph 框架中的三個關鍵節點函數：agent、rewrite 和 generate。這些函數共同構成了一個複雜的問答系統工作流程。讓我們深入了解每個函數的作用及其在整個系統中的重要性：\n",
        "\n",
        "1. agent 函數：\n",
        "這是工作流程的起點。它使用 GPT-4 模型來理解用戶的初始查詢，並決定下一步操作。這個函數的關鍵在於它能夠綁定外部工具（如檢索工具），使模型能夠根據需要獲取額外信息。\n",
        "2. rewrite 函數：\n",
        "當初始查詢不夠清晰或需要優化時，這個函數會被調用。它利用 GPT-4 模型來重新表述問題，使其更加明確和有針對性。這一步驟對於提高最終答案的質量至關重要。\n",
        "3. generate 函數：\n",
        "這是最終的答案生成階段。它使用檢索增強生成（RAG）技術，結合了從外部源檢索到的文檔和用戶的問題，然後使用 GPT-3.5-turbo 模型生成最終答案。這個函數集成了提示工程、語言模型和後處理步驟，以產生高質量的回應。"
      ],
      "metadata": {
        "id": "DxKl198qwFab"
      },
      "id": "DxKl198qwFab"
    },
    {
      "cell_type": "markdown",
      "source": [
        "### 回答問題用 Agent"
      ],
      "metadata": {
        "id": "6sQO7Ri7xnDy"
      },
      "id": "6sQO7Ri7xnDy"
    },
    {
      "cell_type": "code",
      "source": [
        "def agent(state):\n",
        "    \"\"\"\n",
        "    調用代理模型根據當前狀態生成回應。根據問題決定是否使用檢索工具或直接結束。\n",
        "\n",
        "    參數:\n",
        "        state (messages): 當前狀態\n",
        "\n",
        "    返回:\n",
        "        dict: 更新後的狀態，包含添加到消息列表中的代理回應\n",
        "    \"\"\"\n",
        "    print(\"---CALL AGENT---\")\n",
        "    messages = state[\"messages\"]\n",
        "    model = ChatOpenAI(temperature=0, streaming=True, model=\"gpt-4-turbo\")\n",
        "    model = model.bind_tools(tools)\n",
        "    response = model.invoke(messages)\n",
        "    return {\"messages\": [response]}"
      ],
      "metadata": {
        "id": "dhNIDsUdxpxs"
      },
      "id": "dhNIDsUdxpxs",
      "execution_count": null,
      "outputs": []
    },
    {
      "cell_type": "markdown",
      "source": [
        "### 重寫文案用 節點"
      ],
      "metadata": {
        "id": "ZLXPhs5Sxr8d"
      },
      "id": "ZLXPhs5Sxr8d"
    },
    {
      "cell_type": "code",
      "source": [
        "def rewrite(state):\n",
        "    \"\"\"\n",
        "    轉換查詢以產生更好的問題。\n",
        "\n",
        "    參數:\n",
        "        state (messages): 當前狀態\n",
        "\n",
        "    返回:\n",
        "        dict: 更新後的狀態，包含重新表述的問題\n",
        "    \"\"\"\n",
        "    print(\"---TRANSFORM QUERY---\")\n",
        "    messages = state[\"messages\"]\n",
        "    question = messages[0].content\n",
        "\n",
        "    msg = [\n",
        "        HumanMessage(\n",
        "            content=f\"\"\" \\n\n",
        "    查看輸入並嘗試推理潛在的語義意圖/含義。 \\n\n",
        "    這是初始問題: \\n\n",
        "------- \\n\n",
        "    {question} \\n\n",
        "------- \\n\n",
        "    制定一個改進的問題: \"\"\",\n",
        "        )\n",
        "    ]\n",
        "\n",
        "    model = ChatOpenAI(temperature=0, model=\"gpt-4-0125-preview\", streaming=True)\n",
        "    response = model.invoke(msg)\n",
        "    return {\"messages\": [response]}"
      ],
      "metadata": {
        "id": "L_qEwFuNxuyI"
      },
      "id": "L_qEwFuNxuyI",
      "execution_count": null,
      "outputs": []
    },
    {
      "cell_type": "markdown",
      "source": [
        "### 生成最後答案節點"
      ],
      "metadata": {
        "id": "nqe5UaYlxwDS"
      },
      "id": "nqe5UaYlxwDS"
    },
    {
      "cell_type": "code",
      "execution_count": null,
      "id": "278d1d83-dda6-4de4-bf8b-be9965c227fa",
      "metadata": {
        "colab": {
          "base_uri": "https://localhost:8080/"
        },
        "id": "278d1d83-dda6-4de4-bf8b-be9965c227fa",
        "outputId": "109adbcd-e218-4ae9-968d-92ae09df498b"
      },
      "outputs": [
        {
          "output_type": "stream",
          "name": "stdout",
          "text": [
            "********************Default RAG Prompt********************\n",
            "\n",
            "    You are an assistant for question-answering tasks. Use the following pieces of retrieved context to answer the question. If you don't know the answer, just say that you don't know. Use three sentences maximum and keep the answer concise.\n",
            "    Question: {question}\n",
            "    Context: {context}\n",
            "    Answer:\n",
            "    \n"
          ]
        }
      ],
      "source": [
        "prompt = \"\"\"\n",
        "    You are an assistant for question-answering tasks. Use the following pieces of retrieved context to answer the question. If you don't know the answer, just say that you don't know. Use three sentences maximum and keep the answer concise.\n",
        "    Question: {question}\n",
        "    Context: {context}\n",
        "    Answer:\n",
        "    \"\"\"\n",
        "\n",
        "def generate(state):\n",
        "    \"\"\"\n",
        "    生成答案\n",
        "\n",
        "    參數:\n",
        "        state (messages): 當前狀態\n",
        "\n",
        "    返回:\n",
        "         dict: 更新後的狀態，包含生成的答案\n",
        "    \"\"\"\n",
        "    print(\"---GENERATE---\")\n",
        "    messages = state[\"messages\"]\n",
        "    question = messages[0].content\n",
        "    last_message = messages[-1]\n",
        "    docs = last_message.content\n",
        "\n",
        "    #\n",
        "    prompt = \"\"\"\n",
        "    You are an assistant for question-answering tasks. Use the following pieces of retrieved context to answer the question. If you don't know the answer, just say that you don't know. Use three sentences maximum and keep the answer concise.\n",
        "    Question: {question}\n",
        "    Context: {context}\n",
        "    Answer:\n",
        "    \"\"\"\n",
        "\n",
        "    llm = ChatOpenAI(model_name=\"gpt-3.5-turbo\", temperature=0, streaming=True)\n",
        "\n",
        "    def format_docs(docs):\n",
        "        return \"\\n\\n\".join(doc.page_content for doc in docs)\n",
        "\n",
        "    rag_chain = PromptTemplate.from_template(prompt) | llm | StrOutputParser()\n",
        "    response = rag_chain.invoke({\"context\": docs, \"question\": question})\n",
        "    return {\"messages\": [response]}\n",
        "\n",
        "print(\"*\" * 20 + \"Default RAG Prompt\" + \"*\" * 20)\n",
        "print(prompt)"
      ]
    },
    {
      "cell_type": "markdown",
      "id": "955882ef-7467-48db-ae51-de441f2fc3a7",
      "metadata": {
        "id": "955882ef-7467-48db-ae51-de441f2fc3a7"
      },
      "source": [
        "### 編譯圖：LangGraph 工作流程結構解析\n",
        "\n",
        "1. **工作流程初始化**：\n",
        "   程式首先創建了一個 `StateGraph` 對象，這是整個工作流程的骨架。`AgentState` 參數定義了圖中流動的狀態類型。\n",
        "\n",
        "2. **節點定義**：\n",
        "   工作流程中定義了四個主要節點：\n",
        "   - `agent`：負責理解查詢並做出決策。\n",
        "   - `retrieve`：使用 `ToolNode` 封裝檢索工具，用於獲取相關文檔。\n",
        "   - `rewrite`：用於重新表述問題，提高查詢質量。\n",
        "   - `generate`：在確認文檔相關性後生成最終回答。\n",
        "\n",
        "3. **起始邊緣**：\n",
        "   工作流程從 `START` 開始，直接連接到 `agent` 節點，這是每次查詢的入口點。\n",
        "\n",
        "4. **條件邊緣**：\n",
        "   - 從 `agent` 節點出發，根據 `tools_condition` 的評估結果決定下一步：\n",
        "     - 如果需要使用工具，流程轉向 `retrieve` 節點。\n",
        "     - 否則，流程直接結束（END）。\n",
        "   - 從 `retrieve` 節點出發，使用 `grade_documents` 函數評估檢索到的文檔相關性。\n",
        "\n",
        "5. **結束邊緣**：\n",
        "   - `generate` 節點直接連接到 END，表示答案生成後工作流程結束。\n",
        "   - `rewrite` 節點連接回 `agent`，允許在需要時重新開始流程。\n",
        "\n",
        "6. **圖形編譯**：\n",
        "   最後，調用 `compile()` 方法將定義的工作流程轉換為可執行的圖形。"
      ]
    },
    {
      "cell_type": "code",
      "execution_count": null,
      "id": "8718a37f-83c2-4f16-9850-e61e0f49c3d4",
      "metadata": {
        "id": "8718a37f-83c2-4f16-9850-e61e0f49c3d4"
      },
      "outputs": [],
      "source": [
        "from langgraph.graph import END, StateGraph, START\n",
        "from langgraph.prebuilt import ToolNode\n",
        "\n",
        "retrieve = ToolNode([retriever_tool])\n",
        "\n",
        "# 定義新的圖形\n",
        "workflow = StateGraph(AgentState)\n",
        "\n",
        "# 定義我們將在其間循環的節點\n",
        "workflow.add_node(\"agent\", agent)  # 代理節點\n",
        "workflow.add_node(\"retrieve\", retrieve)  # 檢索節點\n",
        "workflow.add_node(\"rewrite\", rewrite)  # 重寫問題節點\n",
        "workflow.add_node(\n",
        "    \"generate\", generate\n",
        ")  # 生成回應節點（在確認文件相關性後使用）\n",
        "\n",
        "# 呼叫代理節點來決定是否進行檢索\n",
        "workflow.add_edge(START, \"agent\")\n",
        "\n",
        "# 決定是否檢索\n",
        "workflow.add_conditional_edges(\n",
        "    \"agent\",\n",
        "    # 評估代理決策\n",
        "    tools_condition,\n",
        "    {\n",
        "        # 將條件輸出轉換為圖中的節點\n",
        "        \"tools\": \"retrieve\",\n",
        "        END: END,\n",
        "    },\n",
        ")\n",
        "\n",
        "# 在 `retrieve` 節點被呼叫後的邊緣\n",
        "workflow.add_conditional_edges(\n",
        "    \"retrieve\",\n",
        "    # 評估文件相關性\n",
        "    grade_documents,\n",
        ")\n",
        "workflow.add_edge(\"generate\", END)\n",
        "workflow.add_edge(\"rewrite\", \"agent\")\n",
        "\n",
        "# 編譯圖形\n",
        "graph = workflow.compile()"
      ]
    },
    {
      "cell_type": "markdown",
      "source": [
        "### 視覺化查看圖"
      ],
      "metadata": {
        "id": "_T4qZO_jyoBZ"
      },
      "id": "_T4qZO_jyoBZ"
    },
    {
      "cell_type": "code",
      "execution_count": null,
      "id": "7b5a1d35",
      "metadata": {
        "colab": {
          "base_uri": "https://localhost:8080/",
          "height": 473
        },
        "id": "7b5a1d35",
        "outputId": "67269ba6-af37-4ab9-926b-0e47d6b8256b"
      },
      "outputs": [
        {
          "output_type": "display_data",
          "data": {
            "image/jpeg": "[encoded data removed]",
            "text/plain": [
              "<IPython.core.display.Image object>"
            ]
          },
          "metadata": {}
        }
      ],
      "source": [
        "from IPython.display import Image, display\n",
        "\n",
        "try:\n",
        "    display(Image(graph.get_graph(xray=True).draw_mermaid_png()))\n",
        "except Exception:\n",
        "    # This requires some extra dependencies and is optional\n",
        "    pass"
      ]
    },
    {
      "cell_type": "markdown",
      "source": [
        "### 與圖互動"
      ],
      "metadata": {
        "id": "-4rjhYTHy9Ob"
      },
      "id": "-4rjhYTHy9Ob"
    },
    {
      "cell_type": "code",
      "execution_count": null,
      "id": "7649f05a-cb67-490d-b24a-74d41895139a",
      "metadata": {
        "colab": {
          "base_uri": "https://localhost:8080/"
        },
        "id": "7649f05a-cb67-490d-b24a-74d41895139a",
        "outputId": "6725b30b-feca-4a5a-ca80-8ed7416168ea"
      },
      "outputs": [
        {
          "output_type": "stream",
          "name": "stdout",
          "text": [
            "================================\u001b[1m Human Message \u001b[0m=================================\n",
            "\n",
            "Lilian Weng 如何介紹 agent memory?\n",
            "---CALL AGENT---\n",
            "================================\u001b[1m Human Message \u001b[0m=================================\n",
            "\n",
            "Lilian Weng 如何介紹 agent memory?\n",
            "==================================\u001b[1m Ai Message \u001b[0m==================================\n",
            "Tool Calls:\n",
            "  retrieve_blog_posts (call_Q4FdDldyNtD8cgMBPR4WXjvA)\n",
            " Call ID: call_Q4FdDldyNtD8cgMBPR4WXjvA\n",
            "  Args:\n",
            "    query: agent memory\n",
            "---CHECK RELEVANCE---\n",
            "---DECISION: DOCS NOT RELEVANT---\n",
            "no\n",
            "================================\u001b[1m Human Message \u001b[0m=================================\n",
            "\n",
            "Lilian Weng 如何介紹 agent memory?\n",
            "==================================\u001b[1m Ai Message \u001b[0m==================================\n",
            "Tool Calls:\n",
            "  retrieve_blog_posts (call_Q4FdDldyNtD8cgMBPR4WXjvA)\n",
            " Call ID: call_Q4FdDldyNtD8cgMBPR4WXjvA\n",
            "  Args:\n",
            "    query: agent memory\n",
            "=================================\u001b[1m Tool Message \u001b[0m=================================\n",
            "Name: retrieve_blog_posts\n",
            "\n",
            "The design of generative agents combines LLM with memory, planning and reflection mechanisms to enable agents to behave conditioned on past experience, as well as to interact with other agents.\n",
            "\n",
            "Memory stream: is a long-term memory module (external database) that records a comprehensive list of agents’ experience in natural language.\n",
            "\n",
            "Each element is an observation, an event directly provided by the agent.\n",
            "- Inter-agent communication can trigger new natural language statements.\n",
            "\n",
            "\n",
            "Retrieval model: surfaces the context to inform the agent’s behavior, according to relevance, recency and importance.\n",
            "\n",
            "Planning\n",
            "\n",
            "Subgoal and decomposition: The agent breaks down large tasks into smaller, manageable subgoals, enabling efficient handling of complex tasks.\n",
            "Reflection and refinement: The agent can do self-criticism and self-reflection over past actions, learn from mistakes and refine them for future steps, thereby improving the quality of final results.\n",
            "\n",
            "\n",
            "Memory\n",
            "\n",
            "[7] https://chat.openai.com/share/46ff149e-a4c7-4dd7-a800-fc4a642ea389\n",
            "[8] Shinn & Labash. “Reflexion: an autonomous agent with dynamic memory and self-reflection” arXiv preprint arXiv:2303.11366 (2023).\n",
            "---TRANSFORM QUERY---\n",
            "================================\u001b[1m Human Message \u001b[0m=================================\n",
            "\n",
            "Lilian Weng 如何介紹 agent memory?\n",
            "==================================\u001b[1m Ai Message \u001b[0m==================================\n",
            "Tool Calls:\n",
            "  retrieve_blog_posts (call_Q4FdDldyNtD8cgMBPR4WXjvA)\n",
            " Call ID: call_Q4FdDldyNtD8cgMBPR4WXjvA\n",
            "  Args:\n",
            "    query: agent memory\n",
            "=================================\u001b[1m Tool Message \u001b[0m=================================\n",
            "Name: retrieve_blog_posts\n",
            "\n",
            "The design of generative agents combines LLM with memory, planning and reflection mechanisms to enable agents to behave conditioned on past experience, as well as to interact with other agents.\n",
            "\n",
            "Memory stream: is a long-term memory module (external database) that records a comprehensive list of agents’ experience in natural language.\n",
            "\n",
            "Each element is an observation, an event directly provided by the agent.\n",
            "- Inter-agent communication can trigger new natural language statements.\n",
            "\n",
            "\n",
            "Retrieval model: surfaces the context to inform the agent’s behavior, according to relevance, recency and importance.\n",
            "\n",
            "Planning\n",
            "\n",
            "Subgoal and decomposition: The agent breaks down large tasks into smaller, manageable subgoals, enabling efficient handling of complex tasks.\n",
            "Reflection and refinement: The agent can do self-criticism and self-reflection over past actions, learn from mistakes and refine them for future steps, thereby improving the quality of final results.\n",
            "\n",
            "\n",
            "Memory\n",
            "\n",
            "[7] https://chat.openai.com/share/46ff149e-a4c7-4dd7-a800-fc4a642ea389\n",
            "[8] Shinn & Labash. “Reflexion: an autonomous agent with dynamic memory and self-reflection” arXiv preprint arXiv:2303.11366 (2023).\n",
            "==================================\u001b[1m Ai Message \u001b[0m==================================\n",
            "\n",
            "Lilian Weng 在其研究或著作中是如何定義或解釋「agent memory」的概念？\n",
            "---CALL AGENT---\n",
            "================================\u001b[1m Human Message \u001b[0m=================================\n",
            "\n",
            "Lilian Weng 如何介紹 agent memory?\n",
            "==================================\u001b[1m Ai Message \u001b[0m==================================\n",
            "Tool Calls:\n",
            "  retrieve_blog_posts (call_Q4FdDldyNtD8cgMBPR4WXjvA)\n",
            " Call ID: call_Q4FdDldyNtD8cgMBPR4WXjvA\n",
            "  Args:\n",
            "    query: agent memory\n",
            "=================================\u001b[1m Tool Message \u001b[0m=================================\n",
            "Name: retrieve_blog_posts\n",
            "\n",
            "The design of generative agents combines LLM with memory, planning and reflection mechanisms to enable agents to behave conditioned on past experience, as well as to interact with other agents.\n",
            "\n",
            "Memory stream: is a long-term memory module (external database) that records a comprehensive list of agents’ experience in natural language.\n",
            "\n",
            "Each element is an observation, an event directly provided by the agent.\n",
            "- Inter-agent communication can trigger new natural language statements.\n",
            "\n",
            "\n",
            "Retrieval model: surfaces the context to inform the agent’s behavior, according to relevance, recency and importance.\n",
            "\n",
            "Planning\n",
            "\n",
            "Subgoal and decomposition: The agent breaks down large tasks into smaller, manageable subgoals, enabling efficient handling of complex tasks.\n",
            "Reflection and refinement: The agent can do self-criticism and self-reflection over past actions, learn from mistakes and refine them for future steps, thereby improving the quality of final results.\n",
            "\n",
            "\n",
            "Memory\n",
            "\n",
            "[7] https://chat.openai.com/share/46ff149e-a4c7-4dd7-a800-fc4a642ea389\n",
            "[8] Shinn & Labash. “Reflexion: an autonomous agent with dynamic memory and self-reflection” arXiv preprint arXiv:2303.11366 (2023).\n",
            "==================================\u001b[1m Ai Message \u001b[0m==================================\n",
            "\n",
            "Lilian Weng 在其研究或著作中是如何定義或解釋「agent memory」的概念？\n",
            "==================================\u001b[1m Ai Message \u001b[0m==================================\n",
            "\n",
            "Lilian Weng 在介紹「agent memory」時，提到了幾個關鍵的概念和機制：\n",
            "\n",
            "1. **Memory Stream**：這是一個長期記憶模塊（外部數據庫），它記錄了代理的經驗，這些經驗以自然語言的形式表達。每個元素都是一個觀察或事件，直接由代理提供。代理之間的交流可以觸發新的自然語言陳述。\n",
            "\n",
            "2. **Retrieval Model**：這個模型用於提取信息，以便根據相關性、最近性和重要性來影響代理的行為。\n",
            "\n",
            "此外，她還提到了與記憶相關的其他概念，如規劃（Planning）、子目標和分解（Subgoal and decomposition）、反思和精煉（Reflection and refinement）。這些機制使代理能夠根據過去的經驗進行條件反射，並與其他代理進行互動，從而有效地處理複雜任務，學習過去的錯誤，並為未來的行動進行改進。\n"
          ]
        }
      ],
      "source": [
        "import pprint\n",
        "\n",
        "inputs = {\n",
        "    \"messages\": [\n",
        "        (\"user\", \"Lilian Weng 如何介紹 agent memory?\"),\n",
        "    ]\n",
        "}\n",
        "for event in graph.stream(inputs, stream_mode=\"values\"):\n",
        "  for message in event[\"messages\"]:\n",
        "        message.pretty_print()"
      ]
    },
    {
      "cell_type": "code",
      "source": [],
      "metadata": {
        "id": "NPaOW6hfy_4y"
      },
      "id": "NPaOW6hfy_4y",
      "execution_count": null,
      "outputs": []
    }
  ],
  "metadata": {
    "kernelspec": {
      "display_name": "Python 3 (ipykernel)",
      "language": "python",
      "name": "python3"
    },
    "language_info": {
      "codemirror_mode": {
        "name": "ipython",
        "version": 3
      },
      "file_extension": ".py",
      "mimetype": "text/x-python",
      "name": "python",
      "nbconvert_exporter": "python",
      "pygments_lexer": "ipython3",
      "version": "3.12.2"
    },
    "colab": {
      "provenance": [],
      "collapsed_sections": [
        "1IFmz-ZXt98m"
      ],
      "toc_visible": true
    }
  },
  "nbformat": 4,
  "nbformat_minor": 5
}
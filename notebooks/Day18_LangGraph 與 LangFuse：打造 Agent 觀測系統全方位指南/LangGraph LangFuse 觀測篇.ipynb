{
  "cells": [
    {
      "cell_type": "markdown",
      "metadata": {
        "id": "MPJsVa1O4TuL"
      },
      "source": [
        "#LangGraph 與 LangFuse 的完美結合:打造智能觀測系統\n"
      ]
    },
    {
      "cell_type": "markdown",
      "metadata": {
        "id": "YlCI9KeX4Zn4"
      },
      "source": [
        "## LangGraph:多智能體應用的革命性框架\n",
        "\n",
        "你是否曾夢想過打造一個複雜的、多智能體的 AI 應用?[LangGraph](https://langchain-ai.github.io/langgraph/) 正是為此而生的開源框架。由 LangChain 團隊精心打造,LangGraph 讓你能夠輕鬆構建具有狀態管理的多智能體系統。它的內建持久化功能更是讓錯誤恢復和人機協作工作流變得輕而易舉。"
      ]
    },
    {
      "cell_type": "markdown",
      "metadata": {
        "id": "3o8L1qPcaZeC"
      },
      "source": [
        "## 為什麼要整合 LangFuse?\n",
        "\n",
        "文件詳細介紹 [Langfuse](https://langfuse.com/docs) 如何協助開發人員進行除錯、分析在整個 LangGraph 應用程式開發過程。\n",
        "\n"
      ]
    },
    {
      "cell_type": "markdown",
      "metadata": {
        "id": "gPTaMtxH4eHV"
      },
      "source": [
        "想像一下,你有了一個強大的多智能體系統,但卻無法洞察其內部運作。這就像駕駛一輛沒有儀表盤的跑車!而 LangFuse 正是你的智能儀表盤。通過 LangFuse 的 LangChain 集成,你可以:\n",
        "\n",
        "*   自動追蹤 LangGraph 應用的每一個細節\n",
        "*   深入分析複雜的多智能體互動\n",
        "*   添加關鍵指標(如用戶反饋)\n",
        "*   高效管理 LangGraph 中使用的提示詞\n",
        "\n"
      ]
    },
    {
      "cell_type": "markdown",
      "metadata": {
        "id": "0sSIS88y9Ewm"
      },
      "source": [
        "## 開始你的 LangFuse 之旅\n",
        "\n",
        "\n",
        "**Note:** 需要使用 Python 3.11 ([GitHub Issue](https://github.com/langfuse/langfuse/issues/1926)).\n",
        "\n",
        "首先,我們需要設置 LangFuse 客戶端。這就像為你的 AI 應用安裝一個智能監控系統。你需要:\n",
        "\n",
        "從 LangFuse UI 的項目設置中獲取 API 密鑰\n",
        "將這些密鑰添加到你的環境變量中\n",
        "\n",
        "讓我們看看具體怎麼做:"
      ]
    },
    {
      "cell_type": "code",
      "execution_count": null,
      "metadata": {
        "collapsed": true,
        "id": "C85BK1vJ5yD3"
      },
      "outputs": [],
      "source": [
        "%pip install --quiet langfuse\n",
        "%pip install --quiet langchain langgraph langchain_openai langchain_community"
      ]
    },
    {
      "cell_type": "code",
      "execution_count": null,
      "metadata": {
        "id": "S1yglQ464VD-"
      },
      "outputs": [],
      "source": [
        "import os\n",
        "from google.colab import userdata\n",
        "\n",
        "# get keys for your project from langfuse dashboard\n",
        "os.environ[\"LANGFUSE_PUBLIC_KEY\"] = userdata.get('LANGFUSE_PUBLIC_KEY')\n",
        "os.environ[\"LANGFUSE_SECRET_KEY\"] = userdata.get('LANGFUSE_SECRET_KEY')\n",
        "os.environ[\"LANGFUSE_HOST\"] = \"https://1def-36-237-214-5.ngrok-free.app\"\n",
        "\n",
        "# your openai key\n",
        "os.environ[\"OPENAI_API_KEY\"] = userdata.get('OPENAI_API_KEY')"
      ]
    },
    {
      "cell_type": "markdown",
      "metadata": {
        "id": "XpyTE1VqwLMj"
      },
      "source": [
        "> 記住,保護這些密鑰就像保護你家的鑰匙一樣重要!\n"
      ]
    },
    {
      "cell_type": "markdown",
      "metadata": {
        "id": "kqYMmi6n9Nh1"
      },
      "source": [
        "## 範例 1:LangGraph 驅動的智能聊天機器人\n",
        "\n",
        "讓我們從一個簡單但強大的例子開始 - 一個能夠回答常見問題的客服聊天機器人。在這個過程中,我們將:\n",
        "\n",
        "使用 LangGraph 構建一個基礎聊天機器人\n",
        "利用 LangFuse 追蹤機器人的輸入和輸出\n",
        "\n",
        "這就像為你的機器人配備了一個智能日誌系統,讓你能夠回顧並分析每一次對話。\n",
        "\n",
        "### 打造你的 AI 助手\n",
        "\n",
        "在 LangGraph 中,我們使用 `StateGraph` 來定義聊天機器人的結構。這就像設計一個流程圖,其中包含了 AI 可以執行的各種功能和它們之間的聯繫。"
      ]
    },
    {
      "cell_type": "code",
      "execution_count": null,
      "metadata": {
        "id": "aGIxgPww6VX6"
      },
      "outputs": [],
      "source": [
        "from typing import Annotated\n",
        "\n",
        "from langchain_openai import ChatOpenAI\n",
        "from langchain_core.messages import HumanMessage\n",
        "from typing_extensions import TypedDict\n",
        "\n",
        "from langgraph.graph import StateGraph\n",
        "from langgraph.graph.message import add_messages\n",
        "\n",
        "class State(TypedDict):\n",
        "    messages: Annotated[list, add_messages]\n",
        "\n",
        "graph_builder = StateGraph(State)\n",
        "\n",
        "llm = ChatOpenAI(model = \"gpt-4o\", temperature = 0.2)\n",
        "\n",
        "def chatbot(state: State):\n",
        "    return {\"messages\": [llm.invoke(state[\"messages\"])]}\n",
        "\n",
        "graph_builder.add_node(\"chatbot\", chatbot)\n",
        "\n",
        "graph_builder.set_entry_point(\"chatbot\")\n",
        "\n",
        "graph_builder.set_finish_point(\"chatbot\")\n",
        "\n",
        "graph = graph_builder.compile()"
      ]
    },
    {
      "cell_type": "markdown",
      "metadata": {
        "id": "yCz74YqQw0Mh"
      },
      "source": [
        "#### 視覺化你的聊天機器人\n",
        "\n",
        "LangGraph 還提供了一個強大的可視化工具,讓你能夠直觀地看到你的 AI 助手的 \"思維結構\":\n"
      ]
    },
    {
      "cell_type": "markdown",
      "metadata": {
        "id": "fWEqmyZQyGJ7"
      },
      "source": [
        "```mermaid\n",
        "graph TD;\n",
        "\t__start__([__start__]):::first\n",
        "\tchatbot(chatbot)\n",
        "\t__end__([__end__]):::last\n",
        "\t__start__ --> chatbot;\n",
        "\tchatbot --> __end__;\n",
        "\tclassDef default fill:#f2f0ff,line-height:1.2\n",
        "\tclassDef first fill-opacity:0\n",
        "\tclassDef last fill:#bfb6fc\n",
        "```"
      ]
    },
    {
      "cell_type": "code",
      "execution_count": null,
      "metadata": {
        "colab": {
          "base_uri": "https://localhost:8080/",
          "height": 236
        },
        "id": "a8XmUKNGw3BZ",
        "outputId": "e972a66b-18b5-42fb-a441-7adca5fab278"
      },
      "outputs": [
        {
          "data": {
            "image/jpeg": "[encoded data removed]",
            "text/plain": [
              "<IPython.core.display.Image object>"
            ]
          },
          "metadata": {},
          "output_type": "display_data"
        }
      ],
      "source": [
        "from IPython.display import Image, display\n",
        "\n",
        "display(Image(graph.get_graph(xray=True).draw_mermaid_png()))"
      ]
    },
    {
      "cell_type": "markdown",
      "metadata": {
        "id": "IW2SJcRgh7Xo"
      },
      "source": [
        "### 讓 LangFuse 成為你的 AI 觀察員\n",
        "\n",
        "接下來，我們使用 [Langfuse callback handler for LangChain](https://langfuse.com/docs/integrations/langchain/tracing) 來追蹤每一個步驟，僅需在程式碼當中添加 `config={\"callbacks\": [langfuse_handler]}`"
      ]
    },
    {
      "cell_type": "code",
      "execution_count": null,
      "metadata": {
        "colab": {
          "base_uri": "https://localhost:8080/"
        },
        "id": "8PxEc455-KYM",
        "outputId": "8ba9efa7-58a9-4095-eee8-2771ad3a7674"
      },
      "outputs": [
        {
          "name": "stdout",
          "output_type": "stream",
          "text": [
            "{'chatbot': {'messages': [AIMessage(content='Langfuse is a platform designed to help developers monitor and observe their Large Language Model (LLM) applications. It provides tools for logging, tracing, and visualizing the interactions and performance of LLMs, making it easier to understand how these models are being used and how they are performing in real-world applications.\\n\\nKey features of Langfuse include:\\n\\n1. **Logging**: Captures detailed logs of interactions with LLMs, including inputs, outputs, and metadata.\\n2. **Tracing**: Allows developers to trace the flow of data through their LLM applications, helping to identify bottlenecks and performance issues.\\n3. **Visualization**: Provides visual tools to analyze the performance and usage patterns of LLMs, making it easier to spot trends and anomalies.\\n4. **Integration**: Can be integrated with various LLMs and development environments to provide seamless monitoring and observation capabilities.\\n\\nLangfuse aims to enhance the transparency and reliability of LLM applications by providing developers with the insights they need to optimize and troubleshoot their models effectively.', additional_kwargs={'refusal': None}, response_metadata={'token_usage': {'completion_tokens': 212, 'prompt_tokens': 13, 'total_tokens': 225}, 'model_name': 'gpt-4o-2024-05-13', 'system_fingerprint': 'fp_3aa7262c27', 'finish_reason': 'stop', 'logprobs': None}, id='run-d93ef828-5e40-4551-9751-43e62474caf9-0', usage_metadata={'input_tokens': 13, 'output_tokens': 212, 'total_tokens': 225})]}}\n"
          ]
        }
      ],
      "source": [
        "from langfuse.callback import CallbackHandler\n",
        "\n",
        "# Initialize Langfuse CallbackHandler for Langchain (tracing)\n",
        "langfuse_handler = CallbackHandler()\n",
        "\n",
        "for s in graph.stream({\"messages\": [HumanMessage(content = \"What is Langfuse?\")]},\n",
        "                      config={\"callbacks\": [langfuse_handler]}):\n",
        "    print(s)"
      ]
    },
    {
      "cell_type": "markdown",
      "metadata": {
        "id": "Xx9oGfnOw_Vp"
      },
      "source": [
        "通過添加 [Langfuse callback handler for LangChain](https://langfuse.com/docs/integrations/langchain/tracing), 你就像給你的 AI 助手配備了一個智能記錄儀,記錄下每一次對話的細節。"
      ]
    },
    {
      "cell_type": "markdown",
      "metadata": {
        "id": "Fdf3ZRnWGZ0N"
      },
      "source": [
        "### 在 LangFuse 中查看對話軌跡\n",
        "\n",
        "這邊直接上圖，可以在專案底下/traces 查看每一個對話紀錄，回顧你的 AI 助手與用戶的每一次互動。\n"
      ]
    },
    {
      "cell_type": "markdown",
      "metadata": {
        "id": "17Aq7u6_LBR6"
      },
      "source": [
        "![Trace view of chat app in Langfuse，要補上節圖](https://i.imgur.com/9N5mfpU.png)"
      ]
    },
    {
      "cell_type": "markdown",
      "metadata": {
        "id": "n2W94eY19TR1"
      },
      "source": [
        "## 範例 2:打造多智能體超級團隊\n",
        "\n",
        "現在,讓我們挑戰更高級的任務 - 創建一個由多個專門 AI 智能體組成的超級團隊。\n",
        "\n",
        "**在這個例子中,我們將:**:\n",
        "\n",
        "*   創建兩個執行 Agent:一個負責搜索維基百科的研究員,一個負責報告當前時間的時間管理員\n",
        "*   設計一個 Agent 主管,負責將用戶問題分配給合適的 Agent\n",
        "*   使用 LangFuse 追蹤整個團隊的工作流程"
      ]
    },
    {
      "cell_type": "code",
      "execution_count": null,
      "metadata": {
        "colab": {
          "base_uri": "https://localhost:8080/"
        },
        "id": "WfnrswDdjYTV",
        "outputId": "d7d2ae97-d24f-4869-8aca-966cdc623898"
      },
      "outputs": [
        {
          "name": "stdout",
          "output_type": "stream",
          "text": [
            "  Preparing metadata (setup.py) ... \u001b[?25l\u001b[?25hdone\n",
            "\u001b[2K   \u001b[90m━━━━━━━━━━━━━━━━━━━━━━━━━━━━━━━━━━━━━━━━\u001b[0m \u001b[32m204.3/204.3 kB\u001b[0m \u001b[31m4.1 MB/s\u001b[0m eta \u001b[36m0:00:00\u001b[0m\n",
            "\u001b[?25h  Building wheel for wikipedia (setup.py) ... \u001b[?25l\u001b[?25hdone\n"
          ]
        }
      ],
      "source": [
        "%pip install --quiet langgraph langchain langchain_openai langchain_experimental pandas wikipedia"
      ]
    },
    {
      "cell_type": "markdown",
      "metadata": {
        "id": "tciUQ62IEVec"
      },
      "source": [
        "### 提供團隊工具使用\n",
        "\n",
        "在這範例中，你將提供 Agent 工具，一個是 wiki 研究員用，另一個則是可以計算當前時間。"
      ]
    },
    {
      "cell_type": "code",
      "execution_count": null,
      "metadata": {
        "id": "Cet0loyp9p-T"
      },
      "outputs": [],
      "source": [
        "from typing import Annotated\n",
        "\n",
        "from langchain_community.tools import WikipediaQueryRun\n",
        "from langchain_community.utilities import WikipediaAPIWrapper\n",
        "from datetime import datetime\n",
        "from langchain.tools import Tool\n",
        "\n",
        "# Define a tools that searches Wikipedia\n",
        "wikipedia_tool = WikipediaQueryRun(api_wrapper=WikipediaAPIWrapper())\n",
        "\n",
        "# Define a new tool that returns the current datetime\n",
        "datetime_tool = Tool(\n",
        "    name=\"Datetime\",\n",
        "    func = lambda x: datetime.now().isoformat(),\n",
        "    description=\"Returns the current datetime\",\n",
        ")"
      ]
    },
    {
      "cell_type": "markdown",
      "metadata": {
        "id": "31uhDy_mEqr6"
      },
      "source": [
        "### 打造方便小工具\n",
        "\n",
        "定義工具好方便提供給 Agent"
      ]
    },
    {
      "cell_type": "code",
      "execution_count": null,
      "metadata": {
        "id": "75atiExdqd4P"
      },
      "outputs": [],
      "source": [
        "from langchain.agents import AgentExecutor, create_openai_tools_agent\n",
        "from langchain_core.messages import BaseMessage, HumanMessage\n",
        "from langchain_openai import ChatOpenAI\n",
        "\n",
        "def create_agent(llm: ChatOpenAI, system_prompt: str, tools: list):\n",
        "    # Each worker node will be given a name and some tools.\n",
        "    prompt = ChatPromptTemplate.from_messages(\n",
        "        [\n",
        "            (\n",
        "                \"system\",\n",
        "                system_prompt,\n",
        "            ),\n",
        "            MessagesPlaceholder(variable_name=\"messages\"),\n",
        "            MessagesPlaceholder(variable_name=\"agent_scratchpad\"),\n",
        "        ]\n",
        "    )\n",
        "    agent = create_openai_tools_agent(llm, tools, prompt)\n",
        "    executor = AgentExecutor(agent=agent, tools=tools)\n",
        "    return executor\n",
        "\n",
        "def agent_node(state, agent, name):\n",
        "    result = agent.invoke(state)\n",
        "    return {\"messages\": [HumanMessage(content=result[\"output\"], name=name)]}"
      ]
    },
    {
      "cell_type": "markdown",
      "metadata": {
        "id": "74bZqwU6FCOa"
      },
      "source": [
        "### 設計 Agent 主管\n",
        "\n",
        "主管將會使用 function calling 選擇是將任務派送給下一個隊員或是結束處理\n"
      ]
    },
    {
      "cell_type": "code",
      "execution_count": null,
      "metadata": {
        "id": "Hu8MzgihrHdF"
      },
      "outputs": [],
      "source": [
        "from langchain_core.output_parsers.openai_functions import JsonOutputFunctionsParser\n",
        "from langchain_core.prompts import ChatPromptTemplate, MessagesPlaceholder\n",
        "\n",
        "members = [\"Researcher\", \"CurrentTime\"]\n",
        "system_prompt = (\n",
        "    \"You are a supervisor tasked with managing a conversation between the\"\n",
        "    \" following workers:  {members}. Given the following user request,\"\n",
        "    \" respond with the worker to act next. Each worker will perform a\"\n",
        "    \" task and respond with their results and status. When finished,\"\n",
        "    \" respond with FINISH.\"\n",
        ")\n",
        "# Our team supervisor is an LLM node. It just picks the next agent to process and decides when the work is completed\n",
        "options = [\"FINISH\"] + members\n",
        "\n",
        "# Using openai function calling can make output parsing easier for us\n",
        "function_def = {\n",
        "    \"name\": \"route\",\n",
        "    \"description\": \"Select the next role.\",\n",
        "    \"parameters\": {\n",
        "        \"title\": \"routeSchema\",\n",
        "        \"type\": \"object\",\n",
        "        \"properties\": {\n",
        "            \"next\": {\n",
        "                \"title\": \"Next\",\n",
        "                \"anyOf\": [\n",
        "                    {\"enum\": options},\n",
        "                ],\n",
        "            }\n",
        "        },\n",
        "        \"required\": [\"next\"],\n",
        "    },\n",
        "}\n",
        "\n",
        "# Create the prompt using ChatPromptTemplate\n",
        "prompt = ChatPromptTemplate.from_messages(\n",
        "    [\n",
        "        (\"system\", system_prompt),\n",
        "        MessagesPlaceholder(variable_name=\"messages\"),\n",
        "        (\n",
        "            \"system\",\n",
        "            \"Given the conversation above, who should act next?\"\n",
        "            \" Or should we FINISH? Select one of: {options}\",\n",
        "        ),\n",
        "    ]\n",
        ").partial(options=str(options), members=\", \".join(members))\n",
        "\n",
        "llm = ChatOpenAI(model=\"gpt-4o\")\n",
        "\n",
        "# Construction of the chain for the supervisor agent\n",
        "supervisor_chain = (\n",
        "    prompt\n",
        "    | llm.bind_functions(functions=[function_def], function_call=\"route\")\n",
        "    | JsonOutputFunctionsParser()\n",
        ")"
      ]
    },
    {
      "cell_type": "markdown",
      "metadata": {
        "id": "ognuMaIeFVh7"
      },
      "source": [
        "### 建構整張圖\n",
        "\n",
        "手上道具都齊全了，將剛剛定義好的狀態跟節點函數連接再一起。最後使用 edge 連接確保每個節點都有連接。"
      ]
    },
    {
      "cell_type": "code",
      "execution_count": null,
      "metadata": {
        "id": "_LwtCmw_rHVz"
      },
      "outputs": [],
      "source": [
        "import functools\n",
        "import operator\n",
        "from typing import Sequence, TypedDict\n",
        "from langchain_core.prompts import ChatPromptTemplate, MessagesPlaceholder\n",
        "from langgraph.graph import END, StateGraph, START\n",
        "\n",
        "# The agent state is the input to each node in the graph\n",
        "class AgentState(TypedDict):\n",
        "    # The annotation tells the graph that new messages will always be added to the current states\n",
        "    messages: Annotated[Sequence[BaseMessage], operator.add]\n",
        "    # The 'next' field indicates where to route to next\n",
        "    next: str\n",
        "\n",
        "# Add the research agent using the create_agent helper function\n",
        "research_agent = create_agent(llm, \"You are a web researcher.\", [wikipedia_tool])\n",
        "research_node = functools.partial(agent_node, agent=research_agent, name=\"Researcher\")\n",
        "\n",
        "# Add the time agent using the create_agent helper function\n",
        "currenttime_agent = create_agent(llm, \"You can tell the current time at\", [datetime_tool])\n",
        "currenttime_node = functools.partial(agent_node, agent=currenttime_agent, name = \"CurrentTime\")\n",
        "\n",
        "workflow = StateGraph(AgentState)\n",
        "\n",
        "# Add a \"chatbot\" node. Nodes represent units of work. They are typically regular python functions.\n",
        "workflow.add_node(\"Researcher\", research_node)\n",
        "workflow.add_node(\"CurrentTime\", currenttime_node)\n",
        "workflow.add_node(\"supervisor\", supervisor_chain)\n",
        "\n",
        "# We want our workers to ALWAYS \"report back\" to the supervisor when done\n",
        "for member in members:\n",
        "    workflow.add_edge(member, \"supervisor\")\n",
        "\n",
        "# Conditional edges usually contain \"if\" statements to route to different nodes depending on the current graph state.\n",
        "# These functions receive the current graph state and return a string or list of strings indicating which node(s) to call next.\n",
        "conditional_map = {k: k for k in members}\n",
        "conditional_map[\"FINISH\"] = END\n",
        "workflow.add_conditional_edges(\"supervisor\", lambda x: x[\"next\"], conditional_map)\n",
        "\n",
        "# Add an entry point. This tells our graph where to start its work each time we run it.\n",
        "workflow.add_edge(START, \"supervisor\")\n",
        "\n",
        "# To be able to run our graph, call \"compile()\" on the graph builder. This creates a \"CompiledGraph\" we can use invoke on our state.\n",
        "graph_2 = workflow.compile()"
      ]
    },
    {
      "cell_type": "markdown",
      "metadata": {
        "id": "XMlQt14XwACf"
      },
      "source": [
        "### 視覺化 Agent 團隊\n",
        "\n",
        "LangGraph 還提供了一個強大的可視化工具,讓你能夠直觀地看到你的 AI 助手之間的溝通方式\n"
      ]
    },
    {
      "cell_type": "markdown",
      "metadata": {
        "id": "LmkLfmMTwF1H"
      },
      "source": [
        "```mermaid\n",
        "graph TD;\n",
        "\t__start__([__start__]):::first\n",
        "\tResearcher(Researcher)\n",
        "\tCurrentTime(CurrentTime)\n",
        "\tsupervisor(supervisor)\n",
        "\t__end__([__end__]):::last\n",
        "\tCurrentTime --> supervisor;\n",
        "\tResearcher --> supervisor;\n",
        "\t__start__ --> supervisor;\n",
        "\tsupervisor -.-> Researcher;\n",
        "\tsupervisor -.-> CurrentTime;\n",
        "\tsupervisor -. &nbspFINISH&nbsp .-> __end__;\n",
        "\tclassDef default fill:#f2f0ff,line-height:1.2\n",
        "\tclassDef first fill-opacity:0\n",
        "\tclassDef last fill:#bfb6fc\n",
        "```"
      ]
    },
    {
      "cell_type": "code",
      "execution_count": null,
      "metadata": {
        "colab": {
          "base_uri": "https://localhost:8080/",
          "height": 255
        },
        "id": "FKeGCwdnwImx",
        "outputId": "8a6d9e88-4267-42f4-87f4-b7ea48a648aa"
      },
      "outputs": [
        {
          "data": {
            "image/jpeg": "[encoded data removed]",
            "text/plain": [
              "<IPython.core.display.Image object>"
            ]
          },
          "metadata": {},
          "output_type": "display_data"
        }
      ],
      "source": [
        "from IPython.display import Image, display\n",
        "display(Image(graph_2.get_graph().draw_mermaid_png()))"
      ]
    },
    {
      "cell_type": "markdown",
      "metadata": {
        "id": "w3xfJLJyFwBG"
      },
      "source": [
        "### 添加 [Langfuse handler](https://langfuse.com/docs/integrations/langchain/tracing) 作為 callback 函數來查看執行結果。"
      ]
    },
    {
      "cell_type": "code",
      "execution_count": null,
      "metadata": {
        "colab": {
          "base_uri": "https://localhost:8080/"
        },
        "id": "QsX1gw9kryGP",
        "outputId": "57eefd00-d35e-4fae-f73b-2b8188a71c77"
      },
      "outputs": [
        {
          "name": "stdout",
          "output_type": "stream",
          "text": [
            "{'supervisor': {'next': 'Researcher'}}\n",
            "----\n",
            "{'Researcher': {'messages': [HumanMessage(content=\"Photosynthesis is a biological process used by photosynthetic organisms like plants, algae, and cyanobacteria to convert light energy, typically from sunlight, into chemical energy. Here's a breakdown of how it works:\\n\\n1. **Light Absorption**: The process begins when light energy is absorbed by reaction centers, which are proteins containing photosynthetic pigments like chlorophyll. In plants, these pigments are located in chloroplasts within leaf cells.\\n\\n2. **Light-Dependent Reactions**:\\n    - **Energy Conversion**: The energy absorbed from light is used to strip electrons from water molecules, resulting in the production of oxygen gas (O₂).\\n    - **Formation of NADPH and ATP**: The electrons and hydrogen ions from water are used to form NADPH (reduced nicotinamide adenine dinucleotide phosphate) and ATP (adenosine triphosphate), which are essential molecules for storing and transferring energy.\\n\\n3. **Light-Independent Reactions (Calvin Cycle)**:\\n    - **Carbon Fixation**: In these reactions, atmospheric carbon dioxide (CO₂) is incorporated into existing organic molecules like ribulose bisphosphate (RuBP).\\n    - **Synthesis of Carbohydrates**: Using the ATP and NADPH produced in the light-dependent reactions, the resulting compounds are reduced to form carbohydrates, such as glucose.\\n\\n### Additional Insights:\\n- **Evolution**: Early photosynthetic organisms used reducing agents like hydrogen or hydrogen sulfide instead of water, producing sulfur instead of oxygen. Cyanobacteria, which appeared later, produced oxygen and contributed to the oxygenation of the Earth, enabling the evolution of complex life.\\n- **Global Impact**: Photosynthesis captures approximately 130 terawatts of energy globally, converting around 100-115 billion tons of carbon into biomass annually.\\n- **Climate Role**: It plays a crucial role in climate processes by capturing CO₂ from the atmosphere and converting it into organic matter.\\n\\nPhotosynthesis was discovered in 1779 by Jan Ingenhousz, who demonstrated that plants need light, not just air, soil, and water, to perform this process.\", name='Researcher')]}}\n",
            "----\n",
            "{'supervisor': {'next': 'FINISH'}}\n",
            "----\n"
          ]
        }
      ],
      "source": [
        "from langfuse.callback import CallbackHandler\n",
        "\n",
        "# Initialize Langfuse CallbackHandler for Langchain (tracing)\n",
        "langfuse_handler = CallbackHandler()\n",
        "\n",
        "# Add Langfuse handler as callback: config={\"callbacks\": [langfuse_handler]}\n",
        "for s in graph_2.stream({\"messages\": [HumanMessage(content = \"How does photosynthesis work?\")]},\n",
        "                      config={\"callbacks\": [langfuse_handler]}):\n",
        "    print(s)\n",
        "    print(\"----\")"
      ]
    },
    {
      "cell_type": "code",
      "execution_count": null,
      "metadata": {
        "colab": {
          "base_uri": "https://localhost:8080/"
        },
        "id": "AqJnMtP5HDql",
        "outputId": "ca366683-d6cb-4ed7-e64b-20a9518ef467"
      },
      "outputs": [
        {
          "name": "stdout",
          "output_type": "stream",
          "text": [
            "{'supervisor': {'next': 'CurrentTime'}}\n",
            "----\n",
            "{'CurrentTime': {'messages': [HumanMessage(content='The current time is 07:15 AM on August 14, 2024.', name='CurrentTime')]}}\n",
            "----\n",
            "{'supervisor': {'next': 'FINISH'}}\n",
            "----\n"
          ]
        }
      ],
      "source": [
        "# Add Langfuse handler as callback: config={\"callbacks\": [langfuse_handler]}\n",
        "for s in graph_2.stream({\"messages\": [HumanMessage(content = \"What time is it?\")]},\n",
        "                      config={\"callbacks\": [langfuse_handler]}):\n",
        "    print(s)\n",
        "    print(\"----\")"
      ]
    },
    {
      "cell_type": "markdown",
      "metadata": {
        "id": "o4XjtNenH9GF"
      },
      "source": [
        "### 查看對話軌跡\n",
        "\n",
        "\n",
        "![Trace view of chat app in Langfuse，要補上節圖](https://i.imgur.com/9N5mfpU.png)"
      ]
    },
    {
      "cell_type": "markdown",
      "metadata": {
        "id": "RM7QNHD9wmT4"
      },
      "source": [
        "透過這種方式,我們不僅創建了一個功能強大的多 Agent 系統,還為它配備了一個全面的監控和分析工具。這讓我們能夠不斷優化系統性能,提升用戶體驗。"
      ]
    },
    {
      "cell_type": "markdown",
      "metadata": {
        "id": "uybP4h8wGvWw"
      },
      "source": [
        "## 為你的 AI 團隊添加評分系統\n",
        "\n",
        "\n",
        "### 評分系統的多樣性\n",
        "LangFuse 的評分功能[Scores](https://langfuse.com/docs/scores/overview) 極其靈活,可以應用於:\n",
        "\n",
        "單獨的觀察結果\n",
        "整個追蹤過程\n",
        "\n",
        "您可以通過多種方式創建這些評分:\n",
        "\n",
        "使用 Langfuse UI 中的標註工作流\n",
        "運行基於模型的評估\n",
        "通過 SDK 直接輸入(就像我們在這個例子中所做的)\n",
        "\n",
        "### 靈活的評分方法\n",
        "LangFuse 提供了兩種主要的評分方法:\n",
        "\n",
        "1. `langfuse_context.score_current_observation`: 為當前觀察上下文添加評分\n",
        "2. `langfuse_context.score_current_trace`: 從嵌套層次結構的任何位置為整個追蹤添加評分\n",
        "\n",
        "這種靈活性讓您可以根據需求精確地評估 AI 的表現。\n",
        "\n",
        "### 強大的 `observe()` 裝飾器\n",
        "為了獲取當前觀察的上下文,我們使用了 `[`observe()` decorator](https://langfuse.com/docs/sdk/python/decorators)` 裝飾器。這個強大的工具自動捕獲了豐富的信息:\n",
        "\n",
        "- 通過上下文變量實現嵌套\n",
        "- 時間和持續時間\n",
        "- 函數名稱\n",
        "- 輸入參數(args 和 kwargs)\n",
        "- 返回值\n",
        "\n",
        "這個裝飾器會自動為頂層函數創建追蹤,並為任何嵌套函數創建跨度。\n"
      ]
    },
    {
      "cell_type": "code",
      "execution_count": null,
      "metadata": {
        "colab": {
          "base_uri": "https://localhost:8080/"
        },
        "id": "pgAqYnQuGwCL",
        "outputId": "7ddd9aa6-acc5-47b1-8744-eeca4a55fbec"
      },
      "outputs": [
        {
          "data": {
            "text/plain": [
              "{'messages': [HumanMessage(content='What time is it?'),\n",
              "  HumanMessage(content='The current time is 07:23 AM on August 14, 2024.', name='CurrentTime')],\n",
              " 'next': 'FINISH'}"
            ]
          },
          "execution_count": 25,
          "metadata": {},
          "output_type": "execute_result"
        }
      ],
      "source": [
        "from langfuse.decorators import langfuse_context, observe\n",
        "\n",
        "# Langfuse observe() decorator to automatically create a trace for the top-level function and spans for any nested functions.\n",
        "@observe()\n",
        "def research_agent(user_message):\n",
        "    # Get callback handler scoped to this observed function\n",
        "    lf_handler = langfuse_context.get_current_langchain_handler()\n",
        "\n",
        "    # Trace langchain run via the Langfuse CallbackHandler\n",
        "    response = graph_2.invoke({\"messages\": [HumanMessage(content=user_message)]},\n",
        "                        config={\"callbacks\": [lf_handler]})\n",
        "\n",
        "    # Score the entire trace e.g. to add user feedback\n",
        "    langfuse_context.score_current_trace(\n",
        "        name = \"user-explicit-feedback\",\n",
        "        value = 1,\n",
        "        comment = \"The time is correct!\"\n",
        "        )\n",
        "\n",
        "    return response\n",
        "research_agent(\"What time is it?\")"
      ]
    },
    {
      "cell_type": "markdown",
      "metadata": {
        "id": "6cIQVrYZJVMO"
      },
      "source": [
        "## LangFuse 提示管理:你的 LLM 提示語中控台\n",
        "\n",
        "在 AI 開發的世界裡,提示詞(Prompt)就像是與 AI 溝通的魔法咒語。而 LangFuse 的提示管理功能,則是讓你成為這些咒語的魔法師。讓我們深入探索這個強大的工具:\n",
        "\n",
        "[Langfuse prompt management](https://langfuse.com/docs/prompts/example-langchain) 本質上是一個專門為 AI 提示詞設計的內容管理系統(CMS)。它讓你能夠:\n",
        "\n",
        "- 有效管理提示詞\n",
        "- 版本控制你的 AI 指令\n",
        "- 在生產環境中輕鬆更新和管理提示詞\n",
        "\n",
        "### 操作說明\n",
        "在 LangFuse 中創建提示詞時,需要注意以下幾個關鍵元素:\n",
        "\n",
        "- `Name`: 在 LangFuse 提示管理中識別提示詞的唯一標識符\n",
        "- `Prompt`: 包含提示模板和輸入變量的實際內容。注意,LangFuse 使用 `{{input variables}}` 的雙括號語法\n",
        "- `labels`: 添加標籤如 `production`,可以立即將提示詞設為默認使用"
      ]
    },
    {
      "cell_type": "markdown",
      "metadata": {
        "id": "eL_AHsetzidn"
      },
      "source": [
        "### 實戰示例:創建翻譯助手提示語\n",
        "\n",
        "讓我們通過一個實際例子來看看如何使用 LangFuse 創建和管理提示詞:\n"
      ]
    },
    {
      "cell_type": "code",
      "execution_count": null,
      "metadata": {
        "colab": {
          "base_uri": "https://localhost:8080/"
        },
        "id": "H0J8-nbhUUz6",
        "outputId": "870df70a-e207-4c27-8d3b-6723a5f81643"
      },
      "outputs": [
        {
          "data": {
            "text/plain": [
              "<langfuse.model.TextPromptClient at 0x78cbe880c070>"
            ]
          },
          "execution_count": 26,
          "metadata": {},
          "output_type": "execute_result"
        }
      ],
      "source": [
        "from langfuse import Langfuse\n",
        "\n",
        "# 初始化 Langfuse 客戶端(用於提示管理)\n",
        "langfuse = Langfuse()\n",
        "\n",
        "langfuse.create_prompt(\n",
        "    name=\"translator_system-prompt\",\n",
        "    prompt=\"你是一位翻譯專家,負責將所有輸入文本翻譯成日語。\",\n",
        "    labels=[\"production\"]\n",
        ")"
      ]
    },
    {
      "cell_type": "markdown",
      "metadata": {
        "id": "Dullp4XDXhzg"
      },
      "source": [
        "\n",
        "![View prompt in Langfuse UI](https://i.imgur.com/EUdrjxD.png)"
      ]
    },
    {
      "cell_type": "markdown",
      "metadata": {
        "id": "q0lErEE_zwvw"
      },
      "source": [
        "## LangFuse 與 LangChain 的無縫集成\n",
        "\n",
        "LangFuse 提供了一個便捷的工具方法 `.get_langchain_prompt()`,可以將 `LangFuse` 格式的提示詞轉換成 `LangChain` 可用的字符串:\n"
      ]
    },
    {
      "cell_type": "code",
      "execution_count": null,
      "metadata": {
        "colab": {
          "base_uri": "https://localhost:8080/"
        },
        "id": "IpfzjGFvz13M",
        "outputId": "3d4bfb86-9314-4f00-d6ba-393fd55f7942"
      },
      "outputs": [
        {
          "name": "stdout",
          "output_type": "stream",
          "text": [
            "你是一位翻譯專家,負責將所有輸入文本翻譯成日語。\n"
          ]
        }
      ],
      "source": [
        "# 獲取當前生產版本的提示詞並轉換為 LangChain 可用的格式\n",
        "langfuse_system_prompt = langfuse.get_prompt(\"translator_system-prompt\")\n",
        "langchain_system_prompt = langfuse_system_prompt.get_langchain_prompt()\n",
        "print(langchain_system_prompt)"
      ]
    },
    {
      "cell_type": "markdown",
      "metadata": {
        "id": "EFXM_74P3hUK"
      },
      "source": [
        "> 注意: LangFuse 在提示模板中使用雙括號 `({{input variable}})`,而 LangChain 使用單括號 `({input variable})`。`.get_langchain_prompt()` 方法會自動處理這種差異。"
      ]
    },
    {
      "cell_type": "markdown",
      "metadata": {
        "id": "lbI0X8dH3oxv"
      },
      "source": [
        "## 將新的系統提示詞應用到你的 AI 助手"
      ]
    },
    {
      "cell_type": "markdown",
      "metadata": {
        "id": "n3zBULfCt0Wq"
      },
      "source": [
        "有了新的系統提示詞,我們就可以更新我們的 AI 助手了:"
      ]
    },
    {
      "cell_type": "code",
      "execution_count": null,
      "metadata": {
        "id": "oGQhulyMmvZD"
      },
      "outputs": [],
      "source": [
        "from typing import Annotated\n",
        "from langchain_openai import ChatOpenAI\n",
        "from typing_extensions import TypedDict\n",
        "from langgraph.graph import StateGraph\n",
        "from langgraph.graph.message import add_messages\n",
        "\n",
        "class State(TypedDict):\n",
        "    messages: Annotated[list, add_messages]\n",
        "\n",
        "graph_builder = StateGraph(State)\n",
        "\n",
        "llm = ChatOpenAI(model = \"gpt-4o\", temperature = 0.2)\n",
        "\n",
        "# 為我們的翻譯助手添加系統提示詞\n",
        "system_prompt = {\n",
        "    \"role\": \"system\",\n",
        "    \"content\": langchain_system_prompt\n",
        "}\n",
        "\n",
        "def chatbot(state: State):\n",
        "    messages_with_system_prompt = [system_prompt] + state[\"messages\"]\n",
        "    response = llm.invoke(messages_with_system_prompt)\n",
        "    return {\"messages\": [response]}\n",
        "\n",
        "graph_builder.add_node(\"chatbot\", chatbot)\n",
        "graph_builder.set_entry_point(\"chatbot\")\n",
        "graph_builder.set_finish_point(\"chatbot\")\n",
        "graph = graph_builder.compile()"
      ]
    },
    {
      "cell_type": "code",
      "execution_count": null,
      "metadata": {
        "colab": {
          "base_uri": "https://localhost:8080/"
        },
        "id": "YYd7wbttm2ec",
        "outputId": "e9680935-98b7-40a4-90e4-65e0e089ffa6"
      },
      "outputs": [
        {
          "name": "stdout",
          "output_type": "stream",
          "text": [
            "{'chatbot': {'messages': [AIMessage(content='Langfuseとは何ですか？', additional_kwargs={'refusal': None}, response_metadata={'token_usage': {'completion_tokens': 8, 'prompt_tokens': 40, 'total_tokens': 48}, 'model_name': 'gpt-4o-2024-05-13', 'system_fingerprint': 'fp_3aa7262c27', 'finish_reason': 'stop', 'logprobs': None}, id='run-b073661b-b110-4594-98d8-90b3d2dbcbc3-0', usage_metadata={'input_tokens': 40, 'output_tokens': 8, 'total_tokens': 48})]}}\n"
          ]
        }
      ],
      "source": [
        "from langfuse.callback import CallbackHandler\n",
        "\n",
        "# Initialize Langfuse CallbackHandler for Langchain (tracing)\n",
        "langfuse_handler = CallbackHandler()\n",
        "\n",
        "# Add Langfuse handler as callback: config={\"callbacks\": [langfuse_handler]}\n",
        "for s in graph.stream({\"messages\": [HumanMessage(content = \"What is Langfuse?\")]},\n",
        "                      config={\"callbacks\": [langfuse_handler]}):\n",
        "    print(s)"
      ]
    },
    {
      "cell_type": "markdown",
      "metadata": {
        "id": "6Qyz_naC3x7P"
      },
      "source": [
        "通過這種方式,我們成功地將 LangFuse 管理的提示詞集成到了我們的 AI 系統中。\n"
      ]
    }
  ],
  "metadata": {
    "colab": {
      "provenance": [],
      "toc_visible": true
    },
    "kernelspec": {
      "display_name": "Python 3",
      "name": "python3"
    },
    "language_info": {
      "name": "python"
    }
  },
  "nbformat": 4,
  "nbformat_minor": 0
}

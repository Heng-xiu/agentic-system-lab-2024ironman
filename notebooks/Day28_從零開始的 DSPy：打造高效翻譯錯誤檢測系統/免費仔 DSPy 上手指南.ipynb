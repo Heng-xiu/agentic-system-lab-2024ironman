{
  "cells": [
    {
      "cell_type": "markdown",
      "metadata": {
        "id": "JtbfrHalYP_1"
      },
      "source": [
        "# 🥱 專屬免費仔的 DSPy 上手指南\n",
        "\n",
        "❤️ Created by [hengshiousheu](https://huggingface.co/Heng666).\n",
        "\n",
        "本記事本讓你透過簡易的 QAChain 理解 [DSPy](https://github.com/stanfordnlp/dspy)如何讓你有序地編列語言模型管道。以下內容將提及到：\n",
        "\n",
        "- 使用 vLLM 執行 AWQ 量化模型\n",
        "- 實現自定義 BasicQA Module 來描述管道\n",
        "- 使用 `DSPy.teleprompt` 編譯與最佳化模型\n",
        "- 真實世界具備挑戰性資料集 BigBenchHard 進行 LLM 管道評估\n",
        "\n",
        "*特別感謝 [Fearnworks 撰寫文章，有系統性整理 DSPy](https://fearnworks.github.io/blog/_pages/2024-02-12-DSPyForComplexSystemDevelopment.html), [Chris Levy 使用 Custom Dataset 來進行評估](https://drchrislevy.github.io/posts/dspy/dspy.html)*"
      ]
    },
    {
      "cell_type": "markdown",
      "metadata": {
        "id": "LPTMqSNnT4CJ"
      },
      "source": [
        "以下內容我們將由 vLLM 配合 Mistral 模型進行一番練習，我們將透過一系列過程了解 DSPy 魅力所在"
      ]
    },
    {
      "cell_type": "markdown",
      "metadata": {
        "id": "fKySRC_QUCfW"
      },
      "source": [
        "#建置環境\n",
        "\n",
        "先來安裝所需要的套件環境"
      ]
    },
    {
      "cell_type": "code",
      "execution_count": null,
      "metadata": {
        "colab": {
          "base_uri": "https://localhost:8080/"
        },
        "id": "8D8zFN6vTzYU",
        "outputId": "244a2b1e-5e9b-4f9f-b499-978bada0bce1"
      },
      "outputs": [
        {
          "name": "stdout",
          "output_type": "stream",
          "text": [
            "\u001b[2K     \u001b[90m━━━━━━━━━━━━━━━━━━━━━━━━━━━━━━━━━━━━━━━━\u001b[0m \u001b[32m152.6/152.6 kB\u001b[0m \u001b[31m1.6 MB/s\u001b[0m eta \u001b[36m0:00:00\u001b[0m\n",
            "\u001b[2K     \u001b[90m━━━━━━━━━━━━━━━━━━━━━━━━━━━━━━━━━━━━━━━━\u001b[0m \u001b[32m41.4/41.4 MB\u001b[0m \u001b[31m3.4 MB/s\u001b[0m eta \u001b[36m0:00:00\u001b[0m\n",
            "\u001b[2K     \u001b[90m━━━━━━━━━━━━━━━━━━━━━━━━━━━━━━━━━━━━━━━━\u001b[0m \u001b[32m226.7/226.7 kB\u001b[0m \u001b[31m4.2 MB/s\u001b[0m eta \u001b[36m0:00:00\u001b[0m\n",
            "\u001b[2K     \u001b[90m━━━━━━━━━━━━━━━━━━━━━━━━━━━━━━━━━━━━━━━━\u001b[0m \u001b[32m12.3/12.3 MB\u001b[0m \u001b[31m4.3 MB/s\u001b[0m eta \u001b[36m0:00:00\u001b[0m\n",
            "\u001b[2K     \u001b[90m━━━━━━━━━━━━━━━━━━━━━━━━━━━━━━━━━━━━━━━━\u001b[0m \u001b[32m773.9/773.9 kB\u001b[0m \u001b[31m4.5 MB/s\u001b[0m eta \u001b[36m0:00:00\u001b[0m\n",
            "\u001b[2K     \u001b[90m━━━━━━━━━━━━━━━━━━━━━━━━━━━━━━━━━━━━━━━━\u001b[0m \u001b[32m53.9/53.9 kB\u001b[0m \u001b[31m3.9 MB/s\u001b[0m eta \u001b[36m0:00:00\u001b[0m\n",
            "\u001b[2K     \u001b[90m━━━━━━━━━━━━━━━━━━━━━━━━━━━━━━━━━━━━━━━━\u001b[0m \u001b[32m520.4/520.4 kB\u001b[0m \u001b[31m4.5 MB/s\u001b[0m eta \u001b[36m0:00:00\u001b[0m\n",
            "\u001b[2K     \u001b[90m━━━━━━━━━━━━━━━━━━━━━━━━━━━━━━━━━━━━━━━━\u001b[0m \u001b[32m409.6/409.6 kB\u001b[0m \u001b[31m4.2 MB/s\u001b[0m eta \u001b[36m0:00:00\u001b[0m\n",
            "\u001b[2K     \u001b[90m━━━━━━━━━━━━━━━━━━━━━━━━━━━━━━━━━━━━━━━━\u001b[0m \u001b[32m307.2/307.2 kB\u001b[0m \u001b[31m4.4 MB/s\u001b[0m eta \u001b[36m0:00:00\u001b[0m\n",
            "\u001b[2K     \u001b[90m━━━━━━━━━━━━━━━━━━━━━━━━━━━━━━━━━━━━━━━━\u001b[0m \u001b[32m64.9/64.9 MB\u001b[0m \u001b[31m2.7 MB/s\u001b[0m eta \u001b[36m0:00:00\u001b[0m\n",
            "\u001b[2K     \u001b[90m━━━━━━━━━━━━━━━━━━━━━━━━━━━━━━━━━━━━━━━━\u001b[0m \u001b[32m670.2/670.2 MB\u001b[0m \u001b[31m2.5 MB/s\u001b[0m eta \u001b[36m0:00:00\u001b[0m\n",
            "\u001b[?25h\u001b[33mWARNING: Retrying (Retry(total=4, connect=None, read=None, redirect=None, status=None)) after connection broken by 'ProtocolError('Connection aborted.', RemoteDisconnected('Remote end closed connection without response'))': /simple/transformers/\u001b[0m\u001b[33m\n",
            "\u001b[2K     \u001b[90m━━━━━━━━━━━━━━━━━━━━━━━━━━━━━━━━━━━━━━━━\u001b[0m \u001b[32m8.4/8.4 MB\u001b[0m \u001b[31m37.3 MB/s\u001b[0m eta \u001b[36m0:00:00\u001b[0m\n",
            "\u001b[2K     \u001b[90m━━━━━━━━━━━━━━━━━━━━━━━━━━━━━━━━━━━━━━━━\u001b[0m \u001b[32m213.0/213.0 MB\u001b[0m \u001b[31m3.9 MB/s\u001b[0m eta \u001b[36m0:00:00\u001b[0m\n",
            "\u001b[2K     \u001b[90m━━━━━━━━━━━━━━━━━━━━━━━━━━━━━━━━━━━━━━━━\u001b[0m \u001b[32m92.1/92.1 kB\u001b[0m \u001b[31m12.8 MB/s\u001b[0m eta \u001b[36m0:00:00\u001b[0m\n",
            "\u001b[2K     \u001b[90m━━━━━━━━━━━━━━━━━━━━━━━━━━━━━━━━━━━━━━━━\u001b[0m \u001b[32m60.8/60.8 kB\u001b[0m \u001b[31m8.3 MB/s\u001b[0m eta \u001b[36m0:00:00\u001b[0m\n",
            "\u001b[2K     \u001b[90m━━━━━━━━━━━━━━━━━━━━━━━━━━━━━━━━━━━━━━━━\u001b[0m \u001b[32m53.1/53.1 kB\u001b[0m \u001b[31m7.6 MB/s\u001b[0m eta \u001b[36m0:00:00\u001b[0m\n",
            "\u001b[2K     \u001b[90m━━━━━━━━━━━━━━━━━━━━━━━━━━━━━━━━━━━━━━━━\u001b[0m \u001b[32m83.0/83.0 MB\u001b[0m \u001b[31m8.2 MB/s\u001b[0m eta \u001b[36m0:00:00\u001b[0m\n",
            "\u001b[2K     \u001b[90m━━━━━━━━━━━━━━━━━━━━━━━━━━━━━━━━━━━━━━━━\u001b[0m \u001b[32m23.7/23.7 MB\u001b[0m \u001b[31m33.9 MB/s\u001b[0m eta \u001b[36m0:00:00\u001b[0m\n",
            "\u001b[2K     \u001b[90m━━━━━━━━━━━━━━━━━━━━━━━━━━━━━━━━━━━━━━━━\u001b[0m \u001b[32m823.6/823.6 kB\u001b[0m \u001b[31m57.6 MB/s\u001b[0m eta \u001b[36m0:00:00\u001b[0m\n",
            "\u001b[2K     \u001b[90m━━━━━━━━━━━━━━━━━━━━━━━━━━━━━━━━━━━━━━━━\u001b[0m \u001b[32m14.1/14.1 MB\u001b[0m \u001b[31m55.5 MB/s\u001b[0m eta \u001b[36m0:00:00\u001b[0m\n",
            "\u001b[2K     \u001b[90m━━━━━━━━━━━━━━━━━━━━━━━━━━━━━━━━━━━━━━━━\u001b[0m \u001b[32m731.7/731.7 MB\u001b[0m \u001b[31m1.8 MB/s\u001b[0m eta \u001b[36m0:00:00\u001b[0m\n",
            "\u001b[2K     \u001b[90m━━━━━━━━━━━━━━━━━━━━━━━━━━━━━━━━━━━━━━━━\u001b[0m \u001b[32m410.6/410.6 MB\u001b[0m \u001b[31m2.3 MB/s\u001b[0m eta \u001b[36m0:00:00\u001b[0m\n",
            "\u001b[2K     \u001b[90m━━━━━━━━━━━━━━━━━━━━━━━━━━━━━━━━━━━━━━━━\u001b[0m \u001b[32m121.6/121.6 MB\u001b[0m \u001b[31m9.0 MB/s\u001b[0m eta \u001b[36m0:00:00\u001b[0m\n",
            "\u001b[2K     \u001b[90m━━━━━━━━━━━━━━━━━━━━━━━━━━━━━━━━━━━━━━━━\u001b[0m \u001b[32m56.5/56.5 MB\u001b[0m \u001b[31m9.9 MB/s\u001b[0m eta \u001b[36m0:00:00\u001b[0m\n",
            "\u001b[2K     \u001b[90m━━━━━━━━━━━━━━━━━━━━━━━━━━━━━━━━━━━━━━━━\u001b[0m \u001b[32m124.2/124.2 MB\u001b[0m \u001b[31m9.0 MB/s\u001b[0m eta \u001b[36m0:00:00\u001b[0m\n",
            "\u001b[2K     \u001b[90m━━━━━━━━━━━━━━━━━━━━━━━━━━━━━━━━━━━━━━━━\u001b[0m \u001b[32m196.0/196.0 MB\u001b[0m \u001b[31m6.2 MB/s\u001b[0m eta \u001b[36m0:00:00\u001b[0m\n",
            "\u001b[2K     \u001b[90m━━━━━━━━━━━━━━━━━━━━━━━━━━━━━━━━━━━━━━━━\u001b[0m \u001b[32m209.8/209.8 MB\u001b[0m \u001b[31m2.6 MB/s\u001b[0m eta \u001b[36m0:00:00\u001b[0m\n",
            "\u001b[2K     \u001b[90m━━━━━━━━━━━━━━━━━━━━━━━━━━━━━━━━━━━━━━━━\u001b[0m \u001b[32m99.1/99.1 kB\u001b[0m \u001b[31m15.1 MB/s\u001b[0m eta \u001b[36m0:00:00\u001b[0m\n",
            "\u001b[2K     \u001b[90m━━━━━━━━━━━━━━━━━━━━━━━━━━━━━━━━━━━━━━━━\u001b[0m \u001b[32m20.5/20.5 MB\u001b[0m \u001b[31m50.4 MB/s\u001b[0m eta \u001b[36m0:00:00\u001b[0m\n",
            "\u001b[2K     \u001b[90m━━━━━━━━━━━━━━━━━━━━━━━━━━━━━━━━━━━━━━━━\u001b[0m \u001b[32m115.3/115.3 kB\u001b[0m \u001b[31m14.8 MB/s\u001b[0m eta \u001b[36m0:00:00\u001b[0m\n",
            "\u001b[2K     \u001b[90m━━━━━━━━━━━━━━━━━━━━━━━━━━━━━━━━━━━━━━━━\u001b[0m \u001b[32m134.8/134.8 kB\u001b[0m \u001b[31m18.5 MB/s\u001b[0m eta \u001b[36m0:00:00\u001b[0m\n",
            "\u001b[2K     \u001b[90m━━━━━━━━━━━━━━━━━━━━━━━━━━━━━━━━━━━━━━━━\u001b[0m \u001b[32m75.9/75.9 kB\u001b[0m \u001b[31m11.8 MB/s\u001b[0m eta \u001b[36m0:00:00\u001b[0m\n",
            "\u001b[2K     \u001b[90m━━━━━━━━━━━━━━━━━━━━━━━━━━━━━━━━━━━━━━━━\u001b[0m \u001b[32m233.4/233.4 kB\u001b[0m \u001b[31m30.2 MB/s\u001b[0m eta \u001b[36m0:00:00\u001b[0m\n",
            "\u001b[2K     \u001b[90m━━━━━━━━━━━━━━━━━━━━━━━━━━━━━━━━━━━━━━━━\u001b[0m \u001b[32m345.4/345.4 kB\u001b[0m \u001b[31m37.7 MB/s\u001b[0m eta \u001b[36m0:00:00\u001b[0m\n",
            "\u001b[2K     \u001b[90m━━━━━━━━━━━━━━━━━━━━━━━━━━━━━━━━━━━━━━━━\u001b[0m \u001b[32m139.0/139.0 kB\u001b[0m \u001b[31m17.3 MB/s\u001b[0m eta \u001b[36m0:00:00\u001b[0m\n",
            "\u001b[?25h  Preparing metadata (setup.py) ... \u001b[?25l\u001b[?25hdone\n",
            "\u001b[2K     \u001b[90m━━━━━━━━━━━━━━━━━━━━━━━━━━━━━━━━━━━━━━━━\u001b[0m \u001b[32m72.0/72.0 kB\u001b[0m \u001b[31m9.6 MB/s\u001b[0m eta \u001b[36m0:00:00\u001b[0m\n",
            "\u001b[2K     \u001b[90m━━━━━━━━━━━━━━━━━━━━━━━━━━━━━━━━━━━━━━━━\u001b[0m \u001b[32m71.5/71.5 kB\u001b[0m \u001b[31m9.4 MB/s\u001b[0m eta \u001b[36m0:00:00\u001b[0m\n",
            "\u001b[2K     \u001b[90m━━━━━━━━━━━━━━━━━━━━━━━━━━━━━━━━━━━━━━━━\u001b[0m \u001b[32m58.3/58.3 kB\u001b[0m \u001b[31m7.3 MB/s\u001b[0m eta \u001b[36m0:00:00\u001b[0m\n",
            "\u001b[2K     \u001b[90m━━━━━━━━━━━━━━━━━━━━━━━━━━━━━━━━━━━━━━━━\u001b[0m \u001b[32m341.4/341.4 kB\u001b[0m \u001b[31m29.1 MB/s\u001b[0m eta \u001b[36m0:00:00\u001b[0m\n",
            "\u001b[2K     \u001b[90m━━━━━━━━━━━━━━━━━━━━━━━━━━━━━━━━━━━━━━━━\u001b[0m \u001b[32m3.4/3.4 MB\u001b[0m \u001b[31m59.3 MB/s\u001b[0m eta \u001b[36m0:00:00\u001b[0m\n",
            "\u001b[2K     \u001b[90m━━━━━━━━━━━━━━━━━━━━━━━━━━━━━━━━━━━━━━━━\u001b[0m \u001b[32m1.3/1.3 MB\u001b[0m \u001b[31m65.4 MB/s\u001b[0m eta \u001b[36m0:00:00\u001b[0m\n",
            "\u001b[2K     \u001b[90m━━━━━━━━━━━━━━━━━━━━━━━━━━━━━━━━━━━━━━━━\u001b[0m \u001b[32m130.2/130.2 kB\u001b[0m \u001b[31m18.5 MB/s\u001b[0m eta \u001b[36m0:00:00\u001b[0m\n",
            "\u001b[2K     \u001b[90m━━━━━━━━━━━━━━━━━━━━━━━━━━━━━━━━━━━━━━━━\u001b[0m \u001b[32m78.7/78.7 kB\u001b[0m \u001b[31m11.9 MB/s\u001b[0m eta \u001b[36m0:00:00\u001b[0m\n",
            "\u001b[2K     \u001b[90m━━━━━━━━━━━━━━━━━━━━━━━━━━━━━━━━━━━━━━━━\u001b[0m \u001b[32m77.0/77.0 kB\u001b[0m \u001b[31m9.8 MB/s\u001b[0m eta \u001b[36m0:00:00\u001b[0m\n",
            "\u001b[2K     \u001b[90m━━━━━━━━━━━━━━━━━━━━━━━━━━━━━━━━━━━━━━━━\u001b[0m \u001b[32m134.8/134.8 kB\u001b[0m \u001b[31m18.1 MB/s\u001b[0m eta \u001b[36m0:00:00\u001b[0m\n",
            "\u001b[?25h  Building wheel for quantile-python (setup.py) ... \u001b[?25l\u001b[?25hdone\n",
            "\u001b[31mERROR: pip's dependency resolver does not currently take into account all the packages that are installed. This behaviour is the source of the following dependency conflicts.\n",
            "lida 0.0.10 requires kaleido, which is not installed.\n",
            "lida 0.0.10 requires python-multipart, which is not installed.\n",
            "llmx 0.0.15a0 requires cohere, which is not installed.\n",
            "llmx 0.0.15a0 requires tiktoken, which is not installed.\n",
            "bigframes 0.20.1 requires pandas<2.1.4,>=1.5.0, but you have pandas 2.1.4 which is incompatible.\n",
            "google-colab 1.0.0 requires pandas==1.5.3, but you have pandas 2.1.4 which is incompatible.\n",
            "torchaudio 2.1.0+cu121 requires torch==2.1.0, but you have torch 2.1.2 which is incompatible.\n",
            "torchdata 0.7.0 requires torch==2.1.0, but you have torch 2.1.2 which is incompatible.\n",
            "torchtext 0.16.0 requires torch==2.1.0, but you have torch 2.1.2 which is incompatible.\n",
            "torchvision 0.16.0+cu121 requires torch==2.1.0, but you have torch 2.1.2 which is incompatible.\u001b[0m\u001b[31m\n",
            "\u001b[0m"
          ]
        }
      ],
      "source": [
        "!pip install --quiet dspy-ai vllm"
      ]
    },
    {
      "cell_type": "markdown",
      "metadata": {
        "id": "8U0zzf7WU5xx"
      },
      "source": [
        "## 使用 vLLM 來執行\n",
        "\n",
        "- 使用 `stdout` 將 log 進行輸出\n",
        "- 選擇 AWQ 量化方式進行"
      ]
    },
    {
      "cell_type": "code",
      "execution_count": null,
      "metadata": {
        "id": "92LbRkcbU8MY"
      },
      "outputs": [],
      "source": [
        "# Run server in the background\n",
        "!nohup python -m vllm.entrypoints.openai.api_server --model TheBloke/dolphin-2.6-mistral-7B-dpo-laser-AWQ --quantization awq > server.log 2>&1 &"
      ]
    },
    {
      "cell_type": "markdown",
      "metadata": {
        "id": "8f4ZSkTKVBVj"
      },
      "source": [
        "### 追蹤執行狀況\n",
        "\n",
        "- 執行以下程式碼，來監測伺服器運作情況。\n",
        "- 伺服器可能會花點時間來啟動\n",
        "- 一但伺服器啟動之後，你會看到類似的 Log 資訊。\n",
        "- ```INFO 02-17 09:20:39 api_server.py:209] args: Namespace(host=None, port=8000, allow_credentials=False, ```"
      ]
    },
    {
      "cell_type": "code",
      "execution_count": null,
      "metadata": {
        "colab": {
          "base_uri": "https://localhost:8080/"
        },
        "id": "VcDWB1I3VC3W",
        "outputId": "a39e7431-a5f2-4670-a700-abba60a99393"
      },
      "outputs": [
        {
          "name": "stdout",
          "output_type": "stream",
          "text": [
            "\rmodel.safetensors:   0%|          | 0.00/4.15G [00:00<?, ?B/s]\rmodel.safetensors:   0%|          | 10.5M/4.15G [00:00<00:40, 103MB/s]\rmodel.safetensors:   1%|          | 31.5M/4.15G [00:00<00:25, 159MB/s]\rmodel.safetensors:   2%|▏         | 62.9M/4.15G [00:00<00:21, 194MB/s]\rmodel.safetensors:   2%|▏         | 94.4M/4.15G [00:00<00:20, 201MB/s]\rmodel.safetensors:   3%|▎         | 115M/4.15G [00:00<00:20, 196MB/s] \rmodel.safetensors:   3%|▎         | 136M/4.15G [00:00<00:20, 192MB/s]\rmodel.safetensors:   4%|▍         | 157M/4.15G [00:00<00:21, 188MB/s]\rmodel.safetensors:   4%|▍         | 178M/4.15G [00:00<00:22, 180MB/s]\rmodel.safetensors:   5%|▍         | 199M/4.15G [00:01<00:21, 187MB/s]\rmodel.safetensors:   5%|▌         | 220M/4.15G [00:01<00:20, 192MB/s]\rmodel.safetensors:   6%|▌         | 252M/4.15G [00:01<00:19, 201MB/s]\rmodel.safetensors:   7%|▋         | 283M/4.15G [00:01<00:18, 210MB/s]\rmodel.safetensors:   8%|▊         | 315M/4.15G [00:01<00:17, 215MB/s]\rmodel.safetensors:   8%|▊         | 346M/4.15G [00:01<00:18, 204MB/s]\rmodel.safetensors:   9%|▉         | 367M/4.15G [00:01<00:18, 200MB/s]\rmodel.safetensors:   9%|▉         | 388M/4.15G [00:01<00:19, 197MB/s]\rmodel.safetensors:  10%|▉         | 409M/4.15G [00:02<00:19, 196MB/s]\rmodel.safetensors:  10%|█         | 430M/4.15G [00:02<00:19, 195MB/s]\rmodel.safetensors:  11%|█         | 451M/4.15G [00:04<01:59, 30.9MB/s]\rmodel.safetensors:  12%|█▏        | 482M/4.15G [00:04<01:20, 45.6MB/s]\rmodel.safetensors:  12%|█▏        | 514M/4.15G [00:04<00:57, 62.9MB/s]\rmodel.safetensors:  13%|█▎        | 535M/4.15G [00:04<00:49, 72.8MB/s]\rmodel.safetensors:  13%|█▎        | 556M/4.15G [00:04<00:43, 82.1MB/s]\rmodel.safetensors:  14%|█▍        | 577M/4.15G [00:05<00:37, 95.2MB/s]\rmodel.safetensors:  14%|█▍        | 598M/4.15G [00:05<00:31, 112MB/s] \rmodel.safetensors:  15%|█▍        | 619M/4.15G [00:05<00:27, 127MB/s]\rmodel.safetensors:  15%|█▌        | 640M/4.15G [00:05<00:24, 143MB/s]\rmodel.safetensors:  16%|█▌        | 661M/4.15G [00:05<00:23, 151MB/s]\rmodel.safetensors:  16%|█▋        | 682M/4.15G [00:05<00:21, 160MB/s]\rmodel.safetensors:  17%|█▋        | 713M/4.15G [00:05<00:19, 178MB/s]\rmodel.safetensors:  18%|█▊        | 734M/4.15G [00:05<00:18, 185MB/s]\rmodel.safetensors:  18%|█▊        | 755M/4.15G [00:05<00:18, 188MB/s]\rmodel.safetensors:  19%|█▊        | 776M/4.15G [00:06<00:19, 170MB/s]\rmodel.safetensors:  19%|█▉        | 797M/4.15G [00:06<00:20, 163MB/s]\rmodel.safetensors:  20%|█▉        | 818M/4.15G [00:06<00:20, 166MB/s]\rmodel.safetensors:  20%|██        | 839M/4.15G [00:06<00:19, 166MB/s]\rmodel.safetensors:  21%|██        | 860M/4.15G [00:06<00:19, 167MB/s]\rmodel.safetensors:  21%|██        | 881M/4.15G [00:09<02:06, 25.9MB/s]\rmodel.safetensors:  22%|██▏       | 902M/4.15G [00:09<01:43, 31.5MB/s]\rmodel.safetensors:  22%|██▏       | 933M/4.15G [00:09<01:07, 47.3MB/s]\rmodel.safetensors:  23%|██▎       | 954M/4.15G [00:09<00:55, 57.2MB/s]\rmodel.safetensors:  23%|██▎       | 975M/4.15G [00:09<00:47, 67.4MB/s]\rmodel.safetensors:  24%|██▍       | 996M/4.15G [00:09<00:38, 81.6MB/s]\rmodel.safetensors:  25%|██▍       | 1.02G/4.15G [00:10<00:32, 97.8MB/s]\rmodel.safetensors:  25%|██▌       | 1.05G/4.15G [00:10<00:26, 119MB/s] \rmodel.safetensors:  26%|██▌       | 1.07G/4.15G [00:10<00:23, 131MB/s]\rmodel.safetensors:  26%|██▋       | 1.09G/4.15G [00:10<00:21, 143MB/s]\rmodel.safetensors:  27%|██▋       | 1.11G/4.15G [00:10<00:19, 156MB/s]\rmodel.safetensors:  27%|██▋       | 1.13G/4.15G [00:10<00:18, 167MB/s]\rmodel.safetensors:  28%|██▊       | 1.16G/4.15G [00:10<00:16, 183MB/s]\rmodel.safetensors:  29%|██▉       | 1.20G/4.15G [00:10<00:15, 194MB/s]\rmodel.safetensors:  30%|██▉       | 1.23G/4.15G [00:11<00:14, 197MB/s]\rmodel.safetensors:  30%|███       | 1.25G/4.15G [00:11<00:15, 186MB/s]\rmodel.safetensors:  31%|███       | 1.27G/4.15G [00:11<00:15, 189MB/s]\rmodel.safetensors:  31%|███       | 1.29G/4.15G [00:11<00:14, 191MB/s]\rmodel.safetensors:  32%|███▏      | 1.31G/4.15G [00:11<00:14, 192MB/s]\rmodel.safetensors:  32%|███▏      | 1.33G/4.15G [00:11<00:14, 193MB/s]\rmodel.safetensors:  33%|███▎      | 1.35G/4.15G [00:14<01:51, 25.0MB/s]\rmodel.safetensors:  33%|███▎      | 1.37G/4.15G [00:14<01:22, 33.7MB/s]\rmodel.safetensors:  34%|███▍      | 1.41G/4.15G [00:14<00:55, 49.5MB/s]\rmodel.safetensors:  34%|███▍      | 1.43G/4.15G [00:14<00:48, 56.7MB/s]\rmodel.safetensors:  35%|███▍      | 1.45G/4.15G [00:14<00:38, 70.1MB/s]\rmodel.safetensors:  35%|███▌      | 1.47G/4.15G [00:15<00:31, 85.4MB/s]\rmodel.safetensors:  36%|███▌      | 1.50G/4.15G [00:15<00:23, 111MB/s] \rmodel.safetensors:  37%|███▋      | 1.52G/4.15G [00:15<00:22, 119MB/s]\rmodel.safetensors:  37%|███▋      | 1.54G/4.15G [00:15<00:19, 132MB/s]\rmodel.safetensors:  38%|███▊      | 1.56G/4.15G [00:15<00:17, 147MB/s]\rmodel.safetensors:  38%|███▊      | 1.59G/4.15G [00:15<00:15, 167MB/s]\rmodel.safetensors:  39%|███▉      | 1.63G/4.15G [00:15<00:13, 181MB/s]\rmodel.safetensors:  40%|███▉      | 1.66G/4.15G [00:15<00:13, 192MB/s]\rmodel.safetensors:  41%|████      | 1.69G/4.15G [00:16<00:12, 200MB/s]\rmodel.safetensors:  41%|████▏     | 1.72G/4.15G [00:16<00:12, 202MB/s]\rmodel.safetensors:  42%|████▏     | 1.74G/4.15G [00:16<00:12, 194MB/s]\rmodel.safetensors:  42%|████▏     | 1.76G/4.15G [00:16<00:12, 194MB/s]\rmodel.safetensors:  43%|████▎     | 1.78G/4.15G [00:16<00:12, 192MB/s]\rmodel.safetensors:  43%|████▎     | 1.80G/4.15G [00:16<00:12, 195MB/s]\rmodel.safetensors:  44%|████▍     | 1.82G/4.15G [00:16<00:12, 194MB/s]\rmodel.safetensors:  44%|████▍     | 1.85G/4.15G [00:19<01:26, 26.5MB/s]\rmodel.safetensors:  45%|████▍     | 1.87G/4.15G [00:19<01:04, 35.4MB/s]\rmodel.safetensors:  46%|████▌     | 1.90G/4.15G [00:19<00:43, 52.2MB/s]\rmodel.safetensors:  46%|████▌     | 1.92G/4.15G [00:19<00:35, 62.1MB/s]\rmodel.safetensors:  47%|████▋     | 1.94G/4.15G [00:19<00:30, 72.7MB/s]\rmodel.safetensors:  47%|████▋     | 1.96G/4.15G [00:20<00:24, 88.6MB/s]\rmodel.safetensors:  48%|████▊     | 1.99G/4.15G [00:20<00:18, 115MB/s] \rmodel.safetensors:  49%|████▉     | 2.02G/4.15G [00:20<00:16, 129MB/s]\rmodel.safetensors:  49%|████▉     | 2.04G/4.15G [00:20<00:15, 137MB/s]\rmodel.safetensors:  50%|████▉     | 2.07G/4.15G [00:20<00:13, 150MB/s]\rmodel.safetensors:  51%|█████     | 2.10G/4.15G [00:20<00:12, 168MB/s]\rmodel.safetensors:  51%|█████▏    | 2.13G/4.15G [00:20<00:11, 183MB/s]\rmodel.safetensors:  52%|█████▏    | 2.16G/4.15G [00:20<00:10, 195MB/s]\rmodel.safetensors:  53%|█████▎    | 2.18G/4.15G [00:21<00:10, 193MB/s]\rmodel.safetensors:  53%|█████▎    | 2.20G/4.15G [00:21<00:10, 192MB/s]\rmodel.safetensors:  54%|█████▎    | 2.22G/4.15G [00:21<00:10, 188MB/s]\rmodel.safetensors:  54%|█████▍    | 2.24G/4.15G [00:21<00:10, 189MB/s]\rmodel.safetensors:  55%|█████▍    | 2.26G/4.15G [00:21<00:10, 188MB/s]\rmodel.safetensors:  55%|█████▌    | 2.29G/4.15G [00:24<01:18, 23.8MB/s]\rmodel.safetensors:  56%|█████▌    | 2.31G/4.15G [00:24<00:58, 31.5MB/s]\rmodel.safetensors:  56%|█████▌    | 2.33G/4.15G [00:24<00:46, 39.0MB/s]\rmodel.safetensors:  57%|█████▋    | 2.36G/4.15G [00:24<00:31, 57.1MB/s]\rmodel.safetensors:  58%|█████▊    | 2.39G/4.15G [00:25<00:22, 77.3MB/s]\rmodel.safetensors:  58%|█████▊    | 2.42G/4.15G [00:25<00:17, 97.5MB/s]\rmodel.safetensors:  59%|█████▉    | 2.44G/4.15G [00:25<00:16, 106MB/s] \rmodel.safetensors:  59%|█████▉    | 2.46G/4.15G [00:25<00:14, 117MB/s]\rmodel.safetensors:  60%|██████    | 2.50G/4.15G [00:25<00:11, 139MB/s]\rmodel.safetensors:  61%|██████    | 2.53G/4.15G [00:25<00:10, 159MB/s]\rmodel.safetensors:  62%|██████▏   | 2.56G/4.15G [00:25<00:09, 172MB/s]\rmodel.safetensors:  62%|██████▏   | 2.58G/4.15G [00:25<00:09, 174MB/s]\rmodel.safetensors:  63%|██████▎   | 2.60G/4.15G [00:26<00:08, 179MB/s]\rmodel.safetensors:  63%|██████▎   | 2.62G/4.15G [00:26<00:08, 182MB/s]\rmodel.safetensors:  64%|██████▎   | 2.64G/4.15G [00:26<00:08, 185MB/s]\rmodel.safetensors:  64%|██████▍   | 2.66G/4.15G [00:26<00:08, 180MB/s]\rmodel.safetensors:  65%|██████▍   | 2.68G/4.15G [00:29<01:05, 22.5MB/s]\rmodel.safetensors:  65%|██████▌   | 2.71G/4.15G [00:29<00:48, 29.8MB/s]\rmodel.safetensors:  66%|██████▌   | 2.73G/4.15G [00:29<00:36, 39.4MB/s]\rmodel.safetensors:  66%|██████▌   | 2.75G/4.15G [00:29<00:27, 51.6MB/s]\rmodel.safetensors:  67%|██████▋   | 2.77G/4.15G [00:30<00:24, 55.8MB/s]\rmodel.safetensors:  67%|██████▋   | 2.79G/4.15G [00:30<00:19, 71.1MB/s]\rmodel.safetensors:  68%|██████▊   | 2.81G/4.15G [00:30<00:15, 86.6MB/s]\rmodel.safetensors:  68%|██████▊   | 2.83G/4.15G [00:30<00:13, 101MB/s] \rmodel.safetensors:  69%|██████▊   | 2.85G/4.15G [00:30<00:11, 114MB/s]\rmodel.safetensors:  69%|██████▉   | 2.87G/4.15G [00:30<00:09, 129MB/s]\rmodel.safetensors:  70%|██████▉   | 2.89G/4.15G [00:30<00:08, 144MB/s]\rmodel.safetensors:  70%|███████   | 2.92G/4.15G [00:30<00:08, 154MB/s]\rmodel.safetensors:  71%|███████   | 2.94G/4.15G [00:31<00:07, 165MB/s]\rmodel.safetensors:  71%|███████   | 2.96G/4.15G [00:31<00:06, 176MB/s]\rmodel.safetensors:  72%|███████▏  | 2.98G/4.15G [00:31<00:06, 183MB/s]\rmodel.safetensors:  73%|███████▎  | 3.01G/4.15G [00:31<00:05, 195MB/s]\rmodel.safetensors:  73%|███████▎  | 3.04G/4.15G [00:31<00:05, 202MB/s]\rmodel.safetensors:  74%|███████▍  | 3.07G/4.15G [00:31<00:05, 200MB/s]\rmodel.safetensors:  75%|███████▍  | 3.09G/4.15G [00:31<00:05, 195MB/s]\rmodel.safetensors:  75%|███████▌  | 3.11G/4.15G [00:31<00:05, 194MB/s]\rmodel.safetensors:  76%|███████▌  | 3.14G/4.15G [00:31<00:05, 193MB/s]\rmodel.safetensors:  76%|███████▌  | 3.16G/4.15G [00:32<00:05, 193MB/s]\rmodel.safetensors:  77%|███████▋  | 3.18G/4.15G [00:34<00:29, 33.3MB/s]\rmodel.safetensors:  77%|███████▋  | 3.20G/4.15G [00:35<00:44, 21.6MB/s]\rmodel.safetensors:  77%|███████▋  | 3.21G/4.15G [00:35<00:37, 24.9MB/s]\rmodel.safetensors:  78%|███████▊  | 3.23G/4.15G [00:36<00:26, 34.5MB/s]\rmodel.safetensors:  79%|███████▊  | 3.26G/4.15G [00:36<00:16, 52.9MB/s]\rmodel.safetensors:  79%|███████▉  | 3.29G/4.15G [00:36<00:11, 73.8MB/s]\rmodel.safetensors:  80%|████████  | 3.32G/4.15G [00:36<00:08, 94.0MB/s]\rmodel.safetensors:  81%|████████  | 3.34G/4.15G [00:36<00:07, 107MB/s] \rmodel.safetensors:  81%|████████  | 3.37G/4.15G [00:36<00:06, 119MB/s]\rmodel.safetensors:  82%|████████▏ | 3.39G/4.15G [00:36<00:05, 132MB/s]\rmodel.safetensors:  82%|████████▏ | 3.41G/4.15G [00:37<00:05, 143MB/s]\rmodel.safetensors:  83%|████████▎ | 3.43G/4.15G [00:37<00:04, 155MB/s]\rmodel.safetensors:  83%|████████▎ | 3.46G/4.15G [00:37<00:03, 173MB/s]\rmodel.safetensors:  84%|████████▍ | 3.48G/4.15G [00:37<00:03, 179MB/s]\rmodel.safetensors:  85%|████████▍ | 3.51G/4.15G [00:37<00:03, 192MB/s]\rmodel.safetensors:  85%|████████▌ | 3.54G/4.15G [00:37<00:03, 202MB/s]\rmodel.safetensors:  86%|████████▌ | 3.58G/4.15G [00:37<00:02, 207MB/s]\rmodel.safetensors:  87%|████████▋ | 3.61G/4.15G [00:37<00:02, 202MB/s]\rmodel.safetensors:  87%|████████▋ | 3.63G/4.15G [00:38<00:02, 194MB/s]\rmodel.safetensors:  88%|████████▊ | 3.65G/4.15G [00:38<00:02, 190MB/s]\rmodel.safetensors:  88%|████████▊ | 3.67G/4.15G [00:38<00:02, 191MB/s]\rmodel.safetensors:  89%|████████▉ | 3.69G/4.15G [00:38<00:02, 164MB/s]\rmodel.safetensors:  89%|████████▉ | 3.71G/4.15G [00:39<00:07, 56.9MB/s]\rmodel.safetensors:  90%|████████▉ | 3.73G/4.15G [00:39<00:06, 65.2MB/s]\rmodel.safetensors:  91%|█████████ | 3.76G/4.15G [00:39<00:04, 88.7MB/s]\rmodel.safetensors:  91%|█████████▏| 3.80G/4.15G [00:39<00:03, 113MB/s] \rmodel.safetensors:  92%|█████████▏| 3.83G/4.15G [00:40<00:02, 135MB/s]\rmodel.safetensors:  93%|█████████▎| 3.85G/4.15G [00:40<00:02, 144MB/s]\rmodel.safetensors:  93%|█████████▎| 3.87G/4.15G [00:40<00:01, 152MB/s]\rmodel.safetensors:  94%|█████████▎| 3.89G/4.15G [00:40<00:01, 162MB/s]\rmodel.safetensors:  94%|█████████▍| 3.91G/4.15G [00:40<00:01, 166MB/s]\rmodel.safetensors:  95%|█████████▍| 3.93G/4.15G [00:40<00:01, 174MB/s]\rmodel.safetensors:  95%|█████████▌| 3.95G/4.15G [00:40<00:01, 182MB/s]\rmodel.safetensors:  96%|█████████▌| 3.97G/4.15G [00:40<00:01, 173MB/s]\rmodel.safetensors:  96%|█████████▌| 4.00G/4.15G [00:41<00:01, 113MB/s]\rmodel.safetensors:  97%|█████████▋| 4.02G/4.15G [00:41<00:01, 122MB/s]\rmodel.safetensors:  97%|█████████▋| 4.04G/4.15G [00:41<00:00, 131MB/s]\rmodel.safetensors:  98%|█████████▊| 4.06G/4.15G [00:41<00:00, 137MB/s]\rmodel.safetensors:  98%|█████████▊| 4.08G/4.15G [00:41<00:00, 143MB/s]\rmodel.safetensors:  99%|█████████▉| 4.10G/4.15G [00:44<00:02, 23.5MB/s]\rmodel.safetensors:  99%|█████████▉| 4.12G/4.15G [00:44<00:00, 31.5MB/s]\rmodel.safetensors: 100%|█████████▉| 4.14G/4.15G [00:44<00:00, 39.9MB/s]\rmodel.safetensors: 100%|██████████| 4.15G/4.15G [00:44<00:00, 92.7MB/s]\n",
            "INFO 02-17 10:13:03 llm_engine.py:337] # GPU blocks: 2120, # CPU blocks: 2048\n",
            "INFO 02-17 10:13:07 model_runner.py:666] Capturing the model for CUDA graphs. This may lead to unexpected consequences if the model is not static. To run the model in eager mode, set 'enforce_eager=True' or use '--enforce-eager' in the CLI.\n",
            "INFO 02-17 10:13:07 model_runner.py:670] CUDA graphs can take additional 1~3 GiB memory per GPU. If you are running out of memory, consider decreasing `gpu_memory_utilization` or enforcing eager mode. You can also reduce the `max_num_seqs` as needed to decrease memory usage.\n",
            "INFO 02-17 10:13:23 model_runner.py:738] Graph capturing finished in 16 secs.\n",
            "WARNING 02-17 10:13:23 serving_chat.py:264] No chat template provided. Chat API will not work.\n",
            "INFO:     Started server process [1761]\n",
            "INFO:     Waiting for application startup.\n",
            "INFO:     Application startup complete.\n",
            "INFO:     Uvicorn running on http://0.0.0.0:8000 (Press CTRL+C to quit)\n"
          ]
        }
      ],
      "source": [
        "!tail server.log"
      ]
    },
    {
      "cell_type": "code",
      "execution_count": null,
      "metadata": {
        "colab": {
          "base_uri": "https://localhost:8080/"
        },
        "id": "Zi-MsWnqWDs2",
        "outputId": "577bd467-a402-4c24-b8f1-340c525582a9"
      },
      "outputs": [
        {
          "name": "stdout",
          "output_type": "stream",
          "text": [
            "{\"object\":\"list\",\"data\":[{\"id\":\"TheBloke/dolphin-2.6-mistral-7B-dpo-laser-AWQ\",\"object\":\"model\",\"created\":1708164808,\"owned_by\":\"vllm\",\"root\":\"TheBloke/dolphin-2.6-mistral-7B-dpo-laser-AWQ\",\"parent\":null,\"permission\":[{\"id\":\"modelperm-7e5384a6f62e414db5290a65ad5ac635\",\"object\":\"model_permission\",\"created\":1708164808,\"allow_create_engine\":false,\"allow_sampling\":true,\"allow_logprobs\":true,\"allow_search_indices\":false,\"allow_view\":true,\"allow_fine_tuning\":false,\"organization\":\"*\",\"group\":null,\"is_blocking\":false}]}]}"
          ]
        }
      ],
      "source": [
        "!curl http://localhost:8000/v1/models"
      ]
    },
    {
      "cell_type": "markdown",
      "metadata": {
        "id": "Z-jGGERaWlD9"
      },
      "source": [
        "#回家作業：逐漸建立複雜管道\n",
        "\n",
        "- 實現一堆簽名和模組\n",
        "- 使用多個提詞器來編譯和最佳化提示管道\n",
        "- 使用 kNN Few Shot 和 Chain of Thought 作為解決方案的一部分非常重要\n",
        "- 最後進行消融研究，透過 matplotlib 繪圖顯示各種參數和模組的重要性\n",
        "- 使用 dspy 中的斷言和建議來進一步改進您的 dspy 程式、文件改進\n",
        "\n",
        "* 無需使用 RAG 來完成此任務。"
      ]
    },
    {
      "cell_type": "markdown",
      "metadata": {
        "id": "4JK5xC8ZbdoC"
      },
      "source": [
        "## 步驟一、設定語言模型\n",
        "\n",
        "首先，我們將 DSPy 配置為使用針對指令最佳化的特定版本的 GPT 模型，確保我們的語言模型為詳細的指令追蹤任務做好準備。"
      ]
    },
    {
      "cell_type": "code",
      "execution_count": null,
      "metadata": {
        "id": "pQ0Fs5FJWy4f"
      },
      "outputs": [],
      "source": [
        "import dspy\n",
        "\n",
        "# Set up the LM with GPT-3.5-turbo-instruct for detailed instruction following\n",
        "# vLLM = dspy.HFClientVLLM(model=\"chienweichang/Breeze-7B-Instruct-v0_1-AWQ\", port=8000, url=\"http://localhost\", max_tokens=250)\n",
        "vLLM = dspy.HFClientVLLM(model=\"TheBloke/dolphin-2.6-mistral-7B-dpo-laser-AWQ\", port=8000, url=\"http://localhost\")\n",
        "dspy.settings.configure(lm=vLLM)"
      ]
    },
    {
      "cell_type": "markdown",
      "metadata": {
        "id": "wl2OhXnjbohr"
      },
      "source": [
        "## 步驟二、載入資料集\n",
        "\n"
      ]
    },
    {
      "cell_type": "markdown",
      "metadata": {
        "id": "pCYmKRNumprc"
      },
      "source": [
        "BIG-Bench Hard 資料集（Suzgun 等人，2022）中有各種任務。當使用 load_dataset 載入該任務的相應記錄時，您可以使用這些字串之一。"
      ]
    },
    {
      "cell_type": "markdown",
      "metadata": {
        "id": "pmpo-GTukf9v"
      },
      "source": [
        "```\n",
        "['tracking_shuffled_objects_seven_objects', 'salient_translation_error_detection', 'tracking_shuffled_objects_three_objects', 'geometric_shapes', 'object_counting', 'word_sorting', 'logical_deduction_five_objects', 'hyperbaton', 'sports_understanding', 'logical_deduction_seven_objects', 'multistep_arithmetic_two', 'ruin_names', 'causal_judgement', 'logical_deduction_three_objects', 'formal_fallacies', 'snarks', 'boolean_expressions', 'reasoning_about_colored_objects', 'dyck_languages', 'navigate', 'disambiguation_qa', 'temporal_sequences', 'web_of_lies', 'tracking_shuffled_objects_five_objects', 'penguins_in_a_table', 'movie_recommendation', 'date_understanding']\n",
        "```"
      ]
    },
    {
      "cell_type": "code",
      "execution_count": null,
      "metadata": {
        "colab": {
          "base_uri": "https://localhost:8080/",
          "height": 163,
          "referenced_widgets": [
            "7b4dd596540640b79eedb5b61ec85ea1",
            "aea7d3151d024e0d9d1f48f2c9d1f90a",
            "401c4f9554434a3a83fda092b643a35f",
            "d26b0e20876f4f4aa6a5a4cfb90d6fd3",
            "08ccd8e734674cbfb2a9acadef64e774",
            "f40b7765bd9d475db36149f07fc69dc6",
            "6120af350e9a4db49a56189f1a1f62ed",
            "778e590082414d928ae0031fad0efde9",
            "3a7b709744394972abd507e3e5d7ec27",
            "66149500aba647ca89a5196f5284100a",
            "684dd4a4b33b46f09b07ef6137fb2477",
            "1556b358f3474995815388cff5699e7f",
            "d55c049f6aad40d09a5d903a283cbf88",
            "8668b0fb1e61437081cc4d8d14b933ed",
            "3b71975c6e024718bdb7e9c45187f1d0",
            "bc5f7f0616b24838b12c05e5c45be756",
            "290688bede3b4ef9b207c427945d1cf4",
            "06638a041f5847eab37de40a1782ac08",
            "171c0c4328da404ca363850df31d412f",
            "0658de375bc54268abd65a552485ee44",
            "e68337e03d51410a8b11048a3a4ed5a9",
            "8614f7cdad8548dc9aab05c091aac889",
            "68bb2d4b58af4d21af2722efb712ca73",
            "a08950bcfe7f4bcfac7bf135a1ded3e6",
            "d7210f2b748a4aecb1464e0fa3d46ead",
            "66cbe9b5bde945c48f07fb7a05a659eb",
            "7603e57a3ace424bbeb40c3668b0b4be",
            "736fd405dd644c6cabb03e421d3f779f",
            "4a27100036984685a7c50ad55d7ac0f5",
            "6175d975b2d74808831dda91968180ab",
            "71dbe72d22274e579e095589c3058fb6",
            "30a596d5760942618fc00ef5585c8f01",
            "fa137a447f11453bbab33f09fdeeb67f",
            "05ccdebfbf5449409100a723b0c0f8e6",
            "8cd933f2f3b1468db626e6b4800746d3",
            "7fed8d08b5de4735aa93cd1ba5785855",
            "8a8bf75924c7428e93e27a92ae9fba98",
            "ee10470acdc840e180c05b968126ae40",
            "17e3e890dd584266bb28a63bf11d2d4d",
            "ce139d8c84ef42b783a53bfd9fc5923e",
            "173f30a9c5d04cdbb7024537cfa29b6c",
            "c905014abe6245738d13aa706324cc0c",
            "070a5d38479a4c0eb8599fd9a4f2c104",
            "0cfcfd2f37c34a9ba898653a93ce03d9"
          ]
        },
        "id": "179AoD-zksl8",
        "outputId": "ac95a891-a226-4f90-f12c-6f67eed8ba31"
      },
      "outputs": [
        {
          "data": {
            "application/vnd.jupyter.widget-view+json": {
              "model_id": "7b4dd596540640b79eedb5b61ec85ea1",
              "version_major": 2,
              "version_minor": 0
            },
            "text/plain": [
              "Downloading builder script:   0%|          | 0.00/4.37k [00:00<?, ?B/s]"
            ]
          },
          "metadata": {},
          "output_type": "display_data"
        },
        {
          "data": {
            "application/vnd.jupyter.widget-view+json": {
              "model_id": "1556b358f3474995815388cff5699e7f",
              "version_major": 2,
              "version_minor": 0
            },
            "text/plain": [
              "Downloading readme:   0%|          | 0.00/7.16k [00:00<?, ?B/s]"
            ]
          },
          "metadata": {},
          "output_type": "display_data"
        },
        {
          "data": {
            "application/vnd.jupyter.widget-view+json": {
              "model_id": "68bb2d4b58af4d21af2722efb712ca73",
              "version_major": 2,
              "version_minor": 0
            },
            "text/plain": [
              "Downloading data:   0%|          | 0.00/26.4k [00:00<?, ?B/s]"
            ]
          },
          "metadata": {},
          "output_type": "display_data"
        },
        {
          "data": {
            "application/vnd.jupyter.widget-view+json": {
              "model_id": "05ccdebfbf5449409100a723b0c0f8e6",
              "version_major": 2,
              "version_minor": 0
            },
            "text/plain": [
              "Generating train split: 0 examples [00:00, ? examples/s]"
            ]
          },
          "metadata": {},
          "output_type": "display_data"
        },
        {
          "name": "stdout",
          "output_type": "stream",
          "text": [
            "There are 250 examples.\n"
          ]
        }
      ],
      "source": [
        "from datasets import load_dataset\n",
        "\n",
        "ds = load_dataset(\"maveriq/bigbenchhard\", \"salient_translation_error_detection\")[\"train\"]\n",
        "examples = [dspy.Example({\"question\": r[\"input\"], \"answer\": r[\"target\"]}).with_inputs(\"question\") for r in ds]\n",
        "print(f\"There are {len(examples)} examples.\")\n",
        "trainset = examples[0:20]\n",
        "valset = examples[20:]"
      ]
    },
    {
      "cell_type": "markdown",
      "metadata": {
        "id": "dRo6t2FzmzTl"
      },
      "source": [
        "偷看一下題目大概長怎樣"
      ]
    },
    {
      "cell_type": "code",
      "execution_count": null,
      "metadata": {
        "colab": {
          "base_uri": "https://localhost:8080/"
        },
        "id": "HwQEiPmZm1rV",
        "outputId": "8774b6a5-0298-4ed8-ab43-0d1db0c73b5d"
      },
      "outputs": [
        {
          "name": "stdout",
          "output_type": "stream",
          "text": [
            "\n",
            "QUESTION:\n",
            "\n",
            "The following translations from German to English contain a particular error. That error will be one of the following types: Named Entities: An entity (names, places, locations, etc.) is changed to a different entity. Numerical Values: Numerical values (ordinals or cardinals), dates, and/or units are changed. Modifiers or Adjectives: The modifiers and adjectives pertaining to a noun are changed. Negation or Antonyms: Introduce or remove a negation or change comparatives to their antonyms. Facts: Trivial factual errors not pertaining to the above classes are introduced in the translations. Dropped Content: A significant clause in the translation is removed. Please identify that error.  Source: Ruth Lynn Deech, Baroness Deech DBE ist eine britische Juristin und Hochschullehrerin, die seit 2005 als Life Peeress Mitglied des House of Lords ist.\n",
            "Translation: Ruth Lynn Deech, Baroness Deech DBE is a British lawyer and university lecturer who has been a life peer of the House of Lords since 2015.\n",
            "The translation contains an error pertaining to\n",
            "Options:\n",
            "(A) Modifiers or Adjectives\n",
            "(B) Numerical Values\n",
            "(C) Negation or Antonyms\n",
            "(D) Named Entities\n",
            "(E) Dropped Content\n",
            "(F) Facts\n",
            "\n",
            "ANSWER:\n",
            "\n",
            "(B)\n"
          ]
        }
      ],
      "source": [
        "example = trainset[10]\n",
        "for k, v in example.items():\n",
        "    print(f\"\\n{k.upper()}:\\n\")\n",
        "    print(v)"
      ]
    },
    {
      "cell_type": "markdown",
      "metadata": {
        "id": "2tOPz4QLoG4V"
      },
      "source": [
        "## 步驟三、定義 DSPy 模組\n",
        "\n",
        "這是 DSPy 中的一個簡單模組，用於基本問答。"
      ]
    },
    {
      "cell_type": "code",
      "execution_count": null,
      "metadata": {
        "id": "DZw6hUQzoGcB"
      },
      "outputs": [],
      "source": [
        "class BasicQA(dspy.Module):\n",
        "    def __init__(self):\n",
        "        super().__init__()\n",
        "        self.prog = dspy.Predict(\"question -> answer\")\n",
        "\n",
        "    def forward(self, question):\n",
        "        \"\"\"forward 方法呼叫 __call__ ，類似於 pytorch 中的工作方式。\"\"\"\n",
        "        return self.prog(question=question)\n",
        "\n",
        "\n",
        "basic_qa = BasicQA()"
      ]
    },
    {
      "cell_type": "markdown",
      "metadata": {
        "id": "4UnBz6oOoVgz"
      },
      "source": [
        "將剛剛定義的 basic_qa 拿來做操作"
      ]
    },
    {
      "cell_type": "code",
      "execution_count": null,
      "metadata": {
        "colab": {
          "base_uri": "https://localhost:8080/"
        },
        "id": "_4entQPnobB-",
        "outputId": "c99c601a-dfa5-46a3-a410-fa7844b1bf87"
      },
      "outputs": [
        {
          "name": "stdout",
          "output_type": "stream",
          "text": [
            "\n",
            "QUESTION:\n",
            "\n",
            "The following translations from German to English contain a particular error. That error will be one of the following types: Named Entities: An entity (names, places, locations, etc.) is changed to a different entity. Numerical Values: Numerical values (ordinals or cardinals), dates, and/or units are changed. Modifiers or Adjectives: The modifiers and adjectives pertaining to a noun are changed. Negation or Antonyms: Introduce or remove a negation or change comparatives to their antonyms. Facts: Trivial factual errors not pertaining to the above classes are introduced in the translations. Dropped Content: A significant clause in the translation is removed. Please identify that error.  Source: Ruth Lynn Deech, Baroness Deech DBE ist eine britische Juristin und Hochschullehrerin, die seit 2005 als Life Peeress Mitglied des House of Lords ist.\n",
            "Translation: Ruth Lynn Deech, Baroness Deech DBE is a British lawyer and university lecturer who has been a life peer of the House of Lords since 2015.\n",
            "The translation contains an error pertaining to\n",
            "Options:\n",
            "(A) Modifiers or Adjectives\n",
            "(B) Numerical Values\n",
            "(C) Negation or Antonyms\n",
            "(D) Named Entities\n",
            "(E) Dropped Content\n",
            "(F) Facts\n",
            "\n",
            "ANSWER:\n",
            "\n",
            "(B)\n",
            "\n",
            "PREDICTION:\n",
            "\n",
            "(E) Dropped Content\n"
          ]
        }
      ],
      "source": [
        "pred = basic_qa(question=example.question)\n",
        "print(\"\\nQUESTION:\\n\")\n",
        "print(example.question)\n",
        "print(\"\\nANSWER:\\n\")\n",
        "print(example.answer)\n",
        "print(\"\\nPREDICTION:\\n\")\n",
        "print(pred.answer)"
      ]
    },
    {
      "cell_type": "markdown",
      "metadata": {
        "id": "53dbuup2owth"
      },
      "source": [
        "## 步驟四、定義評估指標\n",
        "\n",
        "我們的評估指標將檢查 llm 輸出是否包含正確的多項選擇答案。為了在 DSPy 中定義評估指標，我們建立一個如下例所示的函數。前兩個輸入應該是 dspy.Example 的實例。度量函數可以包含評估任務所需的任何邏輯。您可以在文件中閱讀有關 trace 參數的更多資訊。它需要存在，即使沒有明確使用它。"
      ]
    },
    {
      "cell_type": "code",
      "execution_count": null,
      "metadata": {
        "id": "vZSrEPBBowKo"
      },
      "outputs": [],
      "source": [
        "import re\n",
        "\n",
        "def eval_metric(true, prediction, trace=None):\n",
        "    pred = prediction.answer\n",
        "    matches = re.findall(r\"\\([A-Z]\\)\", pred)\n",
        "    parsed_answer = matches[-1] if matches else \"\"\n",
        "    return parsed_answer == true.answer"
      ]
    },
    {
      "cell_type": "markdown",
      "metadata": {
        "id": "-JIuynyhpB9E"
      },
      "source": [
        "我們建立了一個評估管道："
      ]
    },
    {
      "cell_type": "code",
      "execution_count": null,
      "metadata": {
        "id": "mjgVgnblpDV4"
      },
      "outputs": [],
      "source": [
        "from dspy.evaluate import Evaluate\n",
        "\n",
        "evaluate = Evaluate(devset=valset, metric=eval_metric, num_threads=6, display_progress=True, display_table=10)"
      ]
    },
    {
      "cell_type": "markdown",
      "metadata": {
        "id": "oc-IWW5OpgtL"
      },
      "source": [
        "## 步驟五、執行第一次的評估"
      ]
    },
    {
      "cell_type": "code",
      "execution_count": null,
      "metadata": {
        "colab": {
          "base_uri": "https://localhost:8080/",
          "height": 840
        },
        "id": "ct0RYMZdpnQL",
        "outputId": "832aa68d-ce44-4c3e-b06b-e7dd5a249910"
      },
      "outputs": [
        {
          "name": "stderr",
          "output_type": "stream",
          "text": [
            "Average Metric: 72 / 230  (31.3): 100%|██████████| 230/230 [01:40<00:00,  2.28it/s]"
          ]
        },
        {
          "name": "stdout",
          "output_type": "stream",
          "text": [
            "Average Metric: 72 / 230  (31.3%)\n"
          ]
        },
        {
          "name": "stderr",
          "output_type": "stream",
          "text": [
            "\n",
            "/usr/local/lib/python3.10/dist-packages/dspy/evaluate/evaluate.py:142: FutureWarning: DataFrame.applymap has been deprecated. Use DataFrame.map instead.\n",
            "  df = df.applymap(truncate_cell)\n"
          ]
        },
        {
          "data": {
            "text/html": [
              "<style type=\"text/css\">\n",
              "#T_b8274 th {\n",
              "  text-align: left;\n",
              "}\n",
              "#T_b8274 td {\n",
              "  text-align: left;\n",
              "}\n",
              "#T_b8274_row0_col0, #T_b8274_row0_col1, #T_b8274_row0_col2, #T_b8274_row0_col3, #T_b8274_row1_col0, #T_b8274_row1_col1, #T_b8274_row1_col2, #T_b8274_row1_col3, #T_b8274_row2_col0, #T_b8274_row2_col1, #T_b8274_row2_col2, #T_b8274_row2_col3, #T_b8274_row3_col0, #T_b8274_row3_col1, #T_b8274_row3_col2, #T_b8274_row3_col3, #T_b8274_row4_col0, #T_b8274_row4_col1, #T_b8274_row4_col2, #T_b8274_row4_col3, #T_b8274_row5_col0, #T_b8274_row5_col1, #T_b8274_row5_col2, #T_b8274_row5_col3, #T_b8274_row6_col0, #T_b8274_row6_col1, #T_b8274_row6_col2, #T_b8274_row6_col3, #T_b8274_row7_col0, #T_b8274_row7_col1, #T_b8274_row7_col2, #T_b8274_row7_col3, #T_b8274_row8_col0, #T_b8274_row8_col1, #T_b8274_row8_col2, #T_b8274_row8_col3, #T_b8274_row9_col0, #T_b8274_row9_col1, #T_b8274_row9_col2, #T_b8274_row9_col3 {\n",
              "  text-align: left;\n",
              "  white-space: pre-wrap;\n",
              "  word-wrap: break-word;\n",
              "  max-width: 400px;\n",
              "}\n",
              "</style>\n",
              "<table id=\"T_b8274\" class=\"dataframe\">\n",
              "  <thead>\n",
              "    <tr>\n",
              "      <th class=\"blank level0\" >&nbsp;</th>\n",
              "      <th id=\"T_b8274_level0_col0\" class=\"col_heading level0 col0\" >question</th>\n",
              "      <th id=\"T_b8274_level0_col1\" class=\"col_heading level0 col1\" >example_answer</th>\n",
              "      <th id=\"T_b8274_level0_col2\" class=\"col_heading level0 col2\" >pred_answer</th>\n",
              "      <th id=\"T_b8274_level0_col3\" class=\"col_heading level0 col3\" >eval_metric</th>\n",
              "    </tr>\n",
              "  </thead>\n",
              "  <tbody>\n",
              "    <tr>\n",
              "      <th id=\"T_b8274_level0_row0\" class=\"row_heading level0 row0\" >0</th>\n",
              "      <td id=\"T_b8274_row0_col0\" class=\"data row0 col0\" >The following translations from German to English contain a particular error. That error will be one of the following types: Named Entities: An entity (names,...</td>\n",
              "      <td id=\"T_b8274_row0_col1\" class=\"data row0 col1\" >(A)</td>\n",
              "      <td id=\"T_b8274_row0_col2\" class=\"data row0 col2\" >(D) Named Entities</td>\n",
              "      <td id=\"T_b8274_row0_col3\" class=\"data row0 col3\" >False</td>\n",
              "    </tr>\n",
              "    <tr>\n",
              "      <th id=\"T_b8274_level0_row1\" class=\"row_heading level0 row1\" >1</th>\n",
              "      <td id=\"T_b8274_row1_col0\" class=\"data row1 col0\" >The following translations from German to English contain a particular error. That error will be one of the following types: Named Entities: An entity (names,...</td>\n",
              "      <td id=\"T_b8274_row1_col1\" class=\"data row1 col1\" >(B)</td>\n",
              "      <td id=\"T_b8274_row1_col2\" class=\"data row1 col2\" >(B) Numerical Values</td>\n",
              "      <td id=\"T_b8274_row1_col3\" class=\"data row1 col3\" >✔️ [True]</td>\n",
              "    </tr>\n",
              "    <tr>\n",
              "      <th id=\"T_b8274_level0_row2\" class=\"row_heading level0 row2\" >2</th>\n",
              "      <td id=\"T_b8274_row2_col0\" class=\"data row2 col0\" >The following translations from German to English contain a particular error. That error will be one of the following types: Named Entities: An entity (names,...</td>\n",
              "      <td id=\"T_b8274_row2_col1\" class=\"data row2 col1\" >(F)</td>\n",
              "      <td id=\"T_b8274_row2_col2\" class=\"data row2 col2\" >(D) Named Entities</td>\n",
              "      <td id=\"T_b8274_row2_col3\" class=\"data row2 col3\" >False</td>\n",
              "    </tr>\n",
              "    <tr>\n",
              "      <th id=\"T_b8274_level0_row3\" class=\"row_heading level0 row3\" >3</th>\n",
              "      <td id=\"T_b8274_row3_col0\" class=\"data row3 col0\" >The following translations from German to English contain a particular error. That error will be one of the following types: Named Entities: An entity (names,...</td>\n",
              "      <td id=\"T_b8274_row3_col1\" class=\"data row3 col1\" >(D)</td>\n",
              "      <td id=\"T_b8274_row3_col2\" class=\"data row3 col2\" >(D) Named Entities</td>\n",
              "      <td id=\"T_b8274_row3_col3\" class=\"data row3 col3\" >✔️ [True]</td>\n",
              "    </tr>\n",
              "    <tr>\n",
              "      <th id=\"T_b8274_level0_row4\" class=\"row_heading level0 row4\" >4</th>\n",
              "      <td id=\"T_b8274_row4_col0\" class=\"data row4 col0\" >The following translations from German to English contain a particular error. That error will be one of the following types: Named Entities: An entity (names,...</td>\n",
              "      <td id=\"T_b8274_row4_col1\" class=\"data row4 col1\" >(A)</td>\n",
              "      <td id=\"T_b8274_row4_col2\" class=\"data row4 col2\" >(D) Named Entities</td>\n",
              "      <td id=\"T_b8274_row4_col3\" class=\"data row4 col3\" >False</td>\n",
              "    </tr>\n",
              "    <tr>\n",
              "      <th id=\"T_b8274_level0_row5\" class=\"row_heading level0 row5\" >5</th>\n",
              "      <td id=\"T_b8274_row5_col0\" class=\"data row5 col0\" >The following translations from German to English contain a particular error. That error will be one of the following types: Named Entities: An entity (names,...</td>\n",
              "      <td id=\"T_b8274_row5_col1\" class=\"data row5 col1\" >(D)</td>\n",
              "      <td id=\"T_b8274_row5_col2\" class=\"data row5 col2\" >(D) Named Entities</td>\n",
              "      <td id=\"T_b8274_row5_col3\" class=\"data row5 col3\" >✔️ [True]</td>\n",
              "    </tr>\n",
              "    <tr>\n",
              "      <th id=\"T_b8274_level0_row6\" class=\"row_heading level0 row6\" >6</th>\n",
              "      <td id=\"T_b8274_row6_col0\" class=\"data row6 col0\" >The following translations from German to English contain a particular error. That error will be one of the following types: Named Entities: An entity (names,...</td>\n",
              "      <td id=\"T_b8274_row6_col1\" class=\"data row6 col1\" >(D)</td>\n",
              "      <td id=\"T_b8274_row6_col2\" class=\"data row6 col2\" >(E) Dropped Content</td>\n",
              "      <td id=\"T_b8274_row6_col3\" class=\"data row6 col3\" >False</td>\n",
              "    </tr>\n",
              "    <tr>\n",
              "      <th id=\"T_b8274_level0_row7\" class=\"row_heading level0 row7\" >7</th>\n",
              "      <td id=\"T_b8274_row7_col0\" class=\"data row7 col0\" >The following translations from German to English contain a particular error. That error will be one of the following types: Named Entities: An entity (names,...</td>\n",
              "      <td id=\"T_b8274_row7_col1\" class=\"data row7 col1\" >(F)</td>\n",
              "      <td id=\"T_b8274_row7_col2\" class=\"data row7 col2\" >(E) Dropped Content</td>\n",
              "      <td id=\"T_b8274_row7_col3\" class=\"data row7 col3\" >False</td>\n",
              "    </tr>\n",
              "    <tr>\n",
              "      <th id=\"T_b8274_level0_row8\" class=\"row_heading level0 row8\" >8</th>\n",
              "      <td id=\"T_b8274_row8_col0\" class=\"data row8 col0\" >The following translations from German to English contain a particular error. That error will be one of the following types: Named Entities: An entity (names,...</td>\n",
              "      <td id=\"T_b8274_row8_col1\" class=\"data row8 col1\" >(D)</td>\n",
              "      <td id=\"T_b8274_row8_col2\" class=\"data row8 col2\" >(D) Named Entities</td>\n",
              "      <td id=\"T_b8274_row8_col3\" class=\"data row8 col3\" >✔️ [True]</td>\n",
              "    </tr>\n",
              "    <tr>\n",
              "      <th id=\"T_b8274_level0_row9\" class=\"row_heading level0 row9\" >9</th>\n",
              "      <td id=\"T_b8274_row9_col0\" class=\"data row9 col0\" >The following translations from German to English contain a particular error. That error will be one of the following types: Named Entities: An entity (names,...</td>\n",
              "      <td id=\"T_b8274_row9_col1\" class=\"data row9 col1\" >(D)</td>\n",
              "      <td id=\"T_b8274_row9_col2\" class=\"data row9 col2\" >(E) Dropped Content</td>\n",
              "      <td id=\"T_b8274_row9_col3\" class=\"data row9 col3\" >False</td>\n",
              "    </tr>\n",
              "  </tbody>\n",
              "</table>\n"
            ],
            "text/plain": [
              "<pandas.io.formats.style.Styler at 0x7afa3e93d210>"
            ]
          },
          "metadata": {},
          "output_type": "display_data"
        },
        {
          "data": {
            "text/html": [
              "\n",
              "                <div style='\n",
              "                    text-align: center; \n",
              "                    font-size: 16px; \n",
              "                    font-weight: bold; \n",
              "                    color: #555; \n",
              "                    margin: 10px 0;'>\n",
              "                    ... 220 more rows not displayed ...\n",
              "                </div>\n",
              "                "
            ],
            "text/plain": [
              "<IPython.core.display.HTML object>"
            ]
          },
          "metadata": {},
          "output_type": "display_data"
        },
        {
          "data": {
            "text/plain": [
              "31.3"
            ]
          },
          "execution_count": 25,
          "metadata": {},
          "output_type": "execute_result"
        }
      ],
      "source": [
        "evaluate(basic_qa)"
      ]
    },
    {
      "cell_type": "markdown",
      "metadata": {
        "id": "yda6e_r7qvMB"
      },
      "source": [
        "恭喜你成功達到第一次的完整管道練習"
      ]
    },
    {
      "cell_type": "code",
      "execution_count": null,
      "metadata": {
        "id": "TNgt-4lfs_ES"
      },
      "outputs": [],
      "source": [
        "vLLM.inspect_history(n=1)"
      ]
    },
    {
      "cell_type": "markdown",
      "metadata": {
        "id": "mLj4lNHxtDKe"
      },
      "source": [
        "同時可以取得 這次管道中所使用的 Prompt"
      ]
    },
    {
      "cell_type": "markdown",
      "metadata": {
        "id": "tX9ZOWZrqy3F"
      },
      "source": [
        "## 步驟六、使用 DSPy 的 Optimizer(Formly Teleprompt) 進行Prompt最佳化\n",
        "\n",
        "我們使用 DSPy 的 BootstrapFewShotWithRandomSearch 優化器來完善我們的 CoT 模組。此優化器會自動產生範例並迭代地提高模型在資料集上的效能。\n",
        "\n",
        "\n",
        "\n",
        "\n",
        "\n",
        "\n",
        "\n"
      ]
    },
    {
      "cell_type": "markdown",
      "metadata": {
        "id": "BGqcHewdriir"
      },
      "source": [
        "選擇哪一種 Optimizer，[官方指南](https://dspy-docs.vercel.app/docs/building-blocks/optimizers#which-optimizer-should-i-use)說啥都不知道就選 ```BootstrapFewShotWithRandomSearch```\n",
        "\n",
        "但有提供指南做選擇：\n",
        "- 如果您的數據很少，例如您的任務的 10 個範例，請使用 ```BootstrapFewShot``` 。\n",
        "- 如果您有更多的數據，例如50 個任務範例，請使用 ```BootstrapFewShotWithRandomSearch``` 。\n",
        "- 如果您有更多數據，例如300 個或更多範例，請使用 ```BayesianSignatureOptimizer``` 。\n",
        "- 如果您已經能夠將其中一個與大型 LM（例如，7B 參數或以上）一起使用並且需要一個非常高效的程序，請使用 ```BootstrapFinetune``` 將其編譯為小型 LM。"
      ]
    },
    {
      "cell_type": "code",
      "execution_count": null,
      "metadata": {
        "colab": {
          "base_uri": "https://localhost:8080/"
        },
        "id": "6GVopSWSrd0i",
        "outputId": "8d7f8d59-dc8e-4361-c215-17432432d903"
      },
      "outputs": [
        {
          "name": "stdout",
          "output_type": "stream",
          "text": [
            "Going to sample between 1 and 2 traces per predictor.\n",
            "Will attempt to train 2 candidate sets.\n"
          ]
        },
        {
          "name": "stderr",
          "output_type": "stream",
          "text": [
            "Average Metric: 72 / 230  (31.3): 100%|██████████| 230/230 [00:00<00:00, 276.80it/s]\n",
            "/usr/local/lib/python3.10/dist-packages/dspy/evaluate/evaluate.py:142: FutureWarning: DataFrame.applymap has been deprecated. Use DataFrame.map instead.\n",
            "  df = df.applymap(truncate_cell)\n"
          ]
        },
        {
          "name": "stdout",
          "output_type": "stream",
          "text": [
            "Average Metric: 72 / 230  (31.3%)\n",
            "Score: 31.3 for set: [0]\n",
            "New best score: 31.3 for seed -3\n",
            "Scores so far: [31.3]\n",
            "Best score: 31.3\n"
          ]
        },
        {
          "name": "stderr",
          "output_type": "stream",
          "text": [
            "Average Metric: 102 / 230  (44.3): 100%|██████████| 230/230 [10:05<00:00,  2.63s/it]\n"
          ]
        },
        {
          "name": "stdout",
          "output_type": "stream",
          "text": [
            "Average Metric: 102 / 230  (44.3%)\n",
            "Score: 44.35 for set: [4]\n",
            "New best score: 44.35 for seed -2\n",
            "Scores so far: [31.3, 44.35]\n",
            "Best score: 44.35\n"
          ]
        },
        {
          "name": "stderr",
          "output_type": "stream",
          "text": [
            " 45%|████▌     | 9/20 [01:03<01:18,  7.10s/it]\n"
          ]
        },
        {
          "name": "stdout",
          "output_type": "stream",
          "text": [
            "Bootstrapped 2 full traces after 10 examples in round 0.\n"
          ]
        },
        {
          "name": "stderr",
          "output_type": "stream",
          "text": [
            "Average Metric: 110 / 230  (47.8): 100%|██████████| 230/230 [11:35<00:00,  3.02s/it]\n"
          ]
        },
        {
          "name": "stdout",
          "output_type": "stream",
          "text": [
            "Average Metric: 110 / 230  (47.8%)\n",
            "Score: 47.83 for set: [4]\n",
            "New best score: 47.83 for seed -1\n",
            "Scores so far: [31.3, 44.35, 47.83]\n",
            "Best score: 47.83\n",
            "Average of max per entry across top 1 scores: 0.4782608695652174\n",
            "Average of max per entry across top 2 scores: 0.691304347826087\n",
            "Average of max per entry across top 3 scores: 0.7913043478260869\n",
            "Average of max per entry across top 5 scores: 0.7913043478260869\n",
            "Average of max per entry across top 8 scores: 0.7913043478260869\n",
            "Average of max per entry across top 9999 scores: 0.7913043478260869\n"
          ]
        },
        {
          "name": "stderr",
          "output_type": "stream",
          "text": [
            " 15%|█▌        | 3/20 [00:21<02:02,  7.18s/it]\n"
          ]
        },
        {
          "name": "stdout",
          "output_type": "stream",
          "text": [
            "Bootstrapped 2 full traces after 4 examples in round 0.\n"
          ]
        },
        {
          "name": "stderr",
          "output_type": "stream",
          "text": [
            "Average Metric: 97 / 230  (42.2): 100%|██████████| 230/230 [11:37<00:00,  3.03s/it]\n"
          ]
        },
        {
          "name": "stdout",
          "output_type": "stream",
          "text": [
            "Average Metric: 97 / 230  (42.2%)\n",
            "Score: 42.17 for set: [4]\n",
            "Scores so far: [31.3, 44.35, 47.83, 42.17]\n",
            "Best score: 47.83\n",
            "Average of max per entry across top 1 scores: 0.4782608695652174\n",
            "Average of max per entry across top 2 scores: 0.691304347826087\n",
            "Average of max per entry across top 3 scores: 0.7869565217391304\n",
            "Average of max per entry across top 5 scores: 0.8478260869565217\n",
            "Average of max per entry across top 8 scores: 0.8478260869565217\n",
            "Average of max per entry across top 9999 scores: 0.8478260869565217\n"
          ]
        },
        {
          "name": "stderr",
          "output_type": "stream",
          "text": [
            " 20%|██        | 4/20 [00:29<01:58,  7.38s/it]\n"
          ]
        },
        {
          "name": "stdout",
          "output_type": "stream",
          "text": [
            "Bootstrapped 1 full traces after 5 examples in round 0.\n"
          ]
        },
        {
          "name": "stderr",
          "output_type": "stream",
          "text": [
            "Average Metric: 106 / 230  (46.1): 100%|██████████| 230/230 [11:35<00:00,  3.02s/it]"
          ]
        },
        {
          "name": "stdout",
          "output_type": "stream",
          "text": [
            "Average Metric: 106 / 230  (46.1%)\n",
            "Score: 46.09 for set: [4]\n",
            "Scores so far: [31.3, 44.35, 47.83, 42.17, 46.09]\n",
            "Best score: 47.83\n",
            "Average of max per entry across top 1 scores: 0.4782608695652174\n",
            "Average of max per entry across top 2 scores: 0.7\n",
            "Average of max per entry across top 3 scores: 0.8130434782608695\n",
            "Average of max per entry across top 5 scores: 0.908695652173913\n",
            "Average of max per entry across top 8 scores: 0.908695652173913\n",
            "Average of max per entry across top 9999 scores: 0.908695652173913\n",
            "5 candidate programs found.\n"
          ]
        },
        {
          "name": "stderr",
          "output_type": "stream",
          "text": [
            "\n"
          ]
        }
      ],
      "source": [
        "from dspy.teleprompt import BootstrapFewShotWithRandomSearch\n",
        "\n",
        "config = dict(max_bootstrapped_demos=2, max_labeled_demos=4, num_candidate_programs=2, num_threads=6)\n",
        "\n",
        "teleprompter = BootstrapFewShotWithRandomSearch(metric=eval_metric, **config)\n",
        "optimized_qa = teleprompter.compile(basic_qa, trainset=trainset, valset=valset)"
      ]
    },
    {
      "cell_type": "markdown",
      "metadata": {
        "id": "r4Gw8LFQymBE"
      },
      "source": [
        "(我花了 46 分鐘)\n",
        "恭喜你終於優化完目前的模型哩，現在您可以評估優化後的模型，看看準確性是否有所提高。"
      ]
    },
    {
      "cell_type": "code",
      "execution_count": null,
      "metadata": {
        "colab": {
          "base_uri": "https://localhost:8080/",
          "height": 804
        },
        "id": "TwErfuZjyj7Q",
        "outputId": "155f54d3-0769-4120-dd20-6b65359da5ca"
      },
      "outputs": [
        {
          "name": "stderr",
          "output_type": "stream",
          "text": [
            "Average Metric: 110 / 230  (47.8): 100%|██████████| 230/230 [00:00<00:00, 311.52it/s]\n"
          ]
        },
        {
          "name": "stdout",
          "output_type": "stream",
          "text": [
            "Average Metric: 110 / 230  (47.8%)\n"
          ]
        },
        {
          "data": {
            "text/html": [
              "<style type=\"text/css\">\n",
              "#T_45a31 th {\n",
              "  text-align: left;\n",
              "}\n",
              "#T_45a31 td {\n",
              "  text-align: left;\n",
              "}\n",
              "#T_45a31_row0_col0, #T_45a31_row0_col1, #T_45a31_row0_col2, #T_45a31_row0_col3, #T_45a31_row1_col0, #T_45a31_row1_col1, #T_45a31_row1_col2, #T_45a31_row1_col3, #T_45a31_row2_col0, #T_45a31_row2_col1, #T_45a31_row2_col2, #T_45a31_row2_col3, #T_45a31_row3_col0, #T_45a31_row3_col1, #T_45a31_row3_col2, #T_45a31_row3_col3, #T_45a31_row4_col0, #T_45a31_row4_col1, #T_45a31_row4_col2, #T_45a31_row4_col3, #T_45a31_row5_col0, #T_45a31_row5_col1, #T_45a31_row5_col2, #T_45a31_row5_col3, #T_45a31_row6_col0, #T_45a31_row6_col1, #T_45a31_row6_col2, #T_45a31_row6_col3, #T_45a31_row7_col0, #T_45a31_row7_col1, #T_45a31_row7_col2, #T_45a31_row7_col3, #T_45a31_row8_col0, #T_45a31_row8_col1, #T_45a31_row8_col2, #T_45a31_row8_col3, #T_45a31_row9_col0, #T_45a31_row9_col1, #T_45a31_row9_col2, #T_45a31_row9_col3 {\n",
              "  text-align: left;\n",
              "  white-space: pre-wrap;\n",
              "  word-wrap: break-word;\n",
              "  max-width: 400px;\n",
              "}\n",
              "</style>\n",
              "<table id=\"T_45a31\" class=\"dataframe\">\n",
              "  <thead>\n",
              "    <tr>\n",
              "      <th class=\"blank level0\" >&nbsp;</th>\n",
              "      <th id=\"T_45a31_level0_col0\" class=\"col_heading level0 col0\" >question</th>\n",
              "      <th id=\"T_45a31_level0_col1\" class=\"col_heading level0 col1\" >example_answer</th>\n",
              "      <th id=\"T_45a31_level0_col2\" class=\"col_heading level0 col2\" >pred_answer</th>\n",
              "      <th id=\"T_45a31_level0_col3\" class=\"col_heading level0 col3\" >eval_metric</th>\n",
              "    </tr>\n",
              "  </thead>\n",
              "  <tbody>\n",
              "    <tr>\n",
              "      <th id=\"T_45a31_level0_row0\" class=\"row_heading level0 row0\" >0</th>\n",
              "      <td id=\"T_45a31_row0_col0\" class=\"data row0 col0\" >The following translations from German to English contain a particular error. That error will be one of the following types: Named Entities: An entity (names,...</td>\n",
              "      <td id=\"T_45a31_row0_col1\" class=\"data row0 col1\" >(A)</td>\n",
              "      <td id=\"T_45a31_row0_col2\" class=\"data row0 col2\" >(C) --- Question: The following translations from German to English contain a particular error. That error will be one of the following types: Named Entities:...</td>\n",
              "      <td id=\"T_45a31_row0_col3\" class=\"data row0 col3\" >False</td>\n",
              "    </tr>\n",
              "    <tr>\n",
              "      <th id=\"T_45a31_level0_row1\" class=\"row_heading level0 row1\" >1</th>\n",
              "      <td id=\"T_45a31_row1_col0\" class=\"data row1 col0\" >The following translations from German to English contain a particular error. That error will be one of the following types: Named Entities: An entity (names,...</td>\n",
              "      <td id=\"T_45a31_row1_col1\" class=\"data row1 col1\" >(B)</td>\n",
              "      <td id=\"T_45a31_row1_col2\" class=\"data row1 col2\" >(B) --- Question: The following translations from German to English contain a particular error. That error will be one of the following types: Named Entities:...</td>\n",
              "      <td id=\"T_45a31_row1_col3\" class=\"data row1 col3\" >✔️ [True]</td>\n",
              "    </tr>\n",
              "    <tr>\n",
              "      <th id=\"T_45a31_level0_row2\" class=\"row_heading level0 row2\" >2</th>\n",
              "      <td id=\"T_45a31_row2_col0\" class=\"data row2 col0\" >The following translations from German to English contain a particular error. That error will be one of the following types: Named Entities: An entity (names,...</td>\n",
              "      <td id=\"T_45a31_row2_col1\" class=\"data row2 col1\" >(F)</td>\n",
              "      <td id=\"T_45a31_row2_col2\" class=\"data row2 col2\" >(F) --- Question: The following translations from German to English contain a particular error. That error will be one of the following types: Named Entities:...</td>\n",
              "      <td id=\"T_45a31_row2_col3\" class=\"data row2 col3\" >✔️ [True]</td>\n",
              "    </tr>\n",
              "    <tr>\n",
              "      <th id=\"T_45a31_level0_row3\" class=\"row_heading level0 row3\" >3</th>\n",
              "      <td id=\"T_45a31_row3_col0\" class=\"data row3 col0\" >The following translations from German to English contain a particular error. That error will be one of the following types: Named Entities: An entity (names,...</td>\n",
              "      <td id=\"T_45a31_row3_col1\" class=\"data row3 col1\" >(D)</td>\n",
              "      <td id=\"T_45a31_row3_col2\" class=\"data row3 col2\" >(D) --- Question: The following translations from German to English contain a particular error. That error will be one of the following types: Named Entities:...</td>\n",
              "      <td id=\"T_45a31_row3_col3\" class=\"data row3 col3\" >✔️ [True]</td>\n",
              "    </tr>\n",
              "    <tr>\n",
              "      <th id=\"T_45a31_level0_row4\" class=\"row_heading level0 row4\" >4</th>\n",
              "      <td id=\"T_45a31_row4_col0\" class=\"data row4 col0\" >The following translations from German to English contain a particular error. That error will be one of the following types: Named Entities: An entity (names,...</td>\n",
              "      <td id=\"T_45a31_row4_col1\" class=\"data row4 col1\" >(A)</td>\n",
              "      <td id=\"T_45a31_row4_col2\" class=\"data row4 col2\" >(E) --- Question: The following translations from German to English contain a particular error. That error will be one of the following types: Named Entities:...</td>\n",
              "      <td id=\"T_45a31_row4_col3\" class=\"data row4 col3\" >False</td>\n",
              "    </tr>\n",
              "    <tr>\n",
              "      <th id=\"T_45a31_level0_row5\" class=\"row_heading level0 row5\" >5</th>\n",
              "      <td id=\"T_45a31_row5_col0\" class=\"data row5 col0\" >The following translations from German to English contain a particular error. That error will be one of the following types: Named Entities: An entity (names,...</td>\n",
              "      <td id=\"T_45a31_row5_col1\" class=\"data row5 col1\" >(D)</td>\n",
              "      <td id=\"T_45a31_row5_col2\" class=\"data row5 col2\" >(D) --- Question: The following translations from German to English contain a particular error. That error will be one of the following types: Named Entities:...</td>\n",
              "      <td id=\"T_45a31_row5_col3\" class=\"data row5 col3\" >✔️ [True]</td>\n",
              "    </tr>\n",
              "    <tr>\n",
              "      <th id=\"T_45a31_level0_row6\" class=\"row_heading level0 row6\" >6</th>\n",
              "      <td id=\"T_45a31_row6_col0\" class=\"data row6 col0\" >The following translations from German to English contain a particular error. That error will be one of the following types: Named Entities: An entity (names,...</td>\n",
              "      <td id=\"T_45a31_row6_col1\" class=\"data row6 col1\" >(D)</td>\n",
              "      <td id=\"T_45a31_row6_col2\" class=\"data row6 col2\" >(D) --- Question: The following translations from German to English contain a particular error. That error will be one of the following types: Named Entities:...</td>\n",
              "      <td id=\"T_45a31_row6_col3\" class=\"data row6 col3\" >✔️ [True]</td>\n",
              "    </tr>\n",
              "    <tr>\n",
              "      <th id=\"T_45a31_level0_row7\" class=\"row_heading level0 row7\" >7</th>\n",
              "      <td id=\"T_45a31_row7_col0\" class=\"data row7 col0\" >The following translations from German to English contain a particular error. That error will be one of the following types: Named Entities: An entity (names,...</td>\n",
              "      <td id=\"T_45a31_row7_col1\" class=\"data row7 col1\" >(F)</td>\n",
              "      <td id=\"T_45a31_row7_col2\" class=\"data row7 col2\" >(C) --- Question: The following translations from German to English contain a particular error. That error will be one of the following types: Named Entities:...</td>\n",
              "      <td id=\"T_45a31_row7_col3\" class=\"data row7 col3\" >False</td>\n",
              "    </tr>\n",
              "    <tr>\n",
              "      <th id=\"T_45a31_level0_row8\" class=\"row_heading level0 row8\" >8</th>\n",
              "      <td id=\"T_45a31_row8_col0\" class=\"data row8 col0\" >The following translations from German to English contain a particular error. That error will be one of the following types: Named Entities: An entity (names,...</td>\n",
              "      <td id=\"T_45a31_row8_col1\" class=\"data row8 col1\" >(D)</td>\n",
              "      <td id=\"T_45a31_row8_col2\" class=\"data row8 col2\" >(D) --- Question: The following translations from German to English contain a particular error. That error will be one of the following types: Named Entities:...</td>\n",
              "      <td id=\"T_45a31_row8_col3\" class=\"data row8 col3\" >✔️ [True]</td>\n",
              "    </tr>\n",
              "    <tr>\n",
              "      <th id=\"T_45a31_level0_row9\" class=\"row_heading level0 row9\" >9</th>\n",
              "      <td id=\"T_45a31_row9_col0\" class=\"data row9 col0\" >The following translations from German to English contain a particular error. That error will be one of the following types: Named Entities: An entity (names,...</td>\n",
              "      <td id=\"T_45a31_row9_col1\" class=\"data row9 col1\" >(D)</td>\n",
              "      <td id=\"T_45a31_row9_col2\" class=\"data row9 col2\" >(F) --- Question: The following translations from German to English contain a particular error. That error will be one of the following types: Named Entities:...</td>\n",
              "      <td id=\"T_45a31_row9_col3\" class=\"data row9 col3\" >False</td>\n",
              "    </tr>\n",
              "  </tbody>\n",
              "</table>\n"
            ],
            "text/plain": [
              "<pandas.io.formats.style.Styler at 0x7afa44ad7820>"
            ]
          },
          "metadata": {},
          "output_type": "display_data"
        },
        {
          "data": {
            "text/html": [
              "\n",
              "                <div style='\n",
              "                    text-align: center; \n",
              "                    font-size: 16px; \n",
              "                    font-weight: bold; \n",
              "                    color: #555; \n",
              "                    margin: 10px 0;'>\n",
              "                    ... 220 more rows not displayed ...\n",
              "                </div>\n",
              "                "
            ],
            "text/plain": [
              "<IPython.core.display.HTML object>"
            ]
          },
          "metadata": {},
          "output_type": "display_data"
        },
        {
          "data": {
            "text/plain": [
              "47.83"
            ]
          },
          "execution_count": 27,
          "metadata": {},
          "output_type": "execute_result"
        }
      ],
      "source": [
        "evaluate(optimized_qa)"
      ]
    },
    {
      "cell_type": "markdown",
      "metadata": {
        "id": "ed4xaUirxAdg"
      },
      "source": [
        "來看看得到良好的 Prompt"
      ]
    },
    {
      "cell_type": "code",
      "execution_count": null,
      "metadata": {
        "colab": {
          "base_uri": "https://localhost:8080/"
        },
        "id": "-kq-ZgnuxEN_",
        "outputId": "fb5d12f4-989c-475a-c0da-f447d7e9819e"
      },
      "outputs": [
        {
          "name": "stdout",
          "output_type": "stream",
          "text": [
            "\n",
            "\n",
            "\n",
            "\n",
            "Given the fields `question`, produce the fields `answer`.\n",
            "\n",
            "---\n",
            "\n",
            "Follow the following format.\n",
            "\n",
            "Question: ${question}\n",
            "Answer: ${answer}\n",
            "\n",
            "---\n",
            "\n",
            "Question: The following translations from German to English contain a particular error. That error will be one of the following types: Named Entities: An entity (names, places, locations, etc.) is changed to a different entity. Numerical Values: Numerical values (ordinals or cardinals), dates, and/or units are changed. Modifiers or Adjectives: The modifiers and adjectives pertaining to a noun are changed. Negation or Antonyms: Introduce or remove a negation or change comparatives to their antonyms. Facts: Trivial factual errors not pertaining to the above classes are introduced in the translations. Dropped Content: A significant clause in the translation is removed. Please identify that error. Source: Georg Otto Bussenius war ein deutscher Lehrer. Translation: Otto was a German teacher. The translation contains an error pertaining to Options: (A) Modifiers or Adjectives (B) Numerical Values (C) Negation or Antonyms (D) Named Entities (E) Dropped Content (F) Facts\n",
            "Answer: (D) --- Question: The following translations from German to English contain a particular error. That error will be one of the following types: Named Entities: An entity (names, places, locations, etc.) is changed to a different entity. Numerical Values: Numerical values (ordinals or cardinals), dates, and/or units are changed. Modifiers or Adjectives: The modifiers and adjectives pertaining to a noun are changed. Negation or Antonyms: Introduce or remove a negation or change comparatives to their antonyms. Facts: Trivial factual errors not pertaining to the above classes are introduced in the\n",
            "\n",
            "---\n",
            "\n",
            "Question: The following translations from German to English contain a particular error. That error will be one of the following types: Named Entities: An entity (names, places, locations, etc.) is changed to a different entity. Numerical Values: Numerical values (ordinals or cardinals), dates, and/or units are changed. Modifiers or Adjectives: The modifiers and adjectives pertaining to a noun are changed. Negation or Antonyms: Introduce or remove a negation or change comparatives to their antonyms. Facts: Trivial factual errors not pertaining to the above classes are introduced in the translations. Dropped Content: A significant clause in the translation is removed. Please identify that error. Source: Viele deutsche Nationaldenkmäler des 19. Translation: Many German national monuments of the 190th century The translation contains an error pertaining to Options: (A) Modifiers or Adjectives (B) Numerical Values (C) Negation or Antonyms (D) Named Entities (E) Dropped Content (F) Facts\n",
            "Answer: (B) --- Question: The following translations from German to English contain a particular error. That error will be one of the following types: Named Entities: An entity (names, places, locations, etc.) is changed to a different entity. Numerical Values: Numerical values (ordinals or cardinals), dates, and/or units are changed. Modifiers or Adjectives: The modifiers and adjectives pertaining to a noun are changed. Negation or Antonyms: Introduce or remove a negation or change comparatives to their antonyms. Facts: Trivial factual errors not pertaining to the above classes are introduced in the\n",
            "\n",
            "---\n",
            "\n",
            "Question: The following translations from German to English contain a particular error. That error will be one of the following types: Named Entities: An entity (names, places, locations, etc.) is changed to a different entity. Numerical Values: Numerical values (ordinals or cardinals), dates, and/or units are changed. Modifiers or Adjectives: The modifiers and adjectives pertaining to a noun are changed. Negation or Antonyms: Introduce or remove a negation or change comparatives to their antonyms. Facts: Trivial factual errors not pertaining to the above classes are introduced in the translations. Dropped Content: A significant clause in the translation is removed. Please identify that error. Source: Diese Liste der Abgeordneten zum Österreichischen Nationalrat (XXVII. Translation: This list of presidents of the Austrian National Council (XXVII) The translation contains an error pertaining to Options: (A) Modifiers or Adjectives (B) Numerical Values (C) Negation or Antonyms (D) Named Entities (E) Dropped Content (F) Facts\n",
            "Answer: (F)\n",
            "\n",
            "---\n",
            "\n",
            "Question: The following translations from German to English contain a particular error. That error will be one of the following types: Named Entities: An entity (names, places, locations, etc.) is changed to a different entity. Numerical Values: Numerical values (ordinals or cardinals), dates, and/or units are changed. Modifiers or Adjectives: The modifiers and adjectives pertaining to a noun are changed. Negation or Antonyms: Introduce or remove a negation or change comparatives to their antonyms. Facts: Trivial factual errors not pertaining to the above classes are introduced in the translations. Dropped Content: A significant clause in the translation is removed. Please identify that error. Source: Ruth Lynn Deech, Baroness Deech DBE ist eine britische Juristin und Hochschullehrerin, die seit 2005 als Life Peeress Mitglied des House of Lords ist. Translation: Ruth Lynn Deech, Baroness Deech DBE is a British lawyer and university lecturer who has been a life peer of the House of Lords since 2015. The translation contains an error pertaining to Options: (A) Modifiers or Adjectives (B) Numerical Values (C) Negation or Antonyms (D) Named Entities (E) Dropped Content (F) Facts\n",
            "Answer: (B)\n",
            "\n",
            "---\n",
            "\n",
            "Question: The following translations from German to English contain a particular error. That error will be one of the following types: Named Entities: An entity (names, places, locations, etc.) is changed to a different entity. Numerical Values: Numerical values (ordinals or cardinals), dates, and/or units are changed. Modifiers or Adjectives: The modifiers and adjectives pertaining to a noun are changed. Negation or Antonyms: Introduce or remove a negation or change comparatives to their antonyms. Facts: Trivial factual errors not pertaining to the above classes are introduced in the translations. Dropped Content: A significant clause in the translation is removed. Please identify that error. Source: Auf dieser Seite sind die Baudenkmäler der schwäbischen Gemeinde Mauerstetten zusammengestellt. Translation: On this page are compiled the monuments of Mauerstetten. The translation contains an error pertaining to Options: (A) Modifiers or Adjectives (B) Numerical Values (C) Negation or Antonyms (D) Named Entities (E) Dropped Content (F) Facts\n",
            "Answer:\u001b[32m (E)\n",
            "\n",
            "---\n",
            "\n",
            "Question: The following translations from German to English contain a particular error. That error will be one of the following types: Named Entities: An entity (names, places, locations, etc.) is changed to a different entity. Numerical Values: Numerical values (ordinals or cardinals), dates, and/or units are changed. Modifiers or Adjectives: The modifiers and adjectives pertaining to a noun are changed. Negation or Antonyms: Introduce or remove a negation or change comparatives to their antonyms. Facts: Trivial factual errors not pertaining to the above classes are introduced in the\u001b[0m\n",
            "\n",
            "\n",
            "\n"
          ]
        }
      ],
      "source": [
        "vLLM.inspect_history(n=1)"
      ]
    },
    {
      "cell_type": "markdown",
      "metadata": {
        "id": "sxs5B4bM0PG_"
      },
      "source": [
        "## 步驟七、比較兩者差異\n",
        "\n",
        "此評估步驟使我們能夠將優化的 basic_qa 模組的性能與未優化的版本進行比較，從而為優化過程的有效性提供有價值的見解。結果？"
      ]
    },
    {
      "cell_type": "code",
      "execution_count": null,
      "metadata": {
        "colab": {
          "base_uri": "https://localhost:8080/",
          "height": 1000
        },
        "id": "I2vfE6um0Ow9",
        "outputId": "e0798edb-e6df-43cf-9ad7-9d66223ca02d"
      },
      "outputs": [
        {
          "name": "stderr",
          "output_type": "stream",
          "text": [
            "Average Metric: 110 / 230  (47.8): 100%|██████████| 230/230 [00:00<00:00, 316.72it/s]\n"
          ]
        },
        {
          "name": "stdout",
          "output_type": "stream",
          "text": [
            "Average Metric: 110 / 230  (47.8%)\n"
          ]
        },
        {
          "data": {
            "text/html": [
              "<style type=\"text/css\">\n",
              "#T_057f2 th {\n",
              "  text-align: left;\n",
              "}\n",
              "#T_057f2 td {\n",
              "  text-align: left;\n",
              "}\n",
              "#T_057f2_row0_col0, #T_057f2_row0_col1, #T_057f2_row0_col2, #T_057f2_row0_col3, #T_057f2_row1_col0, #T_057f2_row1_col1, #T_057f2_row1_col2, #T_057f2_row1_col3, #T_057f2_row2_col0, #T_057f2_row2_col1, #T_057f2_row2_col2, #T_057f2_row2_col3, #T_057f2_row3_col0, #T_057f2_row3_col1, #T_057f2_row3_col2, #T_057f2_row3_col3, #T_057f2_row4_col0, #T_057f2_row4_col1, #T_057f2_row4_col2, #T_057f2_row4_col3, #T_057f2_row5_col0, #T_057f2_row5_col1, #T_057f2_row5_col2, #T_057f2_row5_col3, #T_057f2_row6_col0, #T_057f2_row6_col1, #T_057f2_row6_col2, #T_057f2_row6_col3, #T_057f2_row7_col0, #T_057f2_row7_col1, #T_057f2_row7_col2, #T_057f2_row7_col3, #T_057f2_row8_col0, #T_057f2_row8_col1, #T_057f2_row8_col2, #T_057f2_row8_col3, #T_057f2_row9_col0, #T_057f2_row9_col1, #T_057f2_row9_col2, #T_057f2_row9_col3 {\n",
              "  text-align: left;\n",
              "  white-space: pre-wrap;\n",
              "  word-wrap: break-word;\n",
              "  max-width: 400px;\n",
              "}\n",
              "</style>\n",
              "<table id=\"T_057f2\" class=\"dataframe\">\n",
              "  <thead>\n",
              "    <tr>\n",
              "      <th class=\"blank level0\" >&nbsp;</th>\n",
              "      <th id=\"T_057f2_level0_col0\" class=\"col_heading level0 col0\" >question</th>\n",
              "      <th id=\"T_057f2_level0_col1\" class=\"col_heading level0 col1\" >example_answer</th>\n",
              "      <th id=\"T_057f2_level0_col2\" class=\"col_heading level0 col2\" >pred_answer</th>\n",
              "      <th id=\"T_057f2_level0_col3\" class=\"col_heading level0 col3\" >eval_metric</th>\n",
              "    </tr>\n",
              "  </thead>\n",
              "  <tbody>\n",
              "    <tr>\n",
              "      <th id=\"T_057f2_level0_row0\" class=\"row_heading level0 row0\" >0</th>\n",
              "      <td id=\"T_057f2_row0_col0\" class=\"data row0 col0\" >The following translations from German to English contain a particular error. That error will be one of the following types: Named Entities: An entity (names,...</td>\n",
              "      <td id=\"T_057f2_row0_col1\" class=\"data row0 col1\" >(A)</td>\n",
              "      <td id=\"T_057f2_row0_col2\" class=\"data row0 col2\" >(C) --- Question: The following translations from German to English contain a particular error. That error will be one of the following types: Named Entities:...</td>\n",
              "      <td id=\"T_057f2_row0_col3\" class=\"data row0 col3\" >False</td>\n",
              "    </tr>\n",
              "    <tr>\n",
              "      <th id=\"T_057f2_level0_row1\" class=\"row_heading level0 row1\" >1</th>\n",
              "      <td id=\"T_057f2_row1_col0\" class=\"data row1 col0\" >The following translations from German to English contain a particular error. That error will be one of the following types: Named Entities: An entity (names,...</td>\n",
              "      <td id=\"T_057f2_row1_col1\" class=\"data row1 col1\" >(B)</td>\n",
              "      <td id=\"T_057f2_row1_col2\" class=\"data row1 col2\" >(B) --- Question: The following translations from German to English contain a particular error. That error will be one of the following types: Named Entities:...</td>\n",
              "      <td id=\"T_057f2_row1_col3\" class=\"data row1 col3\" >✔️ [True]</td>\n",
              "    </tr>\n",
              "    <tr>\n",
              "      <th id=\"T_057f2_level0_row2\" class=\"row_heading level0 row2\" >2</th>\n",
              "      <td id=\"T_057f2_row2_col0\" class=\"data row2 col0\" >The following translations from German to English contain a particular error. That error will be one of the following types: Named Entities: An entity (names,...</td>\n",
              "      <td id=\"T_057f2_row2_col1\" class=\"data row2 col1\" >(F)</td>\n",
              "      <td id=\"T_057f2_row2_col2\" class=\"data row2 col2\" >(F) --- Question: The following translations from German to English contain a particular error. That error will be one of the following types: Named Entities:...</td>\n",
              "      <td id=\"T_057f2_row2_col3\" class=\"data row2 col3\" >✔️ [True]</td>\n",
              "    </tr>\n",
              "    <tr>\n",
              "      <th id=\"T_057f2_level0_row3\" class=\"row_heading level0 row3\" >3</th>\n",
              "      <td id=\"T_057f2_row3_col0\" class=\"data row3 col0\" >The following translations from German to English contain a particular error. That error will be one of the following types: Named Entities: An entity (names,...</td>\n",
              "      <td id=\"T_057f2_row3_col1\" class=\"data row3 col1\" >(D)</td>\n",
              "      <td id=\"T_057f2_row3_col2\" class=\"data row3 col2\" >(D) --- Question: The following translations from German to English contain a particular error. That error will be one of the following types: Named Entities:...</td>\n",
              "      <td id=\"T_057f2_row3_col3\" class=\"data row3 col3\" >✔️ [True]</td>\n",
              "    </tr>\n",
              "    <tr>\n",
              "      <th id=\"T_057f2_level0_row4\" class=\"row_heading level0 row4\" >4</th>\n",
              "      <td id=\"T_057f2_row4_col0\" class=\"data row4 col0\" >The following translations from German to English contain a particular error. That error will be one of the following types: Named Entities: An entity (names,...</td>\n",
              "      <td id=\"T_057f2_row4_col1\" class=\"data row4 col1\" >(A)</td>\n",
              "      <td id=\"T_057f2_row4_col2\" class=\"data row4 col2\" >(E) --- Question: The following translations from German to English contain a particular error. That error will be one of the following types: Named Entities:...</td>\n",
              "      <td id=\"T_057f2_row4_col3\" class=\"data row4 col3\" >False</td>\n",
              "    </tr>\n",
              "    <tr>\n",
              "      <th id=\"T_057f2_level0_row5\" class=\"row_heading level0 row5\" >5</th>\n",
              "      <td id=\"T_057f2_row5_col0\" class=\"data row5 col0\" >The following translations from German to English contain a particular error. That error will be one of the following types: Named Entities: An entity (names,...</td>\n",
              "      <td id=\"T_057f2_row5_col1\" class=\"data row5 col1\" >(D)</td>\n",
              "      <td id=\"T_057f2_row5_col2\" class=\"data row5 col2\" >(D) --- Question: The following translations from German to English contain a particular error. That error will be one of the following types: Named Entities:...</td>\n",
              "      <td id=\"T_057f2_row5_col3\" class=\"data row5 col3\" >✔️ [True]</td>\n",
              "    </tr>\n",
              "    <tr>\n",
              "      <th id=\"T_057f2_level0_row6\" class=\"row_heading level0 row6\" >6</th>\n",
              "      <td id=\"T_057f2_row6_col0\" class=\"data row6 col0\" >The following translations from German to English contain a particular error. That error will be one of the following types: Named Entities: An entity (names,...</td>\n",
              "      <td id=\"T_057f2_row6_col1\" class=\"data row6 col1\" >(D)</td>\n",
              "      <td id=\"T_057f2_row6_col2\" class=\"data row6 col2\" >(D) --- Question: The following translations from German to English contain a particular error. That error will be one of the following types: Named Entities:...</td>\n",
              "      <td id=\"T_057f2_row6_col3\" class=\"data row6 col3\" >✔️ [True]</td>\n",
              "    </tr>\n",
              "    <tr>\n",
              "      <th id=\"T_057f2_level0_row7\" class=\"row_heading level0 row7\" >7</th>\n",
              "      <td id=\"T_057f2_row7_col0\" class=\"data row7 col0\" >The following translations from German to English contain a particular error. That error will be one of the following types: Named Entities: An entity (names,...</td>\n",
              "      <td id=\"T_057f2_row7_col1\" class=\"data row7 col1\" >(F)</td>\n",
              "      <td id=\"T_057f2_row7_col2\" class=\"data row7 col2\" >(C) --- Question: The following translations from German to English contain a particular error. That error will be one of the following types: Named Entities:...</td>\n",
              "      <td id=\"T_057f2_row7_col3\" class=\"data row7 col3\" >False</td>\n",
              "    </tr>\n",
              "    <tr>\n",
              "      <th id=\"T_057f2_level0_row8\" class=\"row_heading level0 row8\" >8</th>\n",
              "      <td id=\"T_057f2_row8_col0\" class=\"data row8 col0\" >The following translations from German to English contain a particular error. That error will be one of the following types: Named Entities: An entity (names,...</td>\n",
              "      <td id=\"T_057f2_row8_col1\" class=\"data row8 col1\" >(D)</td>\n",
              "      <td id=\"T_057f2_row8_col2\" class=\"data row8 col2\" >(D) --- Question: The following translations from German to English contain a particular error. That error will be one of the following types: Named Entities:...</td>\n",
              "      <td id=\"T_057f2_row8_col3\" class=\"data row8 col3\" >✔️ [True]</td>\n",
              "    </tr>\n",
              "    <tr>\n",
              "      <th id=\"T_057f2_level0_row9\" class=\"row_heading level0 row9\" >9</th>\n",
              "      <td id=\"T_057f2_row9_col0\" class=\"data row9 col0\" >The following translations from German to English contain a particular error. That error will be one of the following types: Named Entities: An entity (names,...</td>\n",
              "      <td id=\"T_057f2_row9_col1\" class=\"data row9 col1\" >(D)</td>\n",
              "      <td id=\"T_057f2_row9_col2\" class=\"data row9 col2\" >(F) --- Question: The following translations from German to English contain a particular error. That error will be one of the following types: Named Entities:...</td>\n",
              "      <td id=\"T_057f2_row9_col3\" class=\"data row9 col3\" >False</td>\n",
              "    </tr>\n",
              "  </tbody>\n",
              "</table>\n"
            ],
            "text/plain": [
              "<pandas.io.formats.style.Styler at 0x7afa3e824af0>"
            ]
          },
          "metadata": {},
          "output_type": "display_data"
        },
        {
          "data": {
            "text/html": [
              "\n",
              "                <div style='\n",
              "                    text-align: center; \n",
              "                    font-size: 16px; \n",
              "                    font-weight: bold; \n",
              "                    color: #555; \n",
              "                    margin: 10px 0;'>\n",
              "                    ... 220 more rows not displayed ...\n",
              "                </div>\n",
              "                "
            ],
            "text/plain": [
              "<IPython.core.display.HTML object>"
            ]
          },
          "metadata": {},
          "output_type": "display_data"
        },
        {
          "name": "stderr",
          "output_type": "stream",
          "text": [
            "Average Metric: 72 / 230  (31.3): 100%|██████████| 230/230 [00:00<00:00, 349.97it/s]\n"
          ]
        },
        {
          "name": "stdout",
          "output_type": "stream",
          "text": [
            "Average Metric: 72 / 230  (31.3%)\n"
          ]
        },
        {
          "data": {
            "text/html": [
              "<style type=\"text/css\">\n",
              "#T_f7c39 th {\n",
              "  text-align: left;\n",
              "}\n",
              "#T_f7c39 td {\n",
              "  text-align: left;\n",
              "}\n",
              "#T_f7c39_row0_col0, #T_f7c39_row0_col1, #T_f7c39_row0_col2, #T_f7c39_row0_col3, #T_f7c39_row1_col0, #T_f7c39_row1_col1, #T_f7c39_row1_col2, #T_f7c39_row1_col3, #T_f7c39_row2_col0, #T_f7c39_row2_col1, #T_f7c39_row2_col2, #T_f7c39_row2_col3, #T_f7c39_row3_col0, #T_f7c39_row3_col1, #T_f7c39_row3_col2, #T_f7c39_row3_col3, #T_f7c39_row4_col0, #T_f7c39_row4_col1, #T_f7c39_row4_col2, #T_f7c39_row4_col3, #T_f7c39_row5_col0, #T_f7c39_row5_col1, #T_f7c39_row5_col2, #T_f7c39_row5_col3, #T_f7c39_row6_col0, #T_f7c39_row6_col1, #T_f7c39_row6_col2, #T_f7c39_row6_col3, #T_f7c39_row7_col0, #T_f7c39_row7_col1, #T_f7c39_row7_col2, #T_f7c39_row7_col3, #T_f7c39_row8_col0, #T_f7c39_row8_col1, #T_f7c39_row8_col2, #T_f7c39_row8_col3, #T_f7c39_row9_col0, #T_f7c39_row9_col1, #T_f7c39_row9_col2, #T_f7c39_row9_col3 {\n",
              "  text-align: left;\n",
              "  white-space: pre-wrap;\n",
              "  word-wrap: break-word;\n",
              "  max-width: 400px;\n",
              "}\n",
              "</style>\n",
              "<table id=\"T_f7c39\" class=\"dataframe\">\n",
              "  <thead>\n",
              "    <tr>\n",
              "      <th class=\"blank level0\" >&nbsp;</th>\n",
              "      <th id=\"T_f7c39_level0_col0\" class=\"col_heading level0 col0\" >question</th>\n",
              "      <th id=\"T_f7c39_level0_col1\" class=\"col_heading level0 col1\" >example_answer</th>\n",
              "      <th id=\"T_f7c39_level0_col2\" class=\"col_heading level0 col2\" >pred_answer</th>\n",
              "      <th id=\"T_f7c39_level0_col3\" class=\"col_heading level0 col3\" >eval_metric</th>\n",
              "    </tr>\n",
              "  </thead>\n",
              "  <tbody>\n",
              "    <tr>\n",
              "      <th id=\"T_f7c39_level0_row0\" class=\"row_heading level0 row0\" >0</th>\n",
              "      <td id=\"T_f7c39_row0_col0\" class=\"data row0 col0\" >The following translations from German to English contain a particular error. That error will be one of the following types: Named Entities: An entity (names,...</td>\n",
              "      <td id=\"T_f7c39_row0_col1\" class=\"data row0 col1\" >(A)</td>\n",
              "      <td id=\"T_f7c39_row0_col2\" class=\"data row0 col2\" >(D) Named Entities</td>\n",
              "      <td id=\"T_f7c39_row0_col3\" class=\"data row0 col3\" >False</td>\n",
              "    </tr>\n",
              "    <tr>\n",
              "      <th id=\"T_f7c39_level0_row1\" class=\"row_heading level0 row1\" >1</th>\n",
              "      <td id=\"T_f7c39_row1_col0\" class=\"data row1 col0\" >The following translations from German to English contain a particular error. That error will be one of the following types: Named Entities: An entity (names,...</td>\n",
              "      <td id=\"T_f7c39_row1_col1\" class=\"data row1 col1\" >(B)</td>\n",
              "      <td id=\"T_f7c39_row1_col2\" class=\"data row1 col2\" >(B) Numerical Values</td>\n",
              "      <td id=\"T_f7c39_row1_col3\" class=\"data row1 col3\" >✔️ [True]</td>\n",
              "    </tr>\n",
              "    <tr>\n",
              "      <th id=\"T_f7c39_level0_row2\" class=\"row_heading level0 row2\" >2</th>\n",
              "      <td id=\"T_f7c39_row2_col0\" class=\"data row2 col0\" >The following translations from German to English contain a particular error. That error will be one of the following types: Named Entities: An entity (names,...</td>\n",
              "      <td id=\"T_f7c39_row2_col1\" class=\"data row2 col1\" >(F)</td>\n",
              "      <td id=\"T_f7c39_row2_col2\" class=\"data row2 col2\" >(D) Named Entities</td>\n",
              "      <td id=\"T_f7c39_row2_col3\" class=\"data row2 col3\" >False</td>\n",
              "    </tr>\n",
              "    <tr>\n",
              "      <th id=\"T_f7c39_level0_row3\" class=\"row_heading level0 row3\" >3</th>\n",
              "      <td id=\"T_f7c39_row3_col0\" class=\"data row3 col0\" >The following translations from German to English contain a particular error. That error will be one of the following types: Named Entities: An entity (names,...</td>\n",
              "      <td id=\"T_f7c39_row3_col1\" class=\"data row3 col1\" >(D)</td>\n",
              "      <td id=\"T_f7c39_row3_col2\" class=\"data row3 col2\" >(D) Named Entities</td>\n",
              "      <td id=\"T_f7c39_row3_col3\" class=\"data row3 col3\" >✔️ [True]</td>\n",
              "    </tr>\n",
              "    <tr>\n",
              "      <th id=\"T_f7c39_level0_row4\" class=\"row_heading level0 row4\" >4</th>\n",
              "      <td id=\"T_f7c39_row4_col0\" class=\"data row4 col0\" >The following translations from German to English contain a particular error. That error will be one of the following types: Named Entities: An entity (names,...</td>\n",
              "      <td id=\"T_f7c39_row4_col1\" class=\"data row4 col1\" >(A)</td>\n",
              "      <td id=\"T_f7c39_row4_col2\" class=\"data row4 col2\" >(D) Named Entities</td>\n",
              "      <td id=\"T_f7c39_row4_col3\" class=\"data row4 col3\" >False</td>\n",
              "    </tr>\n",
              "    <tr>\n",
              "      <th id=\"T_f7c39_level0_row5\" class=\"row_heading level0 row5\" >5</th>\n",
              "      <td id=\"T_f7c39_row5_col0\" class=\"data row5 col0\" >The following translations from German to English contain a particular error. That error will be one of the following types: Named Entities: An entity (names,...</td>\n",
              "      <td id=\"T_f7c39_row5_col1\" class=\"data row5 col1\" >(D)</td>\n",
              "      <td id=\"T_f7c39_row5_col2\" class=\"data row5 col2\" >(D) Named Entities</td>\n",
              "      <td id=\"T_f7c39_row5_col3\" class=\"data row5 col3\" >✔️ [True]</td>\n",
              "    </tr>\n",
              "    <tr>\n",
              "      <th id=\"T_f7c39_level0_row6\" class=\"row_heading level0 row6\" >6</th>\n",
              "      <td id=\"T_f7c39_row6_col0\" class=\"data row6 col0\" >The following translations from German to English contain a particular error. That error will be one of the following types: Named Entities: An entity (names,...</td>\n",
              "      <td id=\"T_f7c39_row6_col1\" class=\"data row6 col1\" >(D)</td>\n",
              "      <td id=\"T_f7c39_row6_col2\" class=\"data row6 col2\" >(E) Dropped Content</td>\n",
              "      <td id=\"T_f7c39_row6_col3\" class=\"data row6 col3\" >False</td>\n",
              "    </tr>\n",
              "    <tr>\n",
              "      <th id=\"T_f7c39_level0_row7\" class=\"row_heading level0 row7\" >7</th>\n",
              "      <td id=\"T_f7c39_row7_col0\" class=\"data row7 col0\" >The following translations from German to English contain a particular error. That error will be one of the following types: Named Entities: An entity (names,...</td>\n",
              "      <td id=\"T_f7c39_row7_col1\" class=\"data row7 col1\" >(F)</td>\n",
              "      <td id=\"T_f7c39_row7_col2\" class=\"data row7 col2\" >(E) Dropped Content</td>\n",
              "      <td id=\"T_f7c39_row7_col3\" class=\"data row7 col3\" >False</td>\n",
              "    </tr>\n",
              "    <tr>\n",
              "      <th id=\"T_f7c39_level0_row8\" class=\"row_heading level0 row8\" >8</th>\n",
              "      <td id=\"T_f7c39_row8_col0\" class=\"data row8 col0\" >The following translations from German to English contain a particular error. That error will be one of the following types: Named Entities: An entity (names,...</td>\n",
              "      <td id=\"T_f7c39_row8_col1\" class=\"data row8 col1\" >(D)</td>\n",
              "      <td id=\"T_f7c39_row8_col2\" class=\"data row8 col2\" >(D) Named Entities</td>\n",
              "      <td id=\"T_f7c39_row8_col3\" class=\"data row8 col3\" >✔️ [True]</td>\n",
              "    </tr>\n",
              "    <tr>\n",
              "      <th id=\"T_f7c39_level0_row9\" class=\"row_heading level0 row9\" >9</th>\n",
              "      <td id=\"T_f7c39_row9_col0\" class=\"data row9 col0\" >The following translations from German to English contain a particular error. That error will be one of the following types: Named Entities: An entity (names,...</td>\n",
              "      <td id=\"T_f7c39_row9_col1\" class=\"data row9 col1\" >(D)</td>\n",
              "      <td id=\"T_f7c39_row9_col2\" class=\"data row9 col2\" >(E) Dropped Content</td>\n",
              "      <td id=\"T_f7c39_row9_col3\" class=\"data row9 col3\" >False</td>\n",
              "    </tr>\n",
              "  </tbody>\n",
              "</table>\n"
            ],
            "text/plain": [
              "<pandas.io.formats.style.Styler at 0x7afa44900c70>"
            ]
          },
          "metadata": {},
          "output_type": "display_data"
        },
        {
          "data": {
            "text/html": [
              "\n",
              "                <div style='\n",
              "                    text-align: center; \n",
              "                    font-size: 16px; \n",
              "                    font-weight: bold; \n",
              "                    color: #555; \n",
              "                    margin: 10px 0;'>\n",
              "                    ... 220 more rows not displayed ...\n",
              "                </div>\n",
              "                "
            ],
            "text/plain": [
              "<IPython.core.display.HTML object>"
            ]
          },
          "metadata": {},
          "output_type": "display_data"
        },
        {
          "name": "stdout",
          "output_type": "stream",
          "text": [
            "## Retrieval Score for uncompiled : 31.3\n",
            "## Retrieval Score for compiled : 47.83\n",
            "Compilation Improvement: 16.529999999999998%\n"
          ]
        }
      ],
      "source": [
        "compiled_qa_score = evaluate(optimized_qa)\n",
        "uncompiled_qa_score = evaluate(basic_qa)\n",
        "\n",
        "print(f\"## Retrieval Score for uncompiled : {uncompiled_qa_score}\")\n",
        "print(f\"## Retrieval Score for compiled : {compiled_qa_score}\")\n",
        "print(f\"Compilation Improvement: {compiled_qa_score - uncompiled_qa_score}%\")"
      ]
    },
    {
      "cell_type": "markdown",
      "metadata": {
        "id": "sL1JQuOaxGAR"
      },
      "source": [
        "## (star)休息一下，總結目前小重點\n",
        "\n",
        "- 編寫小模組/程式。\n",
        "- 選擇優化器。\n",
        "- 運行編譯/最佳化步驟。\n",
        "- 進行評估。\n",
        "\n",
        "你省去了逐一監控 Prompt 對整個系統的影響，省去了手工編織良好的提示語時間，而從一個基礎的 prompt 得到還不錯的結果。\n",
        "\n",
        "這真的很優秀，讓我們嘗試將思考鏈(Chain Of Though)想法納進來"
      ]
    },
    {
      "cell_type": "markdown",
      "metadata": {
        "id": "HPAdkeTMcCdX"
      },
      "source": [
        "## 步驟八、建立 DSPy模組，使用 思想鏈(Chain Of THough)\n",
        "思維鏈 (CoT) 方法涉及模型生成通往最終答案的中間步驟，模仿人類如何解決推理問題。"
      ]
    },
    {
      "cell_type": "code",
      "execution_count": null,
      "metadata": {
        "id": "OdD_aLzAb-hF"
      },
      "outputs": [],
      "source": [
        "class CoT(dspy.Module):\n",
        "    def __init__(self):\n",
        "        super().__init__()\n",
        "        self.prog = dspy.ChainOfThought(\"question -> answer\")\n",
        "\n",
        "    def forward(self, question):\n",
        "        answer = self.prog(question=question)\n",
        "        return answer\n",
        "\n",
        "cot_qa = CoT()"
      ]
    },
    {
      "cell_type": "markdown",
      "metadata": {
        "id": "0e-Vmn39x7Aq"
      },
      "source": [
        "## 步驟九、進行 COT 管道評估"
      ]
    },
    {
      "cell_type": "code",
      "execution_count": null,
      "metadata": {
        "colab": {
          "base_uri": "https://localhost:8080/",
          "height": 804
        },
        "id": "-xqpNg7Ux_Bt",
        "outputId": "1c655677-2377-4e34-c02a-85715a3ee568"
      },
      "outputs": [
        {
          "name": "stderr",
          "output_type": "stream",
          "text": [
            "Average Metric: 118 / 230  (51.3): 100%|██████████| 230/230 [04:27<00:00,  1.16s/it]"
          ]
        },
        {
          "name": "stdout",
          "output_type": "stream",
          "text": [
            "Average Metric: 118 / 230  (51.3%)\n"
          ]
        },
        {
          "name": "stderr",
          "output_type": "stream",
          "text": [
            "\n"
          ]
        },
        {
          "data": {
            "text/html": [
              "<style type=\"text/css\">\n",
              "#T_66bdf th {\n",
              "  text-align: left;\n",
              "}\n",
              "#T_66bdf td {\n",
              "  text-align: left;\n",
              "}\n",
              "#T_66bdf_row0_col0, #T_66bdf_row0_col1, #T_66bdf_row0_col2, #T_66bdf_row0_col3, #T_66bdf_row0_col4, #T_66bdf_row1_col0, #T_66bdf_row1_col1, #T_66bdf_row1_col2, #T_66bdf_row1_col3, #T_66bdf_row1_col4, #T_66bdf_row2_col0, #T_66bdf_row2_col1, #T_66bdf_row2_col2, #T_66bdf_row2_col3, #T_66bdf_row2_col4, #T_66bdf_row3_col0, #T_66bdf_row3_col1, #T_66bdf_row3_col2, #T_66bdf_row3_col3, #T_66bdf_row3_col4, #T_66bdf_row4_col0, #T_66bdf_row4_col1, #T_66bdf_row4_col2, #T_66bdf_row4_col3, #T_66bdf_row4_col4, #T_66bdf_row5_col0, #T_66bdf_row5_col1, #T_66bdf_row5_col2, #T_66bdf_row5_col3, #T_66bdf_row5_col4, #T_66bdf_row6_col0, #T_66bdf_row6_col1, #T_66bdf_row6_col2, #T_66bdf_row6_col3, #T_66bdf_row6_col4, #T_66bdf_row7_col0, #T_66bdf_row7_col1, #T_66bdf_row7_col2, #T_66bdf_row7_col3, #T_66bdf_row7_col4, #T_66bdf_row8_col0, #T_66bdf_row8_col1, #T_66bdf_row8_col2, #T_66bdf_row8_col3, #T_66bdf_row8_col4, #T_66bdf_row9_col0, #T_66bdf_row9_col1, #T_66bdf_row9_col2, #T_66bdf_row9_col3, #T_66bdf_row9_col4 {\n",
              "  text-align: left;\n",
              "  white-space: pre-wrap;\n",
              "  word-wrap: break-word;\n",
              "  max-width: 400px;\n",
              "}\n",
              "</style>\n",
              "<table id=\"T_66bdf\" class=\"dataframe\">\n",
              "  <thead>\n",
              "    <tr>\n",
              "      <th class=\"blank level0\" >&nbsp;</th>\n",
              "      <th id=\"T_66bdf_level0_col0\" class=\"col_heading level0 col0\" >question</th>\n",
              "      <th id=\"T_66bdf_level0_col1\" class=\"col_heading level0 col1\" >example_answer</th>\n",
              "      <th id=\"T_66bdf_level0_col2\" class=\"col_heading level0 col2\" >rationale</th>\n",
              "      <th id=\"T_66bdf_level0_col3\" class=\"col_heading level0 col3\" >pred_answer</th>\n",
              "      <th id=\"T_66bdf_level0_col4\" class=\"col_heading level0 col4\" >eval_metric</th>\n",
              "    </tr>\n",
              "  </thead>\n",
              "  <tbody>\n",
              "    <tr>\n",
              "      <th id=\"T_66bdf_level0_row0\" class=\"row_heading level0 row0\" >0</th>\n",
              "      <td id=\"T_66bdf_row0_col0\" class=\"data row0 col0\" >The following translations from German to English contain a particular error. That error will be one of the following types: Named Entities: An entity (names,...</td>\n",
              "      <td id=\"T_66bdf_row0_col1\" class=\"data row0 col1\" >(A)</td>\n",
              "      <td id=\"T_66bdf_row0_col2\" class=\"data row0 col2\" >identify the error in the translation. We can see that the source text mentions \"Ortsteilen Mitte und Tiergarten\" which translates to \"districts of Mitte and...</td>\n",
              "      <td id=\"T_66bdf_row0_col3\" class=\"data row0 col3\" >(A) Modifiers or Adjectives</td>\n",
              "      <td id=\"T_66bdf_row0_col4\" class=\"data row0 col4\" >✔️ [True]</td>\n",
              "    </tr>\n",
              "    <tr>\n",
              "      <th id=\"T_66bdf_level0_row1\" class=\"row_heading level0 row1\" >1</th>\n",
              "      <td id=\"T_66bdf_row1_col0\" class=\"data row1 col0\" >The following translations from German to English contain a particular error. That error will be one of the following types: Named Entities: An entity (names,...</td>\n",
              "      <td id=\"T_66bdf_row1_col1\" class=\"data row1 col1\" >(B)</td>\n",
              "      <td id=\"T_66bdf_row1_col2\" class=\"data row1 col2\" >identify the error in the translation. We can see that the year of publication is incorrect. The correct year is 1759, not 1659.</td>\n",
              "      <td id=\"T_66bdf_row1_col3\" class=\"data row1 col3\" >(B) Numerical Values</td>\n",
              "      <td id=\"T_66bdf_row1_col4\" class=\"data row1 col4\" >✔️ [True]</td>\n",
              "    </tr>\n",
              "    <tr>\n",
              "      <th id=\"T_66bdf_level0_row2\" class=\"row_heading level0 row2\" >2</th>\n",
              "      <td id=\"T_66bdf_row2_col0\" class=\"data row2 col0\" >The following translations from German to English contain a particular error. That error will be one of the following types: Named Entities: An entity (names,...</td>\n",
              "      <td id=\"T_66bdf_row2_col1\" class=\"data row2 col1\" >(F)</td>\n",
              "      <td id=\"T_66bdf_row2_col2\" class=\"data row2 col2\" >identify the error in the translation. We see that the original German sentence is about a type of plant, specifically \"Kohl\" which means \"Cabbage\" in...</td>\n",
              "      <td id=\"T_66bdf_row2_col3\" class=\"data row2 col3\" >(D) Named Entities</td>\n",
              "      <td id=\"T_66bdf_row2_col4\" class=\"data row2 col4\" >False</td>\n",
              "    </tr>\n",
              "    <tr>\n",
              "      <th id=\"T_66bdf_level0_row3\" class=\"row_heading level0 row3\" >3</th>\n",
              "      <td id=\"T_66bdf_row3_col0\" class=\"data row3 col0\" >The following translations from German to English contain a particular error. That error will be one of the following types: Named Entities: An entity (names,...</td>\n",
              "      <td id=\"T_66bdf_row3_col1\" class=\"data row3 col1\" >(D)</td>\n",
              "      <td id=\"T_66bdf_row3_col2\" class=\"data row3 col2\" >identify the error in the translation. We can see that the source text and the translation are quite similar, but there is a slight difference...</td>\n",
              "      <td id=\"T_66bdf_row3_col3\" class=\"data row3 col3\" >(A) Modifiers or Adjectives</td>\n",
              "      <td id=\"T_66bdf_row3_col4\" class=\"data row3 col4\" >False</td>\n",
              "    </tr>\n",
              "    <tr>\n",
              "      <th id=\"T_66bdf_level0_row4\" class=\"row_heading level0 row4\" >4</th>\n",
              "      <td id=\"T_66bdf_row4_col0\" class=\"data row4 col0\" >The following translations from German to English contain a particular error. That error will be one of the following types: Named Entities: An entity (names,...</td>\n",
              "      <td id=\"T_66bdf_row4_col1\" class=\"data row4 col1\" >(A)</td>\n",
              "      <td id=\"T_66bdf_row4_col2\" class=\"data row4 col2\" >identify the error in the translation. We see that the source sentence and the translation are almost identical. The only difference is the word \"ehemalige\"...</td>\n",
              "      <td id=\"T_66bdf_row4_col3\" class=\"data row4 col3\" >(A) Modifiers or Adjectives</td>\n",
              "      <td id=\"T_66bdf_row4_col4\" class=\"data row4 col4\" >✔️ [True]</td>\n",
              "    </tr>\n",
              "    <tr>\n",
              "      <th id=\"T_66bdf_level0_row5\" class=\"row_heading level0 row5\" >5</th>\n",
              "      <td id=\"T_66bdf_row5_col0\" class=\"data row5 col0\" >The following translations from German to English contain a particular error. That error will be one of the following types: Named Entities: An entity (names,...</td>\n",
              "      <td id=\"T_66bdf_row5_col1\" class=\"data row5 col1\" >(D)</td>\n",
              "      <td id=\"T_66bdf_row5_col2\" class=\"data row5 col2\" >identify the error in the translation. We can see that the city name \"Sassnitz\" is changed to \"Seibnitz\" in the translation. This is an error...</td>\n",
              "      <td id=\"T_66bdf_row5_col3\" class=\"data row5 col3\" >(D) Named Entities</td>\n",
              "      <td id=\"T_66bdf_row5_col4\" class=\"data row5 col4\" >✔️ [True]</td>\n",
              "    </tr>\n",
              "    <tr>\n",
              "      <th id=\"T_66bdf_level0_row6\" class=\"row_heading level0 row6\" >6</th>\n",
              "      <td id=\"T_66bdf_row6_col0\" class=\"data row6 col0\" >The following translations from German to English contain a particular error. That error will be one of the following types: Named Entities: An entity (names,...</td>\n",
              "      <td id=\"T_66bdf_row6_col1\" class=\"data row6 col1\" >(D)</td>\n",
              "      <td id=\"T_66bdf_row6_col2\" class=\"data row6 col2\" >identify the error in the translation. We can see that the location of Elbenberg is incorrect in the translation. The correct location is that it...</td>\n",
              "      <td id=\"T_66bdf_row6_col3\" class=\"data row6 col3\" >(D) Named Entities</td>\n",
              "      <td id=\"T_66bdf_row6_col4\" class=\"data row6 col4\" >✔️ [True]</td>\n",
              "    </tr>\n",
              "    <tr>\n",
              "      <th id=\"T_66bdf_level0_row7\" class=\"row_heading level0 row7\" >7</th>\n",
              "      <td id=\"T_66bdf_row7_col0\" class=\"data row7 col0\" >The following translations from German to English contain a particular error. That error will be one of the following types: Named Entities: An entity (names,...</td>\n",
              "      <td id=\"T_66bdf_row7_col1\" class=\"data row7 col1\" >(F)</td>\n",
              "      <td id=\"T_66bdf_row7_col2\" class=\"data row7 col2\" >identify the error in the translation. We can see that the source text mentions \"Chūō ist einer der 23 Bezirke im Osten der japanischen Präfektur...</td>\n",
              "      <td id=\"T_66bdf_row7_col3\" class=\"data row7 col3\" >(D) Named Entities</td>\n",
              "      <td id=\"T_66bdf_row7_col4\" class=\"data row7 col4\" >False</td>\n",
              "    </tr>\n",
              "    <tr>\n",
              "      <th id=\"T_66bdf_level0_row8\" class=\"row_heading level0 row8\" >8</th>\n",
              "      <td id=\"T_66bdf_row8_col0\" class=\"data row8 col0\" >The following translations from German to English contain a particular error. That error will be one of the following types: Named Entities: An entity (names,...</td>\n",
              "      <td id=\"T_66bdf_row8_col1\" class=\"data row8 col1\" >(D)</td>\n",
              "      <td id=\"T_66bdf_row8_col2\" class=\"data row8 col2\" >identify the error in the translation. We can see that the source text mentions \"Unter dem Namen Espenlaub\" which is changed to \"Under the name...</td>\n",
              "      <td id=\"T_66bdf_row8_col3\" class=\"data row8 col3\" >(D) Named Entities</td>\n",
              "      <td id=\"T_66bdf_row8_col4\" class=\"data row8 col4\" >✔️ [True]</td>\n",
              "    </tr>\n",
              "    <tr>\n",
              "      <th id=\"T_66bdf_level0_row9\" class=\"row_heading level0 row9\" >9</th>\n",
              "      <td id=\"T_66bdf_row9_col0\" class=\"data row9 col0\" >The following translations from German to English contain a particular error. That error will be one of the following types: Named Entities: An entity (names,...</td>\n",
              "      <td id=\"T_66bdf_row9_col1\" class=\"data row9 col1\" >(D)</td>\n",
              "      <td id=\"T_66bdf_row9_col2\" class=\"data row9 col2\" >identify the error in the translation. We can see that the source text mentions the \"Haager Konvention\" (Hague Convention), but the translation incorrectly refers to...</td>\n",
              "      <td id=\"T_66bdf_row9_col3\" class=\"data row9 col3\" >(D) Named Entities</td>\n",
              "      <td id=\"T_66bdf_row9_col4\" class=\"data row9 col4\" >✔️ [True]</td>\n",
              "    </tr>\n",
              "  </tbody>\n",
              "</table>\n"
            ],
            "text/plain": [
              "<pandas.io.formats.style.Styler at 0x7afa44ad75b0>"
            ]
          },
          "metadata": {},
          "output_type": "display_data"
        },
        {
          "data": {
            "text/html": [
              "\n",
              "                <div style='\n",
              "                    text-align: center; \n",
              "                    font-size: 16px; \n",
              "                    font-weight: bold; \n",
              "                    color: #555; \n",
              "                    margin: 10px 0;'>\n",
              "                    ... 220 more rows not displayed ...\n",
              "                </div>\n",
              "                "
            ],
            "text/plain": [
              "<IPython.core.display.HTML object>"
            ]
          },
          "metadata": {},
          "output_type": "display_data"
        },
        {
          "data": {
            "text/plain": [
              "51.3"
            ]
          },
          "execution_count": 32,
          "metadata": {},
          "output_type": "execute_result"
        }
      ],
      "source": [
        "evaluate(cot_qa)"
      ]
    },
    {
      "cell_type": "markdown",
      "metadata": {
        "id": "OaTUIM1syCB1"
      },
      "source": [
        "來檢視一下，COT 的 Prompt"
      ]
    },
    {
      "cell_type": "code",
      "execution_count": null,
      "metadata": {
        "colab": {
          "base_uri": "https://localhost:8080/"
        },
        "id": "QhbbBBuoyH3h",
        "outputId": "4faa8211-3a06-42b2-d511-65ce66d75e83"
      },
      "outputs": [
        {
          "name": "stdout",
          "output_type": "stream",
          "text": [
            "\n",
            "\n",
            "\n",
            "\n",
            "Given the fields `question`, produce the fields `answer`.\n",
            "\n",
            "---\n",
            "\n",
            "Follow the following format.\n",
            "\n",
            "Question: ${question}\n",
            "Reasoning: Let's think step by step in order to ${produce the answer}. We ...\n",
            "Answer: ${answer}\n",
            "\n",
            "---\n",
            "\n",
            "Question: The following translations from German to English contain a particular error. That error will be one of the following types: Named Entities: An entity (names, places, locations, etc.) is changed to a different entity. Numerical Values: Numerical values (ordinals or cardinals), dates, and/or units are changed. Modifiers or Adjectives: The modifiers and adjectives pertaining to a noun are changed. Negation or Antonyms: Introduce or remove a negation or change comparatives to their antonyms. Facts: Trivial factual errors not pertaining to the above classes are introduced in the translations. Dropped Content: A significant clause in the translation is removed. Please identify that error. Source: Auf dieser Seite sind die Baudenkmäler der schwäbischen Gemeinde Mauerstetten zusammengestellt. Translation: On this page are compiled the monuments of Mauerstetten. The translation contains an error pertaining to Options: (A) Modifiers or Adjectives (B) Numerical Values (C) Negation or Antonyms (D) Named Entities (E) Dropped Content (F) Facts\n",
            "Reasoning: Let's think step by step in order to identify the error in the translation. We can see that the source text is in German and the target text is in English. We can compare the two texts to identify any discrepancies. We can see that the source text mentions \"Baudenkmäler\" which means \"monuments\" in English. The target text also correctly translates this word. We can also see that the source text mentions \"schwäbischen Gemeinde Mauerstetten\" which means \"the Swabian municipality of Mauerstetten\" in English. The target text also correctly translates this phrase. Therefore, there are no discrepancies in the translation of words or phrases. We can also see that the target text\n",
            "Answer:\u001b[32m (E) Dropped Content. The error in the translation is that it omits the phrase \"the Swabian municipality of Mauerstetten\" which is an important piece of information about the location of the monuments.\u001b[0m\n",
            "\n",
            "\n",
            "\n"
          ]
        }
      ],
      "source": [
        "vLLM.inspect_history(n=1)"
      ]
    },
    {
      "cell_type": "markdown",
      "metadata": {
        "id": "og5BgjqTcTFG"
      },
      "source": [
        "## 步驟十、使用 DSPy 的 Optimizer(Formly Teleprompt) 進行最佳化\n",
        "\n",
        "我們使用 DSPy 的 BootstrapFewShotWithRandomSearch 優化器來完善我們的 CoT 模組。此優化器會自動產生範例並迭代地提高模型在資料集上的效能。"
      ]
    },
    {
      "cell_type": "code",
      "execution_count": null,
      "metadata": {
        "colab": {
          "base_uri": "https://localhost:8080/"
        },
        "id": "_xUP9NggcN2L",
        "outputId": "50b8854e-6e2b-4413-9d57-1038934acba5"
      },
      "outputs": [
        {
          "name": "stdout",
          "output_type": "stream",
          "text": [
            "Going to sample between 1 and 1 traces per predictor.\n",
            "Will attempt to train 4 candidate sets.\n"
          ]
        },
        {
          "name": "stderr",
          "output_type": "stream",
          "text": [
            "Average Metric: 118 / 230  (51.3): 100%|██████████| 230/230 [00:00<00:00, 312.40it/s]\n"
          ]
        },
        {
          "name": "stdout",
          "output_type": "stream",
          "text": [
            "Average Metric: 118 / 230  (51.3%)\n",
            "Score: 51.3 for set: [0]\n",
            "New best score: 51.3 for seed -3\n",
            "Scores so far: [51.3]\n",
            "Best score: 51.3\n"
          ]
        },
        {
          "name": "stderr",
          "output_type": "stream",
          "text": [
            "Average Metric: 130 / 230  (56.5): 100%|██████████| 230/230 [09:36<00:00,  2.51s/it]\n"
          ]
        },
        {
          "name": "stdout",
          "output_type": "stream",
          "text": [
            "Average Metric: 130 / 230  (56.5%)\n",
            "Score: 56.52 for set: [4]\n",
            "New best score: 56.52 for seed -2\n",
            "Scores so far: [51.3, 56.52]\n",
            "Best score: 56.52\n"
          ]
        },
        {
          "name": "stderr",
          "output_type": "stream",
          "text": [
            " 40%|████      | 8/20 [00:52<01:18,  6.54s/it]\n"
          ]
        },
        {
          "name": "stdout",
          "output_type": "stream",
          "text": [
            "Bootstrapped 1 full traces after 9 examples in round 0.\n"
          ]
        },
        {
          "name": "stderr",
          "output_type": "stream",
          "text": [
            "Average Metric: 107 / 230  (46.5): 100%|██████████| 230/230 [07:40<00:00,  2.00s/it]\n"
          ]
        },
        {
          "name": "stdout",
          "output_type": "stream",
          "text": [
            "Average Metric: 107 / 230  (46.5%)\n",
            "Score: 46.52 for set: [4]\n",
            "Scores so far: [51.3, 56.52, 46.52]\n",
            "Best score: 56.52\n",
            "Average of max per entry across top 1 scores: 0.5652173913043478\n",
            "Average of max per entry across top 2 scores: 0.8\n",
            "Average of max per entry across top 3 scores: 0.9043478260869565\n",
            "Average of max per entry across top 5 scores: 0.9043478260869565\n",
            "Average of max per entry across top 8 scores: 0.9043478260869565\n",
            "Average of max per entry across top 9999 scores: 0.9043478260869565\n"
          ]
        },
        {
          "name": "stderr",
          "output_type": "stream",
          "text": [
            "  5%|▌         | 1/20 [00:07<02:16,  7.21s/it]\n"
          ]
        },
        {
          "name": "stdout",
          "output_type": "stream",
          "text": [
            "Bootstrapped 1 full traces after 2 examples in round 0.\n"
          ]
        },
        {
          "name": "stderr",
          "output_type": "stream",
          "text": [
            "Average Metric: 121 / 230  (52.6): 100%|██████████| 230/230 [09:32<00:00,  2.49s/it]\n"
          ]
        },
        {
          "name": "stdout",
          "output_type": "stream",
          "text": [
            "Average Metric: 121 / 230  (52.6%)\n",
            "Score: 52.61 for set: [4]\n",
            "Scores so far: [51.3, 56.52, 46.52, 52.61]\n",
            "Best score: 56.52\n",
            "Average of max per entry across top 1 scores: 0.5652173913043478\n",
            "Average of max per entry across top 2 scores: 0.7956521739130434\n",
            "Average of max per entry across top 3 scores: 0.9\n",
            "Average of max per entry across top 5 scores: 0.9478260869565217\n",
            "Average of max per entry across top 8 scores: 0.9478260869565217\n",
            "Average of max per entry across top 9999 scores: 0.9478260869565217\n"
          ]
        },
        {
          "name": "stderr",
          "output_type": "stream",
          "text": [
            "  5%|▌         | 1/20 [00:07<02:23,  7.53s/it]\n"
          ]
        },
        {
          "name": "stdout",
          "output_type": "stream",
          "text": [
            "Bootstrapped 1 full traces after 2 examples in round 0.\n"
          ]
        },
        {
          "name": "stderr",
          "output_type": "stream",
          "text": [
            "Average Metric: 111 / 230  (48.3): 100%|██████████| 230/230 [10:19<00:00,  2.69s/it]\n"
          ]
        },
        {
          "name": "stdout",
          "output_type": "stream",
          "text": [
            "Average Metric: 111 / 230  (48.3%)\n",
            "Score: 48.26 for set: [4]\n",
            "Scores so far: [51.3, 56.52, 46.52, 52.61, 48.26]\n",
            "Best score: 56.52\n",
            "Average of max per entry across top 1 scores: 0.5652173913043478\n",
            "Average of max per entry across top 2 scores: 0.7956521739130434\n",
            "Average of max per entry across top 3 scores: 0.9\n",
            "Average of max per entry across top 5 scores: 0.9652173913043478\n",
            "Average of max per entry across top 8 scores: 0.9652173913043478\n",
            "Average of max per entry across top 9999 scores: 0.9652173913043478\n"
          ]
        },
        {
          "name": "stderr",
          "output_type": "stream",
          "text": [
            "  5%|▌         | 1/20 [00:07<02:15,  7.15s/it]\n"
          ]
        },
        {
          "name": "stdout",
          "output_type": "stream",
          "text": [
            "Bootstrapped 1 full traces after 2 examples in round 0.\n"
          ]
        },
        {
          "name": "stderr",
          "output_type": "stream",
          "text": [
            "Average Metric: 107 / 230  (46.5): 100%|██████████| 230/230 [08:01<00:00,  2.09s/it]\n"
          ]
        },
        {
          "name": "stdout",
          "output_type": "stream",
          "text": [
            "Average Metric: 107 / 230  (46.5%)\n",
            "Score: 46.52 for set: [4]\n",
            "Scores so far: [51.3, 56.52, 46.52, 52.61, 48.26, 46.52]\n",
            "Best score: 56.52\n",
            "Average of max per entry across top 1 scores: 0.5652173913043478\n",
            "Average of max per entry across top 2 scores: 0.7956521739130434\n",
            "Average of max per entry across top 3 scores: 0.9\n",
            "Average of max per entry across top 5 scores: 0.9652173913043478\n",
            "Average of max per entry across top 8 scores: 0.9695652173913043\n",
            "Average of max per entry across top 9999 scores: 0.9695652173913043\n"
          ]
        },
        {
          "name": "stderr",
          "output_type": "stream",
          "text": [
            "  5%|▌         | 1/20 [00:07<02:15,  7.15s/it]\n"
          ]
        },
        {
          "name": "stdout",
          "output_type": "stream",
          "text": [
            "Bootstrapped 1 full traces after 2 examples in round 0.\n"
          ]
        },
        {
          "name": "stderr",
          "output_type": "stream",
          "text": [
            "Average Metric: 121 / 230  (52.6): 100%|██████████| 230/230 [08:19<00:00,  2.17s/it]"
          ]
        },
        {
          "name": "stdout",
          "output_type": "stream",
          "text": [
            "Average Metric: 121 / 230  (52.6%)\n",
            "Score: 52.61 for set: [4]\n",
            "Scores so far: [51.3, 56.52, 46.52, 52.61, 48.26, 46.52, 52.61]\n",
            "Best score: 56.52\n",
            "Average of max per entry across top 1 scores: 0.5652173913043478\n",
            "Average of max per entry across top 2 scores: 0.7956521739130434\n",
            "Average of max per entry across top 3 scores: 0.8913043478260869\n",
            "Average of max per entry across top 5 scores: 0.9695652173913043\n",
            "Average of max per entry across top 8 scores: 0.9826086956521739\n",
            "Average of max per entry across top 9999 scores: 0.9826086956521739\n",
            "7 candidate programs found.\n"
          ]
        },
        {
          "name": "stderr",
          "output_type": "stream",
          "text": [
            "\n"
          ]
        }
      ],
      "source": [
        "config = dict(max_bootstrapped_demos=1, max_labeled_demos=4, num_candidate_programs=4, num_threads=6)\n",
        "\n",
        "teleprompter = BootstrapFewShotWithRandomSearch(metric=eval_metric, **config)\n",
        "optimized_cot_qa = teleprompter.compile(cot_qa, trainset=trainset, valset=valset)"
      ]
    },
    {
      "cell_type": "markdown",
      "metadata": {
        "id": "uA9Vx_pFcfJB"
      },
      "source": [
        "(51 mins later)\n",
        "這一步就是神奇發生的地方。優化器會自動調整 CoT 模組的提示和權重，以最大化所需的結果指標，例如準確性和連貫性。這種自動化顯著減少了手動微調和快速製作的需要，從而簡化了開發過程。"
      ]
    },
    {
      "cell_type": "markdown",
      "metadata": {
        "id": "WD3S6Y-T3KP7"
      },
      "source": [
        "讓我們來比較看看差異"
      ]
    },
    {
      "cell_type": "code",
      "execution_count": null,
      "metadata": {
        "colab": {
          "base_uri": "https://localhost:8080/",
          "height": 1000
        },
        "id": "VUSE-tbD3MUN",
        "outputId": "dbd037c7-6c2c-4bbf-f54d-9d27f490b2cb"
      },
      "outputs": [
        {
          "name": "stderr",
          "output_type": "stream",
          "text": [
            "Average Metric: 130 / 230  (56.5): 100%|██████████| 230/230 [00:00<00:00, 326.53it/s]\n"
          ]
        },
        {
          "name": "stdout",
          "output_type": "stream",
          "text": [
            "Average Metric: 130 / 230  (56.5%)\n"
          ]
        },
        {
          "data": {
            "text/html": [
              "<style type=\"text/css\">\n",
              "#T_4b15a th {\n",
              "  text-align: left;\n",
              "}\n",
              "#T_4b15a td {\n",
              "  text-align: left;\n",
              "}\n",
              "#T_4b15a_row0_col0, #T_4b15a_row0_col1, #T_4b15a_row0_col2, #T_4b15a_row0_col3, #T_4b15a_row0_col4, #T_4b15a_row1_col0, #T_4b15a_row1_col1, #T_4b15a_row1_col2, #T_4b15a_row1_col3, #T_4b15a_row1_col4, #T_4b15a_row2_col0, #T_4b15a_row2_col1, #T_4b15a_row2_col2, #T_4b15a_row2_col3, #T_4b15a_row2_col4, #T_4b15a_row3_col0, #T_4b15a_row3_col1, #T_4b15a_row3_col2, #T_4b15a_row3_col3, #T_4b15a_row3_col4, #T_4b15a_row4_col0, #T_4b15a_row4_col1, #T_4b15a_row4_col2, #T_4b15a_row4_col3, #T_4b15a_row4_col4, #T_4b15a_row5_col0, #T_4b15a_row5_col1, #T_4b15a_row5_col2, #T_4b15a_row5_col3, #T_4b15a_row5_col4, #T_4b15a_row6_col0, #T_4b15a_row6_col1, #T_4b15a_row6_col2, #T_4b15a_row6_col3, #T_4b15a_row6_col4, #T_4b15a_row7_col0, #T_4b15a_row7_col1, #T_4b15a_row7_col2, #T_4b15a_row7_col3, #T_4b15a_row7_col4, #T_4b15a_row8_col0, #T_4b15a_row8_col1, #T_4b15a_row8_col2, #T_4b15a_row8_col3, #T_4b15a_row8_col4, #T_4b15a_row9_col0, #T_4b15a_row9_col1, #T_4b15a_row9_col2, #T_4b15a_row9_col3, #T_4b15a_row9_col4 {\n",
              "  text-align: left;\n",
              "  white-space: pre-wrap;\n",
              "  word-wrap: break-word;\n",
              "  max-width: 400px;\n",
              "}\n",
              "</style>\n",
              "<table id=\"T_4b15a\" class=\"dataframe\">\n",
              "  <thead>\n",
              "    <tr>\n",
              "      <th class=\"blank level0\" >&nbsp;</th>\n",
              "      <th id=\"T_4b15a_level0_col0\" class=\"col_heading level0 col0\" >question</th>\n",
              "      <th id=\"T_4b15a_level0_col1\" class=\"col_heading level0 col1\" >example_answer</th>\n",
              "      <th id=\"T_4b15a_level0_col2\" class=\"col_heading level0 col2\" >rationale</th>\n",
              "      <th id=\"T_4b15a_level0_col3\" class=\"col_heading level0 col3\" >pred_answer</th>\n",
              "      <th id=\"T_4b15a_level0_col4\" class=\"col_heading level0 col4\" >eval_metric</th>\n",
              "    </tr>\n",
              "  </thead>\n",
              "  <tbody>\n",
              "    <tr>\n",
              "      <th id=\"T_4b15a_level0_row0\" class=\"row_heading level0 row0\" >0</th>\n",
              "      <td id=\"T_4b15a_row0_col0\" class=\"data row0 col0\" >The following translations from German to English contain a particular error. That error will be one of the following types: Named Entities: An entity (names,...</td>\n",
              "      <td id=\"T_4b15a_row0_col1\" class=\"data row0 col1\" >(A)</td>\n",
              "      <td id=\"T_4b15a_row0_col2\" class=\"data row0 col2\" >identify the error in the translation. We can see that the source text mentions \"placesartiger Verkehrsknotenpunkt\" which means \"square-like hub for traffic\". However, the translation...</td>\n",
              "      <td id=\"T_4b15a_row0_col3\" class=\"data row0 col3\" >(A) --- Question: The following translations from German to English contain a particular error. That error will be one of the following types: Named Entities:...</td>\n",
              "      <td id=\"T_4b15a_row0_col4\" class=\"data row0 col4\" >✔️ [True]</td>\n",
              "    </tr>\n",
              "    <tr>\n",
              "      <th id=\"T_4b15a_level0_row1\" class=\"row_heading level0 row1\" >1</th>\n",
              "      <td id=\"T_4b15a_row1_col0\" class=\"data row1 col0\" >The following translations from German to English contain a particular error. That error will be one of the following types: Named Entities: An entity (names,...</td>\n",
              "      <td id=\"T_4b15a_row1_col1\" class=\"data row1 col1\" >(B)</td>\n",
              "      <td id=\"T_4b15a_row1_col2\" class=\"data row1 col2\" >identify the error in the translation. We notice that the year of publication is incorrect. The correct year is 1759, not 1659.</td>\n",
              "      <td id=\"T_4b15a_row1_col3\" class=\"data row1 col3\" >(B) --- Question: The following translations from German to English contain a particular error. That error will be one of the following types: Named Entities:...</td>\n",
              "      <td id=\"T_4b15a_row1_col4\" class=\"data row1 col4\" >✔️ [True]</td>\n",
              "    </tr>\n",
              "    <tr>\n",
              "      <th id=\"T_4b15a_level0_row2\" class=\"row_heading level0 row2\" >2</th>\n",
              "      <td id=\"T_4b15a_row2_col0\" class=\"data row2 col0\" >The following translations from German to English contain a particular error. That error will be one of the following types: Named Entities: An entity (names,...</td>\n",
              "      <td id=\"T_4b15a_row2_col1\" class=\"data row2 col1\" >(F)</td>\n",
              "      <td id=\"T_4b15a_row2_col2\" class=\"data row2 col2\" >identify the error in the translation. We know that the source text is about a type of plant, specifically a member of the Cruciferous Family....</td>\n",
              "      <td id=\"T_4b15a_row2_col3\" class=\"data row2 col3\" >(F) --- Question: The following translations from German to English contain a particular error. That error will be one of the following types: Named Entities:...</td>\n",
              "      <td id=\"T_4b15a_row2_col4\" class=\"data row2 col4\" >✔️ [True]</td>\n",
              "    </tr>\n",
              "    <tr>\n",
              "      <th id=\"T_4b15a_level0_row3\" class=\"row_heading level0 row3\" >3</th>\n",
              "      <td id=\"T_4b15a_row3_col0\" class=\"data row3 col0\" >The following translations from German to English contain a particular error. That error will be one of the following types: Named Entities: An entity (names,...</td>\n",
              "      <td id=\"T_4b15a_row3_col1\" class=\"data row3 col1\" >(D)</td>\n",
              "      <td id=\"T_4b15a_row3_col2\" class=\"data row3 col2\" >identify the error in the translation. We can see that the source text mentions \"Richard Raphael Roland Risse\" as the name of the painter, but...</td>\n",
              "      <td id=\"T_4b15a_row3_col3\" class=\"data row3 col3\" >(D) --- Question: The following translations from German to English contain a particular error. That error will be one of the following types: Named Entities:...</td>\n",
              "      <td id=\"T_4b15a_row3_col4\" class=\"data row3 col4\" >✔️ [True]</td>\n",
              "    </tr>\n",
              "    <tr>\n",
              "      <th id=\"T_4b15a_level0_row4\" class=\"row_heading level0 row4\" >4</th>\n",
              "      <td id=\"T_4b15a_row4_col0\" class=\"data row4 col0\" >The following translations from German to English contain a particular error. That error will be one of the following types: Named Entities: An entity (names,...</td>\n",
              "      <td id=\"T_4b15a_row4_col1\" class=\"data row4 col1\" >(A)</td>\n",
              "      <td id=\"T_4b15a_row4_col2\" class=\"data row4 col2\" >identify the error in the translation. We can see that the source text mentions that Beth Clare Rodford is a \"former\" British rower. However, the...</td>\n",
              "      <td id=\"T_4b15a_row4_col3\" class=\"data row4 col3\" >(E) --- Question: The following translations from German to English contain a particular error. That error will be one of the following types: Named Entities:...</td>\n",
              "      <td id=\"T_4b15a_row4_col4\" class=\"data row4 col4\" >False</td>\n",
              "    </tr>\n",
              "    <tr>\n",
              "      <th id=\"T_4b15a_level0_row5\" class=\"row_heading level0 row5\" >5</th>\n",
              "      <td id=\"T_4b15a_row5_col0\" class=\"data row5 col0\" >The following translations from German to English contain a particular error. That error will be one of the following types: Named Entities: An entity (names,...</td>\n",
              "      <td id=\"T_4b15a_row5_col1\" class=\"data row5 col1\" >(D)</td>\n",
              "      <td id=\"T_4b15a_row5_col2\" class=\"data row5 col2\" >identify the error in the translation. We notice that the name of the city has been changed from \"Sassnitz\" to \"Seibnitz\". This is a clear...</td>\n",
              "      <td id=\"T_4b15a_row5_col3\" class=\"data row5 col3\" >(D) --- Question: The following translations from German to English contain a particular error. That error will be one of the following types: Named Entities:...</td>\n",
              "      <td id=\"T_4b15a_row5_col4\" class=\"data row5 col4\" >✔️ [True]</td>\n",
              "    </tr>\n",
              "    <tr>\n",
              "      <th id=\"T_4b15a_level0_row6\" class=\"row_heading level0 row6\" >6</th>\n",
              "      <td id=\"T_4b15a_row6_col0\" class=\"data row6 col0\" >The following translations from German to English contain a particular error. That error will be one of the following types: Named Entities: An entity (names,...</td>\n",
              "      <td id=\"T_4b15a_row6_col1\" class=\"data row6 col1\" >(D)</td>\n",
              "      <td id=\"T_4b15a_row6_col2\" class=\"data row6 col2\" >identify the error in the translation. We can see that the location of Elbenberg is incorrect in the translation. The correct location is a district...</td>\n",
              "      <td id=\"T_4b15a_row6_col3\" class=\"data row6 col3\" >(D) --- Question: The following translations from German to English contain a particular error. That error will be one of the following types: Named Entities:...</td>\n",
              "      <td id=\"T_4b15a_row6_col4\" class=\"data row6 col4\" >✔️ [True]</td>\n",
              "    </tr>\n",
              "    <tr>\n",
              "      <th id=\"T_4b15a_level0_row7\" class=\"row_heading level0 row7\" >7</th>\n",
              "      <td id=\"T_4b15a_row7_col0\" class=\"data row7 col0\" >The following translations from German to English contain a particular error. That error will be one of the following types: Named Entities: An entity (names,...</td>\n",
              "      <td id=\"T_4b15a_row7_col1\" class=\"data row7 col1\" >(F)</td>\n",
              "      <td id=\"T_4b15a_row7_col2\" class=\"data row7 col2\" >identify the error in the translation. We can see that the source text mentions \"Chūō ist einer der 23 Bezirke im Osten der japanischen Präfektur...</td>\n",
              "      <td id=\"T_4b15a_row7_col3\" class=\"data row7 col3\" >(C)\n",
              "\n",
              "---\n",
              "\n",
              "Question: The following translations</td>\n",
              "      <td id=\"T_4b15a_row7_col4\" class=\"data row7 col4\" >False</td>\n",
              "    </tr>\n",
              "    <tr>\n",
              "      <th id=\"T_4b15a_level0_row8\" class=\"row_heading level0 row8\" >8</th>\n",
              "      <td id=\"T_4b15a_row8_col0\" class=\"data row8 col0\" >The following translations from German to English contain a particular error. That error will be one of the following types: Named Entities: An entity (names,...</td>\n",
              "      <td id=\"T_4b15a_row8_col1\" class=\"data row8 col1\" >(D)</td>\n",
              "      <td id=\"T_4b15a_row8_col2\" class=\"data row8 col2\" >identify the error in the translation. We can see that the source text mentions \"Espenlaub\" as the name of the automobiles, but the translation incorrectly...</td>\n",
              "      <td id=\"T_4b15a_row8_col3\" class=\"data row8 col3\" >(D)</td>\n",
              "      <td id=\"T_4b15a_row8_col4\" class=\"data row8 col4\" >✔️ [True]</td>\n",
              "    </tr>\n",
              "    <tr>\n",
              "      <th id=\"T_4b15a_level0_row9\" class=\"row_heading level0 row9\" >9</th>\n",
              "      <td id=\"T_4b15a_row9_col0\" class=\"data row9 col0\" >The following translations from German to English contain a particular error. That error will be one of the following types: Named Entities: An entity (names,...</td>\n",
              "      <td id=\"T_4b15a_row9_col1\" class=\"data row9 col1\" >(D)</td>\n",
              "      <td id=\"T_4b15a_row9_col2\" class=\"data row9 col2\" >identify the error in the translation. We notice that the source text refers to the \"Haager Konvention\" while the translation incorrectly refers to the \"Prague...</td>\n",
              "      <td id=\"T_4b15a_row9_col3\" class=\"data row9 col3\" >(C)</td>\n",
              "      <td id=\"T_4b15a_row9_col4\" class=\"data row9 col4\" >False</td>\n",
              "    </tr>\n",
              "  </tbody>\n",
              "</table>\n"
            ],
            "text/plain": [
              "<pandas.io.formats.style.Styler at 0x7afa3c242cb0>"
            ]
          },
          "metadata": {},
          "output_type": "display_data"
        },
        {
          "data": {
            "text/html": [
              "\n",
              "                <div style='\n",
              "                    text-align: center; \n",
              "                    font-size: 16px; \n",
              "                    font-weight: bold; \n",
              "                    color: #555; \n",
              "                    margin: 10px 0;'>\n",
              "                    ... 220 more rows not displayed ...\n",
              "                </div>\n",
              "                "
            ],
            "text/plain": [
              "<IPython.core.display.HTML object>"
            ]
          },
          "metadata": {},
          "output_type": "display_data"
        },
        {
          "name": "stderr",
          "output_type": "stream",
          "text": [
            "Average Metric: 118 / 230  (51.3): 100%|██████████| 230/230 [00:00<00:00, 364.03it/s]\n"
          ]
        },
        {
          "name": "stdout",
          "output_type": "stream",
          "text": [
            "Average Metric: 118 / 230  (51.3%)\n"
          ]
        },
        {
          "data": {
            "text/html": [
              "<style type=\"text/css\">\n",
              "#T_5b544 th {\n",
              "  text-align: left;\n",
              "}\n",
              "#T_5b544 td {\n",
              "  text-align: left;\n",
              "}\n",
              "#T_5b544_row0_col0, #T_5b544_row0_col1, #T_5b544_row0_col2, #T_5b544_row0_col3, #T_5b544_row0_col4, #T_5b544_row1_col0, #T_5b544_row1_col1, #T_5b544_row1_col2, #T_5b544_row1_col3, #T_5b544_row1_col4, #T_5b544_row2_col0, #T_5b544_row2_col1, #T_5b544_row2_col2, #T_5b544_row2_col3, #T_5b544_row2_col4, #T_5b544_row3_col0, #T_5b544_row3_col1, #T_5b544_row3_col2, #T_5b544_row3_col3, #T_5b544_row3_col4, #T_5b544_row4_col0, #T_5b544_row4_col1, #T_5b544_row4_col2, #T_5b544_row4_col3, #T_5b544_row4_col4, #T_5b544_row5_col0, #T_5b544_row5_col1, #T_5b544_row5_col2, #T_5b544_row5_col3, #T_5b544_row5_col4, #T_5b544_row6_col0, #T_5b544_row6_col1, #T_5b544_row6_col2, #T_5b544_row6_col3, #T_5b544_row6_col4, #T_5b544_row7_col0, #T_5b544_row7_col1, #T_5b544_row7_col2, #T_5b544_row7_col3, #T_5b544_row7_col4, #T_5b544_row8_col0, #T_5b544_row8_col1, #T_5b544_row8_col2, #T_5b544_row8_col3, #T_5b544_row8_col4, #T_5b544_row9_col0, #T_5b544_row9_col1, #T_5b544_row9_col2, #T_5b544_row9_col3, #T_5b544_row9_col4 {\n",
              "  text-align: left;\n",
              "  white-space: pre-wrap;\n",
              "  word-wrap: break-word;\n",
              "  max-width: 400px;\n",
              "}\n",
              "</style>\n",
              "<table id=\"T_5b544\" class=\"dataframe\">\n",
              "  <thead>\n",
              "    <tr>\n",
              "      <th class=\"blank level0\" >&nbsp;</th>\n",
              "      <th id=\"T_5b544_level0_col0\" class=\"col_heading level0 col0\" >question</th>\n",
              "      <th id=\"T_5b544_level0_col1\" class=\"col_heading level0 col1\" >example_answer</th>\n",
              "      <th id=\"T_5b544_level0_col2\" class=\"col_heading level0 col2\" >rationale</th>\n",
              "      <th id=\"T_5b544_level0_col3\" class=\"col_heading level0 col3\" >pred_answer</th>\n",
              "      <th id=\"T_5b544_level0_col4\" class=\"col_heading level0 col4\" >eval_metric</th>\n",
              "    </tr>\n",
              "  </thead>\n",
              "  <tbody>\n",
              "    <tr>\n",
              "      <th id=\"T_5b544_level0_row0\" class=\"row_heading level0 row0\" >0</th>\n",
              "      <td id=\"T_5b544_row0_col0\" class=\"data row0 col0\" >The following translations from German to English contain a particular error. That error will be one of the following types: Named Entities: An entity (names,...</td>\n",
              "      <td id=\"T_5b544_row0_col1\" class=\"data row0 col1\" >(A)</td>\n",
              "      <td id=\"T_5b544_row0_col2\" class=\"data row0 col2\" >identify the error in the translation. We can see that the source text mentions \"Ortsteilen Mitte und Tiergarten\" which translates to \"districts of Mitte and...</td>\n",
              "      <td id=\"T_5b544_row0_col3\" class=\"data row0 col3\" >(A) Modifiers or Adjectives</td>\n",
              "      <td id=\"T_5b544_row0_col4\" class=\"data row0 col4\" >✔️ [True]</td>\n",
              "    </tr>\n",
              "    <tr>\n",
              "      <th id=\"T_5b544_level0_row1\" class=\"row_heading level0 row1\" >1</th>\n",
              "      <td id=\"T_5b544_row1_col0\" class=\"data row1 col0\" >The following translations from German to English contain a particular error. That error will be one of the following types: Named Entities: An entity (names,...</td>\n",
              "      <td id=\"T_5b544_row1_col1\" class=\"data row1 col1\" >(B)</td>\n",
              "      <td id=\"T_5b544_row1_col2\" class=\"data row1 col2\" >identify the error in the translation. We can see that the year of publication is incorrect. The correct year is 1759, not 1659.</td>\n",
              "      <td id=\"T_5b544_row1_col3\" class=\"data row1 col3\" >(B) Numerical Values</td>\n",
              "      <td id=\"T_5b544_row1_col4\" class=\"data row1 col4\" >✔️ [True]</td>\n",
              "    </tr>\n",
              "    <tr>\n",
              "      <th id=\"T_5b544_level0_row2\" class=\"row_heading level0 row2\" >2</th>\n",
              "      <td id=\"T_5b544_row2_col0\" class=\"data row2 col0\" >The following translations from German to English contain a particular error. That error will be one of the following types: Named Entities: An entity (names,...</td>\n",
              "      <td id=\"T_5b544_row2_col1\" class=\"data row2 col1\" >(F)</td>\n",
              "      <td id=\"T_5b544_row2_col2\" class=\"data row2 col2\" >identify the error in the translation. We see that the original German sentence is about a type of plant, specifically \"Kohl\" which means \"Cabbage\" in...</td>\n",
              "      <td id=\"T_5b544_row2_col3\" class=\"data row2 col3\" >(D) Named Entities</td>\n",
              "      <td id=\"T_5b544_row2_col4\" class=\"data row2 col4\" >False</td>\n",
              "    </tr>\n",
              "    <tr>\n",
              "      <th id=\"T_5b544_level0_row3\" class=\"row_heading level0 row3\" >3</th>\n",
              "      <td id=\"T_5b544_row3_col0\" class=\"data row3 col0\" >The following translations from German to English contain a particular error. That error will be one of the following types: Named Entities: An entity (names,...</td>\n",
              "      <td id=\"T_5b544_row3_col1\" class=\"data row3 col1\" >(D)</td>\n",
              "      <td id=\"T_5b544_row3_col2\" class=\"data row3 col2\" >identify the error in the translation. We can see that the source text and the translation are quite similar, but there is a slight difference...</td>\n",
              "      <td id=\"T_5b544_row3_col3\" class=\"data row3 col3\" >(A) Modifiers or Adjectives</td>\n",
              "      <td id=\"T_5b544_row3_col4\" class=\"data row3 col4\" >False</td>\n",
              "    </tr>\n",
              "    <tr>\n",
              "      <th id=\"T_5b544_level0_row4\" class=\"row_heading level0 row4\" >4</th>\n",
              "      <td id=\"T_5b544_row4_col0\" class=\"data row4 col0\" >The following translations from German to English contain a particular error. That error will be one of the following types: Named Entities: An entity (names,...</td>\n",
              "      <td id=\"T_5b544_row4_col1\" class=\"data row4 col1\" >(A)</td>\n",
              "      <td id=\"T_5b544_row4_col2\" class=\"data row4 col2\" >identify the error in the translation. We see that the source sentence and the translation are almost identical. The only difference is the word \"ehemalige\"...</td>\n",
              "      <td id=\"T_5b544_row4_col3\" class=\"data row4 col3\" >(A) Modifiers or Adjectives</td>\n",
              "      <td id=\"T_5b544_row4_col4\" class=\"data row4 col4\" >✔️ [True]</td>\n",
              "    </tr>\n",
              "    <tr>\n",
              "      <th id=\"T_5b544_level0_row5\" class=\"row_heading level0 row5\" >5</th>\n",
              "      <td id=\"T_5b544_row5_col0\" class=\"data row5 col0\" >The following translations from German to English contain a particular error. That error will be one of the following types: Named Entities: An entity (names,...</td>\n",
              "      <td id=\"T_5b544_row5_col1\" class=\"data row5 col1\" >(D)</td>\n",
              "      <td id=\"T_5b544_row5_col2\" class=\"data row5 col2\" >identify the error in the translation. We can see that the city name \"Sassnitz\" is changed to \"Seibnitz\" in the translation. This is an error...</td>\n",
              "      <td id=\"T_5b544_row5_col3\" class=\"data row5 col3\" >(D) Named Entities</td>\n",
              "      <td id=\"T_5b544_row5_col4\" class=\"data row5 col4\" >✔️ [True]</td>\n",
              "    </tr>\n",
              "    <tr>\n",
              "      <th id=\"T_5b544_level0_row6\" class=\"row_heading level0 row6\" >6</th>\n",
              "      <td id=\"T_5b544_row6_col0\" class=\"data row6 col0\" >The following translations from German to English contain a particular error. That error will be one of the following types: Named Entities: An entity (names,...</td>\n",
              "      <td id=\"T_5b544_row6_col1\" class=\"data row6 col1\" >(D)</td>\n",
              "      <td id=\"T_5b544_row6_col2\" class=\"data row6 col2\" >identify the error in the translation. We can see that the location of Elbenberg is incorrect in the translation. The correct location is that it...</td>\n",
              "      <td id=\"T_5b544_row6_col3\" class=\"data row6 col3\" >(D) Named Entities</td>\n",
              "      <td id=\"T_5b544_row6_col4\" class=\"data row6 col4\" >✔️ [True]</td>\n",
              "    </tr>\n",
              "    <tr>\n",
              "      <th id=\"T_5b544_level0_row7\" class=\"row_heading level0 row7\" >7</th>\n",
              "      <td id=\"T_5b544_row7_col0\" class=\"data row7 col0\" >The following translations from German to English contain a particular error. That error will be one of the following types: Named Entities: An entity (names,...</td>\n",
              "      <td id=\"T_5b544_row7_col1\" class=\"data row7 col1\" >(F)</td>\n",
              "      <td id=\"T_5b544_row7_col2\" class=\"data row7 col2\" >identify the error in the translation. We can see that the source text mentions \"Chūō ist einer der 23 Bezirke im Osten der japanischen Präfektur...</td>\n",
              "      <td id=\"T_5b544_row7_col3\" class=\"data row7 col3\" >(D) Named Entities</td>\n",
              "      <td id=\"T_5b544_row7_col4\" class=\"data row7 col4\" >False</td>\n",
              "    </tr>\n",
              "    <tr>\n",
              "      <th id=\"T_5b544_level0_row8\" class=\"row_heading level0 row8\" >8</th>\n",
              "      <td id=\"T_5b544_row8_col0\" class=\"data row8 col0\" >The following translations from German to English contain a particular error. That error will be one of the following types: Named Entities: An entity (names,...</td>\n",
              "      <td id=\"T_5b544_row8_col1\" class=\"data row8 col1\" >(D)</td>\n",
              "      <td id=\"T_5b544_row8_col2\" class=\"data row8 col2\" >identify the error in the translation. We can see that the source text mentions \"Unter dem Namen Espenlaub\" which is changed to \"Under the name...</td>\n",
              "      <td id=\"T_5b544_row8_col3\" class=\"data row8 col3\" >(D) Named Entities</td>\n",
              "      <td id=\"T_5b544_row8_col4\" class=\"data row8 col4\" >✔️ [True]</td>\n",
              "    </tr>\n",
              "    <tr>\n",
              "      <th id=\"T_5b544_level0_row9\" class=\"row_heading level0 row9\" >9</th>\n",
              "      <td id=\"T_5b544_row9_col0\" class=\"data row9 col0\" >The following translations from German to English contain a particular error. That error will be one of the following types: Named Entities: An entity (names,...</td>\n",
              "      <td id=\"T_5b544_row9_col1\" class=\"data row9 col1\" >(D)</td>\n",
              "      <td id=\"T_5b544_row9_col2\" class=\"data row9 col2\" >identify the error in the translation. We can see that the source text mentions the \"Haager Konvention\" (Hague Convention), but the translation incorrectly refers to...</td>\n",
              "      <td id=\"T_5b544_row9_col3\" class=\"data row9 col3\" >(D) Named Entities</td>\n",
              "      <td id=\"T_5b544_row9_col4\" class=\"data row9 col4\" >✔️ [True]</td>\n",
              "    </tr>\n",
              "  </tbody>\n",
              "</table>\n"
            ],
            "text/plain": [
              "<pandas.io.formats.style.Styler at 0x7afa3c1cb0a0>"
            ]
          },
          "metadata": {},
          "output_type": "display_data"
        },
        {
          "data": {
            "text/html": [
              "\n",
              "                <div style='\n",
              "                    text-align: center; \n",
              "                    font-size: 16px; \n",
              "                    font-weight: bold; \n",
              "                    color: #555; \n",
              "                    margin: 10px 0;'>\n",
              "                    ... 220 more rows not displayed ...\n",
              "                </div>\n",
              "                "
            ],
            "text/plain": [
              "<IPython.core.display.HTML object>"
            ]
          },
          "metadata": {},
          "output_type": "display_data"
        },
        {
          "name": "stdout",
          "output_type": "stream",
          "text": [
            "## Retrieval Score for uncompiled : 51.3\n",
            "## Retrieval Score for compiled : 56.52\n",
            "Compilation Improvement: 5.220000000000006%\n"
          ]
        }
      ],
      "source": [
        "compiled_cot_qa_score = evaluate(optimized_cot_qa)\n",
        "uncompiled_cot_qa_score = evaluate(cot_qa)\n",
        "\n",
        "print(f\"## Retrieval Score for uncompiled : {uncompiled_cot_qa_score}\")\n",
        "print(f\"## Retrieval Score for compiled : {compiled_cot_qa_score}\")\n",
        "print(f\"Compilation Improvement: {compiled_cot_qa_score - uncompiled_cot_qa_score}%\")"
      ]
    },
    {
      "cell_type": "markdown",
      "metadata": {
        "id": "phki2BN8cgfg"
      },
      "source": [
        "## 步驟十ㄧ、保存模型\n",
        "\n",
        "做了這麼多訓練跟驗證，總該保存吧～"
      ]
    },
    {
      "cell_type": "code",
      "execution_count": null,
      "metadata": {
        "id": "cpizPofIcfZ1"
      },
      "outputs": [],
      "source": [
        "optimized_qa.save(path=\"optimized_qa_module.json\")"
      ]
    },
    {
      "cell_type": "code",
      "execution_count": null,
      "metadata": {
        "id": "p7-Q9yMl3FG_"
      },
      "outputs": [],
      "source": [
        "optimized_cot_qa.save(path=\"optimized_cot_qa_module.json\")"
      ]
    },
    {
      "cell_type": "markdown",
      "metadata": {
        "id": "tWiESJuFcphk"
      },
      "source": [
        "此評估步驟使我們能夠將優化的 CoT 模組的性能與未優化的版本進行比較，從而為優化過程的有效性提供有價值的見解。結果？"
      ]
    },
    {
      "cell_type": "markdown",
      "metadata": {
        "id": "vl2lsvsDcrUv"
      },
      "source": [
        "## 小結重點整理\n",
        "\n",
        "DSPy 不僅簡化了目前使用 LM 開發複雜系統的流程，而且還為創新開闢了新的可能性。透過減少對手動提示製作和微調的依賴，開發人員可以更專注於其專案的創意和策略方面。這種轉變有可能加速更複雜、更通用的系統的開發，突破語言模型的可能性界線。\n",
        "\n",
        "DSPy 代表了語言模型複雜系統開發領域的重大飛躍。它能夠自動化和優化這些系統中語言模型的使用，不僅可以簡化開發過程，還可以增強所創建解決方案的穩健性和可擴展性。展望未來，我們很清楚像 DSPy 這樣的框架和技術將發揮關鍵作用。"
      ]
    },
    {
      "cell_type": "code",
      "execution_count": null,
      "metadata": {
        "id": "YIt9FcQ3cnmB"
      },
      "outputs": [],
      "source": []
    }
  ],
  "metadata": {
    "accelerator": "GPU",
    "colab": {
      "gpuType": "T4",
      "provenance": [],
      "toc_visible": true
    },
    "kernelspec": {
      "display_name": "Python 3",
      "name": "python3"
    },
    "language_info": {
      "name": "python"
    },
    "widgets": {
      "application/vnd.jupyter.widget-state+json": {
        "05ccdebfbf5449409100a723b0c0f8e6": {
          "model_module": "@jupyter-widgets/controls",
          "model_module_version": "1.5.0",
          "model_name": "HBoxModel",
          "state": {
            "_dom_classes": [],
            "_model_module": "@jupyter-widgets/controls",
            "_model_module_version": "1.5.0",
            "_model_name": "HBoxModel",
            "_view_count": null,
            "_view_module": "@jupyter-widgets/controls",
            "_view_module_version": "1.5.0",
            "_view_name": "HBoxView",
            "box_style": "",
            "children": [
              "IPY_MODEL_8cd933f2f3b1468db626e6b4800746d3",
              "IPY_MODEL_7fed8d08b5de4735aa93cd1ba5785855",
              "IPY_MODEL_8a8bf75924c7428e93e27a92ae9fba98"
            ],
            "layout": "IPY_MODEL_ee10470acdc840e180c05b968126ae40"
          }
        },
        "0658de375bc54268abd65a552485ee44": {
          "model_module": "@jupyter-widgets/controls",
          "model_module_version": "1.5.0",
          "model_name": "ProgressStyleModel",
          "state": {
            "_model_module": "@jupyter-widgets/controls",
            "_model_module_version": "1.5.0",
            "_model_name": "ProgressStyleModel",
            "_view_count": null,
            "_view_module": "@jupyter-widgets/base",
            "_view_module_version": "1.2.0",
            "_view_name": "StyleView",
            "bar_color": null,
            "description_width": ""
          }
        },
        "06638a041f5847eab37de40a1782ac08": {
          "model_module": "@jupyter-widgets/controls",
          "model_module_version": "1.5.0",
          "model_name": "DescriptionStyleModel",
          "state": {
            "_model_module": "@jupyter-widgets/controls",
            "_model_module_version": "1.5.0",
            "_model_name": "DescriptionStyleModel",
            "_view_count": null,
            "_view_module": "@jupyter-widgets/base",
            "_view_module_version": "1.2.0",
            "_view_name": "StyleView",
            "description_width": ""
          }
        },
        "070a5d38479a4c0eb8599fd9a4f2c104": {
          "model_module": "@jupyter-widgets/base",
          "model_module_version": "1.2.0",
          "model_name": "LayoutModel",
          "state": {
            "_model_module": "@jupyter-widgets/base",
            "_model_module_version": "1.2.0",
            "_model_name": "LayoutModel",
            "_view_count": null,
            "_view_module": "@jupyter-widgets/base",
            "_view_module_version": "1.2.0",
            "_view_name": "LayoutView",
            "align_content": null,
            "align_items": null,
            "align_self": null,
            "border": null,
            "bottom": null,
            "display": null,
            "flex": null,
            "flex_flow": null,
            "grid_area": null,
            "grid_auto_columns": null,
            "grid_auto_flow": null,
            "grid_auto_rows": null,
            "grid_column": null,
            "grid_gap": null,
            "grid_row": null,
            "grid_template_areas": null,
            "grid_template_columns": null,
            "grid_template_rows": null,
            "height": null,
            "justify_content": null,
            "justify_items": null,
            "left": null,
            "margin": null,
            "max_height": null,
            "max_width": null,
            "min_height": null,
            "min_width": null,
            "object_fit": null,
            "object_position": null,
            "order": null,
            "overflow": null,
            "overflow_x": null,
            "overflow_y": null,
            "padding": null,
            "right": null,
            "top": null,
            "visibility": null,
            "width": null
          }
        },
        "08ccd8e734674cbfb2a9acadef64e774": {
          "model_module": "@jupyter-widgets/base",
          "model_module_version": "1.2.0",
          "model_name": "LayoutModel",
          "state": {
            "_model_module": "@jupyter-widgets/base",
            "_model_module_version": "1.2.0",
            "_model_name": "LayoutModel",
            "_view_count": null,
            "_view_module": "@jupyter-widgets/base",
            "_view_module_version": "1.2.0",
            "_view_name": "LayoutView",
            "align_content": null,
            "align_items": null,
            "align_self": null,
            "border": null,
            "bottom": null,
            "display": null,
            "flex": null,
            "flex_flow": null,
            "grid_area": null,
            "grid_auto_columns": null,
            "grid_auto_flow": null,
            "grid_auto_rows": null,
            "grid_column": null,
            "grid_gap": null,
            "grid_row": null,
            "grid_template_areas": null,
            "grid_template_columns": null,
            "grid_template_rows": null,
            "height": null,
            "justify_content": null,
            "justify_items": null,
            "left": null,
            "margin": null,
            "max_height": null,
            "max_width": null,
            "min_height": null,
            "min_width": null,
            "object_fit": null,
            "object_position": null,
            "order": null,
            "overflow": null,
            "overflow_x": null,
            "overflow_y": null,
            "padding": null,
            "right": null,
            "top": null,
            "visibility": null,
            "width": null
          }
        },
        "0cfcfd2f37c34a9ba898653a93ce03d9": {
          "model_module": "@jupyter-widgets/controls",
          "model_module_version": "1.5.0",
          "model_name": "DescriptionStyleModel",
          "state": {
            "_model_module": "@jupyter-widgets/controls",
            "_model_module_version": "1.5.0",
            "_model_name": "DescriptionStyleModel",
            "_view_count": null,
            "_view_module": "@jupyter-widgets/base",
            "_view_module_version": "1.2.0",
            "_view_name": "StyleView",
            "description_width": ""
          }
        },
        "1556b358f3474995815388cff5699e7f": {
          "model_module": "@jupyter-widgets/controls",
          "model_module_version": "1.5.0",
          "model_name": "HBoxModel",
          "state": {
            "_dom_classes": [],
            "_model_module": "@jupyter-widgets/controls",
            "_model_module_version": "1.5.0",
            "_model_name": "HBoxModel",
            "_view_count": null,
            "_view_module": "@jupyter-widgets/controls",
            "_view_module_version": "1.5.0",
            "_view_name": "HBoxView",
            "box_style": "",
            "children": [
              "IPY_MODEL_d55c049f6aad40d09a5d903a283cbf88",
              "IPY_MODEL_8668b0fb1e61437081cc4d8d14b933ed",
              "IPY_MODEL_3b71975c6e024718bdb7e9c45187f1d0"
            ],
            "layout": "IPY_MODEL_bc5f7f0616b24838b12c05e5c45be756"
          }
        },
        "171c0c4328da404ca363850df31d412f": {
          "model_module": "@jupyter-widgets/base",
          "model_module_version": "1.2.0",
          "model_name": "LayoutModel",
          "state": {
            "_model_module": "@jupyter-widgets/base",
            "_model_module_version": "1.2.0",
            "_model_name": "LayoutModel",
            "_view_count": null,
            "_view_module": "@jupyter-widgets/base",
            "_view_module_version": "1.2.0",
            "_view_name": "LayoutView",
            "align_content": null,
            "align_items": null,
            "align_self": null,
            "border": null,
            "bottom": null,
            "display": null,
            "flex": null,
            "flex_flow": null,
            "grid_area": null,
            "grid_auto_columns": null,
            "grid_auto_flow": null,
            "grid_auto_rows": null,
            "grid_column": null,
            "grid_gap": null,
            "grid_row": null,
            "grid_template_areas": null,
            "grid_template_columns": null,
            "grid_template_rows": null,
            "height": null,
            "justify_content": null,
            "justify_items": null,
            "left": null,
            "margin": null,
            "max_height": null,
            "max_width": null,
            "min_height": null,
            "min_width": null,
            "object_fit": null,
            "object_position": null,
            "order": null,
            "overflow": null,
            "overflow_x": null,
            "overflow_y": null,
            "padding": null,
            "right": null,
            "top": null,
            "visibility": null,
            "width": null
          }
        },
        "173f30a9c5d04cdbb7024537cfa29b6c": {
          "model_module": "@jupyter-widgets/base",
          "model_module_version": "1.2.0",
          "model_name": "LayoutModel",
          "state": {
            "_model_module": "@jupyter-widgets/base",
            "_model_module_version": "1.2.0",
            "_model_name": "LayoutModel",
            "_view_count": null,
            "_view_module": "@jupyter-widgets/base",
            "_view_module_version": "1.2.0",
            "_view_name": "LayoutView",
            "align_content": null,
            "align_items": null,
            "align_self": null,
            "border": null,
            "bottom": null,
            "display": null,
            "flex": null,
            "flex_flow": null,
            "grid_area": null,
            "grid_auto_columns": null,
            "grid_auto_flow": null,
            "grid_auto_rows": null,
            "grid_column": null,
            "grid_gap": null,
            "grid_row": null,
            "grid_template_areas": null,
            "grid_template_columns": null,
            "grid_template_rows": null,
            "height": null,
            "justify_content": null,
            "justify_items": null,
            "left": null,
            "margin": null,
            "max_height": null,
            "max_width": null,
            "min_height": null,
            "min_width": null,
            "object_fit": null,
            "object_position": null,
            "order": null,
            "overflow": null,
            "overflow_x": null,
            "overflow_y": null,
            "padding": null,
            "right": null,
            "top": null,
            "visibility": null,
            "width": "20px"
          }
        },
        "17e3e890dd584266bb28a63bf11d2d4d": {
          "model_module": "@jupyter-widgets/base",
          "model_module_version": "1.2.0",
          "model_name": "LayoutModel",
          "state": {
            "_model_module": "@jupyter-widgets/base",
            "_model_module_version": "1.2.0",
            "_model_name": "LayoutModel",
            "_view_count": null,
            "_view_module": "@jupyter-widgets/base",
            "_view_module_version": "1.2.0",
            "_view_name": "LayoutView",
            "align_content": null,
            "align_items": null,
            "align_self": null,
            "border": null,
            "bottom": null,
            "display": null,
            "flex": null,
            "flex_flow": null,
            "grid_area": null,
            "grid_auto_columns": null,
            "grid_auto_flow": null,
            "grid_auto_rows": null,
            "grid_column": null,
            "grid_gap": null,
            "grid_row": null,
            "grid_template_areas": null,
            "grid_template_columns": null,
            "grid_template_rows": null,
            "height": null,
            "justify_content": null,
            "justify_items": null,
            "left": null,
            "margin": null,
            "max_height": null,
            "max_width": null,
            "min_height": null,
            "min_width": null,
            "object_fit": null,
            "object_position": null,
            "order": null,
            "overflow": null,
            "overflow_x": null,
            "overflow_y": null,
            "padding": null,
            "right": null,
            "top": null,
            "visibility": null,
            "width": null
          }
        },
        "290688bede3b4ef9b207c427945d1cf4": {
          "model_module": "@jupyter-widgets/base",
          "model_module_version": "1.2.0",
          "model_name": "LayoutModel",
          "state": {
            "_model_module": "@jupyter-widgets/base",
            "_model_module_version": "1.2.0",
            "_model_name": "LayoutModel",
            "_view_count": null,
            "_view_module": "@jupyter-widgets/base",
            "_view_module_version": "1.2.0",
            "_view_name": "LayoutView",
            "align_content": null,
            "align_items": null,
            "align_self": null,
            "border": null,
            "bottom": null,
            "display": null,
            "flex": null,
            "flex_flow": null,
            "grid_area": null,
            "grid_auto_columns": null,
            "grid_auto_flow": null,
            "grid_auto_rows": null,
            "grid_column": null,
            "grid_gap": null,
            "grid_row": null,
            "grid_template_areas": null,
            "grid_template_columns": null,
            "grid_template_rows": null,
            "height": null,
            "justify_content": null,
            "justify_items": null,
            "left": null,
            "margin": null,
            "max_height": null,
            "max_width": null,
            "min_height": null,
            "min_width": null,
            "object_fit": null,
            "object_position": null,
            "order": null,
            "overflow": null,
            "overflow_x": null,
            "overflow_y": null,
            "padding": null,
            "right": null,
            "top": null,
            "visibility": null,
            "width": null
          }
        },
        "30a596d5760942618fc00ef5585c8f01": {
          "model_module": "@jupyter-widgets/base",
          "model_module_version": "1.2.0",
          "model_name": "LayoutModel",
          "state": {
            "_model_module": "@jupyter-widgets/base",
            "_model_module_version": "1.2.0",
            "_model_name": "LayoutModel",
            "_view_count": null,
            "_view_module": "@jupyter-widgets/base",
            "_view_module_version": "1.2.0",
            "_view_name": "LayoutView",
            "align_content": null,
            "align_items": null,
            "align_self": null,
            "border": null,
            "bottom": null,
            "display": null,
            "flex": null,
            "flex_flow": null,
            "grid_area": null,
            "grid_auto_columns": null,
            "grid_auto_flow": null,
            "grid_auto_rows": null,
            "grid_column": null,
            "grid_gap": null,
            "grid_row": null,
            "grid_template_areas": null,
            "grid_template_columns": null,
            "grid_template_rows": null,
            "height": null,
            "justify_content": null,
            "justify_items": null,
            "left": null,
            "margin": null,
            "max_height": null,
            "max_width": null,
            "min_height": null,
            "min_width": null,
            "object_fit": null,
            "object_position": null,
            "order": null,
            "overflow": null,
            "overflow_x": null,
            "overflow_y": null,
            "padding": null,
            "right": null,
            "top": null,
            "visibility": null,
            "width": null
          }
        },
        "3a7b709744394972abd507e3e5d7ec27": {
          "model_module": "@jupyter-widgets/controls",
          "model_module_version": "1.5.0",
          "model_name": "ProgressStyleModel",
          "state": {
            "_model_module": "@jupyter-widgets/controls",
            "_model_module_version": "1.5.0",
            "_model_name": "ProgressStyleModel",
            "_view_count": null,
            "_view_module": "@jupyter-widgets/base",
            "_view_module_version": "1.2.0",
            "_view_name": "StyleView",
            "bar_color": null,
            "description_width": ""
          }
        },
        "3b71975c6e024718bdb7e9c45187f1d0": {
          "model_module": "@jupyter-widgets/controls",
          "model_module_version": "1.5.0",
          "model_name": "HTMLModel",
          "state": {
            "_dom_classes": [],
            "_model_module": "@jupyter-widgets/controls",
            "_model_module_version": "1.5.0",
            "_model_name": "HTMLModel",
            "_view_count": null,
            "_view_module": "@jupyter-widgets/controls",
            "_view_module_version": "1.5.0",
            "_view_name": "HTMLView",
            "description": "",
            "description_tooltip": null,
            "layout": "IPY_MODEL_e68337e03d51410a8b11048a3a4ed5a9",
            "placeholder": "​",
            "style": "IPY_MODEL_8614f7cdad8548dc9aab05c091aac889",
            "value": " 7.16k/7.16k [00:00&lt;00:00, 501kB/s]"
          }
        },
        "401c4f9554434a3a83fda092b643a35f": {
          "model_module": "@jupyter-widgets/controls",
          "model_module_version": "1.5.0",
          "model_name": "FloatProgressModel",
          "state": {
            "_dom_classes": [],
            "_model_module": "@jupyter-widgets/controls",
            "_model_module_version": "1.5.0",
            "_model_name": "FloatProgressModel",
            "_view_count": null,
            "_view_module": "@jupyter-widgets/controls",
            "_view_module_version": "1.5.0",
            "_view_name": "ProgressView",
            "bar_style": "success",
            "description": "",
            "description_tooltip": null,
            "layout": "IPY_MODEL_778e590082414d928ae0031fad0efde9",
            "max": 4367,
            "min": 0,
            "orientation": "horizontal",
            "style": "IPY_MODEL_3a7b709744394972abd507e3e5d7ec27",
            "value": 4367
          }
        },
        "4a27100036984685a7c50ad55d7ac0f5": {
          "model_module": "@jupyter-widgets/controls",
          "model_module_version": "1.5.0",
          "model_name": "DescriptionStyleModel",
          "state": {
            "_model_module": "@jupyter-widgets/controls",
            "_model_module_version": "1.5.0",
            "_model_name": "DescriptionStyleModel",
            "_view_count": null,
            "_view_module": "@jupyter-widgets/base",
            "_view_module_version": "1.2.0",
            "_view_name": "StyleView",
            "description_width": ""
          }
        },
        "6120af350e9a4db49a56189f1a1f62ed": {
          "model_module": "@jupyter-widgets/controls",
          "model_module_version": "1.5.0",
          "model_name": "DescriptionStyleModel",
          "state": {
            "_model_module": "@jupyter-widgets/controls",
            "_model_module_version": "1.5.0",
            "_model_name": "DescriptionStyleModel",
            "_view_count": null,
            "_view_module": "@jupyter-widgets/base",
            "_view_module_version": "1.2.0",
            "_view_name": "StyleView",
            "description_width": ""
          }
        },
        "6175d975b2d74808831dda91968180ab": {
          "model_module": "@jupyter-widgets/base",
          "model_module_version": "1.2.0",
          "model_name": "LayoutModel",
          "state": {
            "_model_module": "@jupyter-widgets/base",
            "_model_module_version": "1.2.0",
            "_model_name": "LayoutModel",
            "_view_count": null,
            "_view_module": "@jupyter-widgets/base",
            "_view_module_version": "1.2.0",
            "_view_name": "LayoutView",
            "align_content": null,
            "align_items": null,
            "align_self": null,
            "border": null,
            "bottom": null,
            "display": null,
            "flex": null,
            "flex_flow": null,
            "grid_area": null,
            "grid_auto_columns": null,
            "grid_auto_flow": null,
            "grid_auto_rows": null,
            "grid_column": null,
            "grid_gap": null,
            "grid_row": null,
            "grid_template_areas": null,
            "grid_template_columns": null,
            "grid_template_rows": null,
            "height": null,
            "justify_content": null,
            "justify_items": null,
            "left": null,
            "margin": null,
            "max_height": null,
            "max_width": null,
            "min_height": null,
            "min_width": null,
            "object_fit": null,
            "object_position": null,
            "order": null,
            "overflow": null,
            "overflow_x": null,
            "overflow_y": null,
            "padding": null,
            "right": null,
            "top": null,
            "visibility": null,
            "width": null
          }
        },
        "66149500aba647ca89a5196f5284100a": {
          "model_module": "@jupyter-widgets/base",
          "model_module_version": "1.2.0",
          "model_name": "LayoutModel",
          "state": {
            "_model_module": "@jupyter-widgets/base",
            "_model_module_version": "1.2.0",
            "_model_name": "LayoutModel",
            "_view_count": null,
            "_view_module": "@jupyter-widgets/base",
            "_view_module_version": "1.2.0",
            "_view_name": "LayoutView",
            "align_content": null,
            "align_items": null,
            "align_self": null,
            "border": null,
            "bottom": null,
            "display": null,
            "flex": null,
            "flex_flow": null,
            "grid_area": null,
            "grid_auto_columns": null,
            "grid_auto_flow": null,
            "grid_auto_rows": null,
            "grid_column": null,
            "grid_gap": null,
            "grid_row": null,
            "grid_template_areas": null,
            "grid_template_columns": null,
            "grid_template_rows": null,
            "height": null,
            "justify_content": null,
            "justify_items": null,
            "left": null,
            "margin": null,
            "max_height": null,
            "max_width": null,
            "min_height": null,
            "min_width": null,
            "object_fit": null,
            "object_position": null,
            "order": null,
            "overflow": null,
            "overflow_x": null,
            "overflow_y": null,
            "padding": null,
            "right": null,
            "top": null,
            "visibility": null,
            "width": null
          }
        },
        "66cbe9b5bde945c48f07fb7a05a659eb": {
          "model_module": "@jupyter-widgets/controls",
          "model_module_version": "1.5.0",
          "model_name": "HTMLModel",
          "state": {
            "_dom_classes": [],
            "_model_module": "@jupyter-widgets/controls",
            "_model_module_version": "1.5.0",
            "_model_name": "HTMLModel",
            "_view_count": null,
            "_view_module": "@jupyter-widgets/controls",
            "_view_module_version": "1.5.0",
            "_view_name": "HTMLView",
            "description": "",
            "description_tooltip": null,
            "layout": "IPY_MODEL_30a596d5760942618fc00ef5585c8f01",
            "placeholder": "​",
            "style": "IPY_MODEL_fa137a447f11453bbab33f09fdeeb67f",
            "value": " 286k/? [00:00&lt;00:00, 12.2MB/s]"
          }
        },
        "684dd4a4b33b46f09b07ef6137fb2477": {
          "model_module": "@jupyter-widgets/controls",
          "model_module_version": "1.5.0",
          "model_name": "DescriptionStyleModel",
          "state": {
            "_model_module": "@jupyter-widgets/controls",
            "_model_module_version": "1.5.0",
            "_model_name": "DescriptionStyleModel",
            "_view_count": null,
            "_view_module": "@jupyter-widgets/base",
            "_view_module_version": "1.2.0",
            "_view_name": "StyleView",
            "description_width": ""
          }
        },
        "68bb2d4b58af4d21af2722efb712ca73": {
          "model_module": "@jupyter-widgets/controls",
          "model_module_version": "1.5.0",
          "model_name": "HBoxModel",
          "state": {
            "_dom_classes": [],
            "_model_module": "@jupyter-widgets/controls",
            "_model_module_version": "1.5.0",
            "_model_name": "HBoxModel",
            "_view_count": null,
            "_view_module": "@jupyter-widgets/controls",
            "_view_module_version": "1.5.0",
            "_view_name": "HBoxView",
            "box_style": "",
            "children": [
              "IPY_MODEL_a08950bcfe7f4bcfac7bf135a1ded3e6",
              "IPY_MODEL_d7210f2b748a4aecb1464e0fa3d46ead",
              "IPY_MODEL_66cbe9b5bde945c48f07fb7a05a659eb"
            ],
            "layout": "IPY_MODEL_7603e57a3ace424bbeb40c3668b0b4be"
          }
        },
        "71dbe72d22274e579e095589c3058fb6": {
          "model_module": "@jupyter-widgets/controls",
          "model_module_version": "1.5.0",
          "model_name": "ProgressStyleModel",
          "state": {
            "_model_module": "@jupyter-widgets/controls",
            "_model_module_version": "1.5.0",
            "_model_name": "ProgressStyleModel",
            "_view_count": null,
            "_view_module": "@jupyter-widgets/base",
            "_view_module_version": "1.2.0",
            "_view_name": "StyleView",
            "bar_color": null,
            "description_width": ""
          }
        },
        "736fd405dd644c6cabb03e421d3f779f": {
          "model_module": "@jupyter-widgets/base",
          "model_module_version": "1.2.0",
          "model_name": "LayoutModel",
          "state": {
            "_model_module": "@jupyter-widgets/base",
            "_model_module_version": "1.2.0",
            "_model_name": "LayoutModel",
            "_view_count": null,
            "_view_module": "@jupyter-widgets/base",
            "_view_module_version": "1.2.0",
            "_view_name": "LayoutView",
            "align_content": null,
            "align_items": null,
            "align_self": null,
            "border": null,
            "bottom": null,
            "display": null,
            "flex": null,
            "flex_flow": null,
            "grid_area": null,
            "grid_auto_columns": null,
            "grid_auto_flow": null,
            "grid_auto_rows": null,
            "grid_column": null,
            "grid_gap": null,
            "grid_row": null,
            "grid_template_areas": null,
            "grid_template_columns": null,
            "grid_template_rows": null,
            "height": null,
            "justify_content": null,
            "justify_items": null,
            "left": null,
            "margin": null,
            "max_height": null,
            "max_width": null,
            "min_height": null,
            "min_width": null,
            "object_fit": null,
            "object_position": null,
            "order": null,
            "overflow": null,
            "overflow_x": null,
            "overflow_y": null,
            "padding": null,
            "right": null,
            "top": null,
            "visibility": null,
            "width": null
          }
        },
        "7603e57a3ace424bbeb40c3668b0b4be": {
          "model_module": "@jupyter-widgets/base",
          "model_module_version": "1.2.0",
          "model_name": "LayoutModel",
          "state": {
            "_model_module": "@jupyter-widgets/base",
            "_model_module_version": "1.2.0",
            "_model_name": "LayoutModel",
            "_view_count": null,
            "_view_module": "@jupyter-widgets/base",
            "_view_module_version": "1.2.0",
            "_view_name": "LayoutView",
            "align_content": null,
            "align_items": null,
            "align_self": null,
            "border": null,
            "bottom": null,
            "display": null,
            "flex": null,
            "flex_flow": null,
            "grid_area": null,
            "grid_auto_columns": null,
            "grid_auto_flow": null,
            "grid_auto_rows": null,
            "grid_column": null,
            "grid_gap": null,
            "grid_row": null,
            "grid_template_areas": null,
            "grid_template_columns": null,
            "grid_template_rows": null,
            "height": null,
            "justify_content": null,
            "justify_items": null,
            "left": null,
            "margin": null,
            "max_height": null,
            "max_width": null,
            "min_height": null,
            "min_width": null,
            "object_fit": null,
            "object_position": null,
            "order": null,
            "overflow": null,
            "overflow_x": null,
            "overflow_y": null,
            "padding": null,
            "right": null,
            "top": null,
            "visibility": null,
            "width": null
          }
        },
        "778e590082414d928ae0031fad0efde9": {
          "model_module": "@jupyter-widgets/base",
          "model_module_version": "1.2.0",
          "model_name": "LayoutModel",
          "state": {
            "_model_module": "@jupyter-widgets/base",
            "_model_module_version": "1.2.0",
            "_model_name": "LayoutModel",
            "_view_count": null,
            "_view_module": "@jupyter-widgets/base",
            "_view_module_version": "1.2.0",
            "_view_name": "LayoutView",
            "align_content": null,
            "align_items": null,
            "align_self": null,
            "border": null,
            "bottom": null,
            "display": null,
            "flex": null,
            "flex_flow": null,
            "grid_area": null,
            "grid_auto_columns": null,
            "grid_auto_flow": null,
            "grid_auto_rows": null,
            "grid_column": null,
            "grid_gap": null,
            "grid_row": null,
            "grid_template_areas": null,
            "grid_template_columns": null,
            "grid_template_rows": null,
            "height": null,
            "justify_content": null,
            "justify_items": null,
            "left": null,
            "margin": null,
            "max_height": null,
            "max_width": null,
            "min_height": null,
            "min_width": null,
            "object_fit": null,
            "object_position": null,
            "order": null,
            "overflow": null,
            "overflow_x": null,
            "overflow_y": null,
            "padding": null,
            "right": null,
            "top": null,
            "visibility": null,
            "width": null
          }
        },
        "7b4dd596540640b79eedb5b61ec85ea1": {
          "model_module": "@jupyter-widgets/controls",
          "model_module_version": "1.5.0",
          "model_name": "HBoxModel",
          "state": {
            "_dom_classes": [],
            "_model_module": "@jupyter-widgets/controls",
            "_model_module_version": "1.5.0",
            "_model_name": "HBoxModel",
            "_view_count": null,
            "_view_module": "@jupyter-widgets/controls",
            "_view_module_version": "1.5.0",
            "_view_name": "HBoxView",
            "box_style": "",
            "children": [
              "IPY_MODEL_aea7d3151d024e0d9d1f48f2c9d1f90a",
              "IPY_MODEL_401c4f9554434a3a83fda092b643a35f",
              "IPY_MODEL_d26b0e20876f4f4aa6a5a4cfb90d6fd3"
            ],
            "layout": "IPY_MODEL_08ccd8e734674cbfb2a9acadef64e774"
          }
        },
        "7fed8d08b5de4735aa93cd1ba5785855": {
          "model_module": "@jupyter-widgets/controls",
          "model_module_version": "1.5.0",
          "model_name": "FloatProgressModel",
          "state": {
            "_dom_classes": [],
            "_model_module": "@jupyter-widgets/controls",
            "_model_module_version": "1.5.0",
            "_model_name": "FloatProgressModel",
            "_view_count": null,
            "_view_module": "@jupyter-widgets/controls",
            "_view_module_version": "1.5.0",
            "_view_name": "ProgressView",
            "bar_style": "success",
            "description": "",
            "description_tooltip": null,
            "layout": "IPY_MODEL_173f30a9c5d04cdbb7024537cfa29b6c",
            "max": 1,
            "min": 0,
            "orientation": "horizontal",
            "style": "IPY_MODEL_c905014abe6245738d13aa706324cc0c",
            "value": 1
          }
        },
        "8614f7cdad8548dc9aab05c091aac889": {
          "model_module": "@jupyter-widgets/controls",
          "model_module_version": "1.5.0",
          "model_name": "DescriptionStyleModel",
          "state": {
            "_model_module": "@jupyter-widgets/controls",
            "_model_module_version": "1.5.0",
            "_model_name": "DescriptionStyleModel",
            "_view_count": null,
            "_view_module": "@jupyter-widgets/base",
            "_view_module_version": "1.2.0",
            "_view_name": "StyleView",
            "description_width": ""
          }
        },
        "8668b0fb1e61437081cc4d8d14b933ed": {
          "model_module": "@jupyter-widgets/controls",
          "model_module_version": "1.5.0",
          "model_name": "FloatProgressModel",
          "state": {
            "_dom_classes": [],
            "_model_module": "@jupyter-widgets/controls",
            "_model_module_version": "1.5.0",
            "_model_name": "FloatProgressModel",
            "_view_count": null,
            "_view_module": "@jupyter-widgets/controls",
            "_view_module_version": "1.5.0",
            "_view_name": "ProgressView",
            "bar_style": "success",
            "description": "",
            "description_tooltip": null,
            "layout": "IPY_MODEL_171c0c4328da404ca363850df31d412f",
            "max": 7159,
            "min": 0,
            "orientation": "horizontal",
            "style": "IPY_MODEL_0658de375bc54268abd65a552485ee44",
            "value": 7159
          }
        },
        "8a8bf75924c7428e93e27a92ae9fba98": {
          "model_module": "@jupyter-widgets/controls",
          "model_module_version": "1.5.0",
          "model_name": "HTMLModel",
          "state": {
            "_dom_classes": [],
            "_model_module": "@jupyter-widgets/controls",
            "_model_module_version": "1.5.0",
            "_model_name": "HTMLModel",
            "_view_count": null,
            "_view_module": "@jupyter-widgets/controls",
            "_view_module_version": "1.5.0",
            "_view_name": "HTMLView",
            "description": "",
            "description_tooltip": null,
            "layout": "IPY_MODEL_070a5d38479a4c0eb8599fd9a4f2c104",
            "placeholder": "​",
            "style": "IPY_MODEL_0cfcfd2f37c34a9ba898653a93ce03d9",
            "value": " 250/0 [00:00&lt;00:00, 2911.49 examples/s]"
          }
        },
        "8cd933f2f3b1468db626e6b4800746d3": {
          "model_module": "@jupyter-widgets/controls",
          "model_module_version": "1.5.0",
          "model_name": "HTMLModel",
          "state": {
            "_dom_classes": [],
            "_model_module": "@jupyter-widgets/controls",
            "_model_module_version": "1.5.0",
            "_model_name": "HTMLModel",
            "_view_count": null,
            "_view_module": "@jupyter-widgets/controls",
            "_view_module_version": "1.5.0",
            "_view_name": "HTMLView",
            "description": "",
            "description_tooltip": null,
            "layout": "IPY_MODEL_17e3e890dd584266bb28a63bf11d2d4d",
            "placeholder": "​",
            "style": "IPY_MODEL_ce139d8c84ef42b783a53bfd9fc5923e",
            "value": "Generating train split: "
          }
        },
        "a08950bcfe7f4bcfac7bf135a1ded3e6": {
          "model_module": "@jupyter-widgets/controls",
          "model_module_version": "1.5.0",
          "model_name": "HTMLModel",
          "state": {
            "_dom_classes": [],
            "_model_module": "@jupyter-widgets/controls",
            "_model_module_version": "1.5.0",
            "_model_name": "HTMLModel",
            "_view_count": null,
            "_view_module": "@jupyter-widgets/controls",
            "_view_module_version": "1.5.0",
            "_view_name": "HTMLView",
            "description": "",
            "description_tooltip": null,
            "layout": "IPY_MODEL_736fd405dd644c6cabb03e421d3f779f",
            "placeholder": "​",
            "style": "IPY_MODEL_4a27100036984685a7c50ad55d7ac0f5",
            "value": "Downloading data: "
          }
        },
        "aea7d3151d024e0d9d1f48f2c9d1f90a": {
          "model_module": "@jupyter-widgets/controls",
          "model_module_version": "1.5.0",
          "model_name": "HTMLModel",
          "state": {
            "_dom_classes": [],
            "_model_module": "@jupyter-widgets/controls",
            "_model_module_version": "1.5.0",
            "_model_name": "HTMLModel",
            "_view_count": null,
            "_view_module": "@jupyter-widgets/controls",
            "_view_module_version": "1.5.0",
            "_view_name": "HTMLView",
            "description": "",
            "description_tooltip": null,
            "layout": "IPY_MODEL_f40b7765bd9d475db36149f07fc69dc6",
            "placeholder": "​",
            "style": "IPY_MODEL_6120af350e9a4db49a56189f1a1f62ed",
            "value": "Downloading builder script: 100%"
          }
        },
        "bc5f7f0616b24838b12c05e5c45be756": {
          "model_module": "@jupyter-widgets/base",
          "model_module_version": "1.2.0",
          "model_name": "LayoutModel",
          "state": {
            "_model_module": "@jupyter-widgets/base",
            "_model_module_version": "1.2.0",
            "_model_name": "LayoutModel",
            "_view_count": null,
            "_view_module": "@jupyter-widgets/base",
            "_view_module_version": "1.2.0",
            "_view_name": "LayoutView",
            "align_content": null,
            "align_items": null,
            "align_self": null,
            "border": null,
            "bottom": null,
            "display": null,
            "flex": null,
            "flex_flow": null,
            "grid_area": null,
            "grid_auto_columns": null,
            "grid_auto_flow": null,
            "grid_auto_rows": null,
            "grid_column": null,
            "grid_gap": null,
            "grid_row": null,
            "grid_template_areas": null,
            "grid_template_columns": null,
            "grid_template_rows": null,
            "height": null,
            "justify_content": null,
            "justify_items": null,
            "left": null,
            "margin": null,
            "max_height": null,
            "max_width": null,
            "min_height": null,
            "min_width": null,
            "object_fit": null,
            "object_position": null,
            "order": null,
            "overflow": null,
            "overflow_x": null,
            "overflow_y": null,
            "padding": null,
            "right": null,
            "top": null,
            "visibility": null,
            "width": null
          }
        },
        "c905014abe6245738d13aa706324cc0c": {
          "model_module": "@jupyter-widgets/controls",
          "model_module_version": "1.5.0",
          "model_name": "ProgressStyleModel",
          "state": {
            "_model_module": "@jupyter-widgets/controls",
            "_model_module_version": "1.5.0",
            "_model_name": "ProgressStyleModel",
            "_view_count": null,
            "_view_module": "@jupyter-widgets/base",
            "_view_module_version": "1.2.0",
            "_view_name": "StyleView",
            "bar_color": null,
            "description_width": ""
          }
        },
        "ce139d8c84ef42b783a53bfd9fc5923e": {
          "model_module": "@jupyter-widgets/controls",
          "model_module_version": "1.5.0",
          "model_name": "DescriptionStyleModel",
          "state": {
            "_model_module": "@jupyter-widgets/controls",
            "_model_module_version": "1.5.0",
            "_model_name": "DescriptionStyleModel",
            "_view_count": null,
            "_view_module": "@jupyter-widgets/base",
            "_view_module_version": "1.2.0",
            "_view_name": "StyleView",
            "description_width": ""
          }
        },
        "d26b0e20876f4f4aa6a5a4cfb90d6fd3": {
          "model_module": "@jupyter-widgets/controls",
          "model_module_version": "1.5.0",
          "model_name": "HTMLModel",
          "state": {
            "_dom_classes": [],
            "_model_module": "@jupyter-widgets/controls",
            "_model_module_version": "1.5.0",
            "_model_name": "HTMLModel",
            "_view_count": null,
            "_view_module": "@jupyter-widgets/controls",
            "_view_module_version": "1.5.0",
            "_view_name": "HTMLView",
            "description": "",
            "description_tooltip": null,
            "layout": "IPY_MODEL_66149500aba647ca89a5196f5284100a",
            "placeholder": "​",
            "style": "IPY_MODEL_684dd4a4b33b46f09b07ef6137fb2477",
            "value": " 4.37k/4.37k [00:00&lt;00:00, 277kB/s]"
          }
        },
        "d55c049f6aad40d09a5d903a283cbf88": {
          "model_module": "@jupyter-widgets/controls",
          "model_module_version": "1.5.0",
          "model_name": "HTMLModel",
          "state": {
            "_dom_classes": [],
            "_model_module": "@jupyter-widgets/controls",
            "_model_module_version": "1.5.0",
            "_model_name": "HTMLModel",
            "_view_count": null,
            "_view_module": "@jupyter-widgets/controls",
            "_view_module_version": "1.5.0",
            "_view_name": "HTMLView",
            "description": "",
            "description_tooltip": null,
            "layout": "IPY_MODEL_290688bede3b4ef9b207c427945d1cf4",
            "placeholder": "​",
            "style": "IPY_MODEL_06638a041f5847eab37de40a1782ac08",
            "value": "Downloading readme: 100%"
          }
        },
        "d7210f2b748a4aecb1464e0fa3d46ead": {
          "model_module": "@jupyter-widgets/controls",
          "model_module_version": "1.5.0",
          "model_name": "FloatProgressModel",
          "state": {
            "_dom_classes": [],
            "_model_module": "@jupyter-widgets/controls",
            "_model_module_version": "1.5.0",
            "_model_name": "FloatProgressModel",
            "_view_count": null,
            "_view_module": "@jupyter-widgets/controls",
            "_view_module_version": "1.5.0",
            "_view_name": "ProgressView",
            "bar_style": "success",
            "description": "",
            "description_tooltip": null,
            "layout": "IPY_MODEL_6175d975b2d74808831dda91968180ab",
            "max": 26426,
            "min": 0,
            "orientation": "horizontal",
            "style": "IPY_MODEL_71dbe72d22274e579e095589c3058fb6",
            "value": 26426
          }
        },
        "e68337e03d51410a8b11048a3a4ed5a9": {
          "model_module": "@jupyter-widgets/base",
          "model_module_version": "1.2.0",
          "model_name": "LayoutModel",
          "state": {
            "_model_module": "@jupyter-widgets/base",
            "_model_module_version": "1.2.0",
            "_model_name": "LayoutModel",
            "_view_count": null,
            "_view_module": "@jupyter-widgets/base",
            "_view_module_version": "1.2.0",
            "_view_name": "LayoutView",
            "align_content": null,
            "align_items": null,
            "align_self": null,
            "border": null,
            "bottom": null,
            "display": null,
            "flex": null,
            "flex_flow": null,
            "grid_area": null,
            "grid_auto_columns": null,
            "grid_auto_flow": null,
            "grid_auto_rows": null,
            "grid_column": null,
            "grid_gap": null,
            "grid_row": null,
            "grid_template_areas": null,
            "grid_template_columns": null,
            "grid_template_rows": null,
            "height": null,
            "justify_content": null,
            "justify_items": null,
            "left": null,
            "margin": null,
            "max_height": null,
            "max_width": null,
            "min_height": null,
            "min_width": null,
            "object_fit": null,
            "object_position": null,
            "order": null,
            "overflow": null,
            "overflow_x": null,
            "overflow_y": null,
            "padding": null,
            "right": null,
            "top": null,
            "visibility": null,
            "width": null
          }
        },
        "ee10470acdc840e180c05b968126ae40": {
          "model_module": "@jupyter-widgets/base",
          "model_module_version": "1.2.0",
          "model_name": "LayoutModel",
          "state": {
            "_model_module": "@jupyter-widgets/base",
            "_model_module_version": "1.2.0",
            "_model_name": "LayoutModel",
            "_view_count": null,
            "_view_module": "@jupyter-widgets/base",
            "_view_module_version": "1.2.0",
            "_view_name": "LayoutView",
            "align_content": null,
            "align_items": null,
            "align_self": null,
            "border": null,
            "bottom": null,
            "display": null,
            "flex": null,
            "flex_flow": null,
            "grid_area": null,
            "grid_auto_columns": null,
            "grid_auto_flow": null,
            "grid_auto_rows": null,
            "grid_column": null,
            "grid_gap": null,
            "grid_row": null,
            "grid_template_areas": null,
            "grid_template_columns": null,
            "grid_template_rows": null,
            "height": null,
            "justify_content": null,
            "justify_items": null,
            "left": null,
            "margin": null,
            "max_height": null,
            "max_width": null,
            "min_height": null,
            "min_width": null,
            "object_fit": null,
            "object_position": null,
            "order": null,
            "overflow": null,
            "overflow_x": null,
            "overflow_y": null,
            "padding": null,
            "right": null,
            "top": null,
            "visibility": null,
            "width": null
          }
        },
        "f40b7765bd9d475db36149f07fc69dc6": {
          "model_module": "@jupyter-widgets/base",
          "model_module_version": "1.2.0",
          "model_name": "LayoutModel",
          "state": {
            "_model_module": "@jupyter-widgets/base",
            "_model_module_version": "1.2.0",
            "_model_name": "LayoutModel",
            "_view_count": null,
            "_view_module": "@jupyter-widgets/base",
            "_view_module_version": "1.2.0",
            "_view_name": "LayoutView",
            "align_content": null,
            "align_items": null,
            "align_self": null,
            "border": null,
            "bottom": null,
            "display": null,
            "flex": null,
            "flex_flow": null,
            "grid_area": null,
            "grid_auto_columns": null,
            "grid_auto_flow": null,
            "grid_auto_rows": null,
            "grid_column": null,
            "grid_gap": null,
            "grid_row": null,
            "grid_template_areas": null,
            "grid_template_columns": null,
            "grid_template_rows": null,
            "height": null,
            "justify_content": null,
            "justify_items": null,
            "left": null,
            "margin": null,
            "max_height": null,
            "max_width": null,
            "min_height": null,
            "min_width": null,
            "object_fit": null,
            "object_position": null,
            "order": null,
            "overflow": null,
            "overflow_x": null,
            "overflow_y": null,
            "padding": null,
            "right": null,
            "top": null,
            "visibility": null,
            "width": null
          }
        },
        "fa137a447f11453bbab33f09fdeeb67f": {
          "model_module": "@jupyter-widgets/controls",
          "model_module_version": "1.5.0",
          "model_name": "DescriptionStyleModel",
          "state": {
            "_model_module": "@jupyter-widgets/controls",
            "_model_module_version": "1.5.0",
            "_model_name": "DescriptionStyleModel",
            "_view_count": null,
            "_view_module": "@jupyter-widgets/base",
            "_view_module_version": "1.2.0",
            "_view_name": "StyleView",
            "description_width": ""
          }
        }
      }
    }
  },
  "nbformat": 4,
  "nbformat_minor": 0
}

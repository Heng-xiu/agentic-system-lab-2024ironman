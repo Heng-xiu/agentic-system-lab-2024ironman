{
  "nbformat": 4,
  "nbformat_minor": 0,
  "metadata": {
    "colab": {
      "provenance": [],
      "toc_visible": true
    },
    "kernelspec": {
      "name": "python3",
      "display_name": "Python 3"
    },
    "language_info": {
      "name": "python"
    },
    "widgets": {
      "application/vnd.jupyter.widget-state+json": {
        "c829abcff2554824956db23f67ce0bec": {
          "model_module": "yfiles-jupyter-graphs",
          "model_name": "GraphModel",
          "model_module_version": "^1.8.1",
          "state": {
            "_context_pane_mapping": [
              {
                "id": "Neighborhood",
                "title": "Neighborhood"
              },
              {
                "id": "Data",
                "title": "Data"
              },
              {
                "id": "Search",
                "title": "Search"
              },
              {
                "id": "About",
                "title": "About"
              }
            ],
            "_data_importer": "neo4j",
            "_directed": true,
            "_dom_classes": [],
            "_edges": [],
            "_graph_layout": {},
            "_highlight": [],
            "_license": {},
            "_model_module": "yfiles-jupyter-graphs",
            "_model_module_version": "^1.8.1",
            "_model_name": "GraphModel",
            "_neighborhood": {},
            "_nodes": [
              {
                "id": 0,
                "properties": {
                  "name": "墜落",
                  "label": "IncidentType"
                },
                "color": "#2196F3",
                "styles": {},
                "label": "0",
                "scale_factor": 1,
                "type": "#2196F3",
                "size": [
                  55,
                  55
                ],
                "position": [
                  0,
                  0
                ]
              },
              {
                "id": 1,
                "properties": {
                  "name": "設備故障",
                  "label": "IncidentType"
                },
                "color": "#2196F3",
                "styles": {},
                "label": "1",
                "scale_factor": 1,
                "type": "#2196F3",
                "size": [
                  55,
                  55
                ],
                "position": [
                  0,
                  0
                ]
              },
              {
                "id": 2,
                "properties": {
                  "name": "局限空間",
                  "label": "IncidentType"
                },
                "color": "#2196F3",
                "styles": {},
                "label": "2",
                "scale_factor": 1,
                "type": "#2196F3",
                "size": [
                  55,
                  55
                ],
                "position": [
                  0,
                  0
                ]
              },
              {
                "id": 3,
                "properties": {
                  "name": "安裝事故",
                  "label": "IncidentType"
                },
                "color": "#2196F3",
                "styles": {},
                "label": "3",
                "scale_factor": 1,
                "type": "#2196F3",
                "size": [
                  55,
                  55
                ],
                "position": [
                  0,
                  0
                ]
              },
              {
                "id": 4,
                "properties": {
                  "name": "觸電",
                  "label": "IncidentType"
                },
                "color": "#2196F3",
                "styles": {},
                "label": "4",
                "scale_factor": 1,
                "type": "#2196F3",
                "size": [
                  55,
                  55
                ],
                "position": [
                  0,
                  0
                ]
              },
              {
                "id": 5,
                "properties": {
                  "name": "結構倒塌",
                  "label": "IncidentType"
                },
                "color": "#2196F3",
                "styles": {},
                "label": "5",
                "scale_factor": 1,
                "type": "#2196F3",
                "size": [
                  55,
                  55
                ],
                "position": [
                  0,
                  0
                ]
              },
              {
                "id": 6,
                "properties": {
                  "name": "熱應力",
                  "label": "IncidentType"
                },
                "color": "#2196F3",
                "styles": {},
                "label": "6",
                "scale_factor": 1,
                "type": "#2196F3",
                "size": [
                  55,
                  55
                ],
                "position": [
                  0,
                  0
                ]
              },
              {
                "id": 7,
                "properties": {
                  "name": "火災危險",
                  "label": "IncidentType"
                },
                "color": "#2196F3",
                "styles": {},
                "label": "7",
                "scale_factor": 1,
                "type": "#2196F3",
                "size": [
                  55,
                  55
                ],
                "position": [
                  0,
                  0
                ]
              },
              {
                "id": 8,
                "properties": {
                  "name": "化學品洩漏",
                  "label": "IncidentType"
                },
                "color": "#2196F3",
                "styles": {},
                "label": "8",
                "scale_factor": 1,
                "type": "#2196F3",
                "size": [
                  55,
                  55
                ],
                "position": [
                  0,
                  0
                ]
              },
              {
                "id": 9,
                "properties": {
                  "name": "車輛事故",
                  "label": "IncidentType"
                },
                "color": "#2196F3",
                "styles": {},
                "label": "9",
                "scale_factor": 1,
                "type": "#2196F3",
                "size": [
                  55,
                  55
                ],
                "position": [
                  0,
                  0
                ]
              },
              {
                "id": 10,
                "properties": {
                  "address": "高雄市鼓山區臨海二路1號",
                  "name": "高雄港",
                  "label": "IncidentLocation"
                },
                "color": "#4CAF50",
                "styles": {},
                "label": "10",
                "scale_factor": 1,
                "type": "#4CAF50",
                "size": [
                  55,
                  55
                ],
                "position": [
                  0,
                  0
                ]
              },
              {
                "id": 11,
                "properties": {
                  "address": "高雄市前鎮區",
                  "name": "高雄捷運延伸線工地",
                  "label": "IncidentLocation"
                },
                "color": "#4CAF50",
                "styles": {},
                "label": "11",
                "scale_factor": 1,
                "type": "#4CAF50",
                "size": [
                  55,
                  55
                ],
                "position": [
                  0,
                  0
                ]
              },
              {
                "id": 12,
                "properties": {
                  "address": "高雄市苓雅區五福一路67號",
                  "name": "高雄市文化中心整修工程",
                  "label": "IncidentLocation"
                },
                "color": "#4CAF50",
                "styles": {},
                "label": "12",
                "scale_factor": 1,
                "type": "#4CAF50",
                "size": [
                  55,
                  55
                ],
                "position": [
                  0,
                  0
                ]
              },
              {
                "id": 13,
                "properties": {
                  "address": "高雄市苓雅區自強三路1號",
                  "name": "高雄85大樓改建工程",
                  "label": "IncidentLocation"
                },
                "color": "#4CAF50",
                "styles": {},
                "label": "13",
                "scale_factor": 1,
                "type": "#4CAF50",
                "size": [
                  55,
                  55
                ],
                "position": [
                  0,
                  0
                ]
              },
              {
                "id": 14,
                "properties": {
                  "address": "高雄市鳳山區",
                  "name": "衛武營都會公園翻新工程",
                  "label": "IncidentLocation"
                },
                "color": "#4CAF50",
                "styles": {},
                "label": "14",
                "scale_factor": 1,
                "type": "#4CAF50",
                "size": [
                  55,
                  55
                ],
                "position": [
                  0,
                  0
                ]
              },
              {
                "id": 15,
                "properties": {
                  "address": "高雄市小港區",
                  "name": "高雄臨海工業區擴建工程",
                  "label": "IncidentLocation"
                },
                "color": "#4CAF50",
                "styles": {},
                "label": "15",
                "scale_factor": 1,
                "type": "#4CAF50",
                "size": [
                  55,
                  55
                ],
                "position": [
                  0,
                  0
                ]
              },
              {
                "id": 16,
                "properties": {
                  "address": "高雄市前鎮區",
                  "name": "高雄輕軌建設工地",
                  "label": "IncidentLocation"
                },
                "color": "#4CAF50",
                "styles": {},
                "label": "16",
                "scale_factor": 1,
                "type": "#4CAF50",
                "size": [
                  55,
                  55
                ],
                "position": [
                  0,
                  0
                ]
              },
              {
                "id": 17,
                "properties": {
                  "address": "高雄市鼓山區",
                  "name": "高雄港擴建工程",
                  "label": "IncidentLocation"
                },
                "color": "#4CAF50",
                "styles": {},
                "label": "17",
                "scale_factor": 1,
                "type": "#4CAF50",
                "size": [
                  55,
                  55
                ],
                "position": [
                  0,
                  0
                ]
              },
              {
                "id": 18,
                "properties": {
                  "address": "高雄市茄萣區",
                  "name": "高雄生態園區建設",
                  "label": "IncidentLocation"
                },
                "color": "#4CAF50",
                "styles": {},
                "label": "18",
                "scale_factor": 1,
                "type": "#4CAF50",
                "size": [
                  55,
                  55
                ],
                "position": [
                  0,
                  0
                ]
              },
              {
                "id": 19,
                "properties": {
                  "address": "高雄市路竹區",
                  "name": "高雄科技園區開發",
                  "label": "IncidentLocation"
                },
                "color": "#4CAF50",
                "styles": {},
                "label": "19",
                "scale_factor": 1,
                "type": "#4CAF50",
                "size": [
                  55,
                  55
                ],
                "position": [
                  0,
                  0
                ]
              },
              {
                "id": 20,
                "properties": {
                  "address": "高雄市新興區",
                  "name": "高雄地下街更新工程",
                  "label": "IncidentLocation"
                },
                "color": "#4CAF50",
                "styles": {},
                "label": "20",
                "scale_factor": 1,
                "type": "#4CAF50",
                "size": [
                  55,
                  55
                ],
                "position": [
                  0,
                  0
                ]
              },
              {
                "id": 21,
                "properties": {
                  "address": "高雄市鳳山區",
                  "name": "高雄污水處理系統擴建",
                  "label": "IncidentLocation"
                },
                "color": "#4CAF50",
                "styles": {},
                "label": "21",
                "scale_factor": 1,
                "type": "#4CAF50",
                "size": [
                  55,
                  55
                ],
                "position": [
                  0,
                  0
                ]
              },
              {
                "id": 22,
                "properties": {
                  "address": "高雄市旗津區",
                  "name": "高雄濱海公路擴建",
                  "label": "IncidentLocation"
                },
                "color": "#4CAF50",
                "styles": {},
                "label": "22",
                "scale_factor": 1,
                "type": "#4CAF50",
                "size": [
                  55,
                  55
                ],
                "position": [
                  0,
                  0
                ]
              },
              {
                "id": 23,
                "properties": {
                  "address": "高雄市桃源區",
                  "name": "高雄山區度假村建設",
                  "label": "IncidentLocation"
                },
                "color": "#4CAF50",
                "styles": {},
                "label": "23",
                "scale_factor": 1,
                "type": "#4CAF50",
                "size": [
                  55,
                  55
                ],
                "position": [
                  0,
                  0
                ]
              },
              {
                "id": 24,
                "properties": {
                  "address": "高雄市鼓山區",
                  "name": "高雄多功能運動中心興建",
                  "label": "IncidentLocation"
                },
                "color": "#4CAF50",
                "styles": {},
                "label": "24",
                "scale_factor": 1,
                "type": "#4CAF50",
                "size": [
                  55,
                  55
                ],
                "position": [
                  0,
                  0
                ]
              },
              {
                "id": 25,
                "properties": {
                  "date": "2024-08-15",
                  "severity": "高",
                  "description": "工人從鷹架上墜落",
                  "id": "INC001",
                  "label": "Incident"
                },
                "color": "#F44336",
                "styles": {},
                "label": "INC001",
                "scale_factor": 1,
                "type": "#F44336",
                "size": [
                  55,
                  55
                ],
                "position": [
                  0,
                  0
                ]
              },
              {
                "id": 26,
                "properties": {
                  "date": "2024-08-20",
                  "severity": "中",
                  "description": "起重機故障導致材料掉落",
                  "id": "INC002",
                  "label": "Incident"
                },
                "color": "#F44336",
                "styles": {},
                "label": "INC002",
                "scale_factor": 1,
                "type": "#F44336",
                "size": [
                  55,
                  55
                ],
                "position": [
                  0,
                  0
                ]
              },
              {
                "id": 27,
                "properties": {
                  "date": "2024-08-25",
                  "severity": "低",
                  "description": "工人輕微割傷",
                  "id": "INC003",
                  "label": "Incident"
                },
                "color": "#F44336",
                "styles": {},
                "label": "INC003",
                "scale_factor": 1,
                "type": "#F44336",
                "size": [
                  55,
                  55
                ],
                "position": [
                  0,
                  0
                ]
              },
              {
                "id": 28,
                "properties": {
                  "date": "2024-09-01",
                  "severity": "高",
                  "description": "工地起火",
                  "id": "INC004",
                  "label": "Incident"
                },
                "color": "#F44336",
                "styles": {},
                "label": "INC004",
                "scale_factor": 1,
                "type": "#F44336",
                "size": [
                  55,
                  55
                ],
                "position": [
                  0,
                  0
                ]
              },
              {
                "id": 29,
                "properties": {
                  "date": "2024-09-05",
                  "severity": "中",
                  "description": "化學品洩漏",
                  "id": "INC005",
                  "label": "Incident"
                },
                "color": "#F44336",
                "styles": {},
                "label": "INC005",
                "scale_factor": 1,
                "type": "#F44336",
                "size": [
                  55,
                  55
                ],
                "position": [
                  0,
                  0
                ]
              },
              {
                "id": 30,
                "properties": {
                  "date": "2024-09-10",
                  "severity": "高",
                  "description": "隧道局部坍塌",
                  "id": "INC006",
                  "label": "Incident"
                },
                "color": "#F44336",
                "styles": {},
                "label": "INC006",
                "scale_factor": 1,
                "type": "#F44336",
                "size": [
                  55,
                  55
                ],
                "position": [
                  0,
                  0
                ]
              },
              {
                "id": 31,
                "properties": {
                  "date": "2024-09-15",
                  "severity": "低",
                  "description": "工人中暑",
                  "id": "INC007",
                  "label": "Incident"
                },
                "color": "#F44336",
                "styles": {},
                "label": "INC007",
                "scale_factor": 1,
                "type": "#F44336",
                "size": [
                  55,
                  55
                ],
                "position": [
                  0,
                  0
                ]
              },
              {
                "id": 32,
                "properties": {
                  "date": "2024-09-20",
                  "severity": "中",
                  "description": "電線短路引起小型火災",
                  "id": "INC008",
                  "label": "Incident"
                },
                "color": "#F44336",
                "styles": {},
                "label": "INC008",
                "scale_factor": 1,
                "type": "#F44336",
                "size": [
                  55,
                  55
                ],
                "position": [
                  0,
                  0
                ]
              },
              {
                "id": 33,
                "properties": {
                  "date": "2024-09-25",
                  "severity": "高",
                  "description": "大型機械操作不當造成嚴重事故",
                  "id": "INC009",
                  "label": "Incident"
                },
                "color": "#F44336",
                "styles": {},
                "label": "INC009",
                "scale_factor": 1,
                "type": "#F44336",
                "size": [
                  55,
                  55
                ],
                "position": [
                  0,
                  0
                ]
              },
              {
                "id": 34,
                "properties": {
                  "date": "2024-10-01",
                  "severity": "中",
                  "description": "工地車輛碰撞",
                  "id": "INC010",
                  "label": "Incident"
                },
                "color": "#F44336",
                "styles": {},
                "label": "INC010",
                "scale_factor": 1,
                "type": "#F44336",
                "size": [
                  55,
                  55
                ],
                "position": [
                  0,
                  0
                ]
              },
              {
                "id": 35,
                "properties": {
                  "date": "2024-10-05",
                  "severity": "低",
                  "description": "工人被輕微砸傷",
                  "id": "INC011",
                  "label": "Incident"
                },
                "color": "#F44336",
                "styles": {},
                "label": "INC011",
                "scale_factor": 1,
                "type": "#F44336",
                "size": [
                  55,
                  55
                ],
                "position": [
                  0,
                  0
                ]
              },
              {
                "id": 36,
                "properties": {
                  "date": "2024-10-10",
                  "severity": "中",
                  "description": "工地積水導致設備損壞",
                  "id": "INC012",
                  "label": "Incident"
                },
                "color": "#F44336",
                "styles": {},
                "label": "INC012",
                "scale_factor": 1,
                "type": "#F44336",
                "size": [
                  55,
                  55
                ],
                "position": [
                  0,
                  0
                ]
              },
              {
                "id": 37,
                "properties": {
                  "date": "2024-10-15",
                  "severity": "高",
                  "description": "工人觸電重傷",
                  "id": "INC013",
                  "label": "Incident"
                },
                "color": "#F44336",
                "styles": {},
                "label": "INC013",
                "scale_factor": 1,
                "type": "#F44336",
                "size": [
                  55,
                  55
                ],
                "position": [
                  0,
                  0
                ]
              },
              {
                "id": 38,
                "properties": {
                  "date": "2024-10-20",
                  "severity": "中",
                  "description": "起重機纜繩斷裂",
                  "id": "INC014",
                  "label": "Incident"
                },
                "color": "#F44336",
                "styles": {},
                "label": "INC014",
                "scale_factor": 1,
                "type": "#F44336",
                "size": [
                  55,
                  55
                ],
                "position": [
                  0,
                  0
                ]
              },
              {
                "id": 39,
                "properties": {
                  "date": "2024-10-25",
                  "severity": "低",
                  "description": "工地噪音超標",
                  "id": "INC015",
                  "label": "Incident"
                },
                "color": "#F44336",
                "styles": {},
                "label": "INC015",
                "scale_factor": 1,
                "type": "#F44336",
                "size": [
                  55,
                  55
                ],
                "position": [
                  0,
                  0
                ]
              },
              {
                "id": 40,
                "properties": {
                  "date": "2024-11-01",
                  "severity": "中",
                  "description": "工人被困電梯",
                  "id": "INC016",
                  "label": "Incident"
                },
                "color": "#F44336",
                "styles": {},
                "label": "INC016",
                "scale_factor": 1,
                "type": "#F44336",
                "size": [
                  55,
                  55
                ],
                "position": [
                  0,
                  0
                ]
              },
              {
                "id": 41,
                "properties": {
                  "date": "2024-11-05",
                  "severity": "高",
                  "description": "工地塔吊倒塌",
                  "id": "INC017",
                  "label": "Incident"
                },
                "color": "#F44336",
                "styles": {},
                "label": "INC017",
                "scale_factor": 1,
                "type": "#F44336",
                "size": [
                  55,
                  55
                ],
                "position": [
                  0,
                  0
                ]
              },
              {
                "id": 42,
                "properties": {
                  "date": "2024-11-10",
                  "severity": "中",
                  "description": "工人吸入有害氣體",
                  "id": "INC018",
                  "label": "Incident"
                },
                "color": "#F44336",
                "styles": {},
                "label": "INC018",
                "scale_factor": 1,
                "type": "#F44336",
                "size": [
                  55,
                  55
                ],
                "position": [
                  0,
                  0
                ]
              },
              {
                "id": 43,
                "properties": {
                  "date": "2024-11-15",
                  "severity": "低",
                  "description": "工地圍籬倒塌",
                  "id": "INC019",
                  "label": "Incident"
                },
                "color": "#F44336",
                "styles": {},
                "label": "INC019",
                "scale_factor": 1,
                "type": "#F44336",
                "size": [
                  55,
                  55
                ],
                "position": [
                  0,
                  0
                ]
              },
              {
                "id": 44,
                "properties": {
                  "date": "2024-11-20",
                  "severity": "中",
                  "description": "工地電梯故障",
                  "id": "INC020",
                  "label": "Incident"
                },
                "color": "#F44336",
                "styles": {},
                "label": "INC020",
                "scale_factor": 1,
                "type": "#F44336",
                "size": [
                  55,
                  55
                ],
                "position": [
                  0,
                  0
                ]
              },
              {
                "id": 45,
                "properties": {
                  "role": "營造工人",
                  "name": "張志明",
                  "experience": "5年",
                  "label": "InvolvedPerson"
                },
                "color": "#607D8B",
                "styles": {},
                "label": "45",
                "scale_factor": 1,
                "type": "#607D8B",
                "size": [
                  55,
                  55
                ],
                "position": [
                  0,
                  0
                ]
              },
              {
                "id": 46,
                "properties": {
                  "role": "起重機操作員",
                  "name": "李美玲",
                  "experience": "8年",
                  "label": "InvolvedPerson"
                },
                "color": "#607D8B",
                "styles": {},
                "label": "46",
                "scale_factor": 1,
                "type": "#607D8B",
                "size": [
                  55,
                  55
                ],
                "position": [
                  0,
                  0
                ]
              },
              {
                "id": 47,
                "properties": {
                  "role": "電工",
                  "name": "王大華",
                  "experience": "10年",
                  "label": "InvolvedPerson"
                },
                "color": "#607D8B",
                "styles": {},
                "label": "47",
                "scale_factor": 1,
                "type": "#607D8B",
                "size": [
                  55,
                  55
                ],
                "position": [
                  0,
                  0
                ]
              },
              {
                "id": 48,
                "properties": {
                  "role": "焊接工",
                  "name": "陳小明",
                  "experience": "3年",
                  "label": "InvolvedPerson"
                },
                "color": "#607D8B",
                "styles": {},
                "label": "48",
                "scale_factor": 1,
                "type": "#607D8B",
                "size": [
                  55,
                  55
                ],
                "position": [
                  0,
                  0
                ]
              },
              {
                "id": 49,
                "properties": {
                  "role": "安全督導員",
                  "name": "林雅琪",
                  "experience": "7年",
                  "label": "InvolvedPerson"
                },
                "color": "#607D8B",
                "styles": {},
                "label": "49",
                "scale_factor": 1,
                "type": "#607D8B",
                "size": [
                  55,
                  55
                ],
                "position": [
                  0,
                  0
                ]
              }
            ],
            "_overview": {
              "enabled": null,
              "overview_set": false
            },
            "_selected_graph": [
              [],
              []
            ],
            "_sidebar": {
              "enabled": false,
              "start_with": null
            },
            "_view_count": null,
            "_view_module": "yfiles-jupyter-graphs",
            "_view_module_version": "^1.8.1",
            "_view_name": "GraphView",
            "layout": "IPY_MODEL_5f5ece23e26b43649e68d7821b21b594",
            "tabbable": null,
            "tooltip": null
          }
        },
        "5f5ece23e26b43649e68d7821b21b594": {
          "model_module": "@jupyter-widgets/base",
          "model_name": "LayoutModel",
          "model_module_version": "2.0.0",
          "state": {
            "_model_module": "@jupyter-widgets/base",
            "_model_module_version": "2.0.0",
            "_model_name": "LayoutModel",
            "_view_count": null,
            "_view_module": "@jupyter-widgets/base",
            "_view_module_version": "2.0.0",
            "_view_name": "LayoutView",
            "align_content": null,
            "align_items": null,
            "align_self": null,
            "border_bottom": null,
            "border_left": null,
            "border_right": null,
            "border_top": null,
            "bottom": null,
            "display": null,
            "flex": null,
            "flex_flow": null,
            "grid_area": null,
            "grid_auto_columns": null,
            "grid_auto_flow": null,
            "grid_auto_rows": null,
            "grid_column": null,
            "grid_gap": null,
            "grid_row": null,
            "grid_template_areas": null,
            "grid_template_columns": null,
            "grid_template_rows": null,
            "height": "800px",
            "justify_content": null,
            "justify_items": null,
            "left": null,
            "margin": null,
            "max_height": null,
            "max_width": null,
            "min_height": null,
            "min_width": null,
            "object_fit": null,
            "object_position": null,
            "order": null,
            "overflow": null,
            "padding": null,
            "right": null,
            "top": null,
            "visibility": null,
            "width": "100%"
          }
        }
      }
    }
  },
  "cells": [
    {
      "cell_type": "markdown",
      "source": [
        "# 🥱 工安監控管理 RAG\n",
        "\n",
        "❤️ Created by [hengshiousheu](https://huggingface.co/Heng666)."
      ],
      "metadata": {
        "id": "YScF09tu2K9o"
      }
    },
    {
      "cell_type": "markdown",
      "source": [
        "#利用知識圖譜為LangChain應用提供動力\n",
        "\n",
        "RAG（檢索增強生成）應用在當前的AI領域中炙手可熱。許多公司都在開發自家的文件問答機器人或類似的智慧助理。這些應用通常有個共同點：它們的知識來源主要是非結構化文字，這些文字經過切割處理和嵌入後儲存。然而，實務上並非所有的資訊都是以非結構化文字的形式存在的。\n",
        "\n",
        "假設您想要打造一個聊天機器人，用來回答有關工地安全狀況、事故預防和風險評估等問題。工地的一些基本資訊，如地點描述、施工計畫等，可能是以非結構化文字形式存在的，這與傳統的RAG工作流程相符。但是，您要如何處理那些即時產生的異常事件資料，好讓聊天機器人能夠檢索最新的安全資訊呢？\n",
        "\n",
        "一種做法是將每日的異常事件紀錄轉換為結構化的文字描述，讓大型語言模型（LLM）能夠理解。但是，這種方法可能會喪失資料間的關聯性，也難以進行複雜的分析。那麼，有沒有更好的解決方案呢？這就是知識圖譜大顯身手的時候了。知識圖譜能夠在同一個資料庫中同時儲存結構化和非結構化的資訊。\n",
        "\n",
        "透過使用知識圖譜，我們可以將工地位置、事故類型、相關人員、監控設備和異常事件等多面向資訊串連起來，形成一個完整的資料網絡。這不僅使得聊天機器人能夠回答更複雜的問題，如「為什麼某類事故在特定地點頻繁發生」，還能支援更深入的安全分析，像是辨識潛在的風險模式或評估預防措施的成效。"
      ],
      "metadata": {
        "id": "wVSPnJrWzdMu"
      }
    },
    {
      "cell_type": "markdown",
      "source": [
        "#工地安全監控知識圖譜：革新安全管理的RAG應用\n",
        "\n",
        "![放入 Neo4j 截圖](https://i.imgur.com/omexatY.png)\n",
        "\n",
        "節點與關係是描述知識圖譜中資料的基本元素。一般來說，節點用來表示實體或概念，如人員、地點和事件。在我們的工地安全監控圖譜中，節點描述了工人、監控人員、事故地點、事故類型及異常事件等。而關係則定義了這些實體之間的連結，例如事故發生的地點、異常事件是由哪一支攝影機記錄，或是由誰來處理等。\n",
        "\n",
        "節點與關係都可以擁有以鍵值對形式儲存的屬性值。舉例來說，事故地點節點有名稱和地址兩個屬性，而事故節點則更為複雜，包含了ID、日期及嚴重程度等屬性。特別值得一提的是，我們可以在異常事件節點中加入文本嵌入值作為節點屬性。這樣一來，我們便可以對異常事件的描述進行向量相似度搜尋，彷彿這些事件被儲存在向量資料庫中。因此，知識圖譜讓我們能夠同時儲存與檢索結構化和非結構化資訊，為RAG應用提供強大的支援。\n",
        "\n",
        "這種結構不僅提供了豐富的上下文資訊，還支持複雜的推理。例如，我們可以輕鬆追蹤特定類型的事故在不同地點的發生頻率，或分析某位監控人員處理異常事件的效率。這大大提升了RAG系統的分析深度，使其能夠回答更深入的問題，如「為什麼某類事故頻繁發生」或「如何有效預防特定類型的異常事件」。"
      ],
      "metadata": {
        "id": "puzQkpAf0QNY"
      }
    },
    {
      "cell_type": "markdown",
      "source": [
        "本篇文章中，我將帶您逐步了解如何使用LangChain實現基於知識圖譜的RAG應用，以支持您的工地安全管理團隊。這個應用將幫助您更有效地分析安全數據，預測潛在風險，並制定更精確的預防措施。完整的代碼可在GitHub上獲取。\n",
        "\n",
        "通過這種方式，我們不僅可以提高安全管理的效率，還可以為決策者提供更可靠、更具洞察力的信息支持，最終提升整體的工地安全水平。"
      ],
      "metadata": {
        "id": "jpxwRtx20VBy"
      }
    },
    {
      "cell_type": "markdown",
      "source": [
        "#環境安裝"
      ],
      "metadata": {
        "id": "NY_IoM7lzDhD"
      }
    },
    {
      "cell_type": "code",
      "source": [
        "%%capture\n",
        "%pip install --quiet neo4j openai langchain tiktoken langchain-openai langchainhub langchain-community langchain-experimental chromdb graphdatascience datasets tiktoken retry yfiles_jupyter_graphs"
      ],
      "metadata": {
        "id": "lT6RTVqzuY5G"
      },
      "execution_count": 1,
      "outputs": []
    },
    {
      "cell_type": "markdown",
      "source": [
        "接下來，設置 OpenAI API 密鑰和 Neo4j 環境變量："
      ],
      "metadata": {
        "id": "X0dbeHuk2biL"
      }
    },
    {
      "cell_type": "code",
      "source": [
        "import os\n",
        "from google.colab import userdata\n",
        "\n",
        "os.environ[\"OPENAI_API_KEY\"] = userdata.get('OPENAI_API_KEY')"
      ],
      "metadata": {
        "id": "BIyvX0s_2Z1R"
      },
      "execution_count": 2,
      "outputs": []
    },
    {
      "cell_type": "markdown",
      "source": [
        "## 建置 Neo4j 環境"
      ],
      "metadata": {
        "id": "O6yrLEmJzEuW"
      }
    },
    {
      "cell_type": "code",
      "source": [
        "from langchain_community.graphs import Neo4jGraph\n",
        "\n",
        "from langchain_community.graphs import Neo4jGraph\n",
        "\n",
        "os.environ[\"NEO4J_URI\"] = \"bolt://52.90.86.117\"\n",
        "os.environ[\"NEO4J_USERNAME\"] = \"neo4j\"\n",
        "os.environ[\"NEO4J_PASSWORD\"] = \"cross-dispatchers-swing\"\n",
        "os.environ[\"NEO4J_DATABASE\"] = \"neo4j\"\n",
        "\n",
        "graph = Neo4jGraph()"
      ],
      "metadata": {
        "id": "M_4nxNzSzbYs"
      },
      "execution_count": 4,
      "outputs": []
    },
    {
      "cell_type": "markdown",
      "source": [
        "# 資料集\n",
        "\n",
        "知識圖非常擅長連接來自多個資料來源的資訊。\n",
        "\n",
        "![工安事件來源](https://i.imgur.com/8yUvHcJ.png)\n",
        "\n",
        "以下程式碼將範例圖匯入到 Neo4j 中。"
      ],
      "metadata": {
        "id": "LtQVWehw41Dt"
      }
    },
    {
      "cell_type": "code",
      "source": [
        "import requests\n",
        "import_url = \"https://gist.githubusercontent.com/Heng-xiu/a6417c4c34c80147cfbccdaa52925a55/raw/1126ea63fe28838d20af23441c4900ec768cfeb5/construction_site_safety.json\"\n",
        "import_query = requests.get(import_url).json()['query']\n",
        "graph.query(\n",
        "    import_query\n",
        ")"
      ],
      "metadata": {
        "colab": {
          "base_uri": "https://localhost:8080/"
        },
        "id": "di6lfn9h5EB4",
        "outputId": "fb8204b1-c855-4af0-ad59-ce31223b48fc"
      },
      "execution_count": 5,
      "outputs": [
        {
          "output_type": "execute_result",
          "data": {
            "text/plain": [
              "[]"
            ]
          },
          "metadata": {},
          "execution_count": 5
        }
      ]
    },
    {
      "cell_type": "markdown",
      "source": [
        "可以使用 yfiles 直接在 Colab 上查看\n",
        "\n",
        "> 這個展示用炫砲性質居多"
      ],
      "metadata": {
        "id": "cdn49ZCWfWyj"
      }
    },
    {
      "cell_type": "code",
      "source": [
        "from yfiles_jupyter_graphs import GraphWidget\n",
        "from neo4j import GraphDatabase\n",
        "\n",
        "from google.colab import output\n",
        "output.enable_custom_widget_manager()\n",
        "\n",
        "default_cypher = \"MATCH (n) RETURN n LIMIT 50\"\n",
        "\n",
        "def showGraph(cypher: str = default_cypher):\n",
        "    # create a neo4j session to run queries\n",
        "    driver = GraphDatabase.driver(\n",
        "        uri = os.environ[\"NEO4J_URI\"],\n",
        "        auth = (os.environ[\"NEO4J_USERNAME\"],\n",
        "                os.environ[\"NEO4J_PASSWORD\"]))\n",
        "    session = driver.session()\n",
        "    widget = GraphWidget(graph = session.run(cypher).graph())\n",
        "    widget.node_label_mapping = 'id'\n",
        "    #display(widget)\n",
        "    return widget\n",
        "\n",
        "showGraph()"
      ],
      "metadata": {
        "colab": {
          "base_uri": "https://localhost:8080/",
          "height": 817,
          "referenced_widgets": [
            "c829abcff2554824956db23f67ce0bec",
            "5f5ece23e26b43649e68d7821b21b594"
          ]
        },
        "id": "EF8uGB4kfLqZ",
        "outputId": "443a957e-6c76-4ab4-c28a-baf1b1ffd0bb"
      },
      "execution_count": 6,
      "outputs": [
        {
          "output_type": "display_data",
          "data": {
            "text/plain": [
              "GraphWidget(layout=Layout(height='800px', width='100%'))"
            ],
            "application/vnd.jupyter.widget-view+json": {
              "version_major": 2,
              "version_minor": 0,
              "model_id": "c829abcff2554824956db23f67ce0bec"
            }
          },
          "metadata": {
            "application/vnd.jupyter.widget-view+json": {
              "colab": {
                "custom_widget_manager": {
                  "url": "https://ssl.gstatic.com/colaboratory-static/widgets/colab-cdn-widget-manager/2b70e893a8ba7c0f/manager.min.js"
                }
              }
            }
          }
        }
      ]
    },
    {
      "cell_type": "markdown",
      "source": [
        "# 查詢 GRaph 的兩種方式\n",
        "\n",
        "1. Cypher 形式，GraphCypherQAChain\n",
        "  - 直接將自然語言轉換成為 Cypher 進行檢索\n",
        "2. semantic 形式，VectorSearch\n",
        "  - 將自然語言轉成向量之後，在 Neo4j 資料庫中查詢"
      ],
      "metadata": {
        "id": "Q6YRQd5WSy_6"
      }
    },
    {
      "cell_type": "markdown",
      "source": [
        "## 方法一、向量檢索\n",
        "\n",
        "我們將首先實現向量索引搜索，透過名稱和描述查找相關任務。如果您不熟悉向量相似性搜索，讓我快速回顧一下。關鍵思想是根據每個任務的描述和名稱計算文字嵌入值。然後，在查詢時，使用餘弦距離等相似性度量找到與使用者輸入最相似的任務。"
      ],
      "metadata": {
        "id": "cCfPMb0l_c0h"
      }
    },
    {
      "cell_type": "code",
      "source": [
        "import os\n",
        "from langchain_community.vectorstores.neo4j_vector import Neo4jVector\n",
        "from langchain_openai import OpenAIEmbeddings\n",
        "\n",
        "\n",
        "''' Create an safety_incidets vector and Instantiate Neo4j vector from graph'''\n",
        "safety_incidents_vector_index = Neo4jVector.from_existing_graph(\n",
        "    OpenAIEmbeddings(),\n",
        "    index_name='safety_incidents',\n",
        "    node_label=\"Incident\",\n",
        "    text_node_properties=['id', 'date', 'severity', 'description'],\n",
        "    embedding_node_property='embedding',\n",
        ")"
      ],
      "metadata": {
        "id": "qhiUJzCn8SdG"
      },
      "execution_count": 7,
      "outputs": []
    },
    {
      "cell_type": "markdown",
      "source": [
        "在此範例中，我們為 from_existing_graph 方法使用了以下特定於圖的參數。\n",
        "1. `index_name`：我們將其改為'safety_incidents'，這更好地反映了我們的用例。\n",
        "2. `node_label`：我們使用\"Incident\"作為標籤，因為我們主要關注的是事故節點。\n",
        "3. `text_node_properties`：我們包括了事故的id、日期、嚴重程度和描述。這些屬性提供了關於每個事故的關鍵信息，可以用來生成有意義的向量。\n",
        "4. `embedding_node_property`：我們保留'embedding'作為存儲嵌入向量的屬性名。\n",
        "\n",
        "現在向量索引已經啟動，我們可以像LangChain中的任何其他向量索引一樣使用它。\n",
        "\n"
      ],
      "metadata": {
        "id": "YemM8_QYDuYU"
      }
    },
    {
      "cell_type": "code",
      "source": [
        "response = safety_incidents_vector_index.similarity_search(\n",
        "    \"最近有沒有工人中暑的事故？\"\n",
        ")\n",
        "print(response[0].page_content)"
      ],
      "metadata": {
        "colab": {
          "base_uri": "https://localhost:8080/"
        },
        "id": "_xepdShAD1c2",
        "outputId": "1960a760-cff2-46a8-ecb2-013bf49c40ed"
      },
      "execution_count": 8,
      "outputs": [
        {
          "output_type": "stream",
          "name": "stdout",
          "text": [
            "\n",
            "id: INC007\n",
            "date: 2024-09-15\n",
            "severity: 低\n",
            "description: 工人中暑\n"
          ]
        }
      ]
    },
    {
      "cell_type": "markdown",
      "source": [
        "每次調用similarity_search時，它會返回一個列表，包含最相似的文檔（在我們的情況下是事故記錄）。response[0]代表最相似的結果，而.page_content會顯示該結果的內容。"
      ],
      "metadata": {
        "id": "01l7dJCVE5dL"
      }
    },
    {
      "cell_type": "markdown",
      "source": [
        "如果您想獲取多個相似的結果，可以指定k參數："
      ],
      "metadata": {
        "id": "xbsJEHb0FVIK"
      }
    },
    {
      "cell_type": "code",
      "source": [
        "response = safety_incidents_vector_index.similarity_search(\n",
        "    \"有發生電氣安全事故嗎？\",\n",
        "    k=3  # 返回前3個最相似的結果\n",
        ")\n",
        "\n",
        "for i, doc in enumerate(response):\n",
        "    print(f\"結果 {i+1}:\")\n",
        "    print(doc.page_content)\n",
        "    print(\"---\")"
      ],
      "metadata": {
        "colab": {
          "base_uri": "https://localhost:8080/"
        },
        "id": "VcrT4uusEmam",
        "outputId": "12706c53-a3e6-4c7f-b056-dcce299021bf"
      },
      "execution_count": 9,
      "outputs": [
        {
          "output_type": "stream",
          "name": "stdout",
          "text": [
            "結果 1:\n",
            "\n",
            "id: INC018\n",
            "date: 2024-11-10\n",
            "severity: 中\n",
            "description: 工人吸入有害氣體\n",
            "---\n",
            "結果 2:\n",
            "\n",
            "id: INC013\n",
            "date: 2024-10-15\n",
            "severity: 高\n",
            "description: 工人觸電重傷\n",
            "---\n",
            "結果 3:\n",
            "\n",
            "id: INC009\n",
            "date: 2024-09-25\n",
            "severity: 高\n",
            "description: 大型機械操作不當造成嚴重事故\n",
            "---\n"
          ]
        }
      ]
    },
    {
      "cell_type": "markdown",
      "source": [
        "結合多個條件的複雜查詢："
      ],
      "metadata": {
        "id": "8CvvUKt7Fh6j"
      }
    },
    {
      "cell_type": "code",
      "source": [
        "response = safety_incidents_vector_index.similarity_search(\n",
        "    \"有沒有工人因為沒戴安全帽受傷的事故？最嚴重的是哪次？\",\n",
        "    filter={\n",
        "        \"$or\": [\n",
        "            {\"description\": {\"$like\": \"安全帽\"}},\n",
        "            {\"description\": {\"$like\": \"頭部防護\"}},\n",
        "            {\"severity\": {\"$in\": [\"高\"]}}\n",
        "        ],\n",
        "\n",
        "    },\n",
        "    k=3\n",
        ")\n",
        "for i, doc in enumerate(response):\n",
        "    print(f\"事故 {i+1}:\")\n",
        "    print(doc.page_content)\n",
        "    print(\"---\")"
      ],
      "metadata": {
        "colab": {
          "base_uri": "https://localhost:8080/"
        },
        "id": "qvxLit7YFaMt",
        "outputId": "132942ed-3433-4385-92a8-35f745d00651"
      },
      "execution_count": 10,
      "outputs": [
        {
          "output_type": "stream",
          "name": "stdout",
          "text": [
            "事故 1:\n",
            "\n",
            "id: INC013\n",
            "date: 2024-10-15\n",
            "severity: 高\n",
            "description: 工人觸電重傷\n",
            "---\n",
            "事故 2:\n",
            "\n",
            "id: INC001\n",
            "date: 2024-08-15\n",
            "severity: 高\n",
            "description: 工人從鷹架上墜落\n",
            "---\n",
            "事故 3:\n",
            "\n",
            "id: INC009\n",
            "date: 2024-09-25\n",
            "severity: 高\n",
            "description: 大型機械操作不當造成嚴重事故\n",
            "---\n"
          ]
        }
      ]
    },
    {
      "cell_type": "markdown",
      "source": [
        "您可以觀察到，我們使用 text_node_properties 參數中定義的屬性建立了映射或類似字典的字串的回應。\n",
        "\n",
        "現在，我們可以透過將向量索引包裝到 RetrievalQA 模組中來輕鬆建立聊天機器人回應。"
      ],
      "metadata": {
        "id": "HyfVjzguHYMM"
      }
    },
    {
      "cell_type": "code",
      "source": [
        "from langchain.chains import RetrievalQA\n",
        "from langchain_openai import ChatOpenAI\n",
        "\n",
        "vector_qa = RetrievalQA.from_chain_type(\n",
        "    llm=ChatOpenAI(), chain_type=\"stuff\", retriever=safety_incidents_vector_index.as_retriever())"
      ],
      "metadata": {
        "id": "znivuv4aFkOV"
      },
      "execution_count": 11,
      "outputs": []
    },
    {
      "cell_type": "code",
      "source": [
        "vector_qa.invoke(\n",
        "    {\"query\": \"最近有沒有工人中暑的事故？\"}\n",
        ")"
      ],
      "metadata": {
        "colab": {
          "base_uri": "https://localhost:8080/"
        },
        "id": "1DzA-Ql-HeBj",
        "outputId": "078c00fb-0af8-4658-cc8d-a31c6f1e0591"
      },
      "execution_count": 12,
      "outputs": [
        {
          "output_type": "execute_result",
          "data": {
            "text/plain": [
              "{'query': '最近有沒有工人中暑的事故？',\n",
              " 'result': '是的，最近發生了一起工人中暑的事故，事件編號是INC007，發生在2024年9月15日。'}"
            ]
          },
          "metadata": {},
          "execution_count": 12
        }
      ]
    },
    {
      "cell_type": "markdown",
      "source": [
        "## 方法二、Graph Cypher search\n",
        "\n",
        "Cypher 是一種結構化查詢語言，旨在與圖形資料庫交互，並提供匹配模式和關係的可視化方式。它依賴以下 ascii-art 類型的語法：\n",
        "\n",
        "```bash\n",
        "(:Person {name:\"Tomaz\"})-[:LIVES_IN]->(:Country {name:\"Slovenia\"})\n",
        "```\n",
        "\n",
        "LangChain 的巧妙之處在於它提供了 GraphCypherQAChain，它可以為您產生 Cypher 查詢，因此您無需學習 Cypher 語法即可從 Neo4j 等圖形資料庫中檢索資訊。以下程式碼將刷新圖模式並實例化 Cypher 鏈。"
      ],
      "metadata": {
        "id": "QJ-dB_dFHts0"
      }
    },
    {
      "cell_type": "code",
      "source": [
        "from langchain.chains import GraphCypherQAChain\n",
        "from langchain_openai import ChatOpenAI\n",
        "\n",
        "#當有更新資料庫時，就需要使用\n",
        "graph.refresh_schema()\n",
        "\n",
        "cypher_chain = GraphCypherQAChain.from_llm(\n",
        "    cypher_llm = ChatOpenAI(temperature=0, model_name='gpt-4o-mini'),\n",
        "    qa_llm = ChatOpenAI(temperature=0),\n",
        "    graph=graph,\n",
        "    verbose=True,\n",
        "    validate_cypher= True,\n",
        "    return_direct = True,\n",
        ")"
      ],
      "metadata": {
        "id": "e3jFZgNsHkD6"
      },
      "execution_count": 13,
      "outputs": []
    },
    {
      "cell_type": "code",
      "source": [
        "cypher_chain.invoke(\n",
        "    {\"query\": \"有多少起高空墜落發生?\"}\n",
        ")"
      ],
      "metadata": {
        "colab": {
          "base_uri": "https://localhost:8080/"
        },
        "id": "oX90rEDMIR7u",
        "outputId": "18005dae-f0ca-4f78-dc27-20043199ec7d"
      },
      "execution_count": 15,
      "outputs": [
        {
          "output_type": "stream",
          "name": "stdout",
          "text": [
            "\n",
            "\n",
            "\u001b[1m> Entering new GraphCypherQAChain chain...\u001b[0m\n",
            "Generated Cypher:\n",
            "\u001b[32;1m\u001b[1;3m\n",
            "MATCH (i:Incident)-[:CATEGORIZED_AS]->(it:IncidentType {name: '高空墜落'})\n",
            "RETURN COUNT(i) AS 高空墜落事件數量\n",
            "\u001b[0m\n",
            "\n",
            "\u001b[1m> Finished chain.\u001b[0m\n"
          ]
        },
        {
          "output_type": "execute_result",
          "data": {
            "text/plain": [
              "{'query': '有多少起高空墜落發生?', 'result': [{'高空墜落事件數量': 0}]}"
            ]
          },
          "metadata": {},
          "execution_count": 15
        }
      ]
    },
    {
      "cell_type": "markdown",
      "source": [
        "顯然地透過強大的閉源模型 Gpt4o-mini 也是會產生錯誤的內容，原因是生成的Cypher查詢在尋找名為\"高空墜落\"的IncidentType，但在我們的資料中，我們使用的是\"墜落\"而不是\"高空墜落\"。\n",
        "\n",
        "顯然的模型缺乏語義理解，沒有理解\"高空墜落\"和\"墜落\"在這個上下文中是等同的。"
      ],
      "metadata": {
        "id": "cP0P9p5eKY9b"
      }
    },
    {
      "cell_type": "markdown",
      "source": [
        "### 提高 GraphCypherQA 生成 Cypher 機率"
      ],
      "metadata": {
        "id": "cOfGaby3LyY-"
      }
    },
    {
      "cell_type": "markdown",
      "source": [
        "這邊我們有幾個策略，可以來修正這個問題\n",
        "\n",
        "參考自\n",
        "1. [LangChain/Prompting strategies](https://python.langchain.com/v0.1/docs/use_cases/graph/prompting/)\n",
        "2. [LangChain Cypher Search: Tips & Tricks\n",
        "](https://neo4j.com/developer-blog/langchain-cypher-search-tips-tricks/)"
      ],
      "metadata": {
        "id": "lVDBBv48Lnrg"
      }
    },
    {
      "cell_type": "markdown",
      "source": [
        "#### 策略ㄧ、直接 Fewshot 在 Prompt 當中"
      ],
      "metadata": {
        "id": "RKFvQ1BPC1hl"
      }
    },
    {
      "cell_type": "code",
      "source": [
        "from langchain.prompts.prompt import PromptTemplate\n",
        "\n",
        "CYPHER_GENERATION_TEMPLATE = \"\"\"\n",
        "任務：生成Cypher語句以查詢圖形數據庫。\n",
        "指示：\n",
        "僅使用提供的關係類型和屬性。\n",
        "不要使用未提供的任何其他關係類型或屬性。\n",
        "模式：\n",
        "{schema}\n",
        "Cypher範例：\n",
        "# 有多少起高空墜落發生？\n",
        "MATCH (i:Incident)-[:CATEGORIZED_AS]->(it:IncidentType {{name: '墜落'}})\n",
        "RETURN count(i) AS 墜落事故數量\n",
        "\n",
        "# 哪些工地發生過嚴重程度高的事故？\n",
        "MATCH (i:Incident {{severity: '高'}})-[:OCCURRED_AT]->(l:IncidentLocation)\n",
        "RETURN DISTINCT l.name AS 工地名稱\n",
        "\n",
        "注意：不要在您的回答中包含任何解釋或道歉。\n",
        "不要回答任何可能詢問除了構建Cypher語句以外的任何問題。\n",
        "不要包含生成的Cypher語句以外的任何文本。\n",
        "\n",
        "問題是：\n",
        "{question}\"\"\"\n",
        "\n",
        "CYPHER_GENERATION_PROMPT = PromptTemplate(\n",
        "    input_variables=[\"schema\", \"question\"], template=CYPHER_GENERATION_TEMPLATE\n",
        ")"
      ],
      "metadata": {
        "id": "tuIzrMuEOcYf"
      },
      "execution_count": 16,
      "outputs": []
    },
    {
      "cell_type": "code",
      "source": [
        "chain_language_example = GraphCypherQAChain.from_llm(\n",
        "    ChatOpenAI(temperature=0),\n",
        "    graph=graph,\n",
        "    verbose=True,\n",
        "    cypher_prompt=CYPHER_GENERATION_PROMPT\n",
        ")\n",
        "\n",
        "chain_language_example.run(\"\"\"有多少起高空墜落發生?\"\"\")"
      ],
      "metadata": {
        "colab": {
          "base_uri": "https://localhost:8080/",
          "height": 281
        },
        "id": "N_OCqEiRUP45",
        "outputId": "ea28c3e5-2263-40a1-8726-d2243daec19f"
      },
      "execution_count": 17,
      "outputs": [
        {
          "output_type": "stream",
          "name": "stderr",
          "text": [
            "<ipython-input-17-1c4e7d8823e9>:6: LangChainDeprecationWarning: The method `Chain.run` was deprecated in langchain 0.1.0 and will be removed in 1.0. Use invoke instead.\n",
            "  chain_language_example.run(\"\"\"有多少起高空墜落發生?\"\"\")\n"
          ]
        },
        {
          "output_type": "stream",
          "name": "stdout",
          "text": [
            "\n",
            "\n",
            "\u001b[1m> Entering new GraphCypherQAChain chain...\u001b[0m\n",
            "Generated Cypher:\n",
            "\u001b[32;1m\u001b[1;3mMATCH (i:Incident)-[:CATEGORIZED_AS]->(it:IncidentType {name: '墜落'})\n",
            "WHERE i.severity = '高'\n",
            "RETURN count(i) AS 墜落事故數量\u001b[0m\n",
            "Full Context:\n",
            "\u001b[32;1m\u001b[1;3m[{'墜落事故數量': 1}]\u001b[0m\n",
            "\n",
            "\u001b[1m> Finished chain.\u001b[0m\n"
          ]
        },
        {
          "output_type": "execute_result",
          "data": {
            "text/plain": [
              "'有1起高空墜落事故發生。'"
            ],
            "application/vnd.google.colaboratory.intrinsic+json": {
              "type": "string"
            }
          },
          "metadata": {},
          "execution_count": 17
        }
      ]
    },
    {
      "cell_type": "markdown",
      "source": [
        "#### 策略二、使用 Prompt Selector"
      ],
      "metadata": {
        "id": "XQs_p8GvCzpS"
      }
    },
    {
      "cell_type": "markdown",
      "source": [
        "##### 實作 Prompt_examples"
      ],
      "metadata": {
        "id": "57sZj7PMC_fb"
      }
    },
    {
      "cell_type": "code",
      "source": [
        "examples = [\n",
        "  {\n",
        "    \"question\": \"找出所有高嚴重性的事故及其發生地點\",\n",
        "    \"query\": \"MATCH (i:Incident)-[:OCCURRED_AT]->(l:IncidentLocation) WHERE i.severity = '高' RETURN i.id, i.description, l.name\"\n",
        "  },\n",
        "  {\n",
        "    \"question\": \"查詢特定工人參與的所有事故\",\n",
        "    \"query\": \"MATCH (w:InvolvedPerson)-[:INVOLVED_IN]->(i:Incident) WHERE w.name = '張志明' RETURN i.id, i.date, i.description\"\n",
        "  },\n",
        "  {\n",
        "    \"question\": \"列出所有發生在高雄港的事故及其類型\",\n",
        "    \"query\": \"MATCH (i:Incident)-[:OCCURRED_AT]->(l:IncidentLocation) WHERE l.name = '高雄港' MATCH (i)-[:CATEGORIZED_AS]->(t:IncidentType) RETURN i.id, i.description, t.name\"\n",
        "  },\n",
        "  {\n",
        "    \"question\": \"找出所有由特定監控人員處理的異常事件及相關事故\",\n",
        "    \"query\": \"MATCH (m:Monitor)-[:HANDLED_BY]-(a:AnomalyEvent)-[:RELATED_TO]->(i:Incident) WHERE m.name = '黃小芬' RETURN a.id, a.type, i.id, i.description\"\n",
        "  },\n",
        "  {\n",
        "    \"question\": \"查詢特定區域內的所有監控攝像頭及其狀態\",\n",
        "    \"query\": \"MATCH (c:SurveillanceCamera)-[:MONITORS]->(a:SiteArea) WHERE a.name = '港口建設區' RETURN c.id, c.status, c.type\"\n",
        "  },\n",
        "  {\n",
        "    \"question\": \"列出所有墜落事故及涉及的工人和地點\",\n",
        "    \"query\": \"MATCH (i:Incident)-[:CATEGORIZED_AS]->(t:IncidentType {name: '墜落'}) MATCH (i)-[:OCCURRED_AT]->(l:IncidentLocation) MATCH (w:InvolvedPerson)-[:INVOLVED_IN]->(i) RETURN i.id, i.description, w.name, l.name\"\n",
        "  },\n",
        "  {\n",
        "    \"question\": \"找出過去一個月內發生的所有事故\",\n",
        "    \"query\": \"MATCH (i:Incident) WHERE date(i.date) > date() - duration('P1M') RETURN i.id, i.date, i.description ORDER BY i.date DESC\"\n",
        "  },\n",
        "  {\n",
        "    \"question\": \"查詢所有高風險區域及其最近發生的事故\",\n",
        "    \"query\": \"MATCH (a:SiteArea {risk_level: '高'})<-[:MONITORS]-(c:SurveillanceCamera)<-[:RECORDED_BY]-(ano:AnomalyEvent)-[:RELATED_TO]->(i:Incident) RETURN a.name, i.id, i.date, i.description ORDER BY i.date DESC LIMIT 1\"\n",
        "  },\n",
        "  {\n",
        "    \"question\": \"列出所有未解決的異常事件及其相關的監控攝像頭\",\n",
        "    \"query\": \"MATCH (a:AnomalyEvent)-[:RECORDED_BY]->(c:SurveillanceCamera) WHERE NOT EXISTS((a)-[:HANDLED_BY]->()) RETURN a.id, a.type, a.timestamp, c.id\"\n",
        "  },\n",
        "  {\n",
        "    \"question\": \"找出處理最多異常事件的前5名監控人員\",\n",
        "    \"query\": \"MATCH (m:Monitor)<-[:HANDLED_BY]-(a:AnomalyEvent) WITH m, COUNT(a) AS handled_count RETURN m.name, m.shift, handled_count ORDER BY handled_count DESC LIMIT 5\"\n",
        "  },\n",
        "  {\n",
        "    \"question\": \"查詢所有設備故障類型的事故及其發生地點\",\n",
        "    \"query\": \"MATCH (i:Incident)-[:CATEGORIZED_AS]->(t:IncidentType {name: '設備故障'}) MATCH (i)-[:OCCURRED_AT]->(l:IncidentLocation) RETURN i.id, i.description, l.name\"\n",
        "  },\n",
        "  {\n",
        "    \"question\": \"列出所有工作經驗超過5年的工人及其參與的事故數量\",\n",
        "    \"query\": \"MATCH (w:InvolvedPerson)-[:INVOLVED_IN]->(i:Incident) WHERE toInteger(substring(w.experience, 0, size(w.experience) - 1)) > 5 WITH w, COUNT(i) AS incident_count RETURN w.name, w.role, w.experience, incident_count ORDER BY incident_count DESC\"\n",
        "  },\n",
        "  {\n",
        "    \"question\": \"找出所有發生在地下或隧道區域的事故\",\n",
        "    \"query\": \"MATCH (i:Incident)-[:OCCURRED_AT]->(l:IncidentLocation) WHERE l.name CONTAINS '地下' OR l.name CONTAINS '隧道' RETURN i.id, i.description, l.name\"\n",
        "  },\n",
        "  {\n",
        "    \"question\": \"查詢所有涉及化學品洩漏的事故及處理這些事故的監控人員\",\n",
        "    \"query\": \"MATCH (i:Incident)-[:CATEGORIZED_AS]->(t:IncidentType {name: '化學品洩漏'}) MATCH (i)<-[:RELATED_TO]-(a:AnomalyEvent)-[:HANDLED_BY]->(m:Monitor) RETURN i.id, i.description, m.name\"\n",
        "  },\n",
        "  {\n",
        "    \"question\": \"列出所有大型工地區域及其最近的安全事故\",\n",
        "    \"query\": \"MATCH (a:SiteArea {size: '大型'})<-[:MONITORS]-(c:SurveillanceCamera)<-[:RECORDED_BY]-(ano:AnomalyEvent)-[:RELATED_TO]->(i:Incident) RETURN a.name, i.id, i.date, i.description ORDER BY i.date DESC LIMIT 1\"\n",
        "  },\n",
        "  {\n",
        "    \"question\": \"找出所有夜班監控人員處理的異常事件類型及數量\",\n",
        "    \"query\": \"MATCH (m:Monitor {shift: '夜班'})<-[:HANDLED_BY]-(a:AnomalyEvent) WITH m, a.type AS anomaly_type, COUNT(a) AS anomaly_count RETURN m.name, anomaly_type, anomaly_count ORDER BY m.name, anomaly_count DESC\"\n",
        "  },\n",
        "  {\n",
        "    \"question\": \"查詢所有需要維修的監控攝像頭及其監控的區域\",\n",
        "    \"query\": \"MATCH (c:SurveillanceCamera {status: '維修中'})-[:MONITORS]->(a:SiteArea) RETURN c.id, c.type, a.name, a.risk_level\"\n",
        "  },\n",
        "  {\n",
        "    \"question\": \"列出所有發生過高嚴重性事故的工地區域及事故次數\",\n",
        "    \"query\": \"MATCH (i:Incident {severity: '高'})-[:OCCURRED_AT]->(l:IncidentLocation) WITH l, COUNT(i) AS high_severity_count RETURN l.name, high_severity_count ORDER BY high_severity_count DESC\"\n",
        "  },\n",
        "  {\n",
        "    \"question\": \"找出所有參與過多次（超過3次）事故的工人\",\n",
        "    \"query\": \"MATCH (w:InvolvedPerson)-[:INVOLVED_IN]->(i:Incident) WITH w, COUNT(i) AS incident_count WHERE incident_count > 3 RETURN w.name, w.role, incident_count ORDER BY incident_count DESC\"\n",
        "  },\n",
        "  {\n",
        "    \"question\": \"查詢所有球型攝像頭記錄的異常事件類型及數量\",\n",
        "    \"query\": \"MATCH (c:SurveillanceCamera {type: '球型'})<-[:RECORDED_BY]-(a:AnomalyEvent) WITH a.type AS anomaly_type, COUNT(a) AS anomaly_count RETURN anomaly_type, anomaly_count ORDER BY anomaly_count DESC\"\n",
        "  },\n",
        "  {\n",
        "    \"question\": \"列出所有高風險區域中未處理的異常事件\",\n",
        "    \"query\": \"MATCH (a:SiteArea {risk_level: '高'})<-[:MONITORS]-(c:SurveillanceCamera)<-[:RECORDED_BY]-(ano:AnomalyEvent) WHERE NOT EXISTS((ano)-[:HANDLED_BY]->()) RETURN a.name, ano.id, ano.type, ano.timestamp\"\n",
        "  },\n",
        "  {\n",
        "    \"question\": \"找出所有涉及觸電的事故及相關工人的工作經驗\",\n",
        "    \"query\": \"MATCH (i:Incident)-[:CATEGORIZED_AS]->(t:IncidentType {name: '觸電'}) MATCH (w:InvolvedPerson)-[:INVOLVED_IN]->(i) RETURN i.id, i.description, w.name, w.experience\"\n",
        "  },\n",
        "  {\n",
        "    \"question\": \"查詢所有發生在高樓層（如摩天大樓）的事故類型及頻率\",\n",
        "    \"query\": \"MATCH (i:Incident)-[:OCCURRED_AT]->(l:IncidentLocation) WHERE l.name CONTAINS '大樓' OR l.name CONTAINS '摩天' MATCH (i)-[:CATEGORIZED_AS]->(t:IncidentType) WITH t.name AS incident_type, COUNT(i) AS incident_count RETURN incident_type, incident_count ORDER BY incident_count DESC\"\n",
        "  },\n",
        "  {\n",
        "    \"question\": \"找出所有同時涉及多種類型事故的工地區域\",\n",
        "    \"query\": \"MATCH (a:SiteArea)<-[:MONITORS]-(c:SurveillanceCamera)<-[:RECORDED_BY]-(ano:AnomalyEvent)-[:RELATED_TO]->(i:Incident)-[:CATEGORIZED_AS]->(t:IncidentType) WITH a, COUNT(DISTINCT t) AS incident_type_count WHERE incident_type_count > 1 RETURN a.name, incident_type_count ORDER BY incident_type_count DESC\"\n",
        "  },\n",
        "  {\n",
        "    \"question\": \"列出所有在同一天發生多起事故的日期及事故數量\",\n",
        "    \"query\": \"MATCH (i:Incident) WITH i.date AS incident_date, COUNT(i) AS incident_count WHERE incident_count > 1 RETURN incident_date, incident_count ORDER BY incident_count DESC\"\n",
        "  },\n",
        "  {\n",
        "    \"question\": \"找出所有既有設備故障又有人員受傷的事故\",\n",
        "    \"query\": \"MATCH (i:Incident)-[:CATEGORIZED_AS]->(t1:IncidentType {name: '設備故障'}) MATCH (i)-[:CATEGORIZED_AS]->(t2:IncidentType) WHERE t2.name IN ['墜落', '觸電', '化學品洩漏'] RETURN i.id, i.description, i.date\"\n",
        "  },\n",
        "  {\n",
        "    \"question\": \"查詢所有工地區域的安全評分（基於事故嚴重性和頻率）\",\n",
        "    \"query\": \"MATCH (a:SiteArea)<-[:MONITORS]-(c:SurveillanceCamera)<-[:RECORDED_BY]-(ano:AnomalyEvent)-[:RELATED_TO]->(i:Incident) WITH a, COUNT(i) AS incident_count, SUM(CASE i.severity WHEN '高' THEN 3 WHEN '中' THEN 2 ELSE 1 END) AS severity_score RETURN a.name, incident_count, severity_score, (1000 / (incident_count * severity_score)) AS safety_score ORDER BY safety_score DESC\"\n",
        "  }\n",
        "]"
      ],
      "metadata": {
        "id": "bnZIe68nC7sz"
      },
      "execution_count": 68,
      "outputs": []
    },
    {
      "cell_type": "markdown",
      "source": [
        "##### 實作 Prompt_selector"
      ],
      "metadata": {
        "id": "w0A3SNx8DOQf"
      }
    },
    {
      "cell_type": "code",
      "source": [
        "from langchain_openai import OpenAIEmbeddings\n",
        "from langchain_core.example_selectors import SemanticSimilarityExampleSelector, MaxMarginalRelevanceExampleSelector\n",
        "from langchain.vectorstores import Chroma\n",
        "\n",
        "EMBEDDING_MODEL = OpenAIEmbeddings(openai_api_key=os.environ.get(\"OPENAI_API_KEY\"))\n",
        "\n",
        "# Instantiate a example selector\n",
        "example_selector = MaxMarginalRelevanceExampleSelector.from_examples(\n",
        "    examples = examples,\n",
        "    embeddings = EMBEDDING_MODEL,\n",
        "    vectorstore_cls = Chroma,\n",
        "    k=5,\n",
        ")\n",
        "\n",
        "# Configure a formatter\n",
        "example_prompt = PromptTemplate(\n",
        "    input_variables=[\"question\"],\n",
        "    template=\"Question: {question}\\nCypher query: \"\n",
        ")"
      ],
      "metadata": {
        "id": "kyg4ap86DMRE"
      },
      "execution_count": 69,
      "outputs": []
    },
    {
      "cell_type": "code",
      "source": [
        "from langchain_core.prompts import FewShotPromptTemplate, PromptTemplate\n",
        "\n",
        "def create_few_shot_prompt():\n",
        "    '''Create a prompt template without context variable. The suffix provides dynamically selected prompt examples using similarity search'''\n",
        "\n",
        "    prefix = \"\"\"\n",
        "    Task:Generate Cypher statement to query a graph database.\n",
        "    Instructions:\n",
        "    Use only the provided relationship types and properties in the schema.\n",
        "    Do not use any other relationship types or properties that are not provided.\n",
        "\n",
        "    Note: Do not include any explanations or apologies in your responses.\n",
        "    Do not respond to any questions that might ask anything else than for you to construct a Cypher statement.\n",
        "    Do not include any text except the generated Cypher statement.\n",
        "\n",
        "    Examples: Here are a few examples of generated Cypher statements for particular questions:\n",
        "    \"\"\"\n",
        "\n",
        "    FEW_SHOT_PROMPT = FewShotPromptTemplate(\n",
        "        example_selector = example_selector,\n",
        "        example_prompt = example_prompt,\n",
        "        prefix=prefix,\n",
        "        suffix=\"Question: {question}, \\nCypher Query: \",\n",
        "        input_variables=[\"question\"],\n",
        "    )\n",
        "    return FEW_SHOT_PROMPT"
      ],
      "metadata": {
        "id": "W07LEJF5DRZC"
      },
      "execution_count": 84,
      "outputs": []
    },
    {
      "cell_type": "code",
      "source": [
        "prompt = create_few_shot_prompt()\n",
        "result = prompt.format(\n",
        "    question=\"找出所有高嚴重性的事故及其發生地點\",\n",
        "    )\n",
        "result"
      ],
      "metadata": {
        "colab": {
          "base_uri": "https://localhost:8080/",
          "height": 157
        },
        "id": "6Rr8VuIhDTlp",
        "outputId": "bbb15f47-3c5b-44ed-8b17-bef2e3153f63"
      },
      "execution_count": 71,
      "outputs": [
        {
          "output_type": "execute_result",
          "data": {
            "text/plain": [
              "'\\n    Task:Generate Cypher statement to query a graph database.\\n    Instructions:\\n    Use only the provided relationship types and properties in the schema.\\n    Do not use any other relationship types or properties that are not provided.\\n\\n    Note: Do not include any explanations or apologies in your responses.\\n    Do not respond to any questions that might ask anything else than for you to construct a Cypher statement.\\n    Do not include any text except the generated Cypher statement.\\n\\n    Examples: Here are a few examples of generated Cypher statements for particular questions:\\n    \\n\\nQuestion: 找出所有高嚴重性的事故及其發生地點\\nCypher query: \\n\\nQuestion: 找出所有高嚴重性的事故及其發生地點\\nCypher query: \\n\\nQuestion: 列出所有發生過高嚴重性事故的工地區域及事故次數\\nCypher query: \\n\\nQuestion: 查詢所有高風險區域及其最近發生的事故\\nCypher query: \\n\\nQuestion: 找出所有同時涉及多種類型事故的工地區域\\nCypher query: \\n\\nQuestion: 找出所有高嚴重性的事故及其發生地點, \\nCypher Query: '"
            ],
            "application/vnd.google.colaboratory.intrinsic+json": {
              "type": "string"
            }
          },
          "metadata": {},
          "execution_count": 71
        }
      ]
    },
    {
      "cell_type": "markdown",
      "source": [
        "##### 實作 GraphQA_Chain"
      ],
      "metadata": {
        "id": "w2OfiP2fDaE7"
      }
    },
    {
      "cell_type": "code",
      "source": [
        "from langchain.chains import RetrievalQA, GraphCypherQAChain\n",
        "\n",
        "# Instantiate a openai model\n",
        "llm = ChatOpenAI(\n",
        "    temperature=0,\n",
        "    api_key=os.environ.get(\"OPENAI_API_KEY\"),\n",
        ")\n",
        "\n",
        "graph_qa_chain = GraphCypherQAChain.from_llm(\n",
        "    cypher_llm = llm, #should use gpt-4 for production\n",
        "    qa_llm = llm,\n",
        "    validate_cypher= True,\n",
        "    graph=graph,\n",
        "    verbose=True,\n",
        "    cypher_prompt = prompt,\n",
        "    return_intermediate_steps = True,\n",
        "    return_direct = True,\n",
        ")"
      ],
      "metadata": {
        "id": "Tr87rJhEDcnS"
      },
      "execution_count": 78,
      "outputs": []
    },
    {
      "cell_type": "code",
      "source": [
        "result = graph_qa_chain.run(\"有多少起高空墜落發生?\")\n",
        "result"
      ],
      "metadata": {
        "colab": {
          "base_uri": "https://localhost:8080/"
        },
        "id": "rL14mF5-DhLF",
        "outputId": "0449caf9-ed06-41d9-b2db-7a70effbdc1d"
      },
      "execution_count": 79,
      "outputs": [
        {
          "output_type": "stream",
          "name": "stdout",
          "text": [
            "\n",
            "\n",
            "\u001b[1m> Entering new GraphCypherQAChain chain...\u001b[0m\n",
            "Generated Cypher:\n",
            "\u001b[32;1m\u001b[1;3m\u001b[0m\n",
            "\n",
            "\u001b[1m> Finished chain.\u001b[0m\n"
          ]
        },
        {
          "output_type": "execute_result",
          "data": {
            "text/plain": [
              "[]"
            ]
          },
          "metadata": {},
          "execution_count": 79
        }
      ]
    },
    {
      "cell_type": "markdown",
      "source": [
        "# 使用 LangGraph 實現 Graph RAG\n",
        "\n",
        "我將引導您了解如何使用 LangChain 和 LangGraph 為 Neo4j 建立 GraphRAG 工作流程。我們將發展一個相當複雜的工作流程，使用LLM多階段並採用動態提示查詢分解技巧。我們也將使用路由技術來分割向量語意搜尋和圖 QA 鏈。使用 LangGraph GraphState，我們將使用從早期步驟派生的上下文來豐富我們的提示範本。"
      ],
      "metadata": {
        "id": "4zo618q4VHCD"
      }
    },
    {
      "cell_type": "markdown",
      "source": [
        "## 介紹 GraphRAG 工作方式\n",
        "\n",
        "![Imgur](https://imgur.com/diSn8fK.png)\n",
        "\n",
        "典型的 GraphRAG 應用程式涉及使用以下命令產生 Cypher 查詢語言LLM。然後，LangChain GraphCypherQAChain 將產生的 Cypher 查詢提交到圖形資料庫（例如 Neo4j）以檢索查詢輸出。最後，LLM將根據初始查詢和圖形回應傳回回應。此時，回應僅基於傳統的圖查詢。由於Neo4j引入了向量索引功能，我們也可以進行語意查詢。在處理屬性圖時，將語義查詢和圖查詢結合起來或將兩者分開有時是有益的。\n",
        "\n"
      ],
      "metadata": {
        "id": "fCfIGQY7VU9s"
      }
    },
    {
      "cell_type": "markdown",
      "source": [
        "## 環境準備"
      ],
      "metadata": {
        "id": "J8xPhv_lWNWB"
      }
    },
    {
      "cell_type": "code",
      "source": [
        "%%capture --no-stderr\n",
        "%pip install --quiet langgraph"
      ],
      "metadata": {
        "id": "zAGtql4EUTbV"
      },
      "execution_count": 18,
      "outputs": []
    },
    {
      "cell_type": "code",
      "source": [
        "%pip show langgraph"
      ],
      "metadata": {
        "colab": {
          "base_uri": "https://localhost:8080/"
        },
        "id": "Sfl3kjcpWUZz",
        "outputId": "a912a93a-a316-40d7-cf58-e2efdea326c5"
      },
      "execution_count": 19,
      "outputs": [
        {
          "output_type": "stream",
          "name": "stdout",
          "text": [
            "Name: langgraph\n",
            "Version: 0.2.19\n",
            "Summary: Building stateful, multi-actor applications with LLMs\n",
            "Home-page: https://www.github.com/langchain-ai/langgraph\n",
            "Author: \n",
            "Author-email: \n",
            "License: MIT\n",
            "Location: /usr/local/lib/python3.10/dist-packages\n",
            "Requires: langchain-core, langgraph-checkpoint\n",
            "Required-by: \n"
          ]
        }
      ]
    },
    {
      "cell_type": "markdown",
      "source": [
        "## 設計 LangGraph Workflow\n",
        "\n",
        "我們目前的工作流程將有兩個分支(如下所示) — 一個使用圖表架構進行簡單的圖形查詢檢索問答,另一個則使用向量相似度搜尋。為了讓你能跟上這個工作流程,我建立了一個 GitHub 儲存庫,裡面包含了這個實驗的所有程式碼:我的工安監控系統展示。\n",
        "這個實驗的資料集是從假定的工安事故報告資料庫取得的,其中包含了各種工安事件的詳細資訊(欲了解更多資訊,請參閱工安資料庫說明)。此外,你還需要一個 Neo4j AuraDB 實例來儲存和查詢這些資料。\n",
        "這個系統將幫助我們更有效地監控和分析工地的安全狀況,及時發現潛在的風險,並採取相應的預防措施。\n"
      ],
      "metadata": {
        "id": "eU2siGo7WeLJ"
      }
    },
    {
      "cell_type": "markdown",
      "source": [
        "https://neo4j.com/developer-blog/neo4j-graphrag-workflow-langchain-langgraph/"
      ],
      "metadata": {
        "id": "iXWbzZnvajto"
      }
    },
    {
      "cell_type": "markdown",
      "source": [
        "## 建立狀態"
      ],
      "metadata": {
        "id": "27O-SlZzEfCi"
      }
    },
    {
      "cell_type": "code",
      "source": [
        "from typing import List, TypedDict\n",
        "\n",
        "class SafetyIncident(TypedDict):\n",
        "    id: str\n",
        "    date: str\n",
        "    severity: str\n",
        "    description: str\n",
        "\n",
        "class GraphState(TypedDict):\n",
        "    \"\"\"\n",
        "    Represents the state of our graph.\n",
        "\n",
        "    Attributes:\n",
        "        question: question\n",
        "        documents: result of chain\n",
        "        subqueries: decomposed queries\n",
        "    \"\"\"\n",
        "\n",
        "    question: str\n",
        "    incidents: List[SafetyIncident]\n",
        "    subqueries: object"
      ],
      "metadata": {
        "id": "WHFKNvZTE5Kb"
      },
      "execution_count": 125,
      "outputs": []
    },
    {
      "cell_type": "markdown",
      "source": [
        "## 實作節點函數"
      ],
      "metadata": {
        "id": "O7XD2JPwEge2"
      }
    },
    {
      "cell_type": "markdown",
      "source": [
        "### 實作問題分類函數\n",
        "\n",
        "這邊會決定問題是要交給 vector_search, 還是 graph_query"
      ],
      "metadata": {
        "id": "SoaRJ_KJI2Lx"
      }
    },
    {
      "cell_type": "code",
      "source": [
        "from typing import Literal\n",
        "from langchain_core.prompts import ChatPromptTemplate\n",
        "from langchain_core.pydantic_v1 import BaseModel, Field\n",
        "from langchain_openai import ChatOpenAI\n",
        "\n",
        "class RouteQuery(BaseModel):\n",
        "    \"\"\"Route a user query to the most relevant datasource.\"\"\"\n",
        "    datasource: Literal[\"vector search\", \"graph query\"] = Field(\n",
        "        ...,\n",
        "        description=\"Given a user question choose to route it to vectorstore or graphdb.\",\n",
        "    )\n",
        "\n",
        "llm = ChatOpenAI(temperature=0)\n",
        "structured_llm_router = llm.with_structured_output(RouteQuery)\n",
        "\n",
        "system = \"\"\"You are an expert at routing user questions in a safety monitoring system to perform vector search or graph query.\n",
        "The vector store contains documents related to safety protocols, incident reports, and equipment manuals. Here are the routing situations:\n",
        "\n",
        "If the user question is about similarity search or finding related information, perform vector search. The user query may include terms like similar, related, relevant, identical, closest etc. to suggest vector search. For all other cases, use graph query.\n",
        "\n",
        "Example questions for Vector Search:\n",
        "    找出類似於高空作業的安全協議\n",
        "    列出與化學品洩漏相關的事故報告\n",
        "    哪些設備手冊與呼吸防護相關？\n",
        "\n",
        "Example questions for Graph DB Query:\n",
        "    MATCH (i:Incident) RETURN COUNT(i)\n",
        "    MATCH (e:Equipment) RETURN e.name, e.status\n",
        "\n",
        "Example questions for Graph QA Chain:\n",
        "    找出上個月發生的所有高嚴重性事故\n",
        "    列出在特定地點發生事故的所有工人\n",
        "    每個部門最常見的事故類型是什麼？\n",
        "    顯示高風險區域中需要維護的所有設備\n",
        "\"\"\"\n",
        "\n",
        "route_prompt = ChatPromptTemplate.from_messages(\n",
        "    [\n",
        "        (\"system\", system),\n",
        "        (\"human\", \"{question}\")\n",
        "    ]\n",
        ")\n",
        "\n",
        "question_router = route_prompt | structured_llm_router"
      ],
      "metadata": {
        "id": "7W1EiNVgI6GH"
      },
      "execution_count": 126,
      "outputs": []
    },
    {
      "cell_type": "code",
      "source": [
        "# 測試函數\n",
        "def test_router(question):\n",
        "    result = question_router.invoke({\"question\": question})\n",
        "    print(f\"問題: {question}\")\n",
        "    print(f\"路由至: {result.datasource}\")\n",
        "    print(\"-\" * 50)\n",
        "\n",
        "# 中文測試案例\n",
        "test_cases = [\n",
        "    \"找出類似於密閉空間作業的安全協議\",\n",
        "    \"最近與電氣危害相關的事故報告有哪些？\",\n",
        "    \"列出參與過兩次以上事故的所有工人\",\n",
        "    \"顯示焊接區所有機器的設備維護時間表\",\n",
        "    \"過去一年中，高嚴重性事故的共同因素是什麼？\",\n",
        "    \"找出與處理危險物品相關的安全手冊\",\n",
        "    \"上個月每個部門發生了多少起事故？\",\n",
        "    \"列出所有需要更換的個人防護設備（PPE）\",\n",
        "    \"哪些工人本季度還沒有完成安全培訓？\",\n",
        "    \"設備維護頻率與事故發生率之間有什麼關聯？\"\n",
        "]\n",
        "\n",
        "# 運行測試\n",
        "for case in test_cases:\n",
        "    test_router(case)"
      ],
      "metadata": {
        "colab": {
          "base_uri": "https://localhost:8080/"
        },
        "id": "8-Po6OX-JE-4",
        "outputId": "ea25841b-7ff5-4d40-b3a9-b334a5f53301"
      },
      "execution_count": 127,
      "outputs": [
        {
          "output_type": "stream",
          "name": "stdout",
          "text": [
            "問題: 找出類似於密閉空間作業的安全協議\n",
            "路由至: vector search\n",
            "--------------------------------------------------\n",
            "問題: 最近與電氣危害相關的事故報告有哪些？\n",
            "路由至: vector search\n",
            "--------------------------------------------------\n",
            "問題: 列出參與過兩次以上事故的所有工人\n",
            "路由至: graph query\n",
            "--------------------------------------------------\n",
            "問題: 顯示焊接區所有機器的設備維護時間表\n",
            "路由至: graph query\n",
            "--------------------------------------------------\n",
            "問題: 過去一年中，高嚴重性事故的共同因素是什麼？\n",
            "路由至: graph query\n",
            "--------------------------------------------------\n",
            "問題: 找出與處理危險物品相關的安全手冊\n",
            "路由至: vector search\n",
            "--------------------------------------------------\n",
            "問題: 上個月每個部門發生了多少起事故？\n",
            "路由至: graph query\n",
            "--------------------------------------------------\n",
            "問題: 列出所有需要更換的個人防護設備（PPE）\n",
            "路由至: graph query\n",
            "--------------------------------------------------\n",
            "問題: 哪些工人本季度還沒有完成安全培訓？\n",
            "路由至: graph query\n",
            "--------------------------------------------------\n",
            "問題: 設備維護頻率與事故發生率之間有什麼關聯？\n",
            "路由至: graph query\n",
            "--------------------------------------------------\n"
          ]
        }
      ]
    },
    {
      "cell_type": "markdown",
      "source": [
        "實作 GraphCypherQAChain 節點函數"
      ],
      "metadata": {
        "id": "woj_OdFDVS5d"
      }
    },
    {
      "cell_type": "code",
      "source": [
        "# 轉換 qa_chain 成為節點\n",
        "def graph_qa(state: GraphState):\n",
        "\n",
        "    ''' Returns a dictionary of at least one of the GraphState '''\n",
        "    ''' Invoke a Graph QA Chain '''\n",
        "\n",
        "    question = state[\"question\"]\n",
        "\n",
        "    graph_qa_chain = GraphCypherQAChain.from_llm(\n",
        "        cypher_llm = llm,\n",
        "        qa_llm = llm,\n",
        "        graph=graph,\n",
        "        verbose=True,\n",
        "        cypher_prompt=CYPHER_GENERATION_PROMPT,\n",
        "        return_direct = True,\n",
        "    )\n",
        "\n",
        "    result = graph_qa_chain.invoke(\n",
        "        {\n",
        "            #\"context\": graph.schema,\n",
        "            \"query\": question,\n",
        "        },\n",
        "    )\n",
        "    return {\"documents\": result, \"question\":question}"
      ],
      "metadata": {
        "id": "cplkxuMNVZPf"
      },
      "execution_count": null,
      "outputs": []
    },
    {
      "cell_type": "markdown",
      "source": [
        "### 實作 Decomposer 節點函數\n",
        "\n",
        "定義了一個查詢分析器，用於將用戶的複雜問題分解成子查詢。\n",
        "\n",
        "例如，如果用戶問：\"在過去三個月內，哪些類型的事故在高層建築工地最常發生？\"，AI 可能會生成如下子查詢：\n",
        "1. 找出過去三個月內在高層建築工地發生的事故。\n",
        "2. 統計這些事故的類型並按頻率排序。"
      ],
      "metadata": {
        "id": "tYICEDVlVgvp"
      }
    },
    {
      "cell_type": "code",
      "source": [
        "import os\n",
        "import datetime\n",
        "from typing import Literal, Optional, Tuple\n",
        "\n",
        "from langchain_openai import ChatOpenAI, OpenAIEmbeddings\n",
        "from langchain_core.pydantic_v1 import BaseModel, Field\n",
        "from langchain.output_parsers import PydanticToolsParser\n",
        "from langchain_core.prompts import ChatPromptTemplate\n",
        "\n",
        "class SubQuery(BaseModel):\n",
        "    \"\"\"Decompose a given question/query into sub-queries\"\"\"\n",
        "\n",
        "    sub_query: str = Field(\n",
        "        ...,\n",
        "        description=\"A unique paraphrasing of the original questions.\",\n",
        "    )\n",
        "\n",
        "system = \"\"\"You are an expert at converting user questions into Neo4j Cypher queries. \\\n",
        "\n",
        "Perform query decomposition. Given a user question, break it down into two distinct subqueries that \\\n",
        "you need to answer in order to answer the original question.\n",
        "\n",
        "For the given input question, create a query for similarity search and create a query to perform neo4j graph query.\n",
        "Here is example:\n",
        "Question: Find the incidents related to falls and return their locations.\n",
        "Answers:\n",
        "sub_query1 : Find incidents categorized as falls.\n",
        "sub_query2 : Return locations of the fall incidents.\n",
        "\"\"\"\n",
        "prompt = ChatPromptTemplate.from_messages(\n",
        "    [\n",
        "        (\"system\", system),\n",
        "        (\"human\", \"{question}\"),\n",
        "    ]\n",
        ")\n",
        "\n",
        "llm = ChatOpenAI(\n",
        "    temperature=0,\n",
        "    api_key=os.environ.get(\"OPENAI_API_KEY\"),\n",
        ")\n",
        "\n",
        "llm_with_tools = llm.bind_tools([SubQuery])\n",
        "parser = PydanticToolsParser(tools=[SubQuery])\n",
        "query_analyzer = prompt | llm_with_tools | parser"
      ],
      "metadata": {
        "id": "3oiwYubNVopb"
      },
      "execution_count": 188,
      "outputs": []
    },
    {
      "cell_type": "code",
      "source": [
        "question = \"在我的工安系統中，如何找出最常發生的事故類型和涉及最多事故的工地區域？\"\n",
        "result = query_analyzer.invoke({\"question\": question})\n",
        "\n",
        "print(\"原始問題:\", question)\n",
        "print(\"分解後的子查詢:\")\n",
        "for item in result:\n",
        "    print(f\"- {item.sub_query}\")"
      ],
      "metadata": {
        "colab": {
          "base_uri": "https://localhost:8080/"
        },
        "id": "b0d4R4FbVwxR",
        "outputId": "f230b852-c28c-46bf-d752-27aeb89a2ff3"
      },
      "execution_count": 189,
      "outputs": [
        {
          "output_type": "stream",
          "name": "stdout",
          "text": [
            "原始問題: 在我的工安系統中，如何找出最常發生的事故類型和涉及最多事故的工地區域？\n",
            "分解後的子查詢:\n",
            "- 找出最常發生的事故類型。\n",
            "- 找出涉及最多事故的工地區域。\n"
          ]
        }
      ]
    },
    {
      "cell_type": "markdown",
      "source": [
        "這個例子可以幫助 AI 更好地理解如何將工安相關的問題分解為可管理的子查詢。當用戶詢問複雜的工安問題時，AI 就能更準確地生成相關的子查詢，這些子查詢可以直接轉化為 Neo4j Cypher 查詢。"
      ],
      "metadata": {
        "id": "HauPC48GV3hF"
      }
    },
    {
      "cell_type": "code",
      "source": [
        "def decomposer(state: GraphState):\n",
        "\n",
        "    '''Returns a dictionary of at least one of the GraphState'''\n",
        "    '''Decompose a given question to sub-queries'''\n",
        "\n",
        "    question = state[\"question\"]\n",
        "    subqueries = query_analyzer.invoke(question)\n",
        "    return {\"subqueries\": subqueries, \"question\":question}"
      ],
      "metadata": {
        "id": "09yZv4ymVjeS"
      },
      "execution_count": 190,
      "outputs": []
    },
    {
      "cell_type": "markdown",
      "source": [
        "### 實作 vector_search 節點函數"
      ],
      "metadata": {
        "id": "RGy6r8I_IdhQ"
      }
    },
    {
      "cell_type": "code",
      "source": [
        "import re\n",
        "\n",
        "class DocumentModel(BaseModel):\n",
        "    page_content: str\n",
        "    metadata: dict\n",
        "\n",
        "    def extract_field(self, field_name: str) -> str:\n",
        "        match = re.search(rf'{field_name}: (.+)', self.page_content)\n",
        "        return match.group(1) if match else \"\"\n",
        "\n",
        "def vector_search(state: GraphState):\n",
        "\n",
        "    ''' Returns a dictionary of at least one of the GraphState'''\n",
        "    ''' Perform a vector similarity search and return article id as a parsed output'''\n",
        "\n",
        "    question = state[\"question\"]\n",
        "    queries = state[\"subqueries\"]\n",
        "\n",
        "    vector_graph_chain = vector_graph_chain = RetrievalQA.from_chain_type(\n",
        "        llm,\n",
        "        chain_type=\"stuff\",\n",
        "        retriever = safety_incidents_vector_index.as_retriever(search_kwargs={'k':3}),\n",
        "        verbose=True,\n",
        "        return_source_documents=True,\n",
        "    )\n",
        "\n",
        "    chain_result = vector_graph_chain.invoke({\n",
        "        \"query\": queries[0].sub_query},\n",
        "    )\n",
        "\n",
        "    # Convert the result to a list of DocumentModel instances\n",
        "    documents = [DocumentModel(**doc.dict()) for doc in chain_result['source_documents']]\n",
        "\n",
        "    # 將結果轉換為 SafetyIncident 實例列表\n",
        "    incidents: List[SafetyIncident] = []\n",
        "    for doc in documents:\n",
        "        incident = SafetyIncident(\n",
        "            id=doc.extract_field('id'),\n",
        "            date=doc.extract_field('date'),\n",
        "            severity=doc.extract_field('severity'),\n",
        "            description=doc.extract_field('description')\n",
        "        )\n",
        "        incidents.append(incident)\n",
        "\n",
        "    extracted_data = [\n",
        "        {\n",
        "            \"id\": incident['id'],\n",
        "            \"date\": incident['date'],\n",
        "            \"severity\": incident['severity'],\n",
        "            \"description\": incident['description'],\n",
        "        } for incident in incidents\n",
        "    ]\n",
        "\n",
        "    incident_ids = [(\"incident_id\", incident['id']) for incident in incidents]\n",
        "\n",
        "    return {\n",
        "        \"incident_ids\": incident_ids,\n",
        "        \"incidents\": extracted_data,\n",
        "        \"question\": question,\n",
        "        \"subqueries\": queries,\n",
        "        \"answer\": chain_result['result']\n",
        "    }"
      ],
      "metadata": {
        "id": "AbAykmoOFF40"
      },
      "execution_count": 173,
      "outputs": []
    },
    {
      "cell_type": "code",
      "source": [
        "# 使用示例\n",
        "def example_usage():\n",
        "    state = GraphState({\n",
        "        \"question\": \"找出最近發生的高嚴重性安全事故\",\n",
        "        \"subqueries\": [SubQuery(sub_query='找出最常發生的事故類型。'), SubQuery(sub_query='找出涉及最多事故的工地區域。')]\n",
        "    })\n",
        "    result = vector_search(state)\n",
        "    print(result)\n",
        "\n",
        "example_usage()"
      ],
      "metadata": {
        "colab": {
          "base_uri": "https://localhost:8080/"
        },
        "id": "YCD6h9h9LefT",
        "outputId": "dfaced49-89c9-4c53-e9ac-ce698733d792"
      },
      "execution_count": 174,
      "outputs": [
        {
          "output_type": "stream",
          "name": "stdout",
          "text": [
            "\n",
            "\n",
            "\u001b[1m> Entering new RetrievalQA chain...\u001b[0m\n",
            "\n",
            "\u001b[1m> Finished chain.\u001b[0m\n",
            "{'incident_ids': [('incident_id', 'INC010'), ('incident_id', 'INC009'), ('incident_id', 'INC011')], 'incidents': [{'id': 'INC010', 'date': '2024-10-01', 'severity': '中', 'description': '工地車輛碰撞'}, {'id': 'INC009', 'date': '2024-09-25', 'severity': '高', 'description': '大型機械操作不當造成嚴重事故'}, {'id': 'INC011', 'date': '2024-10-05', 'severity': '低', 'description': '工人被輕微砸傷'}], 'question': '找出最近發生的高嚴重性安全事故', 'subqueries': [SubQuery(sub_query='找出最常發生的事故類型。'), SubQuery(sub_query='找出涉及最多事故的工地區域。')], 'answer': '根據提供的資訊，最常發生的事故類型是「大型機械操作不當造成嚴重事故」。'}\n"
          ]
        }
      ]
    },
    {
      "cell_type": "markdown",
      "source": [
        "## 實作條件邊"
      ],
      "metadata": {
        "id": "Hc505eXDJM20"
      }
    },
    {
      "cell_type": "code",
      "source": [
        "def route_question(state: GraphState):\n",
        "    print(\"---ROUTE QUESTION---\")\n",
        "    question = state[\"question\"]\n",
        "    source = question_router.invoke({\"question\": question})\n",
        "    if source.datasource == \"vector search\":\n",
        "        print(\"---ROUTE QUESTION TO VECTOR SEARCH---\")\n",
        "        return \"pass to vector search\"\n",
        "    elif source.datasource == \"graph query\":\n",
        "        print(\"---ROUTE QUESTION TO GRAPH QA---\")\n",
        "        return \"pass to graph query\""
      ],
      "metadata": {
        "id": "h1TDwLLHJOhk"
      },
      "execution_count": 175,
      "outputs": []
    },
    {
      "cell_type": "markdown",
      "source": [
        "## 編譯 GRaph 並且視覺化"
      ],
      "metadata": {
        "id": "6aIKS4FdEiVg"
      }
    },
    {
      "cell_type": "code",
      "source": [
        "from langgraph.graph import END, StateGraph\n",
        "\n",
        "PROMPT_TEMPLATE = \"prompt_template\"\n",
        "GRAPH_QA = \"graph_qa\"\n",
        "\n",
        "DECOMPOSER= \"decomposer\"\n",
        "VECTOR_SEARCH = \"vector_search\"\n",
        "\n",
        "workflow = StateGraph(GraphState)\n",
        "\n",
        "# Nodes for graph qa\n",
        "workflow.add_node(GRAPH_QA, graph_qa)\n",
        "\n",
        "# Nodes for vector search\n",
        "workflow.add_node(DECOMPOSER, decomposer)\n",
        "workflow.add_node(VECTOR_SEARCH, vector_search)\n",
        "\n",
        "# Set conditional entry point for vector search or graph qa\n",
        "workflow.set_conditional_entry_point(\n",
        "    route_question,\n",
        "    {\n",
        "        'pass to vector search': DECOMPOSER, # vector search\n",
        "        'pass to graph query': GRAPH_QA # for graph qa\n",
        "    },\n",
        ")\n",
        "\n",
        "# Edges for graph qa\n",
        "workflow.add_edge(DECOMPOSER, VECTOR_SEARCH)\n",
        "workflow.add_edge(VECTOR_SEARCH, END)\n",
        "workflow.add_edge(GRAPH_QA, END)\n",
        "\n",
        "app = workflow.compile()"
      ],
      "metadata": {
        "id": "VJ1smgwuEk1P"
      },
      "execution_count": 176,
      "outputs": []
    },
    {
      "cell_type": "code",
      "source": [
        "from IPython.display import Image, display\n",
        "\n",
        "try:\n",
        "    display(Image(app.get_graph(xray=True).draw_mermaid_png()))\n",
        "except:\n",
        "    pass"
      ],
      "metadata": {
        "colab": {
          "base_uri": "https://localhost:8080/",
          "height": 398
        },
        "id": "psxgU3oUEmVk",
        "outputId": "d43a59fd-8909-4150-c59a-0742d27e07e4"
      },
      "execution_count": 177,
      "outputs": [
        {
          "output_type": "display_data",
          "data": {
            "image/jpeg": "[encoded data removed]",
            "text/plain": [
              "<IPython.core.display.Image object>"
            ]
          },
          "metadata": {}
        }
      ]
    },
    {
      "cell_type": "markdown",
      "source": [
        "## 與之互動"
      ],
      "metadata": {
        "id": "cVLkVONDUSmq"
      }
    },
    {
      "cell_type": "code",
      "source": [
        "vector_search_result = app.invoke({\"question\": \"找出類似於密閉空間作業的安全協議\"})\n",
        "vector_search_result"
      ],
      "metadata": {
        "colab": {
          "base_uri": "https://localhost:8080/"
        },
        "id": "kdeyUQ9aF1MF",
        "outputId": "59f6a387-ac5d-409f-a196-63f18f34a893"
      },
      "execution_count": 183,
      "outputs": [
        {
          "output_type": "stream",
          "name": "stdout",
          "text": [
            "---ROUTE QUESTION---\n",
            "---ROUTE QUESTION TO VECTOR SEARCH---\n",
            "\n",
            "\n",
            "\u001b[1m> Entering new RetrievalQA chain...\u001b[0m\n",
            "\n",
            "\u001b[1m> Finished chain.\u001b[0m\n"
          ]
        },
        {
          "output_type": "execute_result",
          "data": {
            "text/plain": [
              "{'question': '找出類似於密閉空間作業的安全協議',\n",
              " 'incidents': [{'id': 'INC009',\n",
              "   'date': '2024-09-25',\n",
              "   'severity': '高',\n",
              "   'description': '大型機械操作不當造成嚴重事故'},\n",
              "  {'id': 'INC010',\n",
              "   'date': '2024-10-01',\n",
              "   'severity': '中',\n",
              "   'description': '工地車輛碰撞'},\n",
              "  {'id': 'INC018',\n",
              "   'date': '2024-11-10',\n",
              "   'severity': '中',\n",
              "   'description': '工人吸入有害氣體'}],\n",
              " 'subqueries': [SubQuery(sub_query='找出類似於密閉空間作業的安全協議'),\n",
              "  SubQuery(sub_query='執行Neo4j圖形查詢以找出安全協議')]}"
            ]
          },
          "metadata": {},
          "execution_count": 183
        }
      ]
    },
    {
      "cell_type": "code",
      "source": [
        "vector_search_result.keys()"
      ],
      "metadata": {
        "colab": {
          "base_uri": "https://localhost:8080/"
        },
        "id": "h3qU7Z86HfWz",
        "outputId": "8c00effd-08ee-4fdd-f15e-0c1fb9e7f993"
      },
      "execution_count": 185,
      "outputs": [
        {
          "output_type": "execute_result",
          "data": {
            "text/plain": [
              "dict_keys(['question', 'incidents', 'subqueries'])"
            ]
          },
          "metadata": {},
          "execution_count": 185
        }
      ]
    },
    {
      "cell_type": "code",
      "source": [
        "vector_search_result['incidents']"
      ],
      "metadata": {
        "colab": {
          "base_uri": "https://localhost:8080/"
        },
        "id": "wpaFxQo7RLeO",
        "outputId": "5ec9c553-4071-4773-adba-e8c2fdd26270"
      },
      "execution_count": 187,
      "outputs": [
        {
          "output_type": "execute_result",
          "data": {
            "text/plain": [
              "[{'id': 'INC009',\n",
              "  'date': '2024-09-25',\n",
              "  'severity': '高',\n",
              "  'description': '大型機械操作不當造成嚴重事故'},\n",
              " {'id': 'INC010',\n",
              "  'date': '2024-10-01',\n",
              "  'severity': '中',\n",
              "  'description': '工地車輛碰撞'},\n",
              " {'id': 'INC018',\n",
              "  'date': '2024-11-10',\n",
              "  'severity': '中',\n",
              "  'description': '工人吸入有害氣體'}]"
            ]
          },
          "metadata": {},
          "execution_count": 187
        }
      ]
    }
  ]
}
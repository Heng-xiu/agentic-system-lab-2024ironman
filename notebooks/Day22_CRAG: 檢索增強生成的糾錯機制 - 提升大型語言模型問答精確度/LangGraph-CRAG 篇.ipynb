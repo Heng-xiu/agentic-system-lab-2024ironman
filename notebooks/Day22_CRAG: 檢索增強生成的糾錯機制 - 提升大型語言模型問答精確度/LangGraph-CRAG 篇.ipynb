{
  "nbformat": 4,
  "nbformat_minor": 0,
  "metadata": {
    "colab": {
      "provenance": [],
      "collapsed_sections": [
        "9H7cb1Gi8YpF"
      ],
      "toc_visible": true
    },
    "kernelspec": {
      "name": "python3",
      "display_name": "Python 3"
    },
    "language_info": {
      "name": "python"
    }
  },
  "cells": [
    {
      "cell_type": "markdown",
      "source": [
        "# 🥱 LangGraph_CRAG 篇\n",
        "\n",
        "❤️ Created by [hengshiousheu](https://huggingface.co/Heng666)."
      ],
      "metadata": {
        "id": "DQAS_ChJ8P-2"
      }
    },
    {
      "cell_type": "markdown",
      "source": [
        "# 環境建置\n",
        "\n",
        "## 安裝套件包\n",
        "\n",
        "在本演練中，\n",
        "\n",
        "我們將使用以下套件："
      ],
      "metadata": {
        "id": "eyonM3rk8SYK"
      }
    },
    {
      "cell_type": "code",
      "execution_count": null,
      "metadata": {
        "colab": {
          "base_uri": "https://localhost:8080/"
        },
        "id": "zMu6BI_28NTQ",
        "outputId": "ea49ae98-ed62-43ec-d02f-b9d55e349211"
      },
      "outputs": [
        {
          "output_type": "stream",
          "name": "stdout",
          "text": [
            "\u001b[2K     \u001b[90m━━━━━━━━━━━━━━━━━━━━━━━━━━━━━━━━━━━━━━━━\u001b[0m \u001b[32m50.4/50.4 kB\u001b[0m \u001b[31m533.2 kB/s\u001b[0m eta \u001b[36m0:00:00\u001b[0m\n",
            "\u001b[2K   \u001b[90m━━━━━━━━━━━━━━━━━━━━━━━━━━━━━━━━━━━━━━━━\u001b[0m \u001b[32m1.0/1.0 MB\u001b[0m \u001b[31m18.8 MB/s\u001b[0m eta \u001b[36m0:00:00\u001b[0m\n",
            "\u001b[2K   \u001b[90m━━━━━━━━━━━━━━━━━━━━━━━━━━━━━━━━━━━━━━━━\u001b[0m \u001b[32m396.4/396.4 kB\u001b[0m \u001b[31m17.0 MB/s\u001b[0m eta \u001b[36m0:00:00\u001b[0m\n",
            "\u001b[2K   \u001b[90m━━━━━━━━━━━━━━━━━━━━━━━━━━━━━━━━━━━━━━━━\u001b[0m \u001b[32m290.4/290.4 kB\u001b[0m \u001b[31m10.8 MB/s\u001b[0m eta \u001b[36m0:00:00\u001b[0m\n",
            "\u001b[2K   \u001b[90m━━━━━━━━━━━━━━━━━━━━━━━━━━━━━━━━━━━━━━━━\u001b[0m \u001b[32m76.4/76.4 kB\u001b[0m \u001b[31m3.4 MB/s\u001b[0m eta \u001b[36m0:00:00\u001b[0m\n",
            "\u001b[2K   \u001b[90m━━━━━━━━━━━━━━━━━━━━━━━━━━━━━━━━━━━━━━━━\u001b[0m \u001b[32m77.9/77.9 kB\u001b[0m \u001b[31m3.7 MB/s\u001b[0m eta \u001b[36m0:00:00\u001b[0m\n",
            "\u001b[2K   \u001b[90m━━━━━━━━━━━━━━━━━━━━━━━━━━━━━━━━━━━━━━━━\u001b[0m \u001b[32m141.9/141.9 kB\u001b[0m \u001b[31m7.1 MB/s\u001b[0m eta \u001b[36m0:00:00\u001b[0m\n",
            "\u001b[2K   \u001b[90m━━━━━━━━━━━━━━━━━━━━━━━━━━━━━━━━━━━━━━━━\u001b[0m \u001b[32m58.3/58.3 kB\u001b[0m \u001b[31m2.3 MB/s\u001b[0m eta \u001b[36m0:00:00\u001b[0m\n",
            "\u001b[2K   \u001b[90m━━━━━━━━━━━━━━━━━━━━━━━━━━━━━━━━━━━━━━━━\u001b[0m \u001b[32m52.0/52.0 kB\u001b[0m \u001b[31m2.3 MB/s\u001b[0m eta \u001b[36m0:00:00\u001b[0m\n",
            "\u001b[2K   \u001b[90m━━━━━━━━━━━━━━━━━━━━━━━━━━━━━━━━━━━━━━━━\u001b[0m \u001b[32m367.8/367.8 kB\u001b[0m \u001b[31m14.8 MB/s\u001b[0m eta \u001b[36m0:00:00\u001b[0m\n",
            "\u001b[2K   \u001b[90m━━━━━━━━━━━━━━━━━━━━━━━━━━━━━━━━━━━━━━━━\u001b[0m \u001b[32m1.1/1.1 MB\u001b[0m \u001b[31m36.6 MB/s\u001b[0m eta \u001b[36m0:00:00\u001b[0m\n",
            "\u001b[2K   \u001b[90m━━━━━━━━━━━━━━━━━━━━━━━━━━━━━━━━━━━━━━━━\u001b[0m \u001b[32m318.9/318.9 kB\u001b[0m \u001b[31m14.4 MB/s\u001b[0m eta \u001b[36m0:00:00\u001b[0m\n",
            "\u001b[2K   \u001b[90m━━━━━━━━━━━━━━━━━━━━━━━━━━━━━━━━━━━━━━━━\u001b[0m \u001b[32m97.1/97.1 kB\u001b[0m \u001b[31m3.0 MB/s\u001b[0m eta \u001b[36m0:00:00\u001b[0m\n",
            "\u001b[2K   \u001b[90m━━━━━━━━━━━━━━━━━━━━━━━━━━━━━━━━━━━━━━━━\u001b[0m \u001b[32m2.3/2.3 MB\u001b[0m \u001b[31m38.5 MB/s\u001b[0m eta \u001b[36m0:00:00\u001b[0m\n",
            "\u001b[2K   \u001b[90m━━━━━━━━━━━━━━━━━━━━━━━━━━━━━━━━━━━━━━━━\u001b[0m \u001b[32m49.3/49.3 kB\u001b[0m \u001b[31m2.8 MB/s\u001b[0m eta \u001b[36m0:00:00\u001b[0m\n",
            "\u001b[2K     \u001b[90m━━━━━━━━━━━━━━━━━━━━━━━━━━━━━━━━━━━━━━━━\u001b[0m \u001b[32m67.3/67.3 kB\u001b[0m \u001b[31m3.8 MB/s\u001b[0m eta \u001b[36m0:00:00\u001b[0m\n",
            "\u001b[?25h  Installing build dependencies ... \u001b[?25l\u001b[?25hdone\n",
            "  Getting requirements to build wheel ... \u001b[?25l\u001b[?25hdone\n",
            "  Preparing metadata (pyproject.toml) ... \u001b[?25l\u001b[?25hdone\n",
            "\u001b[2K   \u001b[90m━━━━━━━━━━━━━━━━━━━━━━━━━━━━━━━━━━━━━━━━\u001b[0m \u001b[32m584.3/584.3 kB\u001b[0m \u001b[31m21.2 MB/s\u001b[0m eta \u001b[36m0:00:00\u001b[0m\n",
            "\u001b[2K   \u001b[90m━━━━━━━━━━━━━━━━━━━━━━━━━━━━━━━━━━━━━━━━\u001b[0m \u001b[32m2.4/2.4 MB\u001b[0m \u001b[31m53.6 MB/s\u001b[0m eta \u001b[36m0:00:00\u001b[0m\n",
            "\u001b[2K   \u001b[90m━━━━━━━━━━━━━━━━━━━━━━━━━━━━━━━━━━━━━━━━\u001b[0m \u001b[32m273.8/273.8 kB\u001b[0m \u001b[31m14.6 MB/s\u001b[0m eta \u001b[36m0:00:00\u001b[0m\n",
            "\u001b[2K   \u001b[90m━━━━━━━━━━━━━━━━━━━━━━━━━━━━━━━━━━━━━━━━\u001b[0m \u001b[32m94.0/94.0 kB\u001b[0m \u001b[31m5.3 MB/s\u001b[0m eta \u001b[36m0:00:00\u001b[0m\n",
            "\u001b[2K   \u001b[90m━━━━━━━━━━━━━━━━━━━━━━━━━━━━━━━━━━━━━━━━\u001b[0m \u001b[32m1.7/1.7 MB\u001b[0m \u001b[31m41.0 MB/s\u001b[0m eta \u001b[36m0:00:00\u001b[0m\n",
            "\u001b[2K   \u001b[90m━━━━━━━━━━━━━━━━━━━━━━━━━━━━━━━━━━━━━━━━\u001b[0m \u001b[32m67.6/67.6 kB\u001b[0m \u001b[31m3.5 MB/s\u001b[0m eta \u001b[36m0:00:00\u001b[0m\n",
            "\u001b[2K   \u001b[90m━━━━━━━━━━━━━━━━━━━━━━━━━━━━━━━━━━━━━━━━\u001b[0m \u001b[32m13.2/13.2 MB\u001b[0m \u001b[31m74.3 MB/s\u001b[0m eta \u001b[36m0:00:00\u001b[0m\n",
            "\u001b[2K   \u001b[90m━━━━━━━━━━━━━━━━━━━━━━━━━━━━━━━━━━━━━━━━\u001b[0m \u001b[32m64.0/64.0 kB\u001b[0m \u001b[31m3.5 MB/s\u001b[0m eta \u001b[36m0:00:00\u001b[0m\n",
            "\u001b[2K   \u001b[90m━━━━━━━━━━━━━━━━━━━━━━━━━━━━━━━━━━━━━━━━\u001b[0m \u001b[32m52.5/52.5 kB\u001b[0m \u001b[31m2.6 MB/s\u001b[0m eta \u001b[36m0:00:00\u001b[0m\n",
            "\u001b[2K   \u001b[90m━━━━━━━━━━━━━━━━━━━━━━━━━━━━━━━━━━━━━━━━\u001b[0m \u001b[32m149.7/149.7 kB\u001b[0m \u001b[31m7.0 MB/s\u001b[0m eta \u001b[36m0:00:00\u001b[0m\n",
            "\u001b[2K   \u001b[90m━━━━━━━━━━━━━━━━━━━━━━━━━━━━━━━━━━━━━━━━\u001b[0m \u001b[32m110.5/110.5 kB\u001b[0m \u001b[31m5.9 MB/s\u001b[0m eta \u001b[36m0:00:00\u001b[0m\n",
            "\u001b[2K   \u001b[90m━━━━━━━━━━━━━━━━━━━━━━━━━━━━━━━━━━━━━━━━\u001b[0m \u001b[32m53.0/53.0 kB\u001b[0m \u001b[31m2.8 MB/s\u001b[0m eta \u001b[36m0:00:00\u001b[0m\n",
            "\u001b[2K   \u001b[90m━━━━━━━━━━━━━━━━━━━━━━━━━━━━━━━━━━━━━━━━\u001b[0m \u001b[32m62.8/62.8 kB\u001b[0m \u001b[31m3.4 MB/s\u001b[0m eta \u001b[36m0:00:00\u001b[0m\n",
            "\u001b[2K   \u001b[90m━━━━━━━━━━━━━━━━━━━━━━━━━━━━━━━━━━━━━━━━\u001b[0m \u001b[32m341.4/341.4 kB\u001b[0m \u001b[31m15.1 MB/s\u001b[0m eta \u001b[36m0:00:00\u001b[0m\n",
            "\u001b[2K   \u001b[90m━━━━━━━━━━━━━━━━━━━━━━━━━━━━━━━━━━━━━━━━\u001b[0m \u001b[32m71.4/71.4 kB\u001b[0m \u001b[31m4.0 MB/s\u001b[0m eta \u001b[36m0:00:00\u001b[0m\n",
            "\u001b[2K   \u001b[90m━━━━━━━━━━━━━━━━━━━━━━━━━━━━━━━━━━━━━━━━\u001b[0m \u001b[32m3.4/3.4 MB\u001b[0m \u001b[31m63.4 MB/s\u001b[0m eta \u001b[36m0:00:00\u001b[0m\n",
            "\u001b[2K   \u001b[90m━━━━━━━━━━━━━━━━━━━━━━━━━━━━━━━━━━━━━━━━\u001b[0m \u001b[32m425.7/425.7 kB\u001b[0m \u001b[31m19.7 MB/s\u001b[0m eta \u001b[36m0:00:00\u001b[0m\n",
            "\u001b[2K   \u001b[90m━━━━━━━━━━━━━━━━━━━━━━━━━━━━━━━━━━━━━━━━\u001b[0m \u001b[32m157.3/157.3 kB\u001b[0m \u001b[31m9.3 MB/s\u001b[0m eta \u001b[36m0:00:00\u001b[0m\n",
            "\u001b[2K   \u001b[90m━━━━━━━━━━━━━━━━━━━━━━━━━━━━━━━━━━━━━━━━\u001b[0m \u001b[32m46.0/46.0 kB\u001b[0m \u001b[31m2.4 MB/s\u001b[0m eta \u001b[36m0:00:00\u001b[0m\n",
            "\u001b[2K   \u001b[90m━━━━━━━━━━━━━━━━━━━━━━━━━━━━━━━━━━━━━━━━\u001b[0m \u001b[32m86.8/86.8 kB\u001b[0m \u001b[31m4.9 MB/s\u001b[0m eta \u001b[36m0:00:00\u001b[0m\n",
            "\u001b[?25h  Building wheel for pypika (pyproject.toml) ... \u001b[?25l\u001b[?25hdone\n"
          ]
        }
      ],
      "source": [
        "%pip install --upgrade --quiet langchain\n",
        "%pip install --upgrade --quiet langchain-openai\n",
        "%pip install --upgrade --quiet langgraph\n",
        "%pip install --upgrade --quiet langchain-community\n",
        "%pip install --upgrade --quiet chromadb"
      ]
    },
    {
      "cell_type": "markdown",
      "source": [
        "我們需要設置 環境變數 OPENAI_API_KEY ，可以直接完成，如下所示：\n",
        "\n",
        "\n"
      ],
      "metadata": {
        "id": "a5j5--Lc8Vr2"
      }
    },
    {
      "cell_type": "code",
      "source": [
        "import os\n",
        "import getpass\n",
        "from google.colab import userdata\n",
        "\n",
        "os.environ[\"OPENAI_API_KEY\"] = userdata.get('OPENAI_API_KEY')\n",
        "os.environ[\"TAVILY_API_KEY\"] = userdata.get('TAVILY_API_KEY')"
      ],
      "metadata": {
        "id": "Ff6taobO8XIJ"
      },
      "execution_count": null,
      "outputs": []
    },
    {
      "cell_type": "markdown",
      "source": [
        "### (可用可不用)LangSmith\n",
        "\n",
        "你用LangChain構建的許多應用程式將包含多個步驟，並多次調用LLM調用。隨著這些應用程式變得越來越複雜，能夠檢查您的鏈或代理內部到底發生了什麼變得至關重要。最好的方法是與[LangSmith](https://smith.langchain.com)合作。\n",
        "\n",
        "請注意，LangSmith 不是必需的，但它很有説明。如果您確實想使用 LangSmith，請在上面的鏈接中註冊后，請確保設置環境變數以開始記錄跟蹤："
      ],
      "metadata": {
        "id": "9H7cb1Gi8YpF"
      }
    },
    {
      "cell_type": "code",
      "source": [
        "import os\n",
        "import getpass\n",
        "from datetime import datetime\n",
        "import pytz\n",
        "\n",
        "current_time = datetime.now(pytz.timezone('Asia/Taipei')).strftime(\"%Y-%m-%d %Z\")\n",
        "\n",
        "os.environ[\"LANGCHAIN_TRACING_V2\"] = \"false\" ##想要使用記得改 true, 不要時改 false.\n",
        "os.environ[\"LANGCHAIN_ENDPOINT\"] = \"https://api.smith.langchain.com\"\n",
        "os.environ[\"LANGCHAIN_PROJECT\"] = f\"LangGraph CRAG-{current_time}\"\n",
        "os.environ[\"LANGCHAIN_API_KEY\"] = userdata.get('LANGCHAIN_API_KEY')"
      ],
      "metadata": {
        "id": "bVQfHMh38a25"
      },
      "execution_count": null,
      "outputs": []
    },
    {
      "cell_type": "markdown",
      "source": [
        "# 開始設計\n",
        "\n"
      ],
      "metadata": {
        "id": "syJaGyBP8hR_"
      }
    },
    {
      "cell_type": "markdown",
      "source": [
        "## 建立向量資料庫\n",
        "\n",
        "畢竟是 RAG ，你懂的。在此用記憶體資料庫 `Chroma` 協助我們完成範例。實際案例中，會依照專案不同選用不同的向量資料庫以及保存方式。"
      ],
      "metadata": {
        "id": "fSKR3uz1_2Ml"
      }
    },
    {
      "cell_type": "code",
      "source": [
        "from langchain.schema import Document\n",
        "from langchain_openai import OpenAIEmbeddings\n",
        "from langchain_community.vectorstores import Chroma\n",
        "\n",
        "embedding_function = OpenAIEmbeddings()\n",
        "\n",
        "docs = [\n",
        "    Document(\n",
        "        page_content=\"鼎泰豐由楊秉彝與妻子賴盆妹於1958年在台北創立，最初是販售食用油的小店。1972年轉型為餐廳，以小籠包聞名。現已成為國際知名的台灣美食品牌，在全球多個國家設有分店。\",\n",
        "        metadata={\"source\": \"restaurant_history.txt\"},\n",
        "    ),\n",
        "    Document(\n",
        "        page_content=\"鼎泰豐的小籠包以18摺聞名，每個摺都代表著精湛的手藝。小籠包皮薄餡多，內有鮮美湯汁，是鼎泰豐最受歡迎的招牌菜品。每天現場手工製作，確保新鮮品質。\",\n",
        "        metadata={\"source\": \"signature_dish.txt\"},\n",
        "    ),\n",
        "    Document(\n",
        "        page_content=\"鼎泰豐菜單豐富多樣，除了招牌小籠包外，還有蝦仁燒賣、雞湯餛飩、菜肉餛飩、排骨煨麵、韭黃蝦仁、蛋炒飯等經典菜色。素食選擇包括素小籠包、素蒸餃和各式蔬菜料理。\",\n",
        "        metadata={\"source\": \"menu_items.txt\"},\n",
        "    ),\n",
        "    Document(\n",
        "        page_content=\"鼎泰豐的價格範圍適中，滿足不同消費需求。小籠包每籠（10個）約180-220元，主菜價格從250元到500元不等。套餐選擇豐富，單人套餐約500-700元，雙人套餐約1000-1500元。\",\n",
        "        metadata={\"source\": \"pricing_info.txt\"},\n",
        "    ),\n",
        "    Document(\n",
        "        page_content=\"鼎泰豐台北101旗艦店營業時間為週一至週五11:00-21:30，週六、日及國定假日10:00-21:30。其他分店可能略有不同，建議顧客查詢官網或致電確認。旺季時可能需要排隊等候。\",\n",
        "        metadata={\"source\": \"operation_hours.txt\"},\n",
        "    ),\n",
        "    Document(\n",
        "        page_content=\"鼎泰豐重視食材品質和衛生標準。所有食材每日新鮮配送，嚴格控管儲存溫度。廚房採用開放式設計，顧客可以直接觀看廚師製作過程，體現透明化的製作流程。\",\n",
        "        metadata={\"source\": \"quality_control.txt\"},\n",
        "    ),\n",
        "    Document(\n",
        "        page_content=\"鼎泰豐的服務以親切周到聞名。工作人員接受嚴格培訓，能夠用多國語言服務國際顧客。餐廳內部裝潢簡約現代，保持整潔舒適的用餐環境。\",\n",
        "        metadata={\"source\": \"service_ambiance.txt\"},\n",
        "    ),\n",
        "    Document(\n",
        "        page_content=\"鼎泰豐曾獲得米其林一星評鑑，是台灣首家進入米其林指南的餐廳。它也多次被國際媒體評為世界最佳餐廳之一，成為台灣美食外交的重要代表。\",\n",
        "        metadata={\"source\": \"awards_recognition.txt\"},\n",
        "    ),\n",
        "    Document(\n",
        "        page_content=\"鼎泰豐除了堂食，也提供外帶服務。部分分店與外送平台合作，提供送餐到府服務。公司也有自營的線上商店，販售冷凍小籠包等產品，讓顧客在家也能享受鼎泰豐美味。\",\n",
        "        metadata={\"source\": \"services_products.txt\"},\n",
        "    ),\n",
        "    Document(\n",
        "        page_content=\"鼎泰豐重視永續經營，積極採取環保措施。使用可回收包裝材料，推廣減塑行動。同時也參與社會公益，定期舉辦愛心餐會，回饋社會。\",\n",
        "        metadata={\"source\": \"sustainability_csr.txt\"},\n",
        "    ),\n",
        "]\n",
        "\n",
        "db = Chroma.from_documents(docs, embedding_function)\n",
        "retriever = db.as_retriever()"
      ],
      "metadata": {
        "id": "z37kdES7AMlB"
      },
      "execution_count": null,
      "outputs": []
    },
    {
      "cell_type": "markdown",
      "source": [
        "### 描繪狀態"
      ],
      "metadata": {
        "id": "xTLT_KDJ9bwY"
      }
    },
    {
      "cell_type": "code",
      "source": [
        "from typing import List\n",
        "from typing_extensions import TypedDict\n",
        "\n",
        "class AgentState(TypedDict):\n",
        "    \"\"\"\n",
        "    Represents the state of our graph.\n",
        "\n",
        "    Attributes:\n",
        "        question: question\n",
        "        generation: LLM generation\n",
        "        web_search: whether to add search\n",
        "        documents: list of documents\n",
        "    \"\"\"\n",
        "    question: str\n",
        "    generation: str\n",
        "    web_search: str\n",
        "    documents: List[str]"
      ],
      "metadata": {
        "id": "YqdhBZk69dwE"
      },
      "execution_count": null,
      "outputs": []
    },
    {
      "cell_type": "markdown",
      "source": [
        "### 相關問題評分器\n",
        "\n",
        "評估與鼎泰豐相關的問題,並且使用更符合台灣語境的中文表述。"
      ],
      "metadata": {
        "id": "ZXe6cAjd9eGl"
      }
    },
    {
      "cell_type": "code",
      "source": [
        "from langchain_core.pydantic_v1 import BaseModel, Field\n",
        "from langchain_openai import ChatOpenAI\n",
        "from langchain_core.prompts import ChatPromptTemplate\n",
        "\n",
        "# 定義輸出格式（介面）\n",
        "class GradeQuestion(BaseModel):\n",
        "    \"\"\"用於檢查問題是否與鼎泰豐餐廳有關\"\"\"\n",
        "\n",
        "    binary_score: str = Field(\n",
        "        description=\"問題是否與餐廳有關? 如果是 -> '是' 如果不是 -> '否'\"\n",
        "    )\n",
        "\n",
        "# 定義 LLM 呼叫流程\n",
        "system = \"\"\"你是一個評分員,負責評估檢索到的文件與用戶問題的相關性。\\n\n",
        "      只有當問題是關於以下主題時才回答:\n",
        "      1. 鼎泰豐的歷史和創始人資訊\n",
        "      2. 鼎泰豐的菜單和特色菜品\n",
        "      3. 鼎泰豐的價格範圍\n",
        "      4. 鼎泰豐的營業時間和地點\n",
        "      5. 鼎泰豐的用餐體驗和服務\n",
        "\n",
        "      如果問題是關於這些主題,請回答\"是\",否則回答\"否\"。\n",
        "      \"\"\"\n",
        "\n",
        "grade_prompt = ChatPromptTemplate.from_messages(\n",
        "      [\n",
        "          (\"system\", system),\n",
        "          (\"human\", \"user question: {question}\"),\n",
        "      ]\n",
        "  )\n",
        "\n",
        "llm = ChatOpenAI(model=\"gpt-4o\", temperature=0)\n",
        "structured_llm = llm.with_structured_output(GradeQuestion)\n",
        "retrieval_grader = grade_prompt | structured_llm\n",
        "\n",
        "#測試\n",
        "docs = retriever.get_relevant_documents(\"鼎泰豐有賣湯包嗎?\")\n",
        "doc_txt = docs[1].page_content\n",
        "print(retrieval_grader.invoke({\"question\": \"鼎泰豐有賣湯包嗎?\", \"document\": doc_txt}))"
      ],
      "metadata": {
        "colab": {
          "base_uri": "https://localhost:8080/"
        },
        "id": "7l9dgGfC9e4q",
        "outputId": "01155b25-e9da-43e1-bb4b-788d91fc21dd"
      },
      "execution_count": null,
      "outputs": [
        {
          "output_type": "stream",
          "name": "stdout",
          "text": [
            "binary_score='是'\n"
          ]
        }
      ]
    },
    {
      "cell_type": "markdown",
      "source": [
        "### 檢索文檔評估器\n",
        "\n",
        "評估與鼎泰豐相關的文檔是否與用戶問題相關，並且使用更符合台灣語境的中文表述。"
      ],
      "metadata": {
        "id": "VwZ-o9QHC4P7"
      }
    },
    {
      "cell_type": "code",
      "source": [
        "# 定義輸出格式（介面）\n",
        "class GradeDocuments(BaseModel):\n",
        "    \"\"\"用於檢查檢索到的文檔是否相關。\"\"\"\n",
        "\n",
        "    score: str = Field(\n",
        "        description=\"文檔是否與問題相關，'是' 或 '否'\"\n",
        "    )\n",
        "\n",
        "# 定義 LLM 呼叫流程\n",
        "system = \"\"\"你是一個評分員，負責評估檢索到的文檔與用戶問題的相關性。\\n\n",
        "        如果文檔包含與問題相關的關鍵詞或語義含義，請將其評為相關。\\n\n",
        "        給出二元評分 '是' 或 '否' 來表示文檔是否與問題相關。\"\"\"\n",
        "\n",
        "grade_prompt = ChatPromptTemplate.from_messages(\n",
        "    [\n",
        "        (\"system\", system),\n",
        "        (\n",
        "            \"human\",\n",
        "            \"Retrieved document: \\n\\n {document} \\n\\n User question: {question}\",\n",
        "        ),\n",
        "    ]\n",
        ")\n",
        "\n",
        "llm = ChatOpenAI(model=\"gpt-4o\", temperature=0)\n",
        "structured_llm = llm.with_structured_output(GradeDocuments)\n",
        "docs_grader_llm = grade_prompt | structured_llm\n",
        "\n",
        "# 測試 Agent 運作狀況\n",
        "result = docs_grader_llm.invoke(\n",
        "    {\n",
        "        \"document\": \"鼎泰豐菜單豐富多樣，包括招牌小籠包、各式點心、湯品、炒飯麵、蔬菜等。\",\n",
        "        \"question\": \"鼎泰豐在哪裡？\"\n",
        "    }\n",
        ")\n",
        "print(result)"
      ],
      "metadata": {
        "colab": {
          "base_uri": "https://localhost:8080/"
        },
        "id": "Yhih9O_oSAFP",
        "outputId": "47a2c7d0-5736-456c-cda4-d846a3a741f7"
      },
      "execution_count": null,
      "outputs": [
        {
          "output_type": "stream",
          "name": "stdout",
          "text": [
            "score='否'\n"
          ]
        }
      ]
    },
    {
      "cell_type": "markdown",
      "source": [
        "### Question_Rewruiter\n",
        "問題重寫器應該能更好地處理與鼎泰豐相關的問題，將用戶的原始問題轉化為更適合檢索的形式。例如，它可能會將 \"鼎泰豐好吃嗎？\" 這樣的問題重寫為 \"鼎泰豐的菜品口味評價如何？\" 或 \"鼎泰豐最受歡迎的特色菜有哪些？\""
      ],
      "metadata": {
        "id": "M9apdX_SCzWv"
      }
    },
    {
      "cell_type": "code",
      "source": [
        "from langchain_core.output_parsers import StrOutputParser\n",
        "\n",
        "# 定義 LLM 呼叫流程\n",
        "system = \"\"\"你是一個問題重寫器，負責將輸入的問題轉換成更適合檢索的優化版本。\\n\n",
        "        分析輸入問題，試圖理解其潛在的語義意圖和含義。\\n\n",
        "        特別注意與鼎泰豐餐廳相關的問題，包括但不限於：\\n\n",
        "        1. 鼎泰豐的歷史和創始人資訊\n",
        "        2. 鼎泰豐的菜單和特色菜品\n",
        "        3. 鼎泰豐的價格範圍\n",
        "        4. 鼎泰豐的營業時間和地點\n",
        "        5. 鼎泰豐的用餐體驗和服務\n",
        "        請根據這些主題來優化問題。\"\"\"\n",
        "\n",
        "re_write_prompt = ChatPromptTemplate.from_messages(\n",
        "    [\n",
        "        (\"system\", system),\n",
        "        (\n",
        "            \"human\",\n",
        "            \"Here is the initial question: \\n\\n {question} \\n Formulate an improved question.\",\n",
        "        ),\n",
        "    ]\n",
        ")\n",
        "llm = ChatOpenAI(model=\"gpt-4o\", temperature=0)\n",
        "question_rewriter = re_write_prompt | llm | StrOutputParser()\n",
        "\n",
        "# 測試 Agent 運作狀況\n",
        "result = question_rewriter.invoke({\"question\": \"鼎泰豐有賣湯包嗎?\"})\n",
        "print(result)"
      ],
      "metadata": {
        "colab": {
          "base_uri": "https://localhost:8080/"
        },
        "id": "jWE-X9ZQSsvE",
        "outputId": "d41ea4c0-d469-4347-8e13-956a80ce987f"
      },
      "execution_count": null,
      "outputs": [
        {
          "output_type": "stream",
          "name": "stdout",
          "text": [
            "鼎泰豐的菜單上有湯包嗎？\n"
          ]
        }
      ]
    },
    {
      "cell_type": "markdown",
      "source": [
        "### 問答 Agent\n",
        "\n",
        "處理與鼎泰豐相關的問題。它會嚴格根據提供的上下文來回答問題，避免產生虛假信息。同時，如果遇到與鼎泰豐無關的問題，系統會給出適當的提醒，確保對話始終圍繞鼎泰豐進行。"
      ],
      "metadata": {
        "id": "WaNy9ZuUDLko"
      }
    },
    {
      "cell_type": "code",
      "source": [
        "# 定義 LLM 呼叫流程\n",
        "template = \"\"\"Answer the question based only on the following context:\n",
        "    {context}\n",
        "\n",
        "    Question: {question}\n",
        "    \"\"\"\n",
        "\n",
        "prompt = ChatPromptTemplate.from_template(\n",
        "    template=template,\n",
        ")\n",
        "rag_chain = prompt | llm | StrOutputParser()\n",
        "\n",
        "# 測試 Agent 運作狀況\n",
        "generation = rag_chain.invoke({\n",
        "    \"question\": \"鼎泰豐有賣湯包嗎?\",\n",
        "    \"context\": \"鼎泰豐的小籠包以皮薄餡多聞名，每個小籠包都有 18 個摺子，內餡使用精選豬肉，湯汁豐富。鼎泰豐堅持手工製作，確保每一顆小籠包都維持高品質。\"\n",
        "})\n",
        "print(generation)"
      ],
      "metadata": {
        "colab": {
          "base_uri": "https://localhost:8080/"
        },
        "id": "ZGfY20vBS8vq",
        "outputId": "bd312d1d-5e2f-4d7b-e901-d7c5650727da"
      },
      "execution_count": null,
      "outputs": [
        {
          "output_type": "stream",
          "name": "stdout",
          "text": [
            "根據提供的上下文，鼎泰豐的小籠包以湯汁豐富聞名，但上下文中並未明確提到鼎泰豐是否有賣湯包。\n"
          ]
        }
      ]
    },
    {
      "cell_type": "markdown",
      "source": [
        "## 網路檢索工具"
      ],
      "metadata": {
        "id": "Wy3pDhrdKHST"
      }
    },
    {
      "cell_type": "code",
      "source": [
        "from langchain_community.tools.tavily_search import TavilySearchResults\n",
        "\n",
        "web_search_tool = TavilySearchResults(k=3)"
      ],
      "metadata": {
        "id": "eqaoO5uAKJlE"
      },
      "execution_count": null,
      "outputs": []
    },
    {
      "cell_type": "markdown",
      "source": [
        "### 定義節點函數以及 Agent"
      ],
      "metadata": {
        "id": "b3Ltzyca9fJb"
      }
    },
    {
      "cell_type": "code",
      "source": [
        "from langchain.schema import Document\n",
        "\n",
        "\n",
        "def retrieve(state):\n",
        "    \"\"\"\n",
        "    Retrieve documents\n",
        "\n",
        "    Args:\n",
        "        state (dict): The current graph state\n",
        "\n",
        "    Returns:\n",
        "        state (dict): New key added to state, documents, that contains retrieved documents\n",
        "    \"\"\"\n",
        "    print(\"---RETRIEVE---\")\n",
        "    question = state[\"question\"]\n",
        "\n",
        "    # Retrieval\n",
        "    documents = retriever.get_relevant_documents(question)\n",
        "    return {\"documents\": documents, \"question\": question}\n",
        "\n",
        "\n",
        "def generate(state):\n",
        "    \"\"\"\n",
        "    Generate answer\n",
        "\n",
        "    Args:\n",
        "        state (dict): The current graph state\n",
        "\n",
        "    Returns:\n",
        "        state (dict): New key added to state, generation, that contains LLM generation\n",
        "    \"\"\"\n",
        "    print(\"---GENERATE---\")\n",
        "    question = state[\"question\"]\n",
        "    documents = state[\"documents\"]\n",
        "\n",
        "    # RAG generation\n",
        "    generation = rag_chain.invoke({\"context\": documents, \"question\": question})\n",
        "    return {\"documents\": documents, \"question\": question, \"generation\": generation}\n",
        "\n",
        "\n",
        "def grade_documents(state):\n",
        "    \"\"\"\n",
        "    Determines whether the retrieved documents are relevant to the question.\n",
        "\n",
        "    Args:\n",
        "        state (dict): The current graph state\n",
        "\n",
        "    Returns:\n",
        "        state (dict): Updates documents key with only filtered relevant documents\n",
        "    \"\"\"\n",
        "\n",
        "    print(\"---CHECK DOCUMENT RELEVANCE TO QUESTION---\")\n",
        "    question = state[\"question\"]\n",
        "    documents = state[\"documents\"]\n",
        "\n",
        "    # Score each doc\n",
        "    filtered_docs = []\n",
        "    web_search = \"No\"\n",
        "    for d in documents:\n",
        "        score = retrieval_grader.invoke(\n",
        "            {\"question\": question, \"document\": d.page_content}\n",
        "        )\n",
        "        grade = score.binary_score\n",
        "        if grade == \"yes\":\n",
        "            print(\"---GRADE: DOCUMENT RELEVANT---\")\n",
        "            filtered_docs.append(d)\n",
        "        else:\n",
        "            print(\"---GRADE: DOCUMENT NOT RELEVANT---\")\n",
        "            web_search = \"Yes\"\n",
        "            continue\n",
        "    return {\"documents\": filtered_docs, \"question\": question, \"web_search\": web_search}\n",
        "\n",
        "\n",
        "def transform_query(state):\n",
        "    \"\"\"\n",
        "    Transform the query to produce a better question.\n",
        "\n",
        "    Args:\n",
        "        state (dict): The current graph state\n",
        "\n",
        "    Returns:\n",
        "        state (dict): Updates question key with a re-phrased question\n",
        "    \"\"\"\n",
        "\n",
        "    print(\"---TRANSFORM QUERY---\")\n",
        "    question = state[\"question\"]\n",
        "    documents = state[\"documents\"]\n",
        "\n",
        "    # Re-write question\n",
        "    better_question = question_rewriter.invoke({\"question\": question})\n",
        "    return {\"documents\": documents, \"question\": better_question}\n",
        "\n",
        "\n",
        "def web_search(state):\n",
        "    \"\"\"\n",
        "    Web search based on the re-phrased question.\n",
        "\n",
        "    Args:\n",
        "        state (dict): The current graph state\n",
        "\n",
        "    Returns:\n",
        "        state (dict): Updates documents key with appended web results\n",
        "    \"\"\"\n",
        "\n",
        "    print(\"---WEB SEARCH---\")\n",
        "    question = state[\"question\"]\n",
        "    documents = state[\"documents\"]\n",
        "\n",
        "    # Web search\n",
        "    docs = web_search_tool.invoke({\"query\": question})\n",
        "    web_results = \"\\n\".join([d[\"content\"] for d in docs])\n",
        "    web_results = Document(page_content=web_results)\n",
        "    documents.append(web_results)\n",
        "\n",
        "    return {\"documents\": documents, \"question\": question}\n",
        "\n",
        "\n",
        "### Edges\n",
        "\n",
        "\n",
        "def decide_to_generate(state):\n",
        "    \"\"\"\n",
        "    Determines whether to generate an answer, or re-generate a question.\n",
        "\n",
        "    Args:\n",
        "        state (dict): The current graph state\n",
        "\n",
        "    Returns:\n",
        "        str: Binary decision for next node to call\n",
        "    \"\"\"\n",
        "\n",
        "    print(\"---ASSESS GRADED DOCUMENTS---\")\n",
        "    state[\"question\"]\n",
        "    web_search = state[\"web_search\"]\n",
        "    state[\"documents\"]\n",
        "\n",
        "    if web_search == \"Yes\":\n",
        "        # All documents have been filtered check_relevance\n",
        "        # We will re-generate a new query\n",
        "        print(\n",
        "            \"---DECISION: ALL DOCUMENTS ARE NOT RELEVANT TO QUESTION, TRANSFORM QUERY---\"\n",
        "        )\n",
        "        return \"transform_query\"\n",
        "    else:\n",
        "        # We have relevant documents, so generate answer\n",
        "        print(\"---DECISION: GENERATE---\")\n",
        "        return \"generate\""
      ],
      "metadata": {
        "id": "xzshIdBR9gss"
      },
      "execution_count": null,
      "outputs": []
    },
    {
      "cell_type": "markdown",
      "source": [
        "### 構建圖"
      ],
      "metadata": {
        "id": "DsXjfWB49hK7"
      }
    },
    {
      "cell_type": "code",
      "source": [
        "from langgraph.graph import END, StateGraph, START\n",
        "\n",
        "workflow = StateGraph(AgentState)\n",
        "\n",
        "# Define the nodes\n",
        "workflow.add_node(\"retrieve\", retrieve)  # retrieve\n",
        "workflow.add_node(\"grade_documents\", grade_documents)  # grade documents\n",
        "workflow.add_node(\"generate\", generate)  # generatae\n",
        "workflow.add_node(\"transform_query\", transform_query)  # transform_query\n",
        "workflow.add_node(\"web_search_node\", web_search)  # web search\n",
        "\n",
        "# Build graph\n",
        "workflow.add_edge(START, \"retrieve\")\n",
        "workflow.add_edge(\"retrieve\", \"grade_documents\")\n",
        "workflow.add_conditional_edges(\n",
        "    \"grade_documents\",\n",
        "    decide_to_generate,\n",
        "    {\n",
        "        \"transform_query\": \"transform_query\",\n",
        "        \"generate\": \"generate\",\n",
        "    },\n",
        ")\n",
        "workflow.add_edge(\"transform_query\", \"web_search_node\")\n",
        "workflow.add_edge(\"web_search_node\", \"generate\")\n",
        "workflow.add_edge(\"generate\", END)\n",
        "\n",
        "# Compile\n",
        "app = workflow.compile()"
      ],
      "metadata": {
        "id": "9JlOMVaU9iYP"
      },
      "execution_count": null,
      "outputs": []
    },
    {
      "cell_type": "markdown",
      "source": [
        "### 可視化整張圖"
      ],
      "metadata": {
        "id": "hddhmCr79ixe"
      }
    },
    {
      "cell_type": "code",
      "source": [
        "from IPython.display import Image, display\n",
        "\n",
        "try:\n",
        "    display(Image(app.get_graph(xray=True).draw_mermaid_png()))\n",
        "except:\n",
        "    pass"
      ],
      "metadata": {
        "colab": {
          "base_uri": "https://localhost:8080/",
          "height": 647
        },
        "id": "pTqjfCKT9k3M",
        "outputId": "1bb3fdbc-d79c-4639-fdc2-4222e19545a8"
      },
      "execution_count": null,
      "outputs": [
        {
          "output_type": "display_data",
          "data": {
            "image/jpeg": "[encoded data removed]",
            "text/plain": [
              "<IPython.core.display.Image object>"
            ]
          },
          "metadata": {}
        }
      ]
    },
    {
      "cell_type": "markdown",
      "source": [
        "### 與圖做互動"
      ],
      "metadata": {
        "id": "MjG-AsKC9lJU"
      }
    },
    {
      "cell_type": "code",
      "source": [
        "result = app.invoke({\"question\": \"今天天氣如何？\"})\n",
        "result"
      ],
      "metadata": {
        "colab": {
          "base_uri": "https://localhost:8080/"
        },
        "id": "JC1FTHxw9mRe",
        "outputId": "dd0e5d8e-8ec5-41b6-a598-4530d4fc32c6"
      },
      "execution_count": null,
      "outputs": [
        {
          "output_type": "stream",
          "name": "stdout",
          "text": [
            "---RETRIEVE---\n",
            "---CHECK DOCUMENT RELEVANCE TO QUESTION---\n",
            "---GRADE: DOCUMENT NOT RELEVANT---\n",
            "---GRADE: DOCUMENT NOT RELEVANT---\n",
            "---GRADE: DOCUMENT NOT RELEVANT---\n",
            "---GRADE: DOCUMENT NOT RELEVANT---\n",
            "---ASSESS GRADED DOCUMENTS---\n",
            "---DECISION: ALL DOCUMENTS ARE NOT RELEVANT TO QUESTION, TRANSFORM QUERY---\n",
            "---TRANSFORM QUERY---\n",
            "---WEB SEARCH---\n",
            "---GENERATE---\n"
          ]
        },
        {
          "output_type": "execute_result",
          "data": {
            "text/plain": [
              "{'question': '今天天氣預報是什麼？',\n",
              " 'generation': '根據提供的文件內容，今天天氣預報提到高空擾動會在明日為廣東沿岸帶來驟雨及雷暴，但沒有具體提到今天的天氣狀況。',\n",
              " 'web_search': 'Yes',\n",
              " 'documents': [Document(page_content='九天天氣預報 高空擾動會在明日為廣東沿岸帶來驟雨及雷暴。隨 著高空擾動遠離及受一股大陸氣流影響，本週中期 華南天色明朗，高溫亦會觸發驟雨。而一道廣闊低 壓槽會在本週後期為南海中北部帶來不穩定天氣。\\n1週預報| 交通部中央氣象署\\n香港九天天氣預報\\n今日與今晚的精忠, 臺北市天氣預報、天氣狀況和都卜勒雷達，盡在 The Weather Channel 和 Weather.com Advertisement. Advertisement. Advertisement. 跳到 ... 今天. 每 ...\\n香港天文台- 天氣報告')]}"
            ]
          },
          "metadata": {},
          "execution_count": 94
        }
      ]
    },
    {
      "cell_type": "code",
      "source": [
        "result = app.invoke({\"question\": \"鼎泰豐有賣湯包嗎？\"})\n",
        "result"
      ],
      "metadata": {
        "colab": {
          "base_uri": "https://localhost:8080/"
        },
        "id": "6vAQ3x8eFi_3",
        "outputId": "8bc2f82e-20bb-4081-d6c5-af49e0a9197b"
      },
      "execution_count": null,
      "outputs": [
        {
          "output_type": "stream",
          "name": "stdout",
          "text": [
            "---RETRIEVE---\n",
            "---CHECK DOCUMENT RELEVANCE TO QUESTION---\n",
            "---GRADE: DOCUMENT NOT RELEVANT---\n",
            "---GRADE: DOCUMENT NOT RELEVANT---\n",
            "---GRADE: DOCUMENT NOT RELEVANT---\n",
            "---GRADE: DOCUMENT NOT RELEVANT---\n",
            "---ASSESS GRADED DOCUMENTS---\n",
            "---DECISION: ALL DOCUMENTS ARE NOT RELEVANT TO QUESTION, TRANSFORM QUERY---\n",
            "---TRANSFORM QUERY---\n",
            "---WEB SEARCH---\n",
            "---GENERATE---\n"
          ]
        },
        {
          "output_type": "execute_result",
          "data": {
            "text/plain": [
              "{'question': '鼎泰豐的菜單上有湯包嗎？',\n",
              " 'generation': '是的，鼎泰豐的菜單上有湯包，但這款「小籠湯包」只在週末早上販售，且全台僅有5家門市供應。',\n",
              " 'web_search': 'Yes',\n",
              " 'documents': [Document(page_content='\"小籠包\"是鼎泰豐的經典美食之一，不僅揚名海內外，連鼎泰豐的吉祥物也是以\"小籠包\"為雛形設計，足以印證其代表性。但你可知道鼎泰豐除了\"小籠包\"外，還有一款只在週末早上販售的\"小籠湯包\"，全台僅有5家門市供應，讓我對這款限時限店的產品十分好奇，特地找了個時間來嘗試。\\n鼎泰豐小籠包的招牌特色就是外皮的黃金十八摺!! 仔細看每顆手工現做的小籠包上面都真的有18個摺子喔xd. 口味上也蠻不錯，算是皮薄肉鮮蠻多汁!所以吃得時候凱西 會建議搭配小湯匙比較不會燙到xd. 再來鼎泰豐菜單推薦的另一道菜是排骨蛋炒飯!炸排骨看 ...\\n以最經典招牌「黃金18摺小籠包」揚名海內外的鼎泰豐，是許多人到百貨公司不知道要吃什麼的時候，就會進去點一籠小籠包、一份排骨炒飯解饞的人氣餐廳。然而除了眾所皆知的小籠包之外，其實鼎泰豐還有超級限量「小籠湯包」僅在限定門市、時段販售，讓太晚起床的吃貨、饕客至今都還沒...\\n小籠湯包(每周六、日門市賞味限定) - 鼎泰豐\\n鼎泰豐5大隱藏吃法曝光!這款小籠包可以點單顆、牛肉麵能 ...')]}"
            ]
          },
          "metadata": {},
          "execution_count": 95
        }
      ]
    },
    {
      "cell_type": "code",
      "source": [
        "from pprint import pprint\n",
        "\n",
        "# Run\n",
        "inputs = {\"question\": \"鼎泰豐有賣湯包嗎？\"}\n",
        "for output in app.stream(inputs):\n",
        "    for key, value in output.items():\n",
        "        # Node\n",
        "        pprint(f\"Node '{key}':\")\n",
        "        # Optional: print full state at each node\n",
        "        # pprint.pprint(value[\"keys\"], indent=2, width=80, depth=None)\n",
        "    pprint(\"\\n---\\n\")\n",
        "\n",
        "# Final generation\n",
        "pprint(value[\"generation\"])"
      ],
      "metadata": {
        "id": "gOXrdUroffg4",
        "colab": {
          "base_uri": "https://localhost:8080/"
        },
        "outputId": "a8bbe78f-331e-445e-bb98-6b597f23b7b9"
      },
      "execution_count": null,
      "outputs": [
        {
          "output_type": "stream",
          "name": "stdout",
          "text": [
            "---RETRIEVE---\n",
            "\"Node 'retrieve':\"\n",
            "'\\n---\\n'\n",
            "---CHECK DOCUMENT RELEVANCE TO QUESTION---\n",
            "---GRADE: DOCUMENT NOT RELEVANT---\n",
            "---GRADE: DOCUMENT NOT RELEVANT---\n",
            "---GRADE: DOCUMENT NOT RELEVANT---\n",
            "---GRADE: DOCUMENT NOT RELEVANT---\n",
            "---ASSESS GRADED DOCUMENTS---\n",
            "---DECISION: ALL DOCUMENTS ARE NOT RELEVANT TO QUESTION, TRANSFORM QUERY---\n",
            "\"Node 'grade_documents':\"\n",
            "'\\n---\\n'\n",
            "---TRANSFORM QUERY---\n",
            "\"Node 'transform_query':\"\n",
            "'\\n---\\n'\n",
            "---WEB SEARCH---\n",
            "\"Node 'web_search_node':\"\n",
            "'\\n---\\n'\n",
            "---GENERATE---\n",
            "\"Node 'generate':\"\n",
            "'\\n---\\n'\n",
            "'有的，鼎泰豐的菜單上有「小籠湯包」，但這款湯包只在週末早上販售，全台僅有5家門市供應。'\n"
          ]
        }
      ]
    },
    {
      "cell_type": "code",
      "source": [],
      "metadata": {
        "id": "G2zFQvFgK_Dm"
      },
      "execution_count": null,
      "outputs": []
    }
  ]
}
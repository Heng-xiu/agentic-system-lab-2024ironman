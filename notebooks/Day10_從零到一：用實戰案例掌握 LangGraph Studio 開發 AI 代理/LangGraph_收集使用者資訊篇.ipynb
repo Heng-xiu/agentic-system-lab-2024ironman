{
  "nbformat": 4,
  "nbformat_minor": 0,
  "metadata": {
    "colab": {
      "provenance": [],
      "toc_visible": true
    },
    "kernelspec": {
      "name": "python3",
      "display_name": "Python 3"
    },
    "language_info": {
      "name": "python"
    }
  },
  "cells": [
    {
      "cell_type": "markdown",
      "source": [
        "# 簡介\n",
        "本篇處於開發階段，主要受到[Edan](https://github.com/emarco177/langgraph-customer-support/blob/main/support_agent/graph.py)啟發，想要逐步開發使用者資訊收集並用 LangGRaph 開發。\n",
        "\n",
        "##故事背景是這樣：\n",
        "開發客服機器人時，會遇到一個狀況是，系統需要確認使用者的個人身份驗證是否正確。\n",
        "這時候使用者需要掏出他的名稱、電話、身分證字號等，但事情沒有憨人想的這麼簡單，有時候只有填寫部分資訊，例如說只有給電話號碼而已。這個在程序上很麻煩，所以需要使用者反覆填寫一直到，客服機器人確認可行之後，才放行離開。"
      ],
      "metadata": {
        "id": "SRCty3VP85ay"
      }
    },
    {
      "cell_type": "markdown",
      "source": [
        "## 章節一、收集使用者資訊"
      ],
      "metadata": {
        "id": "8aKScG6KABYv"
      }
    },
    {
      "cell_type": "markdown",
      "source": [
        "### 環境建置"
      ],
      "metadata": {
        "id": "K1tupaKqAFXY"
      }
    },
    {
      "cell_type": "code",
      "source": [
        "%pip install --upgrade --quiet langchain\n",
        "%pip install --upgrade --quiet langchain-openai\n",
        "%pip install --upgrade --quiet langgraph\n",
        "%pip install --upgrade --quiet langchain-community"
      ],
      "metadata": {
        "id": "xKmH3TQYAhWD"
      },
      "execution_count": null,
      "outputs": []
    },
    {
      "cell_type": "code",
      "source": [
        "import os\n",
        "import getpass\n",
        "from google.colab import userdata\n",
        "\n",
        "os.environ[\"OPENAI_API_KEY\"] = userdata.get('OPENAI_API_KEY')"
      ],
      "metadata": {
        "id": "-DAjwmL4Ai2S"
      },
      "execution_count": null,
      "outputs": []
    },
    {
      "cell_type": "markdown",
      "source": [
        "## 設計流程\n",
        "\n",
        "說明：這邊我們需要建立幾個節點，收集使用者之後之外，也需要交給節點去判斷是否滿足完整資訊，玩整資訊，\n",
        "\n",
        "![上設計圖](https://i.imgur.com/ILV11yi.png)\n"
      ],
      "metadata": {
        "id": "a2olMtOcA9ko"
      }
    },
    {
      "cell_type": "markdown",
      "source": [
        "## 定義狀態"
      ],
      "metadata": {
        "id": "veFv5eu1AIV5"
      }
    },
    {
      "cell_type": "code",
      "source": [
        "from typing import Annotated, Optional, TypedDict\n",
        "\n",
        "from langchain_core.pydantic_v1 import BaseModel, Field\n",
        "from langgraph.graph import add_messages\n",
        "\n",
        "## 定義使用者資訊\n",
        "class RequiredInformation(BaseModel):\n",
        "    provided_full_name: Optional[str] = Field(\n",
        "        description=\"the provided full name of the user\"\n",
        "    )\n",
        "    provided_mobile: Optional[str] = Field(\n",
        "        description=\"the provided mobile number of the user\"\n",
        "    )\n",
        "    provided_id_4_digits: Optional[int] = Field(\n",
        "        description=\"the provided user last 4 digits of id card\"\n",
        "    )\n",
        "\n",
        "\n",
        "## 定義 Graph 中狀態管理\n",
        "class AssistantGraphState(TypedDict):\n",
        "    user_question: str\n",
        "    required_information: RequiredInformation\n",
        "    messages: Annotated[list, add_messages]"
      ],
      "metadata": {
        "id": "_EMe4oPKDJQy"
      },
      "execution_count": null,
      "outputs": []
    },
    {
      "cell_type": "markdown",
      "source": [
        "## 定義節點函數"
      ],
      "metadata": {
        "id": "6pGquTokAJnj"
      }
    },
    {
      "cell_type": "markdown",
      "source": [
        "### 測試助理節點"
      ],
      "metadata": {
        "id": "XJ2sz0CJkk8G"
      }
    },
    {
      "cell_type": "code",
      "source": [
        "from langchain_core.prompts import ChatPromptTemplate\n",
        "from langchain_openai import ChatOpenAI\n",
        "\n",
        "# 定義系統提示\n",
        "system = \"\"\"你是 AI 客服助理。你的任務是收集必要的用戶資訊。請遵循以下原則:\n",
        "\n",
        "1. 保持禮貌和專業,使用適當的敬語。\n",
        "2. 如果用戶詢問的資訊不完整,請適當地要求補充。\n",
        "3. 在收集用戶資訊時,請確保隱私和安全。\n",
        "4. 如果無法回答某個問題,請誠實地表示,並提供其他可能的幫助方式。\n",
        "\n",
        "\n",
        "需要收集的資訊包括：\n",
        "\n",
        "class RequiredInformation(BaseModel):\n",
        "    provided_full_name: Optional[str] = Field(\n",
        "        description=\"the provided full name of the user\"\n",
        "    )\n",
        "    provided_mobile: Optional[str] = Field(\n",
        "        description=\"the provided mobile number of the user\"\n",
        "    )\n",
        "    provided_id_4_digits: Optional[int] = Field(\n",
        "        description=\"the provided user last 4 digits of id card\"\n",
        "    )\n",
        "\n",
        "請確保每項資訊都符合要求後再進行下一項。\n",
        "\n",
        "DO NOT FILL IN THE USERS INFORMATION, YOU NEED TO COLLECT IT.\n",
        "\n",
        "請根據用戶的問題和已提供的資訊,給出適當的回應和指引。\"\"\"\n",
        "\n",
        "# 創建助理提示模板\n",
        "assistant_prompt = ChatPromptTemplate.from_messages(\n",
        "    [\n",
        "        (\"system\", system),\n",
        "        (\n",
        "            \"human\",\n",
        "            \"User question: {user_question}\\n\"\n",
        "            \"Chat history: {messages}\\n\"\n",
        "            \"\\n\\n What the user have provided so far {provided_required_information} \\n\\n\"\n",
        "        ),\n",
        "    ]\n",
        ")\n",
        "\n",
        "# 初始化語言模型\n",
        "llm = ChatOpenAI(model=\"gpt-3.5-turbo-0125\", temperature=0.7)\n",
        "\n",
        "get_information_chain = assistant_prompt | llm\n",
        "res = get_information_chain.invoke(\n",
        "    {\n",
        "        \"user_question\": \"我想購買高鐵車票\",\n",
        "        \"provided_required_information\": {}, # 這邊資訊主要來自於 AssistantGraphState[\"required_information\"]\n",
        "        \"messages\": [],\n",
        "    }\n",
        ")\n",
        "print(res.content)"
      ],
      "metadata": {
        "colab": {
          "base_uri": "https://localhost:8080/"
        },
        "id": "XadWLXlNkn--",
        "outputId": "dcd45c2e-fc28-4912-dd97-a3661b0a06cb"
      },
      "execution_count": null,
      "outputs": [
        {
          "output_type": "stream",
          "name": "stdout",
          "text": [
            "您好，感謝您的詢問。在購買高鐵車票之前，我們需要您提供一些個人資訊，以便完成訂票。請您提供以下資訊：\n",
            "1. 您的全名\n",
            "2. 聯絡電話號碼\n",
            "3. 身份證末四碼\n",
            "\n",
            "請提供這些資訊後，我們將幫助您完成高鐵車票的購買。感謝您的配合。\n"
          ]
        }
      ]
    },
    {
      "cell_type": "markdown",
      "source": [
        "### 測試 collect_info_LLM，輸入 prompt 要求將資訊提取出來，並且使用 strudtured_output"
      ],
      "metadata": {
        "id": "Dx3Z-irQXGN0"
      }
    },
    {
      "cell_type": "code",
      "source": [
        "# 使用 OpenAI 模型\n",
        "llm = ChatOpenAI(model=\"gpt-3.5-turbo-0125\", temperature=0)\n",
        "\n",
        "# 資訊收集 Chain\n",
        "collect_info_system = \"\"\"你是 AI 客服助理。你的任務是收集必要的用戶資訊。請遵循以下原則:\n",
        "\n",
        "1. 保持禮貌和專業,使用適當的敬語。\n",
        "2. 如果用戶詢問的資訊不完整,請適當地要求補充。\n",
        "3. 在收集用戶資訊時,請確保隱私和安全。\n",
        "4. 如果無法回答某個問題,請誠實地表示,並提供其他可能的幫助方式。\n",
        "\n",
        "\n",
        "需要收集的資訊包括：\n",
        "\n",
        "class RequiredInformation(BaseModel):\n",
        "    provided_full_name: Optional[str] = Field(\n",
        "        description=\"the provided full name of the user\"\n",
        "    )\n",
        "    provided_mobile: Optional[str] = Field(\n",
        "        description=\"the provided mobile number of the user\"\n",
        "    )\n",
        "    provided_id_4_digits: Optional[int] = Field(\n",
        "        description=\"the provided user last 4 digits of id card\"\n",
        "    )\n",
        "\n",
        "請確保每項資訊都符合要求後再進行下一項。\n",
        "\n",
        "DO NOT FILL IN THE USERS INFORMATION, YOU NEED TO COLLECT IT.\n",
        "\n",
        "請根據用戶的問題和已提供的資訊,給出適當的回應和指引。\n",
        "\"\"\"\n",
        "\n",
        "collect_info_prompt = ChatPromptTemplate.from_messages([\n",
        "    (\"system\", collect_info_system),\n",
        "    (\n",
        "        \"human\",\n",
        "        \"User question: {user_question}\\n\"\n",
        "        \"Chat history: {messages}\\n\"\n",
        "        \"\\n\\n What the user have provided so far {provided_required_information} \\n\\n\"\n",
        "    ),\n",
        "])\n",
        "\n",
        "collect_info_chain = collect_info_prompt | llm.with_structured_output(RequiredInformation)\n",
        "\n",
        "# 測試資訊收集 Chain 的函數\n",
        "def test_collect_info(user_input, messages = [], collected_info=None):\n",
        "    if collected_info is None:\n",
        "        collected_info = RequiredInformation()\n",
        "    result = collect_info_chain.invoke({\n",
        "        \"user_question\": user_input,\n",
        "        \"provided_required_information\": collected_info,\n",
        "        \"messages\": [],\n",
        "    })\n",
        "    print(f\"用戶輸入: {user_input}\")\n",
        "    print(f\"AI回應: {result}\")\n",
        "    print()\n",
        "\n",
        "print(\"=== 測試資訊收集 Chain ===\")\n",
        "test_collect_info(\"我的名字是張小明\")\n",
        "test_collect_info(\"我的電話是0912345678\")\n",
        "test_collect_info(\"我的身分證末四碼是5678\")"
      ],
      "metadata": {
        "colab": {
          "base_uri": "https://localhost:8080/"
        },
        "id": "KORKyiWAXHfx",
        "outputId": "252ecf4a-97c0-48a6-ea3d-fe2419db18b8"
      },
      "execution_count": null,
      "outputs": [
        {
          "output_type": "stream",
          "name": "stdout",
          "text": [
            "=== 測試資訊收集 Chain ===\n",
            "用戶輸入: 我的名字是張小明\n",
            "AI回應: provided_full_name='張小明' provided_mobile=None provided_id_4_digits=None\n",
            "\n",
            "用戶輸入: 我的電話是0912345678\n",
            "AI回應: provided_full_name=None provided_mobile='0912345678' provided_id_4_digits=None\n",
            "\n",
            "用戶輸入: 我的身分證末四碼是5678\n",
            "AI回應: provided_full_name=None provided_mobile=None provided_id_4_digits=None\n",
            "\n"
          ]
        }
      ]
    },
    {
      "cell_type": "markdown",
      "source": [
        "### 建構 Responsde_builder"
      ],
      "metadata": {
        "id": "oH_N172ivbqc"
      }
    },
    {
      "cell_type": "code",
      "source": [
        "from langchain.schema import HumanMessage, AIMessage\n",
        "\n",
        "# 定義回應建構器的系統提示\n",
        "response_builder_system = \"\"\"\n",
        "你是台灣高鐵的AI客服助理。你的任務是總結對話內容，並提供一個清晰、專業的回應給用戶。請遵循以下原則：\n",
        "\n",
        "1. 總結已收集的用戶資訊（如果有的話）。\n",
        "2. 簡要回顧對話中討論的主要問題或請求。\n",
        "3. 提供任何相關的後續步驟或建議。\n",
        "4. 使用禮貌和專業的語氣。\n",
        "5. 如果有任何未完成的事項，請提醒用戶。\n",
        "\n",
        "請確保你的回應簡潔但全面，並符合高鐵客服的專業標準。\n",
        "\"\"\"\n",
        "\n",
        "response_builder_prompt = ChatPromptTemplate.from_messages([\n",
        "    (\"system\", response_builder_system),\n",
        "    (\"human\", \"用戶資訊：{user_info}\\n對話歷史：{chat_history}\\n請提供一個總結性的回應。\")\n",
        "])\n",
        "\n",
        "llm = ChatOpenAI(model=\"gpt-3.5-turbo-0125\", temperature=0.7)\n",
        "\n",
        "response_chain = response_builder_prompt | llm\n",
        "\n",
        "\n",
        "# 模擬用戶資訊\n",
        "user_info = {\n",
        "    \"provided_full_name\": \"張小明\",\n",
        "    \"provided_mobile\": \"0912345678\",\n",
        "    \"provided_id_4_digits\": \"5678\"\n",
        "}\n",
        "\n",
        "# 模擬對話歷史\n",
        "chat_history = [\n",
        "    HumanMessage(content=\"我想訂購一張從台北到高雄的票\"),\n",
        "    AIMessage(content=\"好的,我可以協助您訂購從台北到高雄的高鐵票。請問您想要哪一天的票？\"),\n",
        "    HumanMessage(content=\"我想要明天下午 3 點左右的票\"),\n",
        "    AIMessage(content=\"了解,我會為您查詢明天下午 3 點左右從台北到高雄的車次。在此之前,請問您是否有高鐵會員卡？\"),\n",
        "    HumanMessage(content=\"沒有,我不是會員\"),\n",
        "    AIMessage(content=\"沒關係,我們可以繼續為您訂票。根據您提供的時間,有一班 15:00 的車次,預計 17:36 抵達高雄。這班車次適合您嗎？\"),\n",
        "    HumanMessage(content=\"好的,就訂這班車吧\"),\n",
        "]\n",
        "\n",
        "# 將對話歷史轉換為字符串\n",
        "chat_history_str = \"\\n\".join([f\"{msg.type}: {msg.content}\" for msg in chat_history])\n",
        "\n",
        "# 調用 response chain\n",
        "summary_response = response_chain.invoke({\n",
        "    \"user_info\": user_info,\n",
        "    \"chat_history\": chat_history_str\n",
        "})\n",
        "\n",
        "# 打印結果\n",
        "print(\"生成的回應總結:\")\n",
        "print(summary_response.content)"
      ],
      "metadata": {
        "colab": {
          "base_uri": "https://localhost:8080/"
        },
        "id": "juP8iZaJvdYM",
        "outputId": "6b7128e4-24f0-459b-c826-03443da149dd"
      },
      "execution_count": null,
      "outputs": [
        {
          "output_type": "stream",
          "name": "stdout",
          "text": [
            "生成的回應總結:\n",
            "根據您提供的資訊，您想訂購一張明天下午 3 點左右從台北到高雄的高鐵票，並且確認了班次為 15:00 從台北出發、17:36 抵達高雄的車次。您已確認訂購這班車次。請記得攜帶有效身分證明文件及訂票所需的相關資訊。祝您旅途愉快！如果需要進一步協助，請隨時與我們聯繫。\n"
          ]
        }
      ]
    },
    {
      "cell_type": "markdown",
      "source": [
        "### 定義流程控制函數"
      ],
      "metadata": {
        "id": "K0FqkvTFALKb"
      }
    },
    {
      "cell_type": "code",
      "source": [
        "from typing import Literal\n",
        "\n",
        "def provided_all_details(state: AssistantGraphState) -> Literal[\"info all collected\", \"not fulfill\"]:\n",
        "    if \"required_information\" not in state:\n",
        "        return \"not fulfill\"\n",
        "    provided_information: RequiredInformation = state[\"required_information\"]\n",
        "    if (\n",
        "        provided_information.provided_full_name\n",
        "        and provided_information.provided_mobile\n",
        "        and provided_information.provided_id_4_digits\n",
        "    ):\n",
        "        return \"info all collected\"\n",
        "\n",
        "    else:\n",
        "        return \"not fulfill\""
      ],
      "metadata": {
        "id": "h1_B9geRFlxH"
      },
      "execution_count": null,
      "outputs": []
    },
    {
      "cell_type": "markdown",
      "source": [
        "### 修改 Chain 成為 Node"
      ],
      "metadata": {
        "id": "vuieS15hdMHC"
      }
    },
    {
      "cell_type": "code",
      "source": [
        "from typing import Any, Dict, List\n",
        "from langchain_core.messages import HumanMessage\n",
        "\n",
        "# 定義助理節點函數\n",
        "def assistant_chain_func(state: AssistantGraphState) -> Dict[str, Any]:\n",
        "    get_information_chain = assistant_prompt | llm\n",
        "\n",
        "    res = get_information_chain.invoke(\n",
        "        {\n",
        "            \"user_question\": state[\"user_question\"],\n",
        "            \"provided_required_information\": state[\"required_information\"],\n",
        "            \"messages\": state[\"messages\"] if \"messages\" in state else [],\n",
        "        }\n",
        "    )\n",
        "\n",
        "    # 更新狀態\n",
        "    updated_state = state.copy()\n",
        "    updated_state[\"messages\"] = state.get(\"messages\", []) + [res]\n",
        "\n",
        "    return updated_state\n",
        "\n",
        "## 檢查收集的資訊是否充足\n",
        "def combine_required_info(info_list: List[RequiredInformation]) -> RequiredInformation:\n",
        "    info_list = [info for info in info_list if info is not None]\n",
        "\n",
        "    if len(info_list) == 1:\n",
        "        return info_list[0]\n",
        "    combined_info = {}\n",
        "    for info in info_list:\n",
        "        for key, value in info.dict().items():\n",
        "            if value is not None:\n",
        "                combined_info[key] = value\n",
        "    return RequiredInformation(**combined_info)\n",
        "\n",
        "def collect_info_chain_func(state: AssistantGraphState) -> AssistantGraphState:\n",
        "    \"\"\"\n",
        "    收集用戶資訊，驗證，並更新 AssistantGraphState。\n",
        "\n",
        "    參數:\n",
        "    state (AssistantGraphState): 當前的助理狀態\n",
        "\n",
        "    返回:\n",
        "    AssistantGraphState: 更新後的助理狀態\n",
        "\n",
        "    說明:\n",
        "    1. 從標準輸入獲取用戶提供的資訊\n",
        "    2. 調用 collect_info_chain 處理用戶輸入和當前狀態\n",
        "    3. 驗證新收集的資訊\n",
        "    4. 合併新收集的資訊與現有資訊（如果存在）\n",
        "    5. 更新並返回新的狀態，包括更新後的必要資訊和消息歷史\n",
        "    \"\"\"\n",
        "    # 從標準輸入獲取用戶資訊\n",
        "    information_from_stdin = str(input(\"\\n輸入用戶資訊：\\n\"))\n",
        "\n",
        "    # 調用 collect_info_chain 處理用戶輸入\n",
        "    response = collect_info_chain.invoke(\n",
        "        {\n",
        "          \"user_question\": state[\"user_question\"],\n",
        "          \"provided_required_information\": information_from_stdin,\n",
        "          \"messages\": state[\"messages\"],\n",
        "        }\n",
        "    )\n",
        "\n",
        "    # 合併新收集的資訊與現有資訊\n",
        "    if \"required_information\" in state:\n",
        "        required_info = combine_required_info(\n",
        "            info_list=[response, state.get(\"required_information\")]\n",
        "        )\n",
        "    else:\n",
        "        required_info = response\n",
        "\n",
        "    # 返回更新後的狀態\n",
        "    return {\n",
        "        \"required_information\": required_info,\n",
        "        \"messages\": [HumanMessage(content=information_from_stdin)],\n",
        "    }\n",
        "\n",
        "def response_builder_func(state: Dict[str, Any]) -> Dict[str, Any]:\n",
        "    # 提取用戶資訊\n",
        "    user_info = state.get(\"required_information\", {})\n",
        "    if hasattr(user_info, 'dict'):\n",
        "        user_info = user_info.dict()\n",
        "\n",
        "    # 提取對話歷史\n",
        "    chat_history = state.get(\"messages\", [])\n",
        "    chat_history_str = \"\\n\".join([f\"{msg.type}: {msg.content}\" for msg in chat_history if hasattr(msg, 'type') and hasattr(msg, 'content')])\n",
        "\n",
        "    # 生成總結回應\n",
        "    response_chain = response_builder_prompt | llm\n",
        "    summary_response = response_chain.invoke({\n",
        "        \"user_info\": user_info,\n",
        "        \"chat_history\": chat_history_str\n",
        "    })\n",
        "\n",
        "    # 更新狀態\n",
        "    updated_state = state.copy()\n",
        "    updated_state[\"final_response\"] = summary_response.content\n",
        "    updated_state[\"messages\"] = chat_history + [summary_response]\n",
        "\n",
        "    return updated_state"
      ],
      "metadata": {
        "id": "sO4BrPC6dPiD"
      },
      "execution_count": null,
      "outputs": []
    },
    {
      "cell_type": "markdown",
      "source": [
        "### 編譯整張圖"
      ],
      "metadata": {
        "id": "lRzVRqOaANRn"
      }
    },
    {
      "cell_type": "code",
      "source": [
        "# 定義節點名稱\n",
        "ASSISTANT_NODE = \"assistant_node\"\n",
        "COLLECT_INFO_NODE = \"collect_info_node\"\n",
        "RESPONSE_BUILDER_NODE = \"response_builder_node\"\n",
        "\n",
        "# 改採策略，逐一增加節點，先從 START -> route -> END\n",
        "from langgraph.graph import START, END, StateGraph\n",
        "\n",
        "workflow = StateGraph(AssistantGraphState)\n",
        "\n",
        "# 添加節點\n",
        "workflow.add_node(\"assistant_node\", assistant_chain_func)\n",
        "workflow.add_node(\"collect_info_node\", collect_info_chain_func)\n",
        "workflow.add_node(\"response_builder_node\", response_builder_func)\n",
        "\n",
        "\n",
        "# 添加邊\n",
        "workflow.add_edge(START, \"assistant_node\" )\n",
        "workflow.add_edge(\"assistant_node\", \"collect_info_node\")\n",
        "workflow.add_conditional_edges(\n",
        "    \"collect_info_node\",\n",
        "    provided_all_details,\n",
        "    {\n",
        "        \"info all collected\": \"response_builder_node\",\n",
        "        \"not fulfill\": \"assistant_node\"\n",
        "    }\n",
        ")\n",
        "workflow.add_edge(\"response_builder_node\", END)\n",
        "\n",
        "\n",
        "# 編譯\n",
        "app = workflow.compile()"
      ],
      "metadata": {
        "id": "5URC6e7dAsWN"
      },
      "execution_count": null,
      "outputs": []
    },
    {
      "cell_type": "markdown",
      "source": [
        "## 視覺化整張圖出來"
      ],
      "metadata": {
        "id": "qVNDFlcJFrIM"
      }
    },
    {
      "cell_type": "code",
      "source": [
        "from IPython.display import Image, display\n",
        "\n",
        "try:\n",
        "    display(Image(app.get_graph(xray=True).draw_mermaid_png()))\n",
        "except:\n",
        "    pass"
      ],
      "metadata": {
        "colab": {
          "base_uri": "https://localhost:8080/",
          "height": 442
        },
        "id": "spoH5LQ_Ftgm",
        "outputId": "d4ea59cc-dba4-4ff0-d059-a291a84ff9b9"
      },
      "execution_count": null,
      "outputs": [
        {
          "output_type": "display_data",
          "data": {
            "image/jpeg": "[encoded data removed]",
            "text/plain": [
              "<IPython.core.display.Image object>"
            ]
          },
          "metadata": {}
        }
      ]
    },
    {
      "cell_type": "markdown",
      "source": [
        "### 與之互動"
      ],
      "metadata": {
        "id": "O8W36DAJAO51"
      }
    },
    {
      "cell_type": "code",
      "execution_count": null,
      "metadata": {
        "colab": {
          "base_uri": "https://localhost:8080/"
        },
        "id": "MLu3YwkL80Kf",
        "outputId": "6b677868-2af2-4971-f2e4-f9dd27bf5af2"
      },
      "outputs": [
        {
          "output_type": "stream",
          "name": "stdout",
          "text": [
            "==================================\u001b[1m Ai Message \u001b[0m==================================\n",
            "\n",
            "感謝您想訂購高鐵票。在開始訂購之前，我們需要您提供一些必要的資訊。請您提供您的姓名、手機號碼以及身份證末四碼，以便我們完成訂購程序。請提供這些資訊後我們可以為您安排訂票事宜。\n",
            "\n",
            "輸入用戶資訊：\n",
            "我叫李大強\n",
            "================================\u001b[1m Human Message \u001b[0m=================================\n",
            "\n",
            "我叫李大強\n",
            "==================================\u001b[1m Ai Message \u001b[0m==================================\n",
            "\n",
            "感謝您提供姓名為李大強，接下來，我們還需要您的手機號碼和身份證末四碼。請您提供這些資訊以便我們完成訂票程序。謝謝您的配合！\n",
            "\n",
            "輸入用戶資訊：\n",
            "0988168168\n",
            "================================\u001b[1m Human Message \u001b[0m=================================\n",
            "\n",
            "0988168168\n",
            "==================================\u001b[1m Ai Message \u001b[0m==================================\n",
            "\n",
            "感謝您提供姓名和手機號碼。為了完成訂購高鐵票的程序，請您再提供一下您的身份證末四碼。這樣我們就可以為您安排訂票事宜。謝謝您的配合！\n",
            "\n",
            "輸入用戶資訊：\n",
            "9988\n",
            "================================\u001b[1m Human Message \u001b[0m=================================\n",
            "\n",
            "9988\n",
            "==================================\u001b[1m Ai Message \u001b[0m==================================\n",
            "\n",
            "感謝您提供姓名和手機號碼。為了完成訂購高鐵票的程序，請您再提供一下您的身份證末四碼。這樣我們就可以為您安排訂票事宜。請提供您的身份證末四碼，謝謝您的配合！\n",
            "\n",
            "輸入用戶資訊：\n",
            "末四碼 9988\n",
            "================================\u001b[1m Human Message \u001b[0m=================================\n",
            "\n",
            "末四碼 9988\n",
            "==================================\u001b[1m Ai Message \u001b[0m==================================\n",
            "\n",
            "根據您提供的資訊，您的姓名為李大強，手機號碼為0988168168，身份證末四碼為9988。感謝您完成資訊提供。您已經成功提供了所有必要的資訊以訂購高鐵票。接下來，我們將安排您的訂票事宜並提供相關的訂票資訊。請耐心等候，謝謝您的配合！如果您有任何其他問題或需要進一步協助，請隨時告訴我們。祝您旅途愉快！\n"
          ]
        }
      ],
      "source": [
        "import rich\n",
        "\n",
        "init_state = AssistantGraphState(\n",
        "    user_question=\"我想訂購高鐵票\",\n",
        "    required_information=RequiredInformation(),\n",
        "    messages=[],\n",
        ")\n",
        "\n",
        "for output in app.stream(\n",
        "        init_state,\n",
        "        config={\"configurable\": {\"thread_id\": 888}}\n",
        "    ):\n",
        "        for key, value in output.items():\n",
        "            if \"messages\" in value:\n",
        "                try:\n",
        "                    last_msg = value[\"messages\"][-1]\n",
        "                    last_msg.pretty_print()\n",
        "                except Exception as e:\n",
        "                    print(f\"last_msg:{last_msg}\")"
      ]
    },
    {
      "cell_type": "code",
      "source": [],
      "metadata": {
        "id": "K5RA8w_yqyoK"
      },
      "execution_count": null,
      "outputs": []
    }
  ]
}
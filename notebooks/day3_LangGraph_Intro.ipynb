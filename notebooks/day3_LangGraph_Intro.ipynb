{
  "nbformat": 4,
  "nbformat_minor": 0,
  "metadata": {
    "colab": {
      "provenance": []
    },
    "kernelspec": {
      "name": "python3",
      "display_name": "Python 3"
    },
    "language_info": {
      "name": "python"
    }
  },
  "cells": [
    {
      "cell_type": "markdown",
      "source": [
        "# 🥱 LangGraph - Intro 篇\n",
        "\n",
        "在這個教程中，我們將深入探討 LangChain 和 LangGraph 的串流（Streaming）功能，這對於打造反應靈敏的 AI 應用至關重要。本指南假設您已熟悉以下概念：\n",
        "\n",
        "- 聊天模型（Chat models）\n",
        "- LangChain 表達語言（LangChain Expression Language）\n",
        "- 輸出解析器（Output parsers）\n",
        "\n",
        "❤️ Created by [hengshiousheu](https://huggingface.co/Heng666).\n"
      ],
      "metadata": {
        "id": "uFMylPRhRs1a"
      }
    },
    {
      "cell_type": "markdown",
      "source": [
        "# 環境建置\n",
        "\n",
        "在開始我們的探索之前，讓我們先搭建實驗環境。\n",
        "\n",
        "## 安裝套件包\n",
        "\n",
        "在深入之前，我們需要先搭建實驗環境。\n",
        "\n",
        "以下是所需的套件安裝命令："
      ],
      "metadata": {
        "id": "Ko3ysPvyRxWA"
      }
    },
    {
      "cell_type": "code",
      "execution_count": 3,
      "metadata": {
        "id": "aziTDRFjrCx6"
      },
      "outputs": [],
      "source": [
        "%%capture --no-stderr\n",
        "%pip install --quiet langchain\n",
        "%pip install --quiet langchain-openai\n",
        "%pip install --quiet langgraph"
      ]
    },
    {
      "cell_type": "code",
      "source": [
        "import os\n",
        "import getpass\n",
        "from google.colab import userdata\n",
        "\n",
        "os.environ[\"OPENAI_API_KEY\"] = userdata.get('OPENAI_API_KEY')"
      ],
      "metadata": {
        "id": "b8OVQO0ZRzc0"
      },
      "execution_count": 2,
      "outputs": []
    },
    {
      "cell_type": "markdown",
      "source": [
        "> 📌 實用提示：確保所有環境變數都正確設置，這對於順利運行後續程式碼至關重要。"
      ],
      "metadata": {
        "id": "-8wT7o3qR1Hu"
      }
    },
    {
      "cell_type": "markdown",
      "source": [
        "# 打造對話機器人"
      ],
      "metadata": {
        "id": "0MbLom5sSJqj"
      }
    },
    {
      "cell_type": "markdown",
      "source": [
        "## 步驟 1：定義狀態\n",
        "\n",
        "定義一個StateGraph物件以將聊天機器人建構成狀態機。 State是一個用 List 類型的單一鍵messages定義的類別對象List並使用add_messages()函數附加新訊息而不是覆寫它們。"
      ],
      "metadata": {
        "id": "fE8gtldwSO7A"
      }
    },
    {
      "cell_type": "code",
      "source": [
        "from typing import Annotated\n",
        "from typing_extensions import TypedDict\n",
        "from langgraph.graph import StateGraph\n",
        "from langgraph.graph.message import add_messages\n",
        "\n",
        "class State(TypedDict):\n",
        "    messages: Annotated[list, add_messages]"
      ],
      "metadata": {
        "id": "PWCDbXyTR1_8"
      },
      "execution_count": 4,
      "outputs": []
    },
    {
      "cell_type": "markdown",
      "source": [
        "## 步驟 2：定義語言模型\n",
        "在這裡，我們初始化 ChatOpenAI 模型並建立一個簡單的聊天機器人函數，該函數接受狀態訊息作為輸入並產生訊息回應（隨後附加到狀態）。"
      ],
      "metadata": {
        "id": "x8aaTD8xSZcl"
      }
    },
    {
      "cell_type": "code",
      "source": [
        "import os\n",
        "from langchain_openai import ChatOpenAI\n",
        "\n",
        "llm = ChatOpenAI(\n",
        "    model=\"gpt-4-0613\",\n",
        "    temperature=0,\n",
        "    max_tokens=None,\n",
        "    timeout=None,\n",
        "    max_retries=2,\n",
        ")"
      ],
      "metadata": {
        "id": "xksFuS1fSaRx"
      },
      "execution_count": 5,
      "outputs": []
    },
    {
      "cell_type": "markdown",
      "source": [
        "## 步驟 3：添加語言模型節點\n",
        "此聊天機器人功能會作為名為「chatbot」的節點加入圖中"
      ],
      "metadata": {
        "id": "ttzEAiSoSjbp"
      }
    },
    {
      "cell_type": "code",
      "source": [
        "def chatbot(state: State):\n",
        "    return {\"messages\": [llm.invoke(state[\"messages\"])]}"
      ],
      "metadata": {
        "id": "AgXm1KPhSf_G"
      },
      "execution_count": 6,
      "outputs": []
    },
    {
      "cell_type": "markdown",
      "source": [
        "## 步驟 4：構建圖並且編譯\n",
        "由於我們正在建立一個簡單的聊天機器人，因此我們將chatbot節點設定為圖表的入口點和結束點，以指示流程的開始和結束位置。"
      ],
      "metadata": {
        "id": "yVOF9cwlSnc_"
      }
    },
    {
      "cell_type": "code",
      "source": [
        "graph_builder = StateGraph(State)\n",
        "\n",
        "graph_builder.add_node(\"chatbot\", chatbot)\n",
        "graph_builder.set_entry_point(\"chatbot\")\n",
        "graph_builder.set_finish_point(\"chatbot\")\n",
        "\n",
        "graph = graph_builder.compile()"
      ],
      "metadata": {
        "id": "3g9sU--XSmCk"
      },
      "execution_count": 10,
      "outputs": []
    },
    {
      "cell_type": "markdown",
      "source": [
        "可以視覺化，查看圖的流向"
      ],
      "metadata": {
        "id": "MU3vSrOGS-I2"
      }
    },
    {
      "cell_type": "code",
      "source": [
        "from IPython.display import Image, display\n",
        "\n",
        "try:\n",
        "    display(Image(graph.get_graph(xray=True).draw_mermaid_png()))\n",
        "except Exception:\n",
        "    # This requires some extra dependencies and is optional\n",
        "    pass"
      ],
      "metadata": {
        "colab": {
          "base_uri": "https://localhost:8080/",
          "height": 236
        },
        "id": "jLiuCmvaS-v5",
        "outputId": "19fc86e8-e3d6-47cd-d2dd-94b8c085dd72"
      },
      "execution_count": 11,
      "outputs": [
        {
          "output_type": "display_data",
          "data": {
            "image/jpeg": "[encoded data removed]",
            "text/plain": [
              "<IPython.core.display.Image object>"
            ]
          },
          "metadata": {}
        }
      ]
    },
    {
      "cell_type": "markdown",
      "source": [
        "## 步驟 5：實現聊天界面\n",
        "\n",
        "最後，我們實作一個循環來不斷提示使用者輸入，透過圖形處理，並列印助手的回應。當使用者輸入\"quit\" 、 \"exit\"或\"q\"時，循環退出。\n"
      ],
      "metadata": {
        "id": "DOJbG11FSwqj"
      }
    },
    {
      "cell_type": "code",
      "source": [
        "while True:\n",
        "    user_input = input(\"使用者: \")\n",
        "    if user_input.lower() in [\"quit\", \"exit\", \"q\"]:\n",
        "        print(\"掰啦！\")\n",
        "        break\n",
        "    for event in graph.stream({\"messages\": [(\"user\", user_input)]}):\n",
        "        for value in event.values():\n",
        "            print(\"AI 助理:\", value[\"messages\"][-1].content)"
      ],
      "metadata": {
        "colab": {
          "base_uri": "https://localhost:8080/"
        },
        "id": "QnQ21XkYSrJ2",
        "outputId": "98e9fe87-7fb2-4a49-8a9f-c9ba91178fa7"
      },
      "execution_count": 12,
      "outputs": [
        {
          "output_type": "stream",
          "name": "stdout",
          "text": [
            "使用者: 介紹一下高雄\n",
            "AI 助理: 高雄市是台灣的第三大城市，位於台灣島的南部，是南台灣的最大都市和重要的海港城市。高雄市的面積約為2951.85平方公里，人口約為277萬人。\n",
            "\n",
            "高雄市的歷史可以追溯到荷蘭統治時期，當時被稱為打狗。在日本統治時期，高雄成為重要的工業城市和海港。在二戰後，高雄繼續發展為台灣的重要工業中心和海港。\n",
            "\n",
            "高雄市的地標包括85大樓（又稱「高雄天際塔」，是台灣第二高的摩天大樓）、愛河、西子灣、旗津、駁二藝術特區等。此外，高雄市也是台灣重要的文化中心，有許多博物館、藝術館和文化活動。\n",
            "\n",
            "高雄市的經濟以重工業和港口運輸為主，包括鋼鐵、石化、造船、機械等產業。近年來，高雄市也積極發展觀光、服務業和高科技產業。\n",
            "\n",
            "高雄市的交通非常便利，有高雄國際機場、高雄港、高鐵高雄站、台鐵新左營站等重要的交通樞紐。此外，高雄市也是台灣第一個擁有捷運系統的城市之一。\n",
            "\n",
            "高雄市的氣候屬於熱帶季風氣候，全年溫暖，是一個適合旅遊的城市。\n",
            "使用者: q\n",
            "掰啦！\n"
          ]
        }
      ]
    },
    {
      "cell_type": "code",
      "source": [],
      "metadata": {
        "id": "6-3byMZJTIiK"
      },
      "execution_count": null,
      "outputs": []
    }
  ]
}
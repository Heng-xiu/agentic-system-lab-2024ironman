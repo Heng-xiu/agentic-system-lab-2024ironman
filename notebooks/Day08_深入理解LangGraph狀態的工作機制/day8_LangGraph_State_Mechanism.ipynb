{
  "nbformat": 4,
  "nbformat_minor": 0,
  "metadata": {
    "colab": {
      "provenance": []
    },
    "kernelspec": {
      "name": "python3",
      "display_name": "Python 3"
    },
    "language_info": {
      "name": "python"
    }
  },
  "cells": [
    {
      "cell_type": "markdown",
      "source": [
        "# 🥱 LangGraph_ State Memory篇\n",
        "\n",
        "❤️ Created by [hengshiousheu](https://huggingface.co/Heng666)."
      ],
      "metadata": {
        "id": "7wEkbNuf1t2E"
      }
    },
    {
      "cell_type": "markdown",
      "source": [
        "# 環境建置\n",
        "\n",
        "## 安裝套件包\n",
        "\n",
        "在本演練中，\n",
        "\n",
        "我們將使用以下套件："
      ],
      "metadata": {
        "id": "1zQeyHNz1rmP"
      }
    },
    {
      "cell_type": "code",
      "execution_count": null,
      "metadata": {
        "colab": {
          "base_uri": "https://localhost:8080/"
        },
        "id": "b0UBlRjAz9Km",
        "outputId": "c31a41fb-9e7a-46f9-f8d2-39e9d012508c"
      },
      "outputs": [
        {
          "output_type": "stream",
          "name": "stdout",
          "text": [
            "\u001b[2K     \u001b[90m━━━━━━━━━━━━━━━━━━━━━━━━━━━━━━━━━━━━━━━━\u001b[0m \u001b[32m50.4/50.4 kB\u001b[0m \u001b[31m1.1 MB/s\u001b[0m eta \u001b[36m0:00:00\u001b[0m\n",
            "\u001b[2K   \u001b[90m━━━━━━━━━━━━━━━━━━━━━━━━━━━━━━━━━━━━━━━━\u001b[0m \u001b[32m990.6/990.6 kB\u001b[0m \u001b[31m19.4 MB/s\u001b[0m eta \u001b[36m0:00:00\u001b[0m\n",
            "\u001b[2K   \u001b[90m━━━━━━━━━━━━━━━━━━━━━━━━━━━━━━━━━━━━━━━━\u001b[0m \u001b[32m384.0/384.0 kB\u001b[0m \u001b[31m12.9 MB/s\u001b[0m eta \u001b[36m0:00:00\u001b[0m\n",
            "\u001b[2K   \u001b[90m━━━━━━━━━━━━━━━━━━━━━━━━━━━━━━━━━━━━━━━━\u001b[0m \u001b[32m140.2/140.2 kB\u001b[0m \u001b[31m5.9 MB/s\u001b[0m eta \u001b[36m0:00:00\u001b[0m\n",
            "\u001b[2K   \u001b[90m━━━━━━━━━━━━━━━━━━━━━━━━━━━━━━━━━━━━━━━━\u001b[0m \u001b[32m141.9/141.9 kB\u001b[0m \u001b[31m7.1 MB/s\u001b[0m eta \u001b[36m0:00:00\u001b[0m\n",
            "\u001b[2K   \u001b[90m━━━━━━━━━━━━━━━━━━━━━━━━━━━━━━━━━━━━━━━━\u001b[0m \u001b[32m48.2/48.2 kB\u001b[0m \u001b[31m3.1 MB/s\u001b[0m eta \u001b[36m0:00:00\u001b[0m\n",
            "\u001b[2K   \u001b[90m━━━━━━━━━━━━━━━━━━━━━━━━━━━━━━━━━━━━━━━━\u001b[0m \u001b[32m360.7/360.7 kB\u001b[0m \u001b[31m15.7 MB/s\u001b[0m eta \u001b[36m0:00:00\u001b[0m\n",
            "\u001b[2K   \u001b[90m━━━━━━━━━━━━━━━━━━━━━━━━━━━━━━━━━━━━━━━━\u001b[0m \u001b[32m1.1/1.1 MB\u001b[0m \u001b[31m42.1 MB/s\u001b[0m eta \u001b[36m0:00:00\u001b[0m\n",
            "\u001b[2K   \u001b[90m━━━━━━━━━━━━━━━━━━━━━━━━━━━━━━━━━━━━━━━━\u001b[0m \u001b[32m75.6/75.6 kB\u001b[0m \u001b[31m2.7 MB/s\u001b[0m eta \u001b[36m0:00:00\u001b[0m\n",
            "\u001b[2K   \u001b[90m━━━━━━━━━━━━━━━━━━━━━━━━━━━━━━━━━━━━━━━━\u001b[0m \u001b[32m77.9/77.9 kB\u001b[0m \u001b[31m6.3 MB/s\u001b[0m eta \u001b[36m0:00:00\u001b[0m\n",
            "\u001b[2K   \u001b[90m━━━━━━━━━━━━━━━━━━━━━━━━━━━━━━━━━━━━━━━━\u001b[0m \u001b[32m318.9/318.9 kB\u001b[0m \u001b[31m20.9 MB/s\u001b[0m eta \u001b[36m0:00:00\u001b[0m\n",
            "\u001b[2K   \u001b[90m━━━━━━━━━━━━━━━━━━━━━━━━━━━━━━━━━━━━━━━━\u001b[0m \u001b[32m58.3/58.3 kB\u001b[0m \u001b[31m3.9 MB/s\u001b[0m eta \u001b[36m0:00:00\u001b[0m\n",
            "\u001b[2K   \u001b[90m━━━━━━━━━━━━━━━━━━━━━━━━━━━━━━━━━━━━━━━━\u001b[0m \u001b[32m81.4/81.4 kB\u001b[0m \u001b[31m3.5 MB/s\u001b[0m eta \u001b[36m0:00:00\u001b[0m\n",
            "\u001b[2K   \u001b[90m━━━━━━━━━━━━━━━━━━━━━━━━━━━━━━━━━━━━━━━━\u001b[0m \u001b[32m2.3/2.3 MB\u001b[0m \u001b[31m38.3 MB/s\u001b[0m eta \u001b[36m0:00:00\u001b[0m\n",
            "\u001b[2K   \u001b[90m━━━━━━━━━━━━━━━━━━━━━━━━━━━━━━━━━━━━━━━━\u001b[0m \u001b[32m49.2/49.2 kB\u001b[0m \u001b[31m2.3 MB/s\u001b[0m eta \u001b[36m0:00:00\u001b[0m\n",
            "\u001b[?25h"
          ]
        }
      ],
      "source": [
        "%pip install --upgrade --quiet langchain\n",
        "%pip install --upgrade --quiet langchain-openai\n",
        "%pip install --upgrade --quiet langgraph\n",
        "%pip install --upgrade --quiet langchain-community"
      ]
    },
    {
      "cell_type": "markdown",
      "source": [
        "我們需要設置 環境變數 OPENAI_API_KEY ，可以直接完成，如下所示：\n"
      ],
      "metadata": {
        "id": "0IzXtd4J1z1T"
      }
    },
    {
      "cell_type": "code",
      "source": [
        "import os\n",
        "import getpass\n",
        "from google.colab import userdata\n",
        "\n",
        "os.environ[\"OPENAI_API_KEY\"] = userdata.get('OPENAI_API_KEY')\n",
        "os.environ[\"TAVILY_API_KEY\"] = userdata.get('TAVILY_API_KEY')"
      ],
      "metadata": {
        "id": "E3Lnifkk10Et"
      },
      "execution_count": null,
      "outputs": []
    },
    {
      "cell_type": "markdown",
      "source": [
        "## 建立小型 Graph"
      ],
      "metadata": {
        "id": "DMYS6uOMRf3z"
      }
    },
    {
      "cell_type": "code",
      "source": [
        "from langgraph.graph import StateGraph, END\n",
        "from typing import TypedDict, Annotated\n",
        "import operator"
      ],
      "metadata": {
        "id": "DJ-b8J7G0He7"
      },
      "execution_count": null,
      "outputs": []
    },
    {
      "cell_type": "markdown",
      "source": [
        "Define a simple 2 node graph with the following state:\n",
        " - lnode: last node\n",
        " - scratch: a scratchpad location\n",
        " - count : a counter that is incremented each step"
      ],
      "metadata": {
        "id": "rxI6SN04Rjc9"
      }
    },
    {
      "cell_type": "markdown",
      "source": [
        "### 定義狀態"
      ],
      "metadata": {
        "id": "JjBf9zMZSGSG"
      }
    },
    {
      "cell_type": "code",
      "source": [
        "class AgentState(TypedDict):\n",
        "    lnode: str\n",
        "    scratch: str\n",
        "    count: Annotated[int, operator.add]"
      ],
      "metadata": {
        "id": "rXyEgsmORjOg"
      },
      "execution_count": null,
      "outputs": []
    },
    {
      "cell_type": "markdown",
      "source": [
        "### 定義節點函數"
      ],
      "metadata": {
        "id": "yAnB_xvsSHrF"
      }
    },
    {
      "cell_type": "code",
      "source": [
        "def node1(state: AgentState):\n",
        "    print(f\"node1, count:{state['count']}\")\n",
        "    return {\"lnode\": \"node_1\",\n",
        "            \"count\": 1,\n",
        "           }\n",
        "def node2(state: AgentState):\n",
        "    print(f\"node2, count:{state['count']}\")\n",
        "    return {\"lnode\": \"node_2\",\n",
        "            \"count\": 1,\n",
        "           }"
      ],
      "metadata": {
        "id": "xxufefu8SJ-b"
      },
      "execution_count": null,
      "outputs": []
    },
    {
      "cell_type": "markdown",
      "source": [
        "##### 設立條件邊"
      ],
      "metadata": {
        "id": "KS57nOSLSM0O"
      }
    },
    {
      "cell_type": "code",
      "source": [
        "def should_continue(state):\n",
        "    return state[\"count\"] < 3"
      ],
      "metadata": {
        "id": "DefiuNqPSKjL"
      },
      "execution_count": null,
      "outputs": []
    },
    {
      "cell_type": "markdown",
      "source": [
        "### 編譯整張 Graph\n",
        "\n",
        "圖論應用說明:\n",
        "1. 節點 (Nodes): Node1 和 Node2 代表系統中的兩個狀態或處理步驟\n",
        "2. 邊 (Edges): 連接節點的邊表示狀態轉移或處理流程\n",
        "3. 有向圖 (Directed Graph): 邊是有方向的,表示狀態轉移的方向\n",
        "4. 條件轉移: 使用條件邊實現了基於條件的狀態轉移\n",
        "5. 循環 (Cycle): Node1 -> Node2 -> Node1 形成了一個潛在的循環\n",
        "6. 終止狀態: END 代表流程的結束點"
      ],
      "metadata": {
        "id": "MtEeR0wASU8b"
      }
    },
    {
      "cell_type": "code",
      "source": [
        "from langgraph.checkpoint.memory import MemorySaver\n",
        "\n",
        "# 初始化 StateGraph\n",
        "builder = StateGraph(AgentState)\n",
        "\n",
        "# 添加節點\n",
        "builder.add_node(\"Node1\", node1)\n",
        "builder.add_node(\"Node2\", node2)\n",
        "\n",
        "# 添加邊\n",
        "builder.add_edge(\"Node1\", \"Node2\")\n",
        "builder.add_conditional_edges(\n",
        "    \"Node2\",\n",
        "    should_continue,\n",
        "     {True: \"Node1\", False: END}\n",
        "  )\n",
        "builder.set_entry_point(\"Node1\")\n",
        "\n",
        "# Set up memory\n",
        "memory = MemorySaver()\n",
        "\n",
        "graph = builder.compile(checkpointer=memory)"
      ],
      "metadata": {
        "id": "qbQIhlIlSQqr"
      },
      "execution_count": null,
      "outputs": []
    },
    {
      "cell_type": "markdown",
      "source": [
        "### 視覺化 GRaph"
      ],
      "metadata": {
        "id": "pngxxQlPS2Ni"
      }
    },
    {
      "cell_type": "code",
      "source": [
        "from IPython.display import Image, display\n",
        "\n",
        "try:\n",
        "    display(Image(graph.get_graph(xray=True).draw_mermaid_png()))\n",
        "except:\n",
        "    pass"
      ],
      "metadata": {
        "colab": {
          "base_uri": "https://localhost:8080/",
          "height": 358
        },
        "id": "Srde8CywS_BA",
        "outputId": "94bb519b-08e2-43de-f5ba-81a5373c156f"
      },
      "execution_count": null,
      "outputs": [
        {
          "output_type": "display_data",
          "data": {
            "image/jpeg": "[encoded data removed]",
            "text/plain": [
              "<IPython.core.display.Image object>"
            ]
          },
          "metadata": {}
        }
      ]
    },
    {
      "cell_type": "markdown",
      "source": [
        "### 與 GRaph 互動"
      ],
      "metadata": {
        "id": "wh-qjmc4Sl8u"
      }
    },
    {
      "cell_type": "code",
      "source": [
        "thread = {\n",
        "    \"configurable\": {\n",
        "        \"thread_id\": \"1\"\n",
        "        }\n",
        "    }\n",
        "\n",
        "graph.invoke({\"count\":0, \"scratch\":\"hi\"},thread)"
      ],
      "metadata": {
        "colab": {
          "base_uri": "https://localhost:8080/"
        },
        "id": "kRLCxw9OSZSk",
        "outputId": "c4484164-4fb9-46e9-e6e7-078d05522e72"
      },
      "execution_count": null,
      "outputs": [
        {
          "output_type": "stream",
          "name": "stdout",
          "text": [
            "node1, count:0\n",
            "node2, count:1\n",
            "node1, count:2\n",
            "node2, count:3\n"
          ]
        },
        {
          "output_type": "execute_result",
          "data": {
            "text/plain": [
              "{'lnode': 'node_2', 'scratch': 'hi', 'count': 4}"
            ]
          },
          "metadata": {},
          "execution_count": 10
        }
      ]
    },
    {
      "cell_type": "markdown",
      "source": [
        "### 查看狀態(state)\n",
        "\n",
        "Get the current state. Note the values which are the AgentState. Note the config and the thread_ts. You will be using those to refer to snapshots below."
      ],
      "metadata": {
        "id": "tv4ku4efUzZ5"
      }
    },
    {
      "cell_type": "code",
      "source": [
        "import rich\n",
        "\n",
        "result = graph.get_state(thread)\n",
        "\n",
        "rich.print(result)"
      ],
      "metadata": {
        "colab": {
          "base_uri": "https://localhost:8080/",
          "height": 337
        },
        "id": "ZvoSSAvMS0av",
        "outputId": "0bea4d90-8da5-4f2d-8578-0cae417c7b75"
      },
      "execution_count": null,
      "outputs": [
        {
          "output_type": "display_data",
          "data": {
            "text/plain": [
              "\u001b[1;35mStateSnapshot\u001b[0m\u001b[1m(\u001b[0m\n",
              "    \u001b[33mvalues\u001b[0m=\u001b[1m{\u001b[0m\u001b[32m'lnode'\u001b[0m: \u001b[32m'node_2'\u001b[0m, \u001b[32m'scratch'\u001b[0m: \u001b[32m'hi'\u001b[0m, \u001b[32m'count'\u001b[0m: \u001b[1;36m4\u001b[0m\u001b[1m}\u001b[0m,\n",
              "    \u001b[33mnext\u001b[0m=\u001b[1m(\u001b[0m\u001b[1m)\u001b[0m,\n",
              "    \u001b[33mconfig\u001b[0m=\u001b[1m{\u001b[0m\n",
              "        \u001b[32m'configurable'\u001b[0m: \u001b[1m{\u001b[0m\n",
              "            \u001b[32m'thread_id'\u001b[0m: \u001b[32m'1'\u001b[0m,\n",
              "            \u001b[32m'checkpoint_ns'\u001b[0m: \u001b[32m''\u001b[0m,\n",
              "            \u001b[32m'checkpoint_id'\u001b[0m: \u001b[32m'1ef561dc-bcde-67c2-8004-03e814a1fc10'\u001b[0m\n",
              "        \u001b[1m}\u001b[0m\n",
              "    \u001b[1m}\u001b[0m,\n",
              "    \u001b[33mmetadata\u001b[0m=\u001b[1m{\u001b[0m\u001b[32m'source'\u001b[0m: \u001b[32m'loop'\u001b[0m, \u001b[32m'writes'\u001b[0m: \u001b[1m{\u001b[0m\u001b[32m'Node2'\u001b[0m: \u001b[1m{\u001b[0m\u001b[32m'lnode'\u001b[0m: \u001b[32m'node_2'\u001b[0m, \u001b[32m'count'\u001b[0m: \u001b[1;36m1\u001b[0m\u001b[1m}\u001b[0m\u001b[1m}\u001b[0m, \u001b[32m'step'\u001b[0m: \u001b[1;36m4\u001b[0m\u001b[1m}\u001b[0m,\n",
              "    \u001b[33mcreated_at\u001b[0m=\u001b[32m'2024-08-09T07:05:44.508382+00:00'\u001b[0m,\n",
              "    \u001b[33mparent_config\u001b[0m=\u001b[1m{\u001b[0m\n",
              "        \u001b[32m'configurable'\u001b[0m: \u001b[1m{\u001b[0m\n",
              "            \u001b[32m'thread_id'\u001b[0m: \u001b[32m'1'\u001b[0m,\n",
              "            \u001b[32m'checkpoint_ns'\u001b[0m: \u001b[32m''\u001b[0m,\n",
              "            \u001b[32m'checkpoint_id'\u001b[0m: \u001b[32m'1ef561dc-bccf-6fed-8003-870412c94ed8'\u001b[0m\n",
              "        \u001b[1m}\u001b[0m\n",
              "    \u001b[1m}\u001b[0m\n",
              "\u001b[1m)\u001b[0m\n"
            ],
            "text/html": [
              "<pre style=\"white-space:pre;overflow-x:auto;line-height:normal;font-family:Menlo,'DejaVu Sans Mono',consolas,'Courier New',monospace\"><span style=\"color: #800080; text-decoration-color: #800080; font-weight: bold\">StateSnapshot</span><span style=\"font-weight: bold\">(</span>\n",
              "    <span style=\"color: #808000; text-decoration-color: #808000\">values</span>=<span style=\"font-weight: bold\">{</span><span style=\"color: #008000; text-decoration-color: #008000\">'lnode'</span>: <span style=\"color: #008000; text-decoration-color: #008000\">'node_2'</span>, <span style=\"color: #008000; text-decoration-color: #008000\">'scratch'</span>: <span style=\"color: #008000; text-decoration-color: #008000\">'hi'</span>, <span style=\"color: #008000; text-decoration-color: #008000\">'count'</span>: <span style=\"color: #008080; text-decoration-color: #008080; font-weight: bold\">4</span><span style=\"font-weight: bold\">}</span>,\n",
              "    <span style=\"color: #808000; text-decoration-color: #808000\">next</span>=<span style=\"font-weight: bold\">()</span>,\n",
              "    <span style=\"color: #808000; text-decoration-color: #808000\">config</span>=<span style=\"font-weight: bold\">{</span>\n",
              "        <span style=\"color: #008000; text-decoration-color: #008000\">'configurable'</span>: <span style=\"font-weight: bold\">{</span>\n",
              "            <span style=\"color: #008000; text-decoration-color: #008000\">'thread_id'</span>: <span style=\"color: #008000; text-decoration-color: #008000\">'1'</span>,\n",
              "            <span style=\"color: #008000; text-decoration-color: #008000\">'checkpoint_ns'</span>: <span style=\"color: #008000; text-decoration-color: #008000\">''</span>,\n",
              "            <span style=\"color: #008000; text-decoration-color: #008000\">'checkpoint_id'</span>: <span style=\"color: #008000; text-decoration-color: #008000\">'1ef561dc-bcde-67c2-8004-03e814a1fc10'</span>\n",
              "        <span style=\"font-weight: bold\">}</span>\n",
              "    <span style=\"font-weight: bold\">}</span>,\n",
              "    <span style=\"color: #808000; text-decoration-color: #808000\">metadata</span>=<span style=\"font-weight: bold\">{</span><span style=\"color: #008000; text-decoration-color: #008000\">'source'</span>: <span style=\"color: #008000; text-decoration-color: #008000\">'loop'</span>, <span style=\"color: #008000; text-decoration-color: #008000\">'writes'</span>: <span style=\"font-weight: bold\">{</span><span style=\"color: #008000; text-decoration-color: #008000\">'Node2'</span>: <span style=\"font-weight: bold\">{</span><span style=\"color: #008000; text-decoration-color: #008000\">'lnode'</span>: <span style=\"color: #008000; text-decoration-color: #008000\">'node_2'</span>, <span style=\"color: #008000; text-decoration-color: #008000\">'count'</span>: <span style=\"color: #008080; text-decoration-color: #008080; font-weight: bold\">1</span><span style=\"font-weight: bold\">}}</span>, <span style=\"color: #008000; text-decoration-color: #008000\">'step'</span>: <span style=\"color: #008080; text-decoration-color: #008080; font-weight: bold\">4</span><span style=\"font-weight: bold\">}</span>,\n",
              "    <span style=\"color: #808000; text-decoration-color: #808000\">created_at</span>=<span style=\"color: #008000; text-decoration-color: #008000\">'2024-08-09T07:05:44.508382+00:00'</span>,\n",
              "    <span style=\"color: #808000; text-decoration-color: #808000\">parent_config</span>=<span style=\"font-weight: bold\">{</span>\n",
              "        <span style=\"color: #008000; text-decoration-color: #008000\">'configurable'</span>: <span style=\"font-weight: bold\">{</span>\n",
              "            <span style=\"color: #008000; text-decoration-color: #008000\">'thread_id'</span>: <span style=\"color: #008000; text-decoration-color: #008000\">'1'</span>,\n",
              "            <span style=\"color: #008000; text-decoration-color: #008000\">'checkpoint_ns'</span>: <span style=\"color: #008000; text-decoration-color: #008000\">''</span>,\n",
              "            <span style=\"color: #008000; text-decoration-color: #008000\">'checkpoint_id'</span>: <span style=\"color: #008000; text-decoration-color: #008000\">'1ef561dc-bccf-6fed-8003-870412c94ed8'</span>\n",
              "        <span style=\"font-weight: bold\">}</span>\n",
              "    <span style=\"font-weight: bold\">}</span>\n",
              "<span style=\"font-weight: bold\">)</span>\n",
              "</pre>\n"
            ]
          },
          "metadata": {}
        }
      ]
    },
    {
      "cell_type": "markdown",
      "source": [
        "查看歷史狀態\n",
        "\n",
        "> 有些文件是寫說 `thread_ts`, `parent_ts`，根據官方文件 [LangGraph v0.2](https://blog.langchain.dev/langgraph-v0-2/)，已經分別改名為 `checkpoint_id` 以及 `parent_checkpoint_id`"
      ],
      "metadata": {
        "id": "-K6fSgVvW2Mk"
      }
    },
    {
      "cell_type": "code",
      "source": [
        "for state in graph.get_state_history(thread):\n",
        "    rich.print(state, \"\\n\")"
      ],
      "metadata": {
        "colab": {
          "base_uri": "https://localhost:8080/",
          "height": 1000
        },
        "id": "jgd4EKWMU3wy",
        "outputId": "3e0c4759-5f88-4b53-fa67-4236910253c7"
      },
      "execution_count": null,
      "outputs": [
        {
          "output_type": "display_data",
          "data": {
            "text/plain": [
              "\u001b[1;35mStateSnapshot\u001b[0m\u001b[1m(\u001b[0m\n",
              "    \u001b[33mvalues\u001b[0m=\u001b[1m{\u001b[0m\u001b[32m'lnode'\u001b[0m: \u001b[32m'node_2'\u001b[0m, \u001b[32m'scratch'\u001b[0m: \u001b[32m'hi'\u001b[0m, \u001b[32m'count'\u001b[0m: \u001b[1;36m4\u001b[0m\u001b[1m}\u001b[0m,\n",
              "    \u001b[33mnext\u001b[0m=\u001b[1m(\u001b[0m\u001b[1m)\u001b[0m,\n",
              "    \u001b[33mconfig\u001b[0m=\u001b[1m{\u001b[0m\n",
              "        \u001b[32m'configurable'\u001b[0m: \u001b[1m{\u001b[0m\n",
              "            \u001b[32m'thread_id'\u001b[0m: \u001b[32m'1'\u001b[0m,\n",
              "            \u001b[32m'checkpoint_ns'\u001b[0m: \u001b[32m''\u001b[0m,\n",
              "            \u001b[32m'checkpoint_id'\u001b[0m: \u001b[32m'1ef561dc-bcde-67c2-8004-03e814a1fc10'\u001b[0m\n",
              "        \u001b[1m}\u001b[0m\n",
              "    \u001b[1m}\u001b[0m,\n",
              "    \u001b[33mmetadata\u001b[0m=\u001b[1m{\u001b[0m\u001b[32m'source'\u001b[0m: \u001b[32m'loop'\u001b[0m, \u001b[32m'writes'\u001b[0m: \u001b[1m{\u001b[0m\u001b[32m'Node2'\u001b[0m: \u001b[1m{\u001b[0m\u001b[32m'lnode'\u001b[0m: \u001b[32m'node_2'\u001b[0m, \u001b[32m'count'\u001b[0m: \u001b[1;36m1\u001b[0m\u001b[1m}\u001b[0m\u001b[1m}\u001b[0m, \u001b[32m'step'\u001b[0m: \u001b[1;36m4\u001b[0m\u001b[1m}\u001b[0m,\n",
              "    \u001b[33mcreated_at\u001b[0m=\u001b[32m'2024-08-09T07:05:44.508382+00:00'\u001b[0m,\n",
              "    \u001b[33mparent_config\u001b[0m=\u001b[1m{\u001b[0m\n",
              "        \u001b[32m'configurable'\u001b[0m: \u001b[1m{\u001b[0m\n",
              "            \u001b[32m'thread_id'\u001b[0m: \u001b[32m'1'\u001b[0m,\n",
              "            \u001b[32m'checkpoint_ns'\u001b[0m: \u001b[32m''\u001b[0m,\n",
              "            \u001b[32m'checkpoint_id'\u001b[0m: \u001b[32m'1ef561dc-bccf-6fed-8003-870412c94ed8'\u001b[0m\n",
              "        \u001b[1m}\u001b[0m\n",
              "    \u001b[1m}\u001b[0m\n",
              "\u001b[1m)\u001b[0m\n",
              "\n",
              "\n"
            ],
            "text/html": [
              "<pre style=\"white-space:pre;overflow-x:auto;line-height:normal;font-family:Menlo,'DejaVu Sans Mono',consolas,'Courier New',monospace\"><span style=\"color: #800080; text-decoration-color: #800080; font-weight: bold\">StateSnapshot</span><span style=\"font-weight: bold\">(</span>\n",
              "    <span style=\"color: #808000; text-decoration-color: #808000\">values</span>=<span style=\"font-weight: bold\">{</span><span style=\"color: #008000; text-decoration-color: #008000\">'lnode'</span>: <span style=\"color: #008000; text-decoration-color: #008000\">'node_2'</span>, <span style=\"color: #008000; text-decoration-color: #008000\">'scratch'</span>: <span style=\"color: #008000; text-decoration-color: #008000\">'hi'</span>, <span style=\"color: #008000; text-decoration-color: #008000\">'count'</span>: <span style=\"color: #008080; text-decoration-color: #008080; font-weight: bold\">4</span><span style=\"font-weight: bold\">}</span>,\n",
              "    <span style=\"color: #808000; text-decoration-color: #808000\">next</span>=<span style=\"font-weight: bold\">()</span>,\n",
              "    <span style=\"color: #808000; text-decoration-color: #808000\">config</span>=<span style=\"font-weight: bold\">{</span>\n",
              "        <span style=\"color: #008000; text-decoration-color: #008000\">'configurable'</span>: <span style=\"font-weight: bold\">{</span>\n",
              "            <span style=\"color: #008000; text-decoration-color: #008000\">'thread_id'</span>: <span style=\"color: #008000; text-decoration-color: #008000\">'1'</span>,\n",
              "            <span style=\"color: #008000; text-decoration-color: #008000\">'checkpoint_ns'</span>: <span style=\"color: #008000; text-decoration-color: #008000\">''</span>,\n",
              "            <span style=\"color: #008000; text-decoration-color: #008000\">'checkpoint_id'</span>: <span style=\"color: #008000; text-decoration-color: #008000\">'1ef561dc-bcde-67c2-8004-03e814a1fc10'</span>\n",
              "        <span style=\"font-weight: bold\">}</span>\n",
              "    <span style=\"font-weight: bold\">}</span>,\n",
              "    <span style=\"color: #808000; text-decoration-color: #808000\">metadata</span>=<span style=\"font-weight: bold\">{</span><span style=\"color: #008000; text-decoration-color: #008000\">'source'</span>: <span style=\"color: #008000; text-decoration-color: #008000\">'loop'</span>, <span style=\"color: #008000; text-decoration-color: #008000\">'writes'</span>: <span style=\"font-weight: bold\">{</span><span style=\"color: #008000; text-decoration-color: #008000\">'Node2'</span>: <span style=\"font-weight: bold\">{</span><span style=\"color: #008000; text-decoration-color: #008000\">'lnode'</span>: <span style=\"color: #008000; text-decoration-color: #008000\">'node_2'</span>, <span style=\"color: #008000; text-decoration-color: #008000\">'count'</span>: <span style=\"color: #008080; text-decoration-color: #008080; font-weight: bold\">1</span><span style=\"font-weight: bold\">}}</span>, <span style=\"color: #008000; text-decoration-color: #008000\">'step'</span>: <span style=\"color: #008080; text-decoration-color: #008080; font-weight: bold\">4</span><span style=\"font-weight: bold\">}</span>,\n",
              "    <span style=\"color: #808000; text-decoration-color: #808000\">created_at</span>=<span style=\"color: #008000; text-decoration-color: #008000\">'2024-08-09T07:05:44.508382+00:00'</span>,\n",
              "    <span style=\"color: #808000; text-decoration-color: #808000\">parent_config</span>=<span style=\"font-weight: bold\">{</span>\n",
              "        <span style=\"color: #008000; text-decoration-color: #008000\">'configurable'</span>: <span style=\"font-weight: bold\">{</span>\n",
              "            <span style=\"color: #008000; text-decoration-color: #008000\">'thread_id'</span>: <span style=\"color: #008000; text-decoration-color: #008000\">'1'</span>,\n",
              "            <span style=\"color: #008000; text-decoration-color: #008000\">'checkpoint_ns'</span>: <span style=\"color: #008000; text-decoration-color: #008000\">''</span>,\n",
              "            <span style=\"color: #008000; text-decoration-color: #008000\">'checkpoint_id'</span>: <span style=\"color: #008000; text-decoration-color: #008000\">'1ef561dc-bccf-6fed-8003-870412c94ed8'</span>\n",
              "        <span style=\"font-weight: bold\">}</span>\n",
              "    <span style=\"font-weight: bold\">}</span>\n",
              "<span style=\"font-weight: bold\">)</span>\n",
              "\n",
              "\n",
              "</pre>\n"
            ]
          },
          "metadata": {}
        },
        {
          "output_type": "display_data",
          "data": {
            "text/plain": [
              "\u001b[1;35mStateSnapshot\u001b[0m\u001b[1m(\u001b[0m\n",
              "    \u001b[33mvalues\u001b[0m=\u001b[1m{\u001b[0m\u001b[32m'lnode'\u001b[0m: \u001b[32m'node_1'\u001b[0m, \u001b[32m'scratch'\u001b[0m: \u001b[32m'hi'\u001b[0m, \u001b[32m'count'\u001b[0m: \u001b[1;36m3\u001b[0m\u001b[1m}\u001b[0m,\n",
              "    \u001b[33mnext\u001b[0m=\u001b[1m(\u001b[0m\u001b[32m'Node2'\u001b[0m,\u001b[1m)\u001b[0m,\n",
              "    \u001b[33mconfig\u001b[0m=\u001b[1m{\u001b[0m\n",
              "        \u001b[32m'configurable'\u001b[0m: \u001b[1m{\u001b[0m\n",
              "            \u001b[32m'thread_id'\u001b[0m: \u001b[32m'1'\u001b[0m,\n",
              "            \u001b[32m'checkpoint_ns'\u001b[0m: \u001b[32m''\u001b[0m,\n",
              "            \u001b[32m'checkpoint_id'\u001b[0m: \u001b[32m'1ef561dc-bccf-6fed-8003-870412c94ed8'\u001b[0m\n",
              "        \u001b[1m}\u001b[0m\n",
              "    \u001b[1m}\u001b[0m,\n",
              "    \u001b[33mmetadata\u001b[0m=\u001b[1m{\u001b[0m\u001b[32m'source'\u001b[0m: \u001b[32m'loop'\u001b[0m, \u001b[32m'writes'\u001b[0m: \u001b[1m{\u001b[0m\u001b[32m'Node1'\u001b[0m: \u001b[1m{\u001b[0m\u001b[32m'lnode'\u001b[0m: \u001b[32m'node_1'\u001b[0m, \u001b[32m'count'\u001b[0m: \u001b[1;36m1\u001b[0m\u001b[1m}\u001b[0m\u001b[1m}\u001b[0m, \u001b[32m'step'\u001b[0m: \u001b[1;36m3\u001b[0m\u001b[1m}\u001b[0m,\n",
              "    \u001b[33mcreated_at\u001b[0m=\u001b[32m'2024-08-09T07:05:44.502430+00:00'\u001b[0m,\n",
              "    \u001b[33mparent_config\u001b[0m=\u001b[1m{\u001b[0m\n",
              "        \u001b[32m'configurable'\u001b[0m: \u001b[1m{\u001b[0m\n",
              "            \u001b[32m'thread_id'\u001b[0m: \u001b[32m'1'\u001b[0m,\n",
              "            \u001b[32m'checkpoint_ns'\u001b[0m: \u001b[32m''\u001b[0m,\n",
              "            \u001b[32m'checkpoint_id'\u001b[0m: \u001b[32m'1ef561dc-bcc2-654d-8002-cee129f19add'\u001b[0m\n",
              "        \u001b[1m}\u001b[0m\n",
              "    \u001b[1m}\u001b[0m\n",
              "\u001b[1m)\u001b[0m\n",
              "\n",
              "\n"
            ],
            "text/html": [
              "<pre style=\"white-space:pre;overflow-x:auto;line-height:normal;font-family:Menlo,'DejaVu Sans Mono',consolas,'Courier New',monospace\"><span style=\"color: #800080; text-decoration-color: #800080; font-weight: bold\">StateSnapshot</span><span style=\"font-weight: bold\">(</span>\n",
              "    <span style=\"color: #808000; text-decoration-color: #808000\">values</span>=<span style=\"font-weight: bold\">{</span><span style=\"color: #008000; text-decoration-color: #008000\">'lnode'</span>: <span style=\"color: #008000; text-decoration-color: #008000\">'node_1'</span>, <span style=\"color: #008000; text-decoration-color: #008000\">'scratch'</span>: <span style=\"color: #008000; text-decoration-color: #008000\">'hi'</span>, <span style=\"color: #008000; text-decoration-color: #008000\">'count'</span>: <span style=\"color: #008080; text-decoration-color: #008080; font-weight: bold\">3</span><span style=\"font-weight: bold\">}</span>,\n",
              "    <span style=\"color: #808000; text-decoration-color: #808000\">next</span>=<span style=\"font-weight: bold\">(</span><span style=\"color: #008000; text-decoration-color: #008000\">'Node2'</span>,<span style=\"font-weight: bold\">)</span>,\n",
              "    <span style=\"color: #808000; text-decoration-color: #808000\">config</span>=<span style=\"font-weight: bold\">{</span>\n",
              "        <span style=\"color: #008000; text-decoration-color: #008000\">'configurable'</span>: <span style=\"font-weight: bold\">{</span>\n",
              "            <span style=\"color: #008000; text-decoration-color: #008000\">'thread_id'</span>: <span style=\"color: #008000; text-decoration-color: #008000\">'1'</span>,\n",
              "            <span style=\"color: #008000; text-decoration-color: #008000\">'checkpoint_ns'</span>: <span style=\"color: #008000; text-decoration-color: #008000\">''</span>,\n",
              "            <span style=\"color: #008000; text-decoration-color: #008000\">'checkpoint_id'</span>: <span style=\"color: #008000; text-decoration-color: #008000\">'1ef561dc-bccf-6fed-8003-870412c94ed8'</span>\n",
              "        <span style=\"font-weight: bold\">}</span>\n",
              "    <span style=\"font-weight: bold\">}</span>,\n",
              "    <span style=\"color: #808000; text-decoration-color: #808000\">metadata</span>=<span style=\"font-weight: bold\">{</span><span style=\"color: #008000; text-decoration-color: #008000\">'source'</span>: <span style=\"color: #008000; text-decoration-color: #008000\">'loop'</span>, <span style=\"color: #008000; text-decoration-color: #008000\">'writes'</span>: <span style=\"font-weight: bold\">{</span><span style=\"color: #008000; text-decoration-color: #008000\">'Node1'</span>: <span style=\"font-weight: bold\">{</span><span style=\"color: #008000; text-decoration-color: #008000\">'lnode'</span>: <span style=\"color: #008000; text-decoration-color: #008000\">'node_1'</span>, <span style=\"color: #008000; text-decoration-color: #008000\">'count'</span>: <span style=\"color: #008080; text-decoration-color: #008080; font-weight: bold\">1</span><span style=\"font-weight: bold\">}}</span>, <span style=\"color: #008000; text-decoration-color: #008000\">'step'</span>: <span style=\"color: #008080; text-decoration-color: #008080; font-weight: bold\">3</span><span style=\"font-weight: bold\">}</span>,\n",
              "    <span style=\"color: #808000; text-decoration-color: #808000\">created_at</span>=<span style=\"color: #008000; text-decoration-color: #008000\">'2024-08-09T07:05:44.502430+00:00'</span>,\n",
              "    <span style=\"color: #808000; text-decoration-color: #808000\">parent_config</span>=<span style=\"font-weight: bold\">{</span>\n",
              "        <span style=\"color: #008000; text-decoration-color: #008000\">'configurable'</span>: <span style=\"font-weight: bold\">{</span>\n",
              "            <span style=\"color: #008000; text-decoration-color: #008000\">'thread_id'</span>: <span style=\"color: #008000; text-decoration-color: #008000\">'1'</span>,\n",
              "            <span style=\"color: #008000; text-decoration-color: #008000\">'checkpoint_ns'</span>: <span style=\"color: #008000; text-decoration-color: #008000\">''</span>,\n",
              "            <span style=\"color: #008000; text-decoration-color: #008000\">'checkpoint_id'</span>: <span style=\"color: #008000; text-decoration-color: #008000\">'1ef561dc-bcc2-654d-8002-cee129f19add'</span>\n",
              "        <span style=\"font-weight: bold\">}</span>\n",
              "    <span style=\"font-weight: bold\">}</span>\n",
              "<span style=\"font-weight: bold\">)</span>\n",
              "\n",
              "\n",
              "</pre>\n"
            ]
          },
          "metadata": {}
        },
        {
          "output_type": "display_data",
          "data": {
            "text/plain": [
              "\u001b[1;35mStateSnapshot\u001b[0m\u001b[1m(\u001b[0m\n",
              "    \u001b[33mvalues\u001b[0m=\u001b[1m{\u001b[0m\u001b[32m'lnode'\u001b[0m: \u001b[32m'node_2'\u001b[0m, \u001b[32m'scratch'\u001b[0m: \u001b[32m'hi'\u001b[0m, \u001b[32m'count'\u001b[0m: \u001b[1;36m2\u001b[0m\u001b[1m}\u001b[0m,\n",
              "    \u001b[33mnext\u001b[0m=\u001b[1m(\u001b[0m\u001b[32m'Node1'\u001b[0m,\u001b[1m)\u001b[0m,\n",
              "    \u001b[33mconfig\u001b[0m=\u001b[1m{\u001b[0m\n",
              "        \u001b[32m'configurable'\u001b[0m: \u001b[1m{\u001b[0m\n",
              "            \u001b[32m'thread_id'\u001b[0m: \u001b[32m'1'\u001b[0m,\n",
              "            \u001b[32m'checkpoint_ns'\u001b[0m: \u001b[32m''\u001b[0m,\n",
              "            \u001b[32m'checkpoint_id'\u001b[0m: \u001b[32m'1ef561dc-bcc2-654d-8002-cee129f19add'\u001b[0m\n",
              "        \u001b[1m}\u001b[0m\n",
              "    \u001b[1m}\u001b[0m,\n",
              "    \u001b[33mmetadata\u001b[0m=\u001b[1m{\u001b[0m\u001b[32m'source'\u001b[0m: \u001b[32m'loop'\u001b[0m, \u001b[32m'writes'\u001b[0m: \u001b[1m{\u001b[0m\u001b[32m'Node2'\u001b[0m: \u001b[1m{\u001b[0m\u001b[32m'lnode'\u001b[0m: \u001b[32m'node_2'\u001b[0m, \u001b[32m'count'\u001b[0m: \u001b[1;36m1\u001b[0m\u001b[1m}\u001b[0m\u001b[1m}\u001b[0m, \u001b[32m'step'\u001b[0m: \u001b[1;36m2\u001b[0m\u001b[1m}\u001b[0m,\n",
              "    \u001b[33mcreated_at\u001b[0m=\u001b[32m'2024-08-09T07:05:44.496829+00:00'\u001b[0m,\n",
              "    \u001b[33mparent_config\u001b[0m=\u001b[1m{\u001b[0m\n",
              "        \u001b[32m'configurable'\u001b[0m: \u001b[1m{\u001b[0m\n",
              "            \u001b[32m'thread_id'\u001b[0m: \u001b[32m'1'\u001b[0m,\n",
              "            \u001b[32m'checkpoint_ns'\u001b[0m: \u001b[32m''\u001b[0m,\n",
              "            \u001b[32m'checkpoint_id'\u001b[0m: \u001b[32m'1ef561dc-bc9c-6d50-8001-e9bee1517c9b'\u001b[0m\n",
              "        \u001b[1m}\u001b[0m\n",
              "    \u001b[1m}\u001b[0m\n",
              "\u001b[1m)\u001b[0m\n",
              "\n",
              "\n"
            ],
            "text/html": [
              "<pre style=\"white-space:pre;overflow-x:auto;line-height:normal;font-family:Menlo,'DejaVu Sans Mono',consolas,'Courier New',monospace\"><span style=\"color: #800080; text-decoration-color: #800080; font-weight: bold\">StateSnapshot</span><span style=\"font-weight: bold\">(</span>\n",
              "    <span style=\"color: #808000; text-decoration-color: #808000\">values</span>=<span style=\"font-weight: bold\">{</span><span style=\"color: #008000; text-decoration-color: #008000\">'lnode'</span>: <span style=\"color: #008000; text-decoration-color: #008000\">'node_2'</span>, <span style=\"color: #008000; text-decoration-color: #008000\">'scratch'</span>: <span style=\"color: #008000; text-decoration-color: #008000\">'hi'</span>, <span style=\"color: #008000; text-decoration-color: #008000\">'count'</span>: <span style=\"color: #008080; text-decoration-color: #008080; font-weight: bold\">2</span><span style=\"font-weight: bold\">}</span>,\n",
              "    <span style=\"color: #808000; text-decoration-color: #808000\">next</span>=<span style=\"font-weight: bold\">(</span><span style=\"color: #008000; text-decoration-color: #008000\">'Node1'</span>,<span style=\"font-weight: bold\">)</span>,\n",
              "    <span style=\"color: #808000; text-decoration-color: #808000\">config</span>=<span style=\"font-weight: bold\">{</span>\n",
              "        <span style=\"color: #008000; text-decoration-color: #008000\">'configurable'</span>: <span style=\"font-weight: bold\">{</span>\n",
              "            <span style=\"color: #008000; text-decoration-color: #008000\">'thread_id'</span>: <span style=\"color: #008000; text-decoration-color: #008000\">'1'</span>,\n",
              "            <span style=\"color: #008000; text-decoration-color: #008000\">'checkpoint_ns'</span>: <span style=\"color: #008000; text-decoration-color: #008000\">''</span>,\n",
              "            <span style=\"color: #008000; text-decoration-color: #008000\">'checkpoint_id'</span>: <span style=\"color: #008000; text-decoration-color: #008000\">'1ef561dc-bcc2-654d-8002-cee129f19add'</span>\n",
              "        <span style=\"font-weight: bold\">}</span>\n",
              "    <span style=\"font-weight: bold\">}</span>,\n",
              "    <span style=\"color: #808000; text-decoration-color: #808000\">metadata</span>=<span style=\"font-weight: bold\">{</span><span style=\"color: #008000; text-decoration-color: #008000\">'source'</span>: <span style=\"color: #008000; text-decoration-color: #008000\">'loop'</span>, <span style=\"color: #008000; text-decoration-color: #008000\">'writes'</span>: <span style=\"font-weight: bold\">{</span><span style=\"color: #008000; text-decoration-color: #008000\">'Node2'</span>: <span style=\"font-weight: bold\">{</span><span style=\"color: #008000; text-decoration-color: #008000\">'lnode'</span>: <span style=\"color: #008000; text-decoration-color: #008000\">'node_2'</span>, <span style=\"color: #008000; text-decoration-color: #008000\">'count'</span>: <span style=\"color: #008080; text-decoration-color: #008080; font-weight: bold\">1</span><span style=\"font-weight: bold\">}}</span>, <span style=\"color: #008000; text-decoration-color: #008000\">'step'</span>: <span style=\"color: #008080; text-decoration-color: #008080; font-weight: bold\">2</span><span style=\"font-weight: bold\">}</span>,\n",
              "    <span style=\"color: #808000; text-decoration-color: #808000\">created_at</span>=<span style=\"color: #008000; text-decoration-color: #008000\">'2024-08-09T07:05:44.496829+00:00'</span>,\n",
              "    <span style=\"color: #808000; text-decoration-color: #808000\">parent_config</span>=<span style=\"font-weight: bold\">{</span>\n",
              "        <span style=\"color: #008000; text-decoration-color: #008000\">'configurable'</span>: <span style=\"font-weight: bold\">{</span>\n",
              "            <span style=\"color: #008000; text-decoration-color: #008000\">'thread_id'</span>: <span style=\"color: #008000; text-decoration-color: #008000\">'1'</span>,\n",
              "            <span style=\"color: #008000; text-decoration-color: #008000\">'checkpoint_ns'</span>: <span style=\"color: #008000; text-decoration-color: #008000\">''</span>,\n",
              "            <span style=\"color: #008000; text-decoration-color: #008000\">'checkpoint_id'</span>: <span style=\"color: #008000; text-decoration-color: #008000\">'1ef561dc-bc9c-6d50-8001-e9bee1517c9b'</span>\n",
              "        <span style=\"font-weight: bold\">}</span>\n",
              "    <span style=\"font-weight: bold\">}</span>\n",
              "<span style=\"font-weight: bold\">)</span>\n",
              "\n",
              "\n",
              "</pre>\n"
            ]
          },
          "metadata": {}
        },
        {
          "output_type": "display_data",
          "data": {
            "text/plain": [
              "\u001b[1;35mStateSnapshot\u001b[0m\u001b[1m(\u001b[0m\n",
              "    \u001b[33mvalues\u001b[0m=\u001b[1m{\u001b[0m\u001b[32m'lnode'\u001b[0m: \u001b[32m'node_1'\u001b[0m, \u001b[32m'scratch'\u001b[0m: \u001b[32m'hi'\u001b[0m, \u001b[32m'count'\u001b[0m: \u001b[1;36m1\u001b[0m\u001b[1m}\u001b[0m,\n",
              "    \u001b[33mnext\u001b[0m=\u001b[1m(\u001b[0m\u001b[32m'Node2'\u001b[0m,\u001b[1m)\u001b[0m,\n",
              "    \u001b[33mconfig\u001b[0m=\u001b[1m{\u001b[0m\n",
              "        \u001b[32m'configurable'\u001b[0m: \u001b[1m{\u001b[0m\n",
              "            \u001b[32m'thread_id'\u001b[0m: \u001b[32m'1'\u001b[0m,\n",
              "            \u001b[32m'checkpoint_ns'\u001b[0m: \u001b[32m''\u001b[0m,\n",
              "            \u001b[32m'checkpoint_id'\u001b[0m: \u001b[32m'1ef561dc-bc9c-6d50-8001-e9bee1517c9b'\u001b[0m\n",
              "        \u001b[1m}\u001b[0m\n",
              "    \u001b[1m}\u001b[0m,\n",
              "    \u001b[33mmetadata\u001b[0m=\u001b[1m{\u001b[0m\u001b[32m'source'\u001b[0m: \u001b[32m'loop'\u001b[0m, \u001b[32m'writes'\u001b[0m: \u001b[1m{\u001b[0m\u001b[32m'Node1'\u001b[0m: \u001b[1m{\u001b[0m\u001b[32m'lnode'\u001b[0m: \u001b[32m'node_1'\u001b[0m, \u001b[32m'count'\u001b[0m: \u001b[1;36m1\u001b[0m\u001b[1m}\u001b[0m\u001b[1m}\u001b[0m, \u001b[32m'step'\u001b[0m: \u001b[1;36m1\u001b[0m\u001b[1m}\u001b[0m,\n",
              "    \u001b[33mcreated_at\u001b[0m=\u001b[32m'2024-08-09T07:05:44.481474+00:00'\u001b[0m,\n",
              "    \u001b[33mparent_config\u001b[0m=\u001b[1m{\u001b[0m\n",
              "        \u001b[32m'configurable'\u001b[0m: \u001b[1m{\u001b[0m\n",
              "            \u001b[32m'thread_id'\u001b[0m: \u001b[32m'1'\u001b[0m,\n",
              "            \u001b[32m'checkpoint_ns'\u001b[0m: \u001b[32m''\u001b[0m,\n",
              "            \u001b[32m'checkpoint_id'\u001b[0m: \u001b[32m'1ef561dc-bc87-6d50-8000-05126d1312e2'\u001b[0m\n",
              "        \u001b[1m}\u001b[0m\n",
              "    \u001b[1m}\u001b[0m\n",
              "\u001b[1m)\u001b[0m\n",
              "\n",
              "\n"
            ],
            "text/html": [
              "<pre style=\"white-space:pre;overflow-x:auto;line-height:normal;font-family:Menlo,'DejaVu Sans Mono',consolas,'Courier New',monospace\"><span style=\"color: #800080; text-decoration-color: #800080; font-weight: bold\">StateSnapshot</span><span style=\"font-weight: bold\">(</span>\n",
              "    <span style=\"color: #808000; text-decoration-color: #808000\">values</span>=<span style=\"font-weight: bold\">{</span><span style=\"color: #008000; text-decoration-color: #008000\">'lnode'</span>: <span style=\"color: #008000; text-decoration-color: #008000\">'node_1'</span>, <span style=\"color: #008000; text-decoration-color: #008000\">'scratch'</span>: <span style=\"color: #008000; text-decoration-color: #008000\">'hi'</span>, <span style=\"color: #008000; text-decoration-color: #008000\">'count'</span>: <span style=\"color: #008080; text-decoration-color: #008080; font-weight: bold\">1</span><span style=\"font-weight: bold\">}</span>,\n",
              "    <span style=\"color: #808000; text-decoration-color: #808000\">next</span>=<span style=\"font-weight: bold\">(</span><span style=\"color: #008000; text-decoration-color: #008000\">'Node2'</span>,<span style=\"font-weight: bold\">)</span>,\n",
              "    <span style=\"color: #808000; text-decoration-color: #808000\">config</span>=<span style=\"font-weight: bold\">{</span>\n",
              "        <span style=\"color: #008000; text-decoration-color: #008000\">'configurable'</span>: <span style=\"font-weight: bold\">{</span>\n",
              "            <span style=\"color: #008000; text-decoration-color: #008000\">'thread_id'</span>: <span style=\"color: #008000; text-decoration-color: #008000\">'1'</span>,\n",
              "            <span style=\"color: #008000; text-decoration-color: #008000\">'checkpoint_ns'</span>: <span style=\"color: #008000; text-decoration-color: #008000\">''</span>,\n",
              "            <span style=\"color: #008000; text-decoration-color: #008000\">'checkpoint_id'</span>: <span style=\"color: #008000; text-decoration-color: #008000\">'1ef561dc-bc9c-6d50-8001-e9bee1517c9b'</span>\n",
              "        <span style=\"font-weight: bold\">}</span>\n",
              "    <span style=\"font-weight: bold\">}</span>,\n",
              "    <span style=\"color: #808000; text-decoration-color: #808000\">metadata</span>=<span style=\"font-weight: bold\">{</span><span style=\"color: #008000; text-decoration-color: #008000\">'source'</span>: <span style=\"color: #008000; text-decoration-color: #008000\">'loop'</span>, <span style=\"color: #008000; text-decoration-color: #008000\">'writes'</span>: <span style=\"font-weight: bold\">{</span><span style=\"color: #008000; text-decoration-color: #008000\">'Node1'</span>: <span style=\"font-weight: bold\">{</span><span style=\"color: #008000; text-decoration-color: #008000\">'lnode'</span>: <span style=\"color: #008000; text-decoration-color: #008000\">'node_1'</span>, <span style=\"color: #008000; text-decoration-color: #008000\">'count'</span>: <span style=\"color: #008080; text-decoration-color: #008080; font-weight: bold\">1</span><span style=\"font-weight: bold\">}}</span>, <span style=\"color: #008000; text-decoration-color: #008000\">'step'</span>: <span style=\"color: #008080; text-decoration-color: #008080; font-weight: bold\">1</span><span style=\"font-weight: bold\">}</span>,\n",
              "    <span style=\"color: #808000; text-decoration-color: #808000\">created_at</span>=<span style=\"color: #008000; text-decoration-color: #008000\">'2024-08-09T07:05:44.481474+00:00'</span>,\n",
              "    <span style=\"color: #808000; text-decoration-color: #808000\">parent_config</span>=<span style=\"font-weight: bold\">{</span>\n",
              "        <span style=\"color: #008000; text-decoration-color: #008000\">'configurable'</span>: <span style=\"font-weight: bold\">{</span>\n",
              "            <span style=\"color: #008000; text-decoration-color: #008000\">'thread_id'</span>: <span style=\"color: #008000; text-decoration-color: #008000\">'1'</span>,\n",
              "            <span style=\"color: #008000; text-decoration-color: #008000\">'checkpoint_ns'</span>: <span style=\"color: #008000; text-decoration-color: #008000\">''</span>,\n",
              "            <span style=\"color: #008000; text-decoration-color: #008000\">'checkpoint_id'</span>: <span style=\"color: #008000; text-decoration-color: #008000\">'1ef561dc-bc87-6d50-8000-05126d1312e2'</span>\n",
              "        <span style=\"font-weight: bold\">}</span>\n",
              "    <span style=\"font-weight: bold\">}</span>\n",
              "<span style=\"font-weight: bold\">)</span>\n",
              "\n",
              "\n",
              "</pre>\n"
            ]
          },
          "metadata": {}
        },
        {
          "output_type": "display_data",
          "data": {
            "text/plain": [
              "\u001b[1;35mStateSnapshot\u001b[0m\u001b[1m(\u001b[0m\n",
              "    \u001b[33mvalues\u001b[0m=\u001b[1m{\u001b[0m\u001b[32m'scratch'\u001b[0m: \u001b[32m'hi'\u001b[0m, \u001b[32m'count'\u001b[0m: \u001b[1;36m0\u001b[0m\u001b[1m}\u001b[0m,\n",
              "    \u001b[33mnext\u001b[0m=\u001b[1m(\u001b[0m\u001b[32m'Node1'\u001b[0m,\u001b[1m)\u001b[0m,\n",
              "    \u001b[33mconfig\u001b[0m=\u001b[1m{\u001b[0m\n",
              "        \u001b[32m'configurable'\u001b[0m: \u001b[1m{\u001b[0m\n",
              "            \u001b[32m'thread_id'\u001b[0m: \u001b[32m'1'\u001b[0m,\n",
              "            \u001b[32m'checkpoint_ns'\u001b[0m: \u001b[32m''\u001b[0m,\n",
              "            \u001b[32m'checkpoint_id'\u001b[0m: \u001b[32m'1ef561dc-bc87-6d50-8000-05126d1312e2'\u001b[0m\n",
              "        \u001b[1m}\u001b[0m\n",
              "    \u001b[1m}\u001b[0m,\n",
              "    \u001b[33mmetadata\u001b[0m=\u001b[1m{\u001b[0m\u001b[32m'source'\u001b[0m: \u001b[32m'loop'\u001b[0m, \u001b[32m'writes'\u001b[0m: \u001b[3;35mNone\u001b[0m, \u001b[32m'step'\u001b[0m: \u001b[1;36m0\u001b[0m\u001b[1m}\u001b[0m,\n",
              "    \u001b[33mcreated_at\u001b[0m=\u001b[32m'2024-08-09T07:05:44.472892+00:00'\u001b[0m,\n",
              "    \u001b[33mparent_config\u001b[0m=\u001b[1m{\u001b[0m\n",
              "        \u001b[32m'configurable'\u001b[0m: \u001b[1m{\u001b[0m\n",
              "            \u001b[32m'thread_id'\u001b[0m: \u001b[32m'1'\u001b[0m,\n",
              "            \u001b[32m'checkpoint_ns'\u001b[0m: \u001b[32m''\u001b[0m,\n",
              "            \u001b[32m'checkpoint_id'\u001b[0m: \u001b[32m'1ef561dc-bc82-6bdb-bfff-cb96ef83cd2d'\u001b[0m\n",
              "        \u001b[1m}\u001b[0m\n",
              "    \u001b[1m}\u001b[0m\n",
              "\u001b[1m)\u001b[0m\n",
              "\n",
              "\n"
            ],
            "text/html": [
              "<pre style=\"white-space:pre;overflow-x:auto;line-height:normal;font-family:Menlo,'DejaVu Sans Mono',consolas,'Courier New',monospace\"><span style=\"color: #800080; text-decoration-color: #800080; font-weight: bold\">StateSnapshot</span><span style=\"font-weight: bold\">(</span>\n",
              "    <span style=\"color: #808000; text-decoration-color: #808000\">values</span>=<span style=\"font-weight: bold\">{</span><span style=\"color: #008000; text-decoration-color: #008000\">'scratch'</span>: <span style=\"color: #008000; text-decoration-color: #008000\">'hi'</span>, <span style=\"color: #008000; text-decoration-color: #008000\">'count'</span>: <span style=\"color: #008080; text-decoration-color: #008080; font-weight: bold\">0</span><span style=\"font-weight: bold\">}</span>,\n",
              "    <span style=\"color: #808000; text-decoration-color: #808000\">next</span>=<span style=\"font-weight: bold\">(</span><span style=\"color: #008000; text-decoration-color: #008000\">'Node1'</span>,<span style=\"font-weight: bold\">)</span>,\n",
              "    <span style=\"color: #808000; text-decoration-color: #808000\">config</span>=<span style=\"font-weight: bold\">{</span>\n",
              "        <span style=\"color: #008000; text-decoration-color: #008000\">'configurable'</span>: <span style=\"font-weight: bold\">{</span>\n",
              "            <span style=\"color: #008000; text-decoration-color: #008000\">'thread_id'</span>: <span style=\"color: #008000; text-decoration-color: #008000\">'1'</span>,\n",
              "            <span style=\"color: #008000; text-decoration-color: #008000\">'checkpoint_ns'</span>: <span style=\"color: #008000; text-decoration-color: #008000\">''</span>,\n",
              "            <span style=\"color: #008000; text-decoration-color: #008000\">'checkpoint_id'</span>: <span style=\"color: #008000; text-decoration-color: #008000\">'1ef561dc-bc87-6d50-8000-05126d1312e2'</span>\n",
              "        <span style=\"font-weight: bold\">}</span>\n",
              "    <span style=\"font-weight: bold\">}</span>,\n",
              "    <span style=\"color: #808000; text-decoration-color: #808000\">metadata</span>=<span style=\"font-weight: bold\">{</span><span style=\"color: #008000; text-decoration-color: #008000\">'source'</span>: <span style=\"color: #008000; text-decoration-color: #008000\">'loop'</span>, <span style=\"color: #008000; text-decoration-color: #008000\">'writes'</span>: <span style=\"color: #800080; text-decoration-color: #800080; font-style: italic\">None</span>, <span style=\"color: #008000; text-decoration-color: #008000\">'step'</span>: <span style=\"color: #008080; text-decoration-color: #008080; font-weight: bold\">0</span><span style=\"font-weight: bold\">}</span>,\n",
              "    <span style=\"color: #808000; text-decoration-color: #808000\">created_at</span>=<span style=\"color: #008000; text-decoration-color: #008000\">'2024-08-09T07:05:44.472892+00:00'</span>,\n",
              "    <span style=\"color: #808000; text-decoration-color: #808000\">parent_config</span>=<span style=\"font-weight: bold\">{</span>\n",
              "        <span style=\"color: #008000; text-decoration-color: #008000\">'configurable'</span>: <span style=\"font-weight: bold\">{</span>\n",
              "            <span style=\"color: #008000; text-decoration-color: #008000\">'thread_id'</span>: <span style=\"color: #008000; text-decoration-color: #008000\">'1'</span>,\n",
              "            <span style=\"color: #008000; text-decoration-color: #008000\">'checkpoint_ns'</span>: <span style=\"color: #008000; text-decoration-color: #008000\">''</span>,\n",
              "            <span style=\"color: #008000; text-decoration-color: #008000\">'checkpoint_id'</span>: <span style=\"color: #008000; text-decoration-color: #008000\">'1ef561dc-bc82-6bdb-bfff-cb96ef83cd2d'</span>\n",
              "        <span style=\"font-weight: bold\">}</span>\n",
              "    <span style=\"font-weight: bold\">}</span>\n",
              "<span style=\"font-weight: bold\">)</span>\n",
              "\n",
              "\n",
              "</pre>\n"
            ]
          },
          "metadata": {}
        },
        {
          "output_type": "display_data",
          "data": {
            "text/plain": [
              "\u001b[1;35mStateSnapshot\u001b[0m\u001b[1m(\u001b[0m\n",
              "    \u001b[33mvalues\u001b[0m=\u001b[1m{\u001b[0m\u001b[32m'count'\u001b[0m: \u001b[1;36m0\u001b[0m\u001b[1m}\u001b[0m,\n",
              "    \u001b[33mnext\u001b[0m=\u001b[1m(\u001b[0m\u001b[32m'__start__'\u001b[0m,\u001b[1m)\u001b[0m,\n",
              "    \u001b[33mconfig\u001b[0m=\u001b[1m{\u001b[0m\n",
              "        \u001b[32m'configurable'\u001b[0m: \u001b[1m{\u001b[0m\n",
              "            \u001b[32m'thread_id'\u001b[0m: \u001b[32m'1'\u001b[0m,\n",
              "            \u001b[32m'checkpoint_ns'\u001b[0m: \u001b[32m''\u001b[0m,\n",
              "            \u001b[32m'checkpoint_id'\u001b[0m: \u001b[32m'1ef561dc-bc82-6bdb-bfff-cb96ef83cd2d'\u001b[0m\n",
              "        \u001b[1m}\u001b[0m\n",
              "    \u001b[1m}\u001b[0m,\n",
              "    \u001b[33mmetadata\u001b[0m=\u001b[1m{\u001b[0m\u001b[32m'source'\u001b[0m: \u001b[32m'input'\u001b[0m, \u001b[32m'writes'\u001b[0m: \u001b[1m{\u001b[0m\u001b[32m'count'\u001b[0m: \u001b[1;36m0\u001b[0m, \u001b[32m'scratch'\u001b[0m: \u001b[32m'hi'\u001b[0m\u001b[1m}\u001b[0m, \u001b[32m'step'\u001b[0m: \u001b[1;36m-1\u001b[0m\u001b[1m}\u001b[0m,\n",
              "    \u001b[33mcreated_at\u001b[0m=\u001b[32m'2024-08-09T07:05:44.470804+00:00'\u001b[0m,\n",
              "    \u001b[33mparent_config\u001b[0m=\u001b[3;35mNone\u001b[0m\n",
              "\u001b[1m)\u001b[0m\n",
              "\n",
              "\n"
            ],
            "text/html": [
              "<pre style=\"white-space:pre;overflow-x:auto;line-height:normal;font-family:Menlo,'DejaVu Sans Mono',consolas,'Courier New',monospace\"><span style=\"color: #800080; text-decoration-color: #800080; font-weight: bold\">StateSnapshot</span><span style=\"font-weight: bold\">(</span>\n",
              "    <span style=\"color: #808000; text-decoration-color: #808000\">values</span>=<span style=\"font-weight: bold\">{</span><span style=\"color: #008000; text-decoration-color: #008000\">'count'</span>: <span style=\"color: #008080; text-decoration-color: #008080; font-weight: bold\">0</span><span style=\"font-weight: bold\">}</span>,\n",
              "    <span style=\"color: #808000; text-decoration-color: #808000\">next</span>=<span style=\"font-weight: bold\">(</span><span style=\"color: #008000; text-decoration-color: #008000\">'__start__'</span>,<span style=\"font-weight: bold\">)</span>,\n",
              "    <span style=\"color: #808000; text-decoration-color: #808000\">config</span>=<span style=\"font-weight: bold\">{</span>\n",
              "        <span style=\"color: #008000; text-decoration-color: #008000\">'configurable'</span>: <span style=\"font-weight: bold\">{</span>\n",
              "            <span style=\"color: #008000; text-decoration-color: #008000\">'thread_id'</span>: <span style=\"color: #008000; text-decoration-color: #008000\">'1'</span>,\n",
              "            <span style=\"color: #008000; text-decoration-color: #008000\">'checkpoint_ns'</span>: <span style=\"color: #008000; text-decoration-color: #008000\">''</span>,\n",
              "            <span style=\"color: #008000; text-decoration-color: #008000\">'checkpoint_id'</span>: <span style=\"color: #008000; text-decoration-color: #008000\">'1ef561dc-bc82-6bdb-bfff-cb96ef83cd2d'</span>\n",
              "        <span style=\"font-weight: bold\">}</span>\n",
              "    <span style=\"font-weight: bold\">}</span>,\n",
              "    <span style=\"color: #808000; text-decoration-color: #808000\">metadata</span>=<span style=\"font-weight: bold\">{</span><span style=\"color: #008000; text-decoration-color: #008000\">'source'</span>: <span style=\"color: #008000; text-decoration-color: #008000\">'input'</span>, <span style=\"color: #008000; text-decoration-color: #008000\">'writes'</span>: <span style=\"font-weight: bold\">{</span><span style=\"color: #008000; text-decoration-color: #008000\">'count'</span>: <span style=\"color: #008080; text-decoration-color: #008080; font-weight: bold\">0</span>, <span style=\"color: #008000; text-decoration-color: #008000\">'scratch'</span>: <span style=\"color: #008000; text-decoration-color: #008000\">'hi'</span><span style=\"font-weight: bold\">}</span>, <span style=\"color: #008000; text-decoration-color: #008000\">'step'</span>: <span style=\"color: #008080; text-decoration-color: #008080; font-weight: bold\">-1</span><span style=\"font-weight: bold\">}</span>,\n",
              "    <span style=\"color: #808000; text-decoration-color: #808000\">created_at</span>=<span style=\"color: #008000; text-decoration-color: #008000\">'2024-08-09T07:05:44.470804+00:00'</span>,\n",
              "    <span style=\"color: #808000; text-decoration-color: #808000\">parent_config</span>=<span style=\"color: #800080; text-decoration-color: #800080; font-style: italic\">None</span>\n",
              "<span style=\"font-weight: bold\">)</span>\n",
              "\n",
              "\n",
              "</pre>\n"
            ]
          },
          "metadata": {}
        }
      ]
    },
    {
      "cell_type": "markdown",
      "source": [
        "保存歷史資訊成 list 後續方便"
      ],
      "metadata": {
        "id": "-JqFpsQ88-G7"
      }
    },
    {
      "cell_type": "code",
      "source": [
        "states = []\n",
        "for state in graph.get_state_history(thread):\n",
        "    states.append(state.config)\n",
        "    print(f\"{state.config}, count: {state.values['count']}\")"
      ],
      "metadata": {
        "colab": {
          "base_uri": "https://localhost:8080/"
        },
        "id": "5xm3-c2MWo5y",
        "outputId": "ac64c6e4-4cb4-4cf1-db8a-e5d762beb5b9"
      },
      "execution_count": null,
      "outputs": [
        {
          "output_type": "stream",
          "name": "stdout",
          "text": [
            "{'configurable': {'thread_id': '1', 'checkpoint_ns': '', 'checkpoint_id': '1ef561e0-cb40-6be9-8004-f21497772532'}}, count: 4\n",
            "{'configurable': {'thread_id': '1', 'checkpoint_ns': '', 'checkpoint_id': '1ef561e0-cb33-6d1b-8003-d7c00eb02a41'}}, count: 3\n",
            "{'configurable': {'thread_id': '1', 'checkpoint_ns': '', 'checkpoint_id': '1ef561e0-cb25-662d-8002-463f51af9a58'}}, count: 2\n",
            "{'configurable': {'thread_id': '1', 'checkpoint_ns': '', 'checkpoint_id': '1ef561dc-bcde-67c2-8004-03e814a1fc10'}}, count: 4\n",
            "{'configurable': {'thread_id': '1', 'checkpoint_ns': '', 'checkpoint_id': '1ef561dc-bccf-6fed-8003-870412c94ed8'}}, count: 3\n",
            "{'configurable': {'thread_id': '1', 'checkpoint_ns': '', 'checkpoint_id': '1ef561dc-bcc2-654d-8002-cee129f19add'}}, count: 2\n",
            "{'configurable': {'thread_id': '1', 'checkpoint_ns': '', 'checkpoint_id': '1ef561dc-bc9c-6d50-8001-e9bee1517c9b'}}, count: 1\n",
            "{'configurable': {'thread_id': '1', 'checkpoint_ns': '', 'checkpoint_id': '1ef561dc-bc87-6d50-8000-05126d1312e2'}}, count: 0\n",
            "{'configurable': {'thread_id': '1', 'checkpoint_ns': '', 'checkpoint_id': '1ef561dc-bc82-6bdb-bfff-cb96ef83cd2d'}}, count: 0\n"
          ]
        }
      ]
    },
    {
      "cell_type": "markdown",
      "source": [
        "取得特定狀態資訊"
      ],
      "metadata": {
        "id": "9SE2V9Yx9dYi"
      }
    },
    {
      "cell_type": "code",
      "source": [
        "specific_state = graph.get_state(states[-3])\n",
        "rich.print(specific_state)"
      ],
      "metadata": {
        "colab": {
          "base_uri": "https://localhost:8080/",
          "height": 337
        },
        "id": "vTXHtRWY9BbT",
        "outputId": "d4d30b56-6626-4c34-8ce2-f0af7b79a140"
      },
      "execution_count": null,
      "outputs": [
        {
          "output_type": "display_data",
          "data": {
            "text/plain": [
              "\u001b[1;35mStateSnapshot\u001b[0m\u001b[1m(\u001b[0m\n",
              "    \u001b[33mvalues\u001b[0m=\u001b[1m{\u001b[0m\u001b[32m'lnode'\u001b[0m: \u001b[32m'node_1'\u001b[0m, \u001b[32m'scratch'\u001b[0m: \u001b[32m'hi'\u001b[0m, \u001b[32m'count'\u001b[0m: \u001b[1;36m1\u001b[0m\u001b[1m}\u001b[0m,\n",
              "    \u001b[33mnext\u001b[0m=\u001b[1m(\u001b[0m\u001b[32m'Node2'\u001b[0m,\u001b[1m)\u001b[0m,\n",
              "    \u001b[33mconfig\u001b[0m=\u001b[1m{\u001b[0m\n",
              "        \u001b[32m'configurable'\u001b[0m: \u001b[1m{\u001b[0m\n",
              "            \u001b[32m'thread_id'\u001b[0m: \u001b[32m'1'\u001b[0m,\n",
              "            \u001b[32m'checkpoint_ns'\u001b[0m: \u001b[32m''\u001b[0m,\n",
              "            \u001b[32m'checkpoint_id'\u001b[0m: \u001b[32m'1ef561dc-bc9c-6d50-8001-e9bee1517c9b'\u001b[0m\n",
              "        \u001b[1m}\u001b[0m\n",
              "    \u001b[1m}\u001b[0m,\n",
              "    \u001b[33mmetadata\u001b[0m=\u001b[1m{\u001b[0m\u001b[32m'source'\u001b[0m: \u001b[32m'loop'\u001b[0m, \u001b[32m'writes'\u001b[0m: \u001b[1m{\u001b[0m\u001b[32m'Node1'\u001b[0m: \u001b[1m{\u001b[0m\u001b[32m'lnode'\u001b[0m: \u001b[32m'node_1'\u001b[0m, \u001b[32m'count'\u001b[0m: \u001b[1;36m1\u001b[0m\u001b[1m}\u001b[0m\u001b[1m}\u001b[0m, \u001b[32m'step'\u001b[0m: \u001b[1;36m1\u001b[0m\u001b[1m}\u001b[0m,\n",
              "    \u001b[33mcreated_at\u001b[0m=\u001b[32m'2024-08-09T07:05:44.481474+00:00'\u001b[0m,\n",
              "    \u001b[33mparent_config\u001b[0m=\u001b[1m{\u001b[0m\n",
              "        \u001b[32m'configurable'\u001b[0m: \u001b[1m{\u001b[0m\n",
              "            \u001b[32m'thread_id'\u001b[0m: \u001b[32m'1'\u001b[0m,\n",
              "            \u001b[32m'checkpoint_ns'\u001b[0m: \u001b[32m''\u001b[0m,\n",
              "            \u001b[32m'checkpoint_id'\u001b[0m: \u001b[32m'1ef561dc-bc87-6d50-8000-05126d1312e2'\u001b[0m\n",
              "        \u001b[1m}\u001b[0m\n",
              "    \u001b[1m}\u001b[0m\n",
              "\u001b[1m)\u001b[0m\n"
            ],
            "text/html": [
              "<pre style=\"white-space:pre;overflow-x:auto;line-height:normal;font-family:Menlo,'DejaVu Sans Mono',consolas,'Courier New',monospace\"><span style=\"color: #800080; text-decoration-color: #800080; font-weight: bold\">StateSnapshot</span><span style=\"font-weight: bold\">(</span>\n",
              "    <span style=\"color: #808000; text-decoration-color: #808000\">values</span>=<span style=\"font-weight: bold\">{</span><span style=\"color: #008000; text-decoration-color: #008000\">'lnode'</span>: <span style=\"color: #008000; text-decoration-color: #008000\">'node_1'</span>, <span style=\"color: #008000; text-decoration-color: #008000\">'scratch'</span>: <span style=\"color: #008000; text-decoration-color: #008000\">'hi'</span>, <span style=\"color: #008000; text-decoration-color: #008000\">'count'</span>: <span style=\"color: #008080; text-decoration-color: #008080; font-weight: bold\">1</span><span style=\"font-weight: bold\">}</span>,\n",
              "    <span style=\"color: #808000; text-decoration-color: #808000\">next</span>=<span style=\"font-weight: bold\">(</span><span style=\"color: #008000; text-decoration-color: #008000\">'Node2'</span>,<span style=\"font-weight: bold\">)</span>,\n",
              "    <span style=\"color: #808000; text-decoration-color: #808000\">config</span>=<span style=\"font-weight: bold\">{</span>\n",
              "        <span style=\"color: #008000; text-decoration-color: #008000\">'configurable'</span>: <span style=\"font-weight: bold\">{</span>\n",
              "            <span style=\"color: #008000; text-decoration-color: #008000\">'thread_id'</span>: <span style=\"color: #008000; text-decoration-color: #008000\">'1'</span>,\n",
              "            <span style=\"color: #008000; text-decoration-color: #008000\">'checkpoint_ns'</span>: <span style=\"color: #008000; text-decoration-color: #008000\">''</span>,\n",
              "            <span style=\"color: #008000; text-decoration-color: #008000\">'checkpoint_id'</span>: <span style=\"color: #008000; text-decoration-color: #008000\">'1ef561dc-bc9c-6d50-8001-e9bee1517c9b'</span>\n",
              "        <span style=\"font-weight: bold\">}</span>\n",
              "    <span style=\"font-weight: bold\">}</span>,\n",
              "    <span style=\"color: #808000; text-decoration-color: #808000\">metadata</span>=<span style=\"font-weight: bold\">{</span><span style=\"color: #008000; text-decoration-color: #008000\">'source'</span>: <span style=\"color: #008000; text-decoration-color: #008000\">'loop'</span>, <span style=\"color: #008000; text-decoration-color: #008000\">'writes'</span>: <span style=\"font-weight: bold\">{</span><span style=\"color: #008000; text-decoration-color: #008000\">'Node1'</span>: <span style=\"font-weight: bold\">{</span><span style=\"color: #008000; text-decoration-color: #008000\">'lnode'</span>: <span style=\"color: #008000; text-decoration-color: #008000\">'node_1'</span>, <span style=\"color: #008000; text-decoration-color: #008000\">'count'</span>: <span style=\"color: #008080; text-decoration-color: #008080; font-weight: bold\">1</span><span style=\"font-weight: bold\">}}</span>, <span style=\"color: #008000; text-decoration-color: #008000\">'step'</span>: <span style=\"color: #008080; text-decoration-color: #008080; font-weight: bold\">1</span><span style=\"font-weight: bold\">}</span>,\n",
              "    <span style=\"color: #808000; text-decoration-color: #808000\">created_at</span>=<span style=\"color: #008000; text-decoration-color: #008000\">'2024-08-09T07:05:44.481474+00:00'</span>,\n",
              "    <span style=\"color: #808000; text-decoration-color: #808000\">parent_config</span>=<span style=\"font-weight: bold\">{</span>\n",
              "        <span style=\"color: #008000; text-decoration-color: #008000\">'configurable'</span>: <span style=\"font-weight: bold\">{</span>\n",
              "            <span style=\"color: #008000; text-decoration-color: #008000\">'thread_id'</span>: <span style=\"color: #008000; text-decoration-color: #008000\">'1'</span>,\n",
              "            <span style=\"color: #008000; text-decoration-color: #008000\">'checkpoint_ns'</span>: <span style=\"color: #008000; text-decoration-color: #008000\">''</span>,\n",
              "            <span style=\"color: #008000; text-decoration-color: #008000\">'checkpoint_id'</span>: <span style=\"color: #008000; text-decoration-color: #008000\">'1ef561dc-bc87-6d50-8000-05126d1312e2'</span>\n",
              "        <span style=\"font-weight: bold\">}</span>\n",
              "    <span style=\"font-weight: bold\">}</span>\n",
              "<span style=\"font-weight: bold\">)</span>\n",
              "</pre>\n"
            ]
          },
          "metadata": {}
        }
      ]
    },
    {
      "cell_type": "markdown",
      "source": [
        "將該狀態用於`invoke` 中以回到過去。\n",
        "\n",
        "請注意，它使用 `states[-3]` 作為 `current_state` 並繼續到 `node2`。"
      ],
      "metadata": {
        "id": "I6_0k65y946h"
      }
    },
    {
      "cell_type": "code",
      "source": [
        "graph.invoke(None, states[-3])"
      ],
      "metadata": {
        "colab": {
          "base_uri": "https://localhost:8080/"
        },
        "id": "PXWQVHof9XuG",
        "outputId": "ad79bb8f-dfcf-4788-871b-27d66e7a50de"
      },
      "execution_count": null,
      "outputs": [
        {
          "output_type": "stream",
          "name": "stdout",
          "text": [
            "node1, count:2\n",
            "node2, count:3\n"
          ]
        },
        {
          "output_type": "execute_result",
          "data": {
            "text/plain": [
              "{'lnode': 'node_2', 'scratch': 'hi', 'count': 4}"
            ]
          },
          "metadata": {},
          "execution_count": 18
        }
      ]
    },
    {
      "cell_type": "code",
      "source": [],
      "metadata": {
        "id": "ZYpYezkB9s8T"
      },
      "execution_count": null,
      "outputs": []
    }
  ]
}
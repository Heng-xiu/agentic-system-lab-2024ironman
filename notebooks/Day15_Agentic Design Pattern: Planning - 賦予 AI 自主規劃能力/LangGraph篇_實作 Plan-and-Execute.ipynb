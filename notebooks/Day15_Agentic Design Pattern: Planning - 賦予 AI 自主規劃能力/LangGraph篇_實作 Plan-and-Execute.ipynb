{
  "cells": [
    {
      "cell_type": "markdown",
      "id": "79b5811c-1074-495f-9722-8325b5e717d3",
      "metadata": {
        "id": "79b5811c-1074-495f-9722-8325b5e717d3"
      },
      "source": [
        "# 🥱 LangGraph篇_實作 Plan-and-execute-Agent\n",
        "\n",
        "在人工智能領域中，\"計劃與執行\"（Plan-and-Execute）代理是一種強大的工具，能夠通過先制定計劃，再執行子任務的方式來完成複雜目標。這種方法的靈感主要來源於 [BabyAGI](https://github.com/yoheinakajima/babyagi) 項目和 [\"Plan-and-Solve\"](https://arxiv.org/abs/2305.04091). 論文。\n",
        "\n",
        "本文將帶您深入了解這種智能代理的工作原理和實現方法。將採用 Agentic Framework LangGraph 實作。\n",
        "\n",
        "核心概念\n",
        "- 計劃階段：通常由大型語言模型（LLM）完成，負責制定整體策略和子任務。\n",
        "- 執行階段：由配備各種工具的獨立代理執行具體任務。\n",
        "\n",
        "❤️ Created by [hengshiousheu](https://huggingface.co/Heng666).\n"
      ]
    },
    {
      "cell_type": "markdown",
      "id": "a44a72d6-7e0c-4478-9d20-4c09000420a8",
      "metadata": {
        "id": "a44a72d6-7e0c-4478-9d20-4c09000420a8"
      },
      "source": [
        "# 環境建置\n",
        "\n",
        "## 安裝套件包\n",
        "\n",
        "在深入反思機制之前，我們需要先搭建實驗環境。\n",
        "這次會使用到 Tavily 搜尋作為工具提供 Agent 使用，可以到[此處](https://app.tavily.com/sign-in) 獲得該服務的 API Key，如果有自己偏好的搜尋服務也可以至換。\n",
        "\n",
        "以下是所需的套件安裝命令："
      ]
    },
    {
      "cell_type": "code",
      "execution_count": null,
      "id": "b451b58a-89bd-424f-8c06-0d9fe325e01b",
      "metadata": {
        "id": "b451b58a-89bd-424f-8c06-0d9fe325e01b"
      },
      "outputs": [],
      "source": [
        "%%capture --no-stderr\n",
        "%pip install --quiet -U langgraph langchain-community langchain-openai tavily-python"
      ]
    },
    {
      "cell_type": "markdown",
      "id": "35f267b0-98db-4a59-8b2c-a23f795576ff",
      "metadata": {
        "id": "35f267b0-98db-4a59-8b2c-a23f795576ff"
      },
      "source": [
        "我們需要設置 環境變數 OPENAI_API_KEY ，可以直接完成，如下所示："
      ]
    },
    {
      "cell_type": "code",
      "source": [
        "import os\n",
        "import getpass\n",
        "from google.colab import userdata\n",
        "\n",
        "os.environ[\"OPENAI_API_KEY\"] = userdata.get('OPENAI_API_KEY')\n",
        "os.environ[\"TAVILY_API_KEY\"] = userdata.get('TAVILY_API_KEY')"
      ],
      "metadata": {
        "id": "5d65A0sLn2FJ"
      },
      "id": "5d65A0sLn2FJ",
      "execution_count": null,
      "outputs": []
    },
    {
      "cell_type": "markdown",
      "source": [
        "> 📌 實用提示：確保所有環境變數都正確設置，這對於順利運行後續程式碼至關重要。"
      ],
      "metadata": {
        "id": "a7b0gjH-n4PS"
      },
      "id": "a7b0gjH-n4PS"
    },
    {
      "cell_type": "markdown",
      "id": "be2d7981-3737-4134-8bef-d00d18d4e91d",
      "metadata": {
        "id": "be2d7981-3737-4134-8bef-d00d18d4e91d"
      },
      "source": [
        "### (可用可不用)LangSmith\n",
        "\n",
        "你用LangChain構建的許多應用程式將包含多個步驟，並多次調用LLM調用。隨著這些應用程式變得越來越複雜，能夠檢查您的鏈或代理內部到底發生了什麼變得至關重要。最好的方法是與[LangSmith](https://smith.langchain.com)合作。\n",
        "\n",
        "請注意，LangSmith 不是必需的，但它很有説明。如果您確實想使用 LangSmith，請在上面的鏈接中註冊后，請確保設置環境變數以開始記錄跟蹤："
      ]
    },
    {
      "cell_type": "code",
      "source": [
        "import os\n",
        "import getpass\n",
        "from datetime import datetime\n",
        "import pytz\n",
        "\n",
        "current_time = datetime.now(pytz.timezone('Asia/Taipei')).strftime(\"%Y-%m-%d %Z\")\n",
        "\n",
        "os.environ[\"LANGCHAIN_TRACING_V2\"] = \"true\" ##想要使用記得改 true, 不要時改 false.\n",
        "os.environ[\"LANGCHAIN_ENDPOINT\"] = \"https://api.smith.langchain.com\"\n",
        "os.environ[\"LANGCHAIN_PROJECT\"] = f\"LangGraph 實作Plan-and-Executor-{current_time}\"\n",
        "os.environ[\"LANGCHAIN_API_KEY\"] = userdata.get('LANGCHAIN_API_KEY')"
      ],
      "metadata": {
        "id": "M-van6Hbn8mN"
      },
      "id": "M-van6Hbn8mN",
      "execution_count": null,
      "outputs": []
    },
    {
      "cell_type": "markdown",
      "id": "6c5fb09a-0311-44c2-b243-d0e80de78902",
      "metadata": {
        "id": "6c5fb09a-0311-44c2-b243-d0e80de78902"
      },
      "source": [
        "## 定義工具\n",
        "\n",
        "工具是代理執行任務的關鍵組件。在本例中，我們將使用Tavily提供的搜索工具，這使得代理能夠獲取最新的網絡信息。如果你想要嘗試自己建立工具的話，可以在此查看[文檔](https://python.langchain.com/v0.2/docs/how_to/custom_tools)"
      ]
    },
    {
      "cell_type": "code",
      "execution_count": null,
      "id": "25b9ec62-0675-4715-811c-9b32c635b22f",
      "metadata": {
        "id": "25b9ec62-0675-4715-811c-9b32c635b22f"
      },
      "outputs": [],
      "source": [
        "from langchain_community.tools.tavily_search import TavilySearchResults\n",
        "\n",
        "tools = [TavilySearchResults(max_results=3)]"
      ]
    },
    {
      "cell_type": "markdown",
      "id": "3dcda478-fa80-4e3e-bb35-0f622fe73a31",
      "metadata": {
        "id": "3dcda478-fa80-4e3e-bb35-0f622fe73a31"
      },
      "source": [
        "## 定義執行代理\n",
        "\n",
        "執行代理是負責實際執行計劃中各個步驟的組件。我們使用LangChain的ReAct代理框架來創建這個執行代理。"
      ]
    },
    {
      "cell_type": "code",
      "execution_count": null,
      "id": "72d233ca-1dbf-4b43-b680-b3bf39e3691f",
      "metadata": {
        "colab": {
          "base_uri": "https://localhost:8080/"
        },
        "id": "72d233ca-1dbf-4b43-b680-b3bf39e3691f",
        "outputId": "03ca25f2-9d3e-4cc0-e231-7c76ea20c2b7"
      },
      "outputs": [
        {
          "output_type": "stream",
          "name": "stdout",
          "text": [
            "================================\u001b[1m System Message \u001b[0m================================\n",
            "\n",
            "You are a helpful assistant.\n",
            "\n",
            "=============================\u001b[1m Messages Placeholder \u001b[0m=============================\n",
            "\n",
            "\u001b[33;1m\u001b[1;3m{{messages}}\u001b[0m\n"
          ]
        },
        {
          "output_type": "stream",
          "name": "stderr",
          "text": [
            "/usr/local/lib/python3.10/dist-packages/langchain_core/_api/beta_decorator.py:87: LangChainBetaWarning: The function `loads` is in beta. It is actively being worked on, so the API may change.\n",
            "  warn_beta(\n",
            "<ipython-input-6-c3f36cf11732>:12: LangGraphDeprecationWarning: Parameter 'messages_modifier' in function 'create_react_agent' is deprecated as of version 0.1.9 and will be removed in version 0.3.0. Use 'state_modifier' parameter instead.\n",
            "  agent_executor = create_react_agent(llm, tools, messages_modifier=prompt)\n"
          ]
        }
      ],
      "source": [
        "from langchain import hub\n",
        "from langchain_openai import ChatOpenAI\n",
        "\n",
        "from langgraph.prebuilt import create_react_agent\n",
        "\n",
        "# 獲取提示（可以根據需要修改）\n",
        "prompt = hub.pull(\"wfh/react-agent-executor\")\n",
        "prompt.pretty_print()\n",
        "\n",
        "# 選擇驅動代理的語言模型\n",
        "llm = ChatOpenAI(model=\"gpt-4-turbo-preview\")\n",
        "agent_executor = create_react_agent(llm, tools, messages_modifier=prompt)"
      ]
    },
    {
      "cell_type": "code",
      "execution_count": null,
      "id": "746e697a-dec4-4342-a814-9b3456828169",
      "metadata": {
        "colab": {
          "base_uri": "https://localhost:8080/"
        },
        "id": "746e697a-dec4-4342-a814-9b3456828169",
        "outputId": "40397d32-1818-4304-f512-3c95ad535e0e"
      },
      "outputs": [
        {
          "output_type": "execute_result",
          "data": {
            "text/plain": [
              "{'messages': [HumanMessage(content='2024 奧運男子組羽毛球雙打冠軍是誰？', id='efb6eae0-34bb-49d7-9d9c-630dbf584dd8'),\n",
              "  AIMessage(content='', additional_kwargs={'tool_calls': [{'id': 'call_ZI8wRd5DPA8z0SHAMnlsWXhK', 'function': {'arguments': '{\"query\":\"2024 奧運男子組羽毛球雙打冠軍\"}', 'name': 'tavily_search_results_json'}, 'type': 'function'}], 'refusal': None}, response_metadata={'token_usage': {'completion_tokens': 41, 'prompt_tokens': 115, 'total_tokens': 156}, 'model_name': 'gpt-4-0125-preview', 'system_fingerprint': None, 'finish_reason': 'tool_calls', 'logprobs': None}, id='run-09987f38-cc0a-4fc6-905c-7a57262d621b-0', tool_calls=[{'name': 'tavily_search_results_json', 'args': {'query': '2024 奧運男子組羽毛球雙打冠軍'}, 'id': 'call_ZI8wRd5DPA8z0SHAMnlsWXhK', 'type': 'tool_call'}], usage_metadata={'input_tokens': 115, 'output_tokens': 41, 'total_tokens': 156}),\n",
              "  ToolMessage(content='[{\"url\": \"https://www.vogue.com.tw/entertainment/article/tokyo-olympics-mens-doubles-we-win-gold-medal\", \"content\": \"\\\\u30102024\\\\u5df4\\\\u9ece\\\\u5967\\\\u904b\\\\u3011\\\\u674e\\\\u6d0b\\\\u3001\\\\u738b\\\\u9f4a\\\\u9e9f\\\\u7fbd\\\\u7403\\\\u7537\\\\u96d92\\\\u596a\\\\u91d1\\\\u724c! ... \\\\u606d\\\\u559c\\\\u9e9f\\\\u6d0b\\\\u914d\\\\uff0c\\\\u76f8\\\\u9694\\\\u4e09\\\\u5e74\\\\u518d\\\\u5ea6\\\\u596a\\\\u4e0b\\\\u5967\\\\u904b\\\\u7537\\\\u5b50\\\\u7fbd\\\\u7403\\\\u96d9\\\\u6253\\\\u91d1\\\\u724c\\\\uff0c\\\\u5237\\\\u65b0\\\\u6b64\\\\u8cfd\\\\u9805\\\\u7d00\\\\u9304\\\\uff0c\\\\u6210\\\\u70ba\\\\u53f2\\\\u4e0a\\\\u7b2c\\\\u4e00\\\\u7d44\\\\u885b\\\\u5195\\\\u91d1\\\\u724c\\\\u7684\\\\u7537\\\\u96d9\\\\u7d44\\\\u5408! ... \\\\u72c2\\\\u8cc0\\\\u300c\\\\u9e9f\\\\u6d0b\\\\u914d\\\\u300d\\\\u5967\\\\u904b\\\\u91d1\\\\u724c\\\\u4e8c\\\\u9023\\\\u9738!\\\\u6700\\\\u5f37\\\\u7fbd\\\\u7403\\\\u96d9\\\\u4eba\\\\u7d44\\\\u738b\\\\u9f4a\\\\u9e9f\\\\u3001\\\\u674e\\\\u6d0b\\\\u9ed8\\\\u5951\\\\u5927\\\\u8003\\\\u9a57!\\\\u5834\\\\u4e0a\\\\u4e00\\\\u62cd\\\\u5373\\\\u5408 ...\"}, {\"url\": \"https://zh.wikipedia.org/wiki/2024\\\\u5e74\\\\u590f\\\\u5b63\\\\u5967\\\\u6797\\\\u5339\\\\u514b\\\\u904b\\\\u52d5\\\\u6703\\\\u7fbd\\\\u6bdb\\\\u7403\\\\u7537\\\\u5b50\\\\u96d9\\\\u6253\\\\u6bd4\\\\u8cfd\", \"content\": \"\\\\u67e5. \\\\u8bba. \\\\u7f16. 2024\\\\u5e74\\\\u590f\\\\u5b63\\\\u5967\\\\u6797\\\\u5339\\\\u514b\\\\u904b\\\\u52d5\\\\u6703\\\\u7fbd\\\\u6bdb\\\\u7403\\\\u6bd4\\\\u8cfd \\\\u70ba \\\\u7b2c33\\\\u5c46\\\\u590f\\\\u5b63\\\\u5967\\\\u6797\\\\u5339\\\\u514b\\\\u904b\\\\u52d5\\\\u6703 \\\\u7684\\\\u5176\\\\u4e2d\\\\u4e00\\\\u9805\\\\u7af6\\\\u8cfd\\\\u9805\\\\u76ee\\\\uff0c\\\\u5171\\\\u7522\\\\u751f\\\\u4e94\\\\u9762\\\\u91d1\\\\u724c\\\\uff1b\\\\u8cfd\\\\u4e8b\\\\u65bc2024\\\\u5e747\\\\u670827\\\\u65e5\\\\u81f38\\\\u67085\\\\u65e5\\\\u5728 \\\\u6cd5\\\\u570b \\\\u5df4\\\\u9ece \\\\u7684 \\\\u62c9\\\\u6c99\\\\u4f69\\\\u52d2\\\\u9580\\\\u9ad4\\\\u80b2\\\\u9928 \\\\u8209\\\\u884c [ 1] \\\\u3002. \\\\u672c\\\\u689d\\\\u76ee\\\\u70ba\\\\u7537\\\\u5b50\\\\u96d9\\\\u6253\\\\u9805\\\\u76ee\\\\u7684\\\\u6bd4\\\\u8cfd\\\\u7d50\\\\u679c\\\\u3002.\"}, {\"url\": \"https://zh.wikipedia.org/zh-tw/2024\\\\u5e74\\\\u590f\\\\u5b63\\\\u5967\\\\u6797\\\\u5339\\\\u514b\\\\u904b\\\\u52d5\\\\u6703\\\\u7fbd\\\\u6bdb\\\\u7403\\\\u7537\\\\u5b50\\\\u96d9\\\\u6253\\\\u6bd4\\\\u8cfd\", \"content\": \"\\\\u6839\\\\u64da\\\\u4e16\\\\u754c\\\\u7fbd\\\\u806f\\\\u65bc2024\\\\u5e744\\\\u670830\\\\u65e5\\\\u516c\\\\u4f48\\\\u7684\\\\u5967\\\\u904b\\\\u7a4d\\\\u5206\\\\u6392\\\\u540d\\\\uff0c\\\\u7b26\\\\u5408\\\\u53c3\\\\u8cfd\\\\u8cc7\\\\u683c\\\\u7684\\\\u540d\\\\u55ae\\\\u5982\\\\u4e0b [2] \\\\uff1a . \\\\u4e16\\\\u754c\\\\u7fbd\\\\u7403\\\\u806f\\\\u76df\\\\u5728\\\\u5967\\\\u904b\\\\u7a4d\\\\u5206\\\\u8cfd\\\\u671f\\\\u9593\\\\u66fe\\\\u932f\\\\u8aa4\\\\u8a08\\\\u7b97\\\\u7537\\\\u5b50\\\\u96d9\\\\u6253\\\\u5404\\\\u7d44\\\\u5408\\\\u7684\\\\u5967\\\\u904b\\\\u7a4d\\\\u5206\\\\uff0c\\\\u76f4\\\\u5230\\\\u5967\\\\u904b\\\\u7a4d\\\\u5206\\\\u622a\\\\u6b62\\\\u524d\\\\u5915\\\\u624d\\\\u4fee\\\\u6b63\\\\uff0c\\\\u6839\\\\u64da\\\\u4fee\\\\u6b63\\\\u5f8c\\\\u7684\\\\u5967\\\\u904b\\\\u6392\\\\u540d\\\\uff0c\\\\u514b\\\\u91cc\\\\u65af\\\\u6258\\\\u548c\\\\u5c0f\\\\u6258\\\\u99ac\\\\u00b7\\\\u6ce2\\\\u6ce2\\\\u592b\\\\u5144\\\\u5f1f\\\\u4ee529\\\\u500b\\\\u7a4d\\\\u5206\\\\u7684\\\\u512a\\\\u52e2\\\\uff0c\\\\u53d6\\\\u4ee3\\\\u7f85\\\\u5357\\\\u00b7\\\\u62c9\\\\u5df4\\\\u723e\\\\u548c\\\\u76e7\\\\u5361\\\\u65af\\\\u00b7\\\\u79d1\\\\u7dad ...\"}]', name='tavily_search_results_json', id='18f30c2c-7611-4b96-bfc0-69605f685425', tool_call_id='call_ZI8wRd5DPA8z0SHAMnlsWXhK', artifact={'query': '2024 奧運男子組羽毛球雙打冠軍', 'follow_up_questions': None, 'answer': None, 'images': [], 'results': [{'title': '【2024巴黎奧運】李洋、王齊麟羽球男雙2奪金牌!打贏中國選手、刷新奧運歷史成功衛冕 | Vogue Taiwan', 'url': 'https://www.vogue.com.tw/entertainment/article/tokyo-olympics-mens-doubles-we-win-gold-medal', 'content': '【2024巴黎奧運】李洋、王齊麟羽球男雙2奪金牌! ... 恭喜麟洋配，相隔三年再度奪下奧運男子羽球雙打金牌，刷新此賽項紀錄，成為史上第一組衛冕金牌的男雙組合! ... 狂賀「麟洋配」奧運金牌二連霸!最強羽球雙人組王齊麟、李洋默契大考驗!場上一拍即合 ...', 'score': 0.99908537, 'raw_content': None}, {'title': '2024年夏季奧林匹克運動會羽毛球男子雙打比賽 - 维基百科，自由的百科全书', 'url': 'https://zh.wikipedia.org/wiki/2024年夏季奧林匹克運動會羽毛球男子雙打比賽', 'content': '查. 论. 编. 2024年夏季奧林匹克運動會羽毛球比賽 為 第33屆夏季奧林匹克運動會 的其中一項競賽項目，共產生五面金牌；賽事於2024年7月27日至8月5日在 法國 巴黎 的 拉沙佩勒門體育館 舉行 [ 1] 。. 本條目為男子雙打項目的比賽結果。.', 'score': 0.9984146, 'raw_content': None}, {'title': '2024年夏季奧林匹克運動會羽球男子雙打比賽 - 維基百科，自由的百科全書', 'url': 'https://zh.wikipedia.org/zh-tw/2024年夏季奧林匹克運動會羽毛球男子雙打比賽', 'content': '根據世界羽聯於2024年4月30日公佈的奧運積分排名，符合參賽資格的名單如下 [2] ： . 世界羽球聯盟在奧運積分賽期間曾錯誤計算男子雙打各組合的奧運積分，直到奧運積分截止前夕才修正，根據修正後的奧運排名，克里斯托和小托馬·波波夫兄弟以29個積分的優勢，取代羅南·拉巴爾和盧卡斯·科維 ...', 'score': 0.99729556, 'raw_content': None}], 'response_time': 2.29}),\n",
              "  AIMessage(content='2024年奧運男子組羽毛球雙打冠軍是王齊麟和李洋。恭喜他們連續三年奪下奧運男子羽毛球雙打金牌，刷新此項目紀錄，成為史上第一組衛冕金牌的男雙組合。', additional_kwargs={'refusal': None}, response_metadata={'token_usage': {'completion_tokens': 110, 'prompt_tokens': 1547, 'total_tokens': 1657}, 'model_name': 'gpt-4-0125-preview', 'system_fingerprint': None, 'finish_reason': 'stop', 'logprobs': None}, id='run-24edf20d-1794-42f6-b30b-b81fb22832af-0', usage_metadata={'input_tokens': 1547, 'output_tokens': 110, 'total_tokens': 1657})]}"
            ]
          },
          "metadata": {},
          "execution_count": 9
        }
      ],
      "source": [
        "#測試執行代理\n",
        "agent_executor.invoke({\"messages\": [(\"user\", \"2024 奧運男子組羽毛球雙打冠軍是誰？\")]})"
      ]
    },
    {
      "cell_type": "markdown",
      "source": [
        "目前資訊還亂糟糟的，至少確認該邏輯可以運作，而且 Search 可以執行，讓我們繼續往下。"
      ],
      "metadata": {
        "id": "ph1oBPJjpfCe"
      },
      "id": "ph1oBPJjpfCe"
    },
    {
      "cell_type": "markdown",
      "id": "5cf66804-44b2-4904-b1a7-17ad70b551f5",
      "metadata": {
        "id": "5cf66804-44b2-4904-b1a7-17ad70b551f5"
      },
      "source": [
        "## 定義狀態\n",
        "\n",
        "為了有效地管理代理的執行過程，我們需要定義一個清晰的狀態結構。這個結構將包含以下關鍵信息：\n",
        "1. input: str\n",
        "- 這個字段用來存儲原始的用戶輸入。\n",
        "- 它允許代理在整個執行過程中參考原始任務。\n",
        "\n",
        "2. plan: List[str]\n",
        "- 這個列表用來存儲當前的計劃。\n",
        "- 每個字符串代表計劃中的一個步驟。\n",
        "\n",
        "3. past_steps: Annotated[List[Tuple[str, str]], operator.add]\n",
        "\n",
        "- 這個列表用來追踹已執行的步驟。\n",
        "- 每個元組包含兩個元素：\n",
        " - 第一個元素是執行的步驟（字符串）\n",
        " - 第二個元素是該步驟的執行結果（字符串）\n",
        "- 使用 Annotated 和 operator.add 表示這個列表可以通過加法操作進行更新。\n",
        "\n",
        "4. response: str\n",
        "- 這個字段用來存儲最終的回應。\n",
        "- 當代理完成所有任務後，最終的答案將存儲在這裡。"
      ]
    },
    {
      "cell_type": "code",
      "execution_count": null,
      "id": "8eeeaeea-8f10-4fbe-8e24-4e1a2381a009",
      "metadata": {
        "id": "8eeeaeea-8f10-4fbe-8e24-4e1a2381a009"
      },
      "outputs": [],
      "source": [
        "import operator\n",
        "from typing import Annotated, List, Tuple, TypedDict\n",
        "\n",
        "class PlanExecute(TypedDict):\n",
        "    input: str  # 原始輸入\n",
        "    plan: List[str]  # 當前計劃\n",
        "    past_steps: Annotated[List[Tuple], operator.add]  # 已執行的步驟\n",
        "    response: str  # 最終響應"
      ]
    },
    {
      "cell_type": "markdown",
      "source": [
        "這個結構允許我們追踪整個執行過程，包括初始輸入、當前計劃、已完成的步驟以及最終的響應。"
      ],
      "metadata": {
        "id": "vjxwzxWjqDGo"
      },
      "id": "vjxwzxWjqDGo"
    },
    {
      "cell_type": "markdown",
      "id": "1dbd770a-9941-40a9-977e-4d55359eee21",
      "metadata": {
        "id": "1dbd770a-9941-40a9-977e-4d55359eee21"
      },
      "source": [
        "## 規劃步驟\n",
        "\n",
        "規劃是整個過程的核心。它負責生成初始計劃。我們將使用 OpenAI 的語言模型來生成這個計劃。"
      ]
    },
    {
      "cell_type": "code",
      "execution_count": null,
      "id": "4a88626d-6dfd-4488-87f0-a9a0dd6da44c",
      "metadata": {
        "id": "4a88626d-6dfd-4488-87f0-a9a0dd6da44c"
      },
      "outputs": [],
      "source": [
        "from langchain_core.pydantic_v1 import BaseModel, Field\n",
        "\n",
        "\n",
        "class Plan(BaseModel):\n",
        "    \"\"\"Plan to follow in future\"\"\"\n",
        "\n",
        "    steps: List[str] = Field(\n",
        "        description=\"different steps to follow, should be in sorted order\"\n",
        "    )"
      ]
    },
    {
      "cell_type": "code",
      "execution_count": null,
      "id": "ec7b1867-1ea3-4df3-9a98-992a1c32ec49",
      "metadata": {
        "id": "ec7b1867-1ea3-4df3-9a98-992a1c32ec49"
      },
      "outputs": [],
      "source": [
        "from langchain_core.prompts import ChatPromptTemplate\n",
        "\n",
        "planner_prompt = ChatPromptTemplate.from_messages(\n",
        "    [\n",
        "        (\n",
        "            \"system\",\n",
        "            \"\"\"For the given objective, come up with a simple step by step plan. \\\n",
        "This plan should involve individual tasks, that if executed correctly will yield the correct answer. Do not add any superfluous steps. \\\n",
        "The result of the final step should be the final answer. Make sure that each step has all the information needed - do not skip steps.\"\"\",\n",
        "        ),\n",
        "        (\"placeholder\", \"{messages}\"),\n",
        "    ]\n",
        ")\n",
        "planner = planner_prompt | ChatOpenAI(\n",
        "    model=\"gpt-4o\", temperature=0\n",
        ").with_structured_output(Plan)"
      ]
    },
    {
      "cell_type": "code",
      "execution_count": null,
      "id": "67ce37b7-e089-479b-bcb8-c3f5d9874613",
      "metadata": {
        "colab": {
          "base_uri": "https://localhost:8080/"
        },
        "id": "67ce37b7-e089-479b-bcb8-c3f5d9874613",
        "outputId": "8d82311e-1e5f-4c1e-f0b9-7a1ab2badc3a"
      },
      "outputs": [
        {
          "output_type": "execute_result",
          "data": {
            "text/plain": [
              "Plan(steps=['查找2024年奧運會羽毛球男子雙打比賽的結果', '確定冠軍隊伍的成員', '提供冠軍隊伍成員的名字'])"
            ]
          },
          "metadata": {},
          "execution_count": 13
        }
      ],
      "source": [
        "planner.invoke(\n",
        "    {\n",
        "        \"messages\": [\n",
        "            (\"user\", \"2024 奧運男子組羽毛球雙打冠軍是誰?\")\n",
        "        ]\n",
        "    }\n",
        ")"
      ]
    },
    {
      "cell_type": "markdown",
      "source": [
        "這個規劃器會根據輸入生成一個結構化的計劃。使用 temperature=0 可以確保輸出的一致性。"
      ],
      "metadata": {
        "id": "ppew4VU0qVjX"
      },
      "id": "ppew4VU0qVjX"
    },
    {
      "cell_type": "markdown",
      "id": "6e09ad9d-6f90-4bdc-bb43-b1ce94517c29",
      "metadata": {
        "id": "6e09ad9d-6f90-4bdc-bb43-b1ce94517c29"
      },
      "source": [
        "## 重新規劃步驟\n",
        "\n",
        "重新規劃步驟允許代理根據已執行的步驟和新獲得的信息來調整計劃。\n"
      ]
    },
    {
      "cell_type": "code",
      "execution_count": null,
      "id": "ec2d12cc-016a-44d1-aa08-4c5ce1e8fe2a",
      "metadata": {
        "id": "ec2d12cc-016a-44d1-aa08-4c5ce1e8fe2a"
      },
      "outputs": [],
      "source": [
        "from typing import Union\n",
        "\n",
        "\n",
        "class Response(BaseModel):\n",
        "    \"\"\"Response to user.\"\"\"\n",
        "\n",
        "    response: str\n",
        "\n",
        "\n",
        "class Act(BaseModel):\n",
        "    \"\"\"Action to perform.\"\"\"\n",
        "\n",
        "    action: Union[Response, Plan] = Field(\n",
        "        description=\"Action to perform. If you want to respond to user, use Response. \"\n",
        "        \"If you need to further use tools to get the answer, use Plan.\"\n",
        "    )\n",
        "\n",
        "\n",
        "replanner_prompt = ChatPromptTemplate.from_template(\n",
        "    \"\"\"For the given objective, come up with a simple step by step plan. \\\n",
        "This plan should involve individual tasks, that if executed correctly will yield the correct answer. Do not add any superfluous steps. \\\n",
        "The result of the final step should be the final answer. Make sure that each step has all the information needed - do not skip steps.\n",
        "\n",
        "Your objective was this:\n",
        "{input}\n",
        "\n",
        "Your original plan was this:\n",
        "{plan}\n",
        "\n",
        "You have currently done the follow steps:\n",
        "{past_steps}\n",
        "\n",
        "Update your plan accordingly. If no more steps are needed and you can return to the user, then respond with that. Otherwise, fill out the plan. Only add steps to the plan that still NEED to be done. Do not return previously done steps as part of the plan.\"\"\"\n",
        ")\n",
        "\n",
        "\n",
        "replanner = replanner_prompt | ChatOpenAI(\n",
        "    model=\"gpt-4o\", temperature=0\n",
        ").with_structured_output(Act)"
      ]
    },
    {
      "cell_type": "markdown",
      "source": [
        "這個重新規劃器會根據當前的執行狀態來決定是繼續執行還是提供最終回應。\n"
      ],
      "metadata": {
        "id": "c_X-mpi5qsz3"
      },
      "id": "c_X-mpi5qsz3"
    },
    {
      "cell_type": "markdown",
      "id": "859abd13-6ba0-45ad-b341-e652dd5f755b",
      "metadata": {
        "id": "859abd13-6ba0-45ad-b341-e652dd5f755b"
      },
      "source": [
        "## 創建工作流程圖\n",
        "\n",
        "現在，讓我們使用 LangGraph 來創建完整的工作流程圖：\n"
      ]
    },
    {
      "cell_type": "markdown",
      "source": [
        "### 定義節點函數"
      ],
      "metadata": {
        "id": "fa6Y0BgBqy2e"
      },
      "id": "fa6Y0BgBqy2e"
    },
    {
      "cell_type": "code",
      "execution_count": null,
      "id": "6c8e0dad-bcea-4c9a-8922-0d820892e2d0",
      "metadata": {
        "id": "6c8e0dad-bcea-4c9a-8922-0d820892e2d0"
      },
      "outputs": [],
      "source": [
        "from typing import Literal\n",
        "\n",
        "\n",
        "async def execute_step(state: PlanExecute):\n",
        "    plan = state[\"plan\"]\n",
        "    plan_str = \"\\n\".join(f\"{i+1}. {step}\" for i, step in enumerate(plan))\n",
        "    task = plan[0]\n",
        "    task_formatted = f\"\"\"For the following plan:\n",
        "{plan_str}\\n\\nYou are tasked with executing step {1}, {task}.\"\"\"\n",
        "    agent_response = await agent_executor.ainvoke(\n",
        "        {\"messages\": [(\"user\", task_formatted)]}\n",
        "    )\n",
        "    # make past_steps as list and append task, agent_response[\"messages\"][-1].content)\n",
        "    past_steps_list = []\n",
        "    past_steps_list.append(task)\n",
        "    past_steps_list.append(agent_response[\"messages\"][-1].content)\n",
        "    return {\n",
        "        \"past_steps\": past_steps_list,\n",
        "    }\n",
        "\n",
        "\n",
        "async def plan_step(state: PlanExecute):\n",
        "    plan = await planner.ainvoke({\"messages\": [(\"user\", state[\"input\"])]})\n",
        "    return {\"plan\": plan.steps}\n",
        "\n",
        "\n",
        "async def replan_step(state: PlanExecute):\n",
        "    output = await replanner.ainvoke(state)\n",
        "    if isinstance(output.action, Response):\n",
        "        return {\"response\": output.action.response}\n",
        "    else:\n",
        "        return {\"plan\": output.action.steps}\n",
        "\n",
        "\n",
        "def should_end(state: PlanExecute) -> Literal[\"agent\", \"__end__\"]:\n",
        "    if \"response\" in state and state[\"response\"]:\n",
        "        return \"__end__\"\n",
        "    else:\n",
        "        return \"agent\""
      ]
    },
    {
      "cell_type": "markdown",
      "source": [
        "### 編譯整張圖"
      ],
      "metadata": {
        "id": "10vLi5tWq1gz"
      },
      "id": "10vLi5tWq1gz"
    },
    {
      "cell_type": "code",
      "execution_count": null,
      "id": "e954cea0-5ccc-46c2-a27b-f5b7185b597d",
      "metadata": {
        "id": "e954cea0-5ccc-46c2-a27b-f5b7185b597d"
      },
      "outputs": [],
      "source": [
        "from langgraph.graph import StateGraph, START\n",
        "\n",
        "workflow = StateGraph(PlanExecute)\n",
        "\n",
        "# Add the plan node\n",
        "workflow.add_node(\"planner\", plan_step)\n",
        "\n",
        "# Add the execution step\n",
        "workflow.add_node(\"agent\", execute_step)\n",
        "\n",
        "# Add a replan node\n",
        "workflow.add_node(\"replan\", replan_step)\n",
        "\n",
        "workflow.add_edge(START, \"planner\")\n",
        "\n",
        "# From plan we go to agent\n",
        "workflow.add_edge(\"planner\", \"agent\")\n",
        "\n",
        "# From agent, we replan\n",
        "workflow.add_edge(\"agent\", \"replan\")\n",
        "\n",
        "workflow.add_conditional_edges(\n",
        "    \"replan\",\n",
        "    # Next, we pass in the function that will determine which node is called next.\n",
        "    should_end,\n",
        ")\n",
        "\n",
        "# Finally, we compile it!\n",
        "# This compiles it into a LangChain Runnable,\n",
        "# meaning you can use it as you would any other runnable\n",
        "app = workflow.compile()"
      ]
    },
    {
      "cell_type": "markdown",
      "source": [
        "這個工作流程圖定義了代理的整體行為：從規劃開始，然後執行任務，之後重新評估並決定是繼續執行還是結束。"
      ],
      "metadata": {
        "id": "85k5_3Gbq88x"
      },
      "id": "85k5_3Gbq88x"
    },
    {
      "cell_type": "markdown",
      "source": [
        "#### 視覺化整張圖"
      ],
      "metadata": {
        "id": "VE9JaXopq4Dq"
      },
      "id": "VE9JaXopq4Dq"
    },
    {
      "cell_type": "code",
      "execution_count": null,
      "id": "7363e528",
      "metadata": {
        "colab": {
          "base_uri": "https://localhost:8080/",
          "height": 404
        },
        "id": "7363e528",
        "outputId": "e773a65c-0ae6-4849-fd0f-3d490a0dbc9c"
      },
      "outputs": [
        {
          "output_type": "display_data",
          "data": {
            "image/jpeg": "[encoded data removed]",
            "text/plain": [
              "<IPython.core.display.Image object>"
            ]
          },
          "metadata": {}
        }
      ],
      "source": [
        "from IPython.display import Image, display\n",
        "\n",
        "display(Image(app.get_graph(xray=True).draw_mermaid_png()))"
      ]
    },
    {
      "cell_type": "markdown",
      "source": [
        "### 執行範例\n",
        "最後，讓我們運行一個範例來測試我們的\"Plan-and-Execute\" Agent："
      ],
      "metadata": {
        "id": "H4E9fir0rI9Y"
      },
      "id": "H4E9fir0rI9Y"
    },
    {
      "cell_type": "code",
      "execution_count": null,
      "id": "b8ac1f67-e87a-427c-b4f7-44351295b788",
      "metadata": {
        "colab": {
          "base_uri": "https://localhost:8080/"
        },
        "id": "b8ac1f67-e87a-427c-b4f7-44351295b788",
        "outputId": "1fd156b3-3acf-4669-dae7-52439a277233"
      },
      "outputs": [
        {
          "output_type": "stream",
          "name": "stdout",
          "text": [
            "{'plan': ['查找2024年奧運會羽毛球男子雙打比賽的結果。', '確定冠軍隊伍的名字。', '返回冠軍隊伍的名字。']}\n",
            "{'past_steps': ['查找2024年奧運會羽毛球男子雙打比賽的結果。', '2024年奥运会羽毛球男子双打比赛的结果是，来自Chinese Taipei的组合李洋/王齐麟以2-1的比分战胜了中国组合梁维铿/王昶，夺得了冠军。']}\n",
            "{'response': '2024年奧運男子組羽毛球雙打冠軍是來自Chinese Taipei的組合李洋/王齊麟。'}\n"
          ]
        }
      ],
      "source": [
        "import rich\n",
        "config = {\"recursion_limit\": 50}\n",
        "inputs = {\"input\": \"2024 奧運男子組羽毛球雙打冠軍是誰?\"}\n",
        "async for event in app.astream(inputs, config=config):\n",
        "    for k, v in event.items():\n",
        "        if k != \"__end__\":\n",
        "            print(v)\n",
        "        if k == \"response\":\n",
        "            rich.print(\"Agent says: \", v)"
      ]
    },
    {
      "cell_type": "markdown",
      "source": [
        "> 溫腥提示：我無法確定當前的你需要執行幾次才可以達到想要的答案，該方法很大一塊邏輯是在 Planner 身上。"
      ],
      "metadata": {
        "id": "0jzC2356sd_s"
      },
      "id": "0jzC2356sd_s"
    },
    {
      "cell_type": "markdown",
      "id": "8bf585a9-0f1e-4910-bd00-65e7bb05b6e6",
      "metadata": {
        "id": "8bf585a9-0f1e-4910-bd00-65e7bb05b6e6"
      },
      "source": [
        "## 結論\n",
        "\n",
        "恭喜您成功打造了一個計劃與執行代理！然而，當前設計仍存在一些值得優化的空間。最顯著的限制在於其任務執行模式：目前，所有操作都是按照嚴格的順序進行的。這意味著即使是那些本可以同時進行的任務，也被強制納入了總執行時間的計算中，這無疑是一種效率上的損失。\n",
        "\n",
        "為了突破這一瓶頸，我們建議採用更先進的任務表示方法。具體而言，您可以考慮將每個任務構建為有向無環圖（DAG）的形式，而不是簡單的線性列表。這種方法與LLMCompiler的核心理念不謀而合，它能夠有效地識別和利用任務間的並行潛力。"
      ]
    },
    {
      "cell_type": "code",
      "execution_count": null,
      "id": "ad8f7955-2cc9-4ebb-8c41-13abb3351a24",
      "metadata": {
        "id": "ad8f7955-2cc9-4ebb-8c41-13abb3351a24"
      },
      "outputs": [],
      "source": []
    }
  ],
  "metadata": {
    "kernelspec": {
      "display_name": "Python 3 (ipykernel)",
      "language": "python",
      "name": "python3"
    },
    "language_info": {
      "codemirror_mode": {
        "name": "ipython",
        "version": 3
      },
      "file_extension": ".py",
      "mimetype": "text/x-python",
      "name": "python",
      "nbconvert_exporter": "python",
      "pygments_lexer": "ipython3",
      "version": "3.11.2"
    },
    "colab": {
      "provenance": []
    }
  },
  "nbformat": 4,
  "nbformat_minor": 5
}
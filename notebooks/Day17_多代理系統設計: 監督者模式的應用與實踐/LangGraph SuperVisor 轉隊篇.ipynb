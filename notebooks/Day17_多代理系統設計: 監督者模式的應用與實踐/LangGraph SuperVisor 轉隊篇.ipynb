{
  "nbformat": 4,
  "nbformat_minor": 0,
  "metadata": {
    "colab": {
      "provenance": [],
      "collapsed_sections": [
        "qK1n1r2h8OAN"
      ]
    },
    "kernelspec": {
      "name": "python3",
      "display_name": "Python 3"
    },
    "language_info": {
      "name": "python"
    }
  },
  "cells": [
    {
      "cell_type": "markdown",
      "source": [
        "# 🥱 LangGraph_SuperVisor_啦啦隊轉隊篇\n",
        "\n",
        "❤️ Created by [hengshiousheu](https://huggingface.co/Heng666)."
      ],
      "metadata": {
        "id": "eVUQVsDl8FCb"
      }
    },
    {
      "cell_type": "markdown",
      "source": [
        "# 環境建置\n",
        "\n",
        "## 安裝套件包\n",
        "\n",
        "在本演練中，\n",
        "\n",
        "我們將使用以下套件："
      ],
      "metadata": {
        "id": "S09E2J4C8H6x"
      }
    },
    {
      "cell_type": "code",
      "execution_count": null,
      "metadata": {
        "colab": {
          "base_uri": "https://localhost:8080/"
        },
        "id": "VmXpq6WE7-kW",
        "outputId": "ce756ccf-b342-41ea-c7b5-557c98fd384f"
      },
      "outputs": [
        {
          "output_type": "stream",
          "name": "stdout",
          "text": [
            "\u001b[2K     \u001b[90m━━━━━━━━━━━━━━━━━━━━━━━━━━━━━━━━━━━━━━━━\u001b[0m \u001b[32m50.4/50.4 kB\u001b[0m \u001b[31m598.4 kB/s\u001b[0m eta \u001b[36m0:00:00\u001b[0m\n",
            "\u001b[2K   \u001b[90m━━━━━━━━━━━━━━━━━━━━━━━━━━━━━━━━━━━━━━━━\u001b[0m \u001b[32m997.8/997.8 kB\u001b[0m \u001b[31m7.3 MB/s\u001b[0m eta \u001b[36m0:00:00\u001b[0m\n",
            "\u001b[2K   \u001b[90m━━━━━━━━━━━━━━━━━━━━━━━━━━━━━━━━━━━━━━━━\u001b[0m \u001b[32m393.9/393.9 kB\u001b[0m \u001b[31m18.9 MB/s\u001b[0m eta \u001b[36m0:00:00\u001b[0m\n",
            "\u001b[2K   \u001b[90m━━━━━━━━━━━━━━━━━━━━━━━━━━━━━━━━━━━━━━━━\u001b[0m \u001b[32m148.9/148.9 kB\u001b[0m \u001b[31m8.8 MB/s\u001b[0m eta \u001b[36m0:00:00\u001b[0m\n",
            "\u001b[2K   \u001b[90m━━━━━━━━━━━━━━━━━━━━━━━━━━━━━━━━━━━━━━━━\u001b[0m \u001b[32m75.6/75.6 kB\u001b[0m \u001b[31m3.7 MB/s\u001b[0m eta \u001b[36m0:00:00\u001b[0m\n",
            "\u001b[2K   \u001b[90m━━━━━━━━━━━━━━━━━━━━━━━━━━━━━━━━━━━━━━━━\u001b[0m \u001b[32m77.9/77.9 kB\u001b[0m \u001b[31m5.1 MB/s\u001b[0m eta \u001b[36m0:00:00\u001b[0m\n",
            "\u001b[2K   \u001b[90m━━━━━━━━━━━━━━━━━━━━━━━━━━━━━━━━━━━━━━━━\u001b[0m \u001b[32m141.9/141.9 kB\u001b[0m \u001b[31m8.9 MB/s\u001b[0m eta \u001b[36m0:00:00\u001b[0m\n",
            "\u001b[2K   \u001b[90m━━━━━━━━━━━━━━━━━━━━━━━━━━━━━━━━━━━━━━━━\u001b[0m \u001b[32m58.3/58.3 kB\u001b[0m \u001b[31m3.0 MB/s\u001b[0m eta \u001b[36m0:00:00\u001b[0m\n",
            "\u001b[2K   \u001b[90m━━━━━━━━━━━━━━━━━━━━━━━━━━━━━━━━━━━━━━━━\u001b[0m \u001b[32m52.0/52.0 kB\u001b[0m \u001b[31m791.1 kB/s\u001b[0m eta \u001b[36m0:00:00\u001b[0m\n",
            "\u001b[2K   \u001b[90m━━━━━━━━━━━━━━━━━━━━━━━━━━━━━━━━━━━━━━━━\u001b[0m \u001b[32m362.9/362.9 kB\u001b[0m \u001b[31m3.7 MB/s\u001b[0m eta \u001b[36m0:00:00\u001b[0m\n",
            "\u001b[2K   \u001b[90m━━━━━━━━━━━━━━━━━━━━━━━━━━━━━━━━━━━━━━━━\u001b[0m \u001b[32m1.1/1.1 MB\u001b[0m \u001b[31m14.3 MB/s\u001b[0m eta \u001b[36m0:00:00\u001b[0m\n",
            "\u001b[2K   \u001b[90m━━━━━━━━━━━━━━━━━━━━━━━━━━━━━━━━━━━━━━━━\u001b[0m \u001b[32m318.9/318.9 kB\u001b[0m \u001b[31m12.6 MB/s\u001b[0m eta \u001b[36m0:00:00\u001b[0m\n",
            "\u001b[2K   \u001b[90m━━━━━━━━━━━━━━━━━━━━━━━━━━━━━━━━━━━━━━━━\u001b[0m \u001b[32m87.1/87.1 kB\u001b[0m \u001b[31m1.3 MB/s\u001b[0m eta \u001b[36m0:00:00\u001b[0m\n",
            "\u001b[?25h"
          ]
        }
      ],
      "source": [
        "%pip install --upgrade --quiet langchain\n",
        "%pip install --upgrade --quiet langchain-openai\n",
        "%pip install --upgrade --quiet langgraph"
      ]
    },
    {
      "cell_type": "markdown",
      "source": [
        "我們需要設置 環境變數 OPENAI_API_KEY ，可以直接完成，如下所示："
      ],
      "metadata": {
        "id": "z94QyiXN8LEI"
      }
    },
    {
      "cell_type": "code",
      "source": [
        "import os\n",
        "import getpass\n",
        "from google.colab import userdata\n",
        "\n",
        "os.environ[\"OPENAI_API_KEY\"] = userdata.get('OPENAI_API_KEY')"
      ],
      "metadata": {
        "id": "DkXwvmUj8MRM"
      },
      "execution_count": null,
      "outputs": []
    },
    {
      "cell_type": "markdown",
      "source": [
        "### (可用可不用)LangSmith\n",
        "\n",
        "你用LangChain構建的許多應用程式將包含多個步驟，並多次調用LLM調用。隨著這些應用程式變得越來越複雜，能夠檢查您的鏈或代理內部到底發生了什麼變得至關重要。最好的方法是與[LangSmith](https://smith.langchain.com)合作。\n",
        "\n",
        "請注意，LangSmith 不是必需的，但它很有説明。如果您確實想使用 LangSmith，請在上面的鏈接中註冊后，請確保設置環境變數以開始記錄跟蹤："
      ],
      "metadata": {
        "id": "qK1n1r2h8OAN"
      }
    },
    {
      "cell_type": "code",
      "source": [
        "import os\n",
        "import getpass\n",
        "from datetime import datetime\n",
        "import pytz\n",
        "\n",
        "current_time = datetime.now(pytz.timezone('Asia/Taipei')).strftime(\"%Y-%m-%d %Z\")\n",
        "\n",
        "os.environ[\"LANGCHAIN_TRACING_V2\"] = \"false\" ##想要使用記得改 true, 不要時改 false.\n",
        "os.environ[\"LANGCHAIN_ENDPOINT\"] = \"https://api.smith.langchain.com\"\n",
        "os.environ[\"LANGCHAIN_PROJECT\"] = f\"LangGraph Supervisor-{current_time}\"\n",
        "os.environ[\"LANGCHAIN_API_KEY\"] = userdata.get('LANGCHAIN_API_KEY')"
      ],
      "metadata": {
        "id": "2_2i5Zd98QqM"
      },
      "execution_count": null,
      "outputs": []
    },
    {
      "cell_type": "markdown",
      "source": [
        "# 台灣棒球和啦啦隊新聞自動化處理系統\n",
        "\n",
        "這段程式碼實現了一個自動化的新聞處理系統，專門用於處理台灣職業棒球聯盟（CPBL）相關的新聞文章，特別關注球員轉隊和啦啦隊成員異動的新聞。整個工作流程包括以下幾個主要步驟：\n",
        "\n",
        "1. 評估文章相關性：\n",
        "   - 判斷文章是否與 CPBL 球員轉隊或啦啦隊成員異動相關\n",
        "   - 如果不相關，工作流程立即結束\n",
        "\n",
        "2. 檢查文章發布標準：\n",
        "   - 確認文章字數是否達到最低要求（至少 300 字）\n",
        "   - 驗證文章是否使用繁體中文撰寫\n",
        "   - 評估文章風格是否適合台灣讀者，包括使用本地化的表達方式和術語\n",
        "\n",
        "3. 必要時進行翻譯：\n",
        "   - 如果原文是英文（例如國際新聞源的報導），將其翻譯成繁體中文\n",
        "   - 翻譯時注意保留台灣特有的棒球術語和表達方式\n",
        "\n",
        "4. 必要時擴展文章內容：\n",
        "   - 如果文章未達到最低字數要求，進行內容擴展\n",
        "   - 擴展時加入相關背景資訊，如球員/啦啦隊成員的過往表現、球隊歷史等\n",
        "   - 可能加入專家評論或假想的球迷反應，以增加文章深度\n",
        "\n",
        "5. 再次評估和最終發布決定：\n",
        "   - 經過翻譯或擴展後的文章重新進行發布標準檢查\n",
        "   - 確認文章是否符合所有發布要求\n",
        "   - 做出最終的發布決定\n",
        "\n",
        "這個工作流程旨在自動化處理 CPBL 相關新聞，確保發布的內容既準確又吸引人，同時符合台灣讀者的閱讀習慣和興趣。它能夠處理各種情況，包括簡短的新聞快訊、需要翻譯的國際報導，以及需要更多背景信息的初步報導。"
      ],
      "metadata": {
        "id": "vIr5BTNw8PuZ"
      }
    },
    {
      "cell_type": "markdown",
      "source": [
        "![Lagngraph_supervisor.png](https://i.imgur.com/PC885wj.png)"
      ],
      "metadata": {
        "id": "0DpYnlgSPa5-"
      }
    },
    {
      "cell_type": "markdown",
      "source": [
        "## 建置 TransfreNewsGrader，啦啦隊相關新聞評估\n",
        "\n",
        "識別出各種與台灣職棒啦啦隊相關的新聞，這在台灣的棒球文化中是一個獨特而重要的方面。它可以用於：\n",
        "\n",
        "- 協助球迷追蹤他們喜愛的啦啦隊成員的動向。\n",
        "- 幫助媒體快速篩選與分類啦啦隊相關的新聞。\n",
        "- 為球隊管理層提供關於競爭對手啦啦隊變動的信息。\n",
        "- 追蹤啦啦隊在台灣棒球文化中的影響和發展趨勢。"
      ],
      "metadata": {
        "id": "Np3q-nA49cM6"
      }
    },
    {
      "cell_type": "code",
      "source": [
        "from langchain_openai import ChatOpenAI\n",
        "from langchain_core.prompts import ChatPromptTemplate\n",
        "from langchain_core.pydantic_v1 import BaseModel, Field\n",
        "\n",
        "# 定義輸出格式（介面）\n",
        "class CheerleaderNewsGrader(BaseModel):\n",
        "    \"\"\"Binary score for relevance check on Taiwanese professional baseball cheerleader news.\"\"\"\n",
        "\n",
        "    binary_score: str = Field(\n",
        "        description=\"The article is about Taiwanese professional baseball cheerleaders, 'yes' or 'no'\"\n",
        "    )\n",
        "\n",
        "# 定義 LLM 呼叫流程\n",
        "llm = ChatOpenAI(model=\"gpt-3.5-turbo-0125\", temperature=0)\n",
        "structured_llm_grader = llm.with_structured_output(CheerleaderNewsGrader)\n",
        "\n",
        "system = \"\"\"You are a grader assessing whether a news article concerns Taiwanese professional baseball cheerleaders.\n",
        "    Check if the article explicitly mentions:\n",
        "    1. Cheerleader transfers between CPBL (Chinese Professional Baseball League) teams\n",
        "    2. New cheerleader recruitment or retirement\n",
        "    3. Special performances or events featuring the cheerleaders\n",
        "    4. Controversies or notable incidents involving cheerleaders\n",
        "    5. Changes in cheerleading teams' leadership or management\n",
        "    Provide a binary score 'yes' or 'no' to indicate whether the news is about Taiwanese professional baseball cheerleaders.\"\"\"\n",
        "\n",
        "grade_prompt = ChatPromptTemplate.from_messages(\n",
        "    [(\"system\", system), (\"human\", \"News Article:\\n\\n {article}\")]\n",
        ")\n",
        "evaluator = grade_prompt | structured_llm_grader\n",
        "\n",
        "# 測試 Agent 運作狀況\n",
        "result = evaluator.invoke(\n",
        "    {\"震撼彈！知名啦啦隊女神小雨宣布退出Lamigo桃猿，轉戰統一獅啦啦隊\"}\n",
        ")\n",
        "\n",
        "print(result)"
      ],
      "metadata": {
        "colab": {
          "base_uri": "https://localhost:8080/"
        },
        "id": "kkNjAiUI8SlT",
        "outputId": "ed17de50-eeb9-45f5-c3c6-2a70340f300d"
      },
      "execution_count": null,
      "outputs": [
        {
          "output_type": "stream",
          "name": "stdout",
          "text": [
            "binary_score='yes'\n"
          ]
        }
      ]
    },
    {
      "cell_type": "markdown",
      "source": [
        "## 建置 ArticlePostabilityGrader，文章可發佈性評估\n",
        "\n",
        "評估台灣新聞文章的以下幾個方面：\n",
        "\n",
        "- 文章是否達到發布標準（包括語法、完整性和適當性）\n",
        "- 是否達到 300 字元的最低字數要求\n",
        "- 是否使用了誇張的聳動寫作風格\n",
        "- 是否使用繁體中文撰寫"
      ],
      "metadata": {
        "id": "ag8deHy39FuP"
      }
    },
    {
      "cell_type": "code",
      "source": [
        "from langchain_openai import ChatOpenAI\n",
        "from langchain_core.prompts import ChatPromptTemplate\n",
        "from langchain_core.pydantic_v1 import BaseModel, Field\n",
        "\n",
        "class TaiwanArticlePostabilityGrader(BaseModel):\n",
        "    \"\"\"Binary scores for postability check, word count, sensationalism, and language verification of a Taiwanese news article.\"\"\"\n",
        "\n",
        "    can_be_posted: str = Field(\n",
        "        description=\"The article is ready to be posted, 'yes' or 'no'\"\n",
        "    )\n",
        "    meets_word_count: str = Field(\n",
        "        description=\"The article has at least 300 characters, 'yes' or 'no'\"\n",
        "    )\n",
        "    is_sensationalistic: str = Field(\n",
        "        description=\"The article is written in a sensationalistic style, 'yes' or 'no'\"\n",
        "    )\n",
        "    is_language_traditional_chinese: str = Field(\n",
        "        description=\"The language of the article is Traditional Chinese, 'yes' or 'no'\"\n",
        "    )\n",
        "\n",
        "llm_postability = ChatOpenAI(model=\"gpt-3.5-turbo-0125\", temperature=0)\n",
        "structured_llm_postability_grader = llm_postability.with_structured_output(\n",
        "    TaiwanArticlePostabilityGrader\n",
        ")\n",
        "\n",
        "postability_system = \"\"\"You are a grader assessing whether a Taiwanese news article is ready to be posted, if it meets the minimum character count of 300 characters, is written in a sensationalistic style, and if it is in Traditional Chinese. \\n\n",
        "    Evaluate the article for grammatical errors, completeness, appropriateness for publication, and EXAGGERATED sensationalism. \\n\n",
        "    Also, confirm if the language used in the article is Traditional Chinese and it meets the character count requirement. \\n\n",
        "    Provide four binary scores: one to indicate if the article can be posted ('yes' or 'no'), one for adequate character count ('yes' or 'no'), one for sensationalistic writing ('yes' or 'no'), and another if the language is Traditional Chinese ('yes' or 'no').\\n\n",
        "    Pay attention to Taiwan-specific terms, idioms, and writing styles.\"\"\"\n",
        "\n",
        "postability_grade_prompt = ChatPromptTemplate.from_messages(\n",
        "    [(\"system\", postability_system), (\"human\", \"News Article:\\n\\n {article}\")]\n",
        ")\n",
        "\n",
        "news_chef = postability_grade_prompt | structured_llm_postability_grader\n",
        "\n",
        "# 測試 Agent 運作狀況\n",
        "result = news_chef.invoke(\n",
        "    {\n",
        "        \"article\": \"震撼彈！知名啦啦隊女神小雨宣布退出Lamigo桃猿，轉戰統一獅啦啦隊。消息一出，引起球迷熱烈討論。有內部消息指出，小雨此舉可能與新東家開出的天價薪酬有關。究竟是否屬實？本報將持續追蹤報導。敬請球迷朋友們拭目以待，這個夏天的職棒轉會市場肯定會掀起更多驚人巨浪！\"\n",
        "    }\n",
        ")\n",
        "print(result)"
      ],
      "metadata": {
        "colab": {
          "base_uri": "https://localhost:8080/"
        },
        "id": "rPU144LC8hOU",
        "outputId": "9a7734c3-784b-49a4-8e39-29d4770dfcce"
      },
      "execution_count": null,
      "outputs": [
        {
          "output_type": "stream",
          "name": "stdout",
          "text": [
            "can_be_posted='yes' meets_word_count='yes' is_sensationalistic='yes' is_language_traditional_chinese='yes'\n"
          ]
        }
      ]
    },
    {
      "cell_type": "markdown",
      "source": [
        "## 建置 translation_system，文章翻譯\n",
        "\n",
        "將台灣新聞文章翻譯成英文。以適應台灣新聞的上下文。\n",
        "\n",
        "- 它強調保持原有的基調和風格。\n",
        "- 它要求特別關注台灣文化參考和習語。\n",
        "- 它指導譯者正確處理運動隊伍名稱、運動員姓名和其他專有名詞。\n",
        "- 它強調保持引用言論的語氣和意圖。\n",
        "\n",
        "此翻譯器可用於：\n",
        "\n",
        "- 國際新聞社通報台灣事件。\n",
        "- 台灣的英文新聞媒體。\n",
        "- 需要了解台灣新聞但繁體中文不流利的研究人員或分析師。\n",
        "- 對台灣職棒新聞有興趣的運動組織或球迷。"
      ],
      "metadata": {
        "id": "-su494QF9Q7E"
      }
    },
    {
      "cell_type": "code",
      "source": [
        "from langchain_openai import ChatOpenAI\n",
        "from langchain_core.prompts import ChatPromptTemplate\n",
        "\n",
        "# Define LLM call process\n",
        "llm_translation = ChatOpenAI(model=\"gpt-3.5-turbo-0125\", temperature=0)\n",
        "\n",
        "translation_system = \"\"\"You are a translator converting Taiwanese news articles into English.\n",
        "Translate the text accurately while maintaining the original tone and style.\n",
        "Pay special attention to Taiwanese cultural references, idioms, and context.\n",
        "Ensure that sports team names, player names, and other proper nouns are correctly transliterated or translated as appropriate.\n",
        "When translating quotes, maintain the speaker's tone and intent.\"\"\"\n",
        "\n",
        "translation_prompt = ChatPromptTemplate.from_messages(\n",
        "    [(\"system\", translation_system), (\"human\", \"Article to translate:\\n\\n {article}\")]\n",
        ")\n",
        "\n",
        "translator = translation_prompt | llm_translation\n",
        "\n",
        "# Test the Agent\n",
        "result = translator.invoke(\n",
        "    {\n",
        "        \"article\": \"震撼彈！知名啦啦隊女神小雨宣布退出Lamigo桃猿，轉戰統一獅啦啦隊。消息一出，引起球迷熱烈討論。有內部消息指出，小雨此舉可能與新東家開出的天價薪酬有關。究竟是否屬實？本報將持續追蹤報導。敬請球迷朋友們拭目以待，這個夏天的職棒轉會市場肯定會掀起更多驚人巨浪！\"\n",
        "    }\n",
        ")\n",
        "\n",
        "print(result)"
      ],
      "metadata": {
        "colab": {
          "base_uri": "https://localhost:8080/"
        },
        "id": "L_HJtvym9J1G",
        "outputId": "ab4a86c0-0adb-4916-af3f-893624a83a1e"
      },
      "execution_count": null,
      "outputs": [
        {
          "output_type": "stream",
          "name": "stdout",
          "text": [
            "content=\"Bombshell news! The renowned cheerleading goddess Little Rain has announced her departure from the Lamigo Monkeys and will join the Uni-President Lions' cheerleading team. The news has sparked intense discussions among fans. Internal sources suggest that Little Rain's move may be related to the lucrative salary offered by her new team. Is it true? This paper will continue to follow up on the report. Fans, please stay tuned, as this summer's professional baseball transfer market is sure to bring about more astonishing waves!\" additional_kwargs={'refusal': None} response_metadata={'token_usage': {'completion_tokens': 101, 'prompt_tokens': 280, 'total_tokens': 381}, 'model_name': 'gpt-3.5-turbo-0125', 'system_fingerprint': None, 'finish_reason': 'stop', 'logprobs': None} id='run-738ec396-8801-447e-81a2-8f13d39a89e0-0' usage_metadata={'input_tokens': 280, 'output_tokens': 101, 'total_tokens': 381}\n"
          ]
        }
      ]
    },
    {
      "cell_type": "markdown",
      "source": [
        "## 建置 expansion_system，文章擴展\n",
        "\n",
        "系統提示，使其更符合台灣新聞的寫作風格和需求：\n",
        "\n",
        "- 強調使用台灣讀者熟悉的表達方式和用語。\n",
        "- 建議加入專家或相關人士的假想評論，這是台灣新聞常見的做法。\n",
        "- 要求考慮新聞事件對台灣社會的影響。\n",
        "- 鼓勵在適當的地方加入台灣特有的文化元素。\n",
        "\n",
        "該系統可以用於：\n",
        "\n",
        "- 快速生成更詳細的新聞稿。\n",
        "- 將簡短的新聞線索擴展成完整的報導。\n",
        "- 為編輯提供更多素材，以便他們進一步編輯和完善。\n",
        "- 在保持原始新聞核心的同時，提供更多上下文和背景信息。"
      ],
      "metadata": {
        "id": "dNTJs1aB-hT6"
      }
    },
    {
      "cell_type": "code",
      "source": [
        "from langchain_openai import ChatOpenAI\n",
        "from langchain_core.prompts import ChatPromptTemplate\n",
        "\n",
        "# 定義 LLM 呼叫流程\n",
        "llm_expansion = ChatOpenAI(model=\"gpt-3.5-turbo-0125\", temperature=0.5)\n",
        "\n",
        "expansion_system = \"\"\"你是一位專業的台灣新聞記者，負責將給定的簡短新聞擴展至至少 300 字。在擴展過程中，請注意以下幾點：\n",
        "\n",
        "1. 保持原文的主題和tone，同時增加相關的背景資訊和細節。\n",
        "2. 使用台灣讀者熟悉的表達方式和用語。\n",
        "3. 適當加入一些專家或相關人士的假想評論，以增加新聞的深度。\n",
        "4. 考慮新聞事件可能對台灣社會或特定群體的影響。\n",
        "5. 在適當的地方加入一些台灣特有的文化元素或本地化的例子。\n",
        "6. 確保擴展後的文章仍然保持客觀性和新聞專業性。\n",
        "7. 使用繁體中文撰寫。\"\"\"\n",
        "\n",
        "expansion_prompt = ChatPromptTemplate.from_messages(\n",
        "    [(\"system\", expansion_system), (\"human\", \"原始新聞內容：\\n\\n {article}\")]\n",
        ")\n",
        "\n",
        "expander = expansion_prompt | llm_expansion\n",
        "\n",
        "# 測試 Agent 運作狀況\n",
        "article_content = \"知名啦啦隊女神小雨宣布退出Lamigo桃猿，轉戰統一獅啦啦隊。\"\n",
        "result = expander.invoke({\"article\": article_content})\n",
        "\n",
        "print(result)"
      ],
      "metadata": {
        "colab": {
          "base_uri": "https://localhost:8080/"
        },
        "id": "sdtSGMd0-WQp",
        "outputId": "01e28fbb-e524-4f77-c345-fdce75204fcf"
      },
      "execution_count": null,
      "outputs": [
        {
          "output_type": "stream",
          "name": "stdout",
          "text": [
            "content='知名啦啦隊女神小雨宣布退出Lamigo桃猿，轉戰統一獅啦啦隊。這項轉隊消息震驚了許多棒球迷和啦啦隊支持者。小雨在Lamigo桃猿效力多年，以其優美的舞姿和活潑的氣質贏得了廣大球迷的喜愛，因此她的轉隊決定引起了不少關注和討論。\\n\\n有關小雨轉隊的消息一出，立刻在網路上引發熱烈的討論。許多網友紛紛表達對小雨的支持和祝福，同時也有不少粉絲表示對她離開桃猿隊感到遺憾。一位網友表示：「小雨是我們桃猿隊的靈魂啦啦隊女神，她的離開讓我們感到非常失落，但也希望她在新的環境能有更好的發展。」\\n\\n對於小雨轉戰統一獅啦啦隊的原因，有些消息指出是出於個人發展考量，也有傳聞指出是因為合約問題。然而，小雨本人對於轉隊的原因並未透露太多細節，僅表示對於未來的新挑戰感到興奮。\\n\\n對於這項轉隊消息，一些啦啦隊相關的專家表示，小雨的加入將為統一獅啦啦隊帶來全新的活力和風格，也有助於提升球場氣氛，讓觀眾更加投入比賽。啦啦隊在棒球比賽中扮演著重要的角色，能夠為球隊加油打氣，同時也為觀眾帶來更豐富多元的娛樂。\\n\\n值得一提的是，啦啦隊在台灣棒球賽事中扮演著相當重要的角色，他們不僅能夠增添現場氣氛，更是球迷心目中的焦點。因此，小雨的轉隊不僅是她個人的選擇，也影響著球迷和球隊的互動。希望小雨在新的球隊能夠繼續展現她的舞藝，為台灣棒球帶來更多色彩。' additional_kwargs={'refusal': None} response_metadata={'token_usage': {'completion_tokens': 809, 'prompt_tokens': 351, 'total_tokens': 1160}, 'model_name': 'gpt-3.5-turbo-0125', 'system_fingerprint': None, 'finish_reason': 'stop', 'logprobs': None} id='run-0f1a6311-a6ff-4297-b551-a1243a33cf1d-0' usage_metadata={'input_tokens': 351, 'output_tokens': 809, 'total_tokens': 1160}\n"
          ]
        }
      ]
    },
    {
      "cell_type": "markdown",
      "source": [
        "### 定義 State\n",
        "\n",
        "- 定義了一個名為 AgentState 的 TypedDict。\n",
        "- 它只包含一個鍵 article_state，用於存儲當前處理的文章內容。\n",
        "- 使用 TypedDict 有助於提高代碼的類型安全性和可讀性。"
      ],
      "metadata": {
        "id": "OmjSZZLC_AQc"
      }
    },
    {
      "cell_type": "code",
      "source": [
        "from typing import TypedDict\n",
        "\n",
        "class AgentState(TypedDict):\n",
        "    article_state: str"
      ],
      "metadata": {
        "id": "29X_nVUQ_BEX"
      },
      "execution_count": null,
      "outputs": []
    },
    {
      "cell_type": "markdown",
      "source": [
        "## 定義節點函數以及 Agent"
      ],
      "metadata": {
        "id": "-yMlaT-h-8om"
      }
    },
    {
      "cell_type": "code",
      "source": [
        "### 呼叫 Agnet 工作以及顯示節點狀態用\n",
        "def get_transfer_news_grade(state: AgentState) -> AgentState:\n",
        "    print(f\"get_transfer_news_grade: Current state: {state}\")\n",
        "    print(\"Evaluator: Reading article but doing nothing to change it...\")\n",
        "    return state\n",
        "def evaluate_article(state: AgentState) -> AgentState:\n",
        "    print(f\"evaluate_article: Current state: {state}\")\n",
        "    print(\"News : Reading article but doing nothing to change it...\")\n",
        "    return state\n",
        "def translate_article(state: AgentState) -> AgentState:\n",
        "    print(f\"translate_article: Current state: {state}\")\n",
        "    article = state[\"article_state\"]\n",
        "    result = translator.invoke({\"article\": article})\n",
        "    state[\"article_state\"] = result.content\n",
        "    return state\n",
        "def expand_article(state: AgentState) -> AgentState:\n",
        "    print(f\"expand_article: Current state: {state}\")\n",
        "    article = state[\"article_state\"]\n",
        "    result = expander.invoke({\"article\": article})\n",
        "    state[\"article_state\"] = result.content\n",
        "    return state\n",
        "def publisher(state: AgentState) -> AgentState:\n",
        "    print(f\"publisher: Current state: {state}\")\n",
        "    print(\"FINAL_STATE in publisher:\", state)\n",
        "    return state"
      ],
      "metadata": {
        "id": "hq2VF13z-0Rk"
      },
      "execution_count": null,
      "outputs": []
    },
    {
      "cell_type": "markdown",
      "source": [
        "定義路由函數"
      ],
      "metadata": {
        "id": "ZeKGee7O_H03"
      }
    },
    {
      "cell_type": "code",
      "source": [
        "from typing import TypedDict, Literal\n",
        "\n",
        "## 提供路由使用\n",
        "def evaluator_router(state: AgentState) -> Literal[\"news_chef\", \"not_relevant\"]:\n",
        "    article = state[\"article_state\"]\n",
        "    evaluator = grade_prompt | structured_llm_grader\n",
        "    result = evaluator.invoke({\"article\": article})\n",
        "    print(f\"evaluator_router: Current state: {state}\")\n",
        "    print(\"Evaluator result: \", result)\n",
        "    if result.binary_score == \"yes\":\n",
        "        return \"news_chef\"\n",
        "    else:\n",
        "        return \"not_relevant\"\n",
        "def news_chef_router(\n",
        "    state: AgentState,\n",
        ") -> Literal[\"translator\", \"publisher\", \"expander\"]:\n",
        "    article = state[\"article_state\"]\n",
        "    result = news_chef.invoke({\"article\": article})\n",
        "    print(f\"news_chef_router: Current state: {state}\")\n",
        "    print(\"News chef result: \", result)\n",
        "    if result.can_be_posted == \"yes\":\n",
        "        return \"publisher\"\n",
        "    elif result.is_language_traditional_chinese == \"yes\":\n",
        "        if result.meets_word_count == \"no\" or result.is_sensationalistic == \"no\":\n",
        "            return \"expander\"\n",
        "    return \"translator\""
      ],
      "metadata": {
        "id": "TndJvomP_GSi"
      },
      "execution_count": null,
      "outputs": []
    },
    {
      "cell_type": "markdown",
      "source": [
        "建立與配置 Graph"
      ],
      "metadata": {
        "id": "-rrfci_u_L0l"
      }
    },
    {
      "cell_type": "code",
      "source": [
        "from langgraph.graph import StateGraph, END\n",
        "\n",
        "workflow = StateGraph(AgentState)\n",
        "\n",
        "workflow.add_node(\"evaluator\", get_transfer_news_grade)\n",
        "workflow.add_node(\"news_chef\", evaluate_article)\n",
        "workflow.add_node(\"translator\", translate_article)\n",
        "workflow.add_node(\"expander\", expand_article)\n",
        "workflow.add_node(\"publisher\", publisher)\n",
        "\n",
        "workflow.set_entry_point(\"evaluator\")\n",
        "\n",
        "workflow.add_conditional_edges(\n",
        "    \"evaluator\", evaluator_router, {\"news_chef\": \"news_chef\", \"not_relevant\": END}\n",
        ")\n",
        "workflow.add_conditional_edges(\n",
        "    \"news_chef\",\n",
        "    news_chef_router,\n",
        "    {\"translator\": \"translator\", \"publisher\": \"publisher\", \"expander\": \"expander\"},\n",
        ")\n",
        "workflow.add_edge(\"translator\", \"news_chef\")\n",
        "workflow.add_edge(\"expander\", \"news_chef\")\n",
        "workflow.add_edge(\"publisher\", END)\n",
        "\n",
        "app = workflow.compile()"
      ],
      "metadata": {
        "id": "qUUd2lLd_KYu"
      },
      "execution_count": null,
      "outputs": []
    },
    {
      "cell_type": "markdown",
      "source": [
        "可視化當前節點"
      ],
      "metadata": {
        "id": "dM2Y4R0K_O15"
      }
    },
    {
      "cell_type": "code",
      "source": [
        "from IPython.display import Image, display\n",
        "\n",
        "try:\n",
        "    display(Image(app.get_graph(xray=True).draw_mermaid_png()))\n",
        "except:\n",
        "    pass"
      ],
      "metadata": {
        "colab": {
          "base_uri": "https://localhost:8080/",
          "height": 423
        },
        "id": "TEs7NS15_N5x",
        "outputId": "6ab4bf90-e33b-4287-edc5-479ff92e804e"
      },
      "execution_count": null,
      "outputs": [
        {
          "output_type": "display_data",
          "data": {
            "image/jpeg": "[encoded data removed]",
            "text/plain": [
              "<IPython.core.display.Image object>"
            ]
          },
          "metadata": {}
        }
      ]
    },
    {
      "cell_type": "markdown",
      "source": [
        "### 案例一、啦啦隊新聞"
      ],
      "metadata": {
        "id": "xpvD5MgKB19P"
      }
    },
    {
      "cell_type": "code",
      "source": [
        "test_case_1 = {\n",
        "    \"article_state\": \"知名啦啦隊女神小雨宣布退出Lamigo桃猿，轉戰統一獅啦啦隊。\"\n",
        "}\n",
        "result_1 = app.invoke(test_case_1)\n",
        "print(result_1)"
      ],
      "metadata": {
        "colab": {
          "base_uri": "https://localhost:8080/"
        },
        "id": "xRYuVI4k_P3p",
        "outputId": "ecc3f28b-c202-46ce-e4c1-f37c5e2c2148"
      },
      "execution_count": null,
      "outputs": [
        {
          "output_type": "stream",
          "name": "stdout",
          "text": [
            "get_transfer_news_grade: Current state: {'article_state': '知名啦啦隊女神小雨宣布退出Lamigo桃猿，轉戰統一獅啦啦隊。'}\n",
            "Evaluator: Reading article but doing nothing to change it...\n",
            "evaluator_router: Current state: {'article_state': '知名啦啦隊女神小雨宣布退出Lamigo桃猿，轉戰統一獅啦啦隊。'}\n",
            "Evaluator result:  binary_score='yes'\n",
            "evaluate_article: Current state: {'article_state': '知名啦啦隊女神小雨宣布退出Lamigo桃猿，轉戰統一獅啦啦隊。'}\n",
            "News : Reading article but doing nothing to change it...\n",
            "news_chef_router: Current state: {'article_state': '知名啦啦隊女神小雨宣布退出Lamigo桃猿，轉戰統一獅啦啦隊。'}\n",
            "News chef result:  can_be_posted='yes' meets_word_count='no' is_sensationalistic='yes' is_language_traditional_chinese='yes'\n",
            "publisher: Current state: {'article_state': '知名啦啦隊女神小雨宣布退出Lamigo桃猿，轉戰統一獅啦啦隊。'}\n",
            "FINAL_STATE in publisher: {'article_state': '知名啦啦隊女神小雨宣布退出Lamigo桃猿，轉戰統一獅啦啦隊。'}\n",
            "{'article_state': '知名啦啦隊女神小雨宣布退出Lamigo桃猿，轉戰統一獅啦啦隊。'}\n"
          ]
        }
      ]
    },
    {
      "cell_type": "markdown",
      "source": [
        "這個案例測試基本的新聞處理流程：\n",
        "\n",
        "- evaluator 應該判定這是相關的啦啦隊新聞。\n",
        "- news_chef 可能會發現文章太短，需要擴展。\n",
        "- expander 會擴展文章。\n",
        "- 擴展後的文章會再次通過 news_chef 評估。\n",
        "- 如果符合發布標準，文章會被發送到 publisher。"
      ],
      "metadata": {
        "id": "JYTOaFvzBwBz"
      }
    },
    {
      "cell_type": "markdown",
      "source": [
        "### 案例二、不相關新聞"
      ],
      "metadata": {
        "id": "1fmzNFYhB4g7"
      }
    },
    {
      "cell_type": "code",
      "source": [
        "test_case_2 = {\n",
        "    \"article_state\": \"台北市今日發布最新空氣品質報告，PM2.5指數持續攀升。\"\n",
        "}\n",
        "result_2 = app.invoke(test_case_2)\n",
        "print(result_2)"
      ],
      "metadata": {
        "colab": {
          "base_uri": "https://localhost:8080/"
        },
        "id": "rwiupu-N_fry",
        "outputId": "11df465f-9136-411d-d185-001f6e0ae448"
      },
      "execution_count": null,
      "outputs": [
        {
          "output_type": "stream",
          "name": "stdout",
          "text": [
            "get_transfer_news_grade: Current state: {'article_state': '台北市今日發布最新空氣品質報告，PM2.5指數持續攀升。'}\n",
            "Evaluator: Reading article but doing nothing to change it...\n",
            "evaluator_router: Current state: {'article_state': '台北市今日發布最新空氣品質報告，PM2.5指數持續攀升。'}\n",
            "Evaluator result:  binary_score='no'\n",
            "{'article_state': '台北市今日發布最新空氣品質報告，PM2.5指數持續攀升。'}\n"
          ]
        }
      ]
    },
    {
      "cell_type": "markdown",
      "source": [
        "這個案例測試工作流程如何處理不相關的新聞：\n",
        "\n",
        "- evaluator 應該判定這不是啦啦隊或棒球相關新聞。\n",
        "- 工作流程應該直接結束，不進行後續處理。"
      ],
      "metadata": {
        "id": "T4AG22jACCvN"
      }
    },
    {
      "cell_type": "markdown",
      "source": [
        "### 案例三：英文新聞的翻譯和處理"
      ],
      "metadata": {
        "id": "mUi8_mkWCFbO"
      }
    },
    {
      "cell_type": "code",
      "source": [
        "test_case_3 = {\n",
        "    \"article_state\": \"CPBL star outfielder Wang Po-Jung considering a return to NPB after successful stint with Lamigo Monkeys.\"\n",
        "}\n",
        "result_3 = app.invoke(test_case_3)\n",
        "print(result_3)"
      ],
      "metadata": {
        "colab": {
          "base_uri": "https://localhost:8080/"
        },
        "id": "ZxES4fgrB-Kl",
        "outputId": "e7b6a12b-4007-4cd9-ba30-d4bf797770a3"
      },
      "execution_count": null,
      "outputs": [
        {
          "output_type": "stream",
          "name": "stdout",
          "text": [
            "get_transfer_news_grade: Current state: {'article_state': 'CPBL star outfielder Wang Po-Jung considering a return to NPB after successful stint with Lamigo Monkeys.'}\n",
            "Evaluator: Reading article but doing nothing to change it...\n",
            "evaluator_router: Current state: {'article_state': 'CPBL star outfielder Wang Po-Jung considering a return to NPB after successful stint with Lamigo Monkeys.'}\n",
            "Evaluator result:  binary_score='no'\n",
            "{'article_state': 'CPBL star outfielder Wang Po-Jung considering a return to NPB after successful stint with Lamigo Monkeys.'}\n"
          ]
        }
      ]
    },
    {
      "cell_type": "markdown",
      "source": [
        "這個案例測試工作流程如何處理英文新聞：\n",
        "\n",
        "- evaluator 應該判定這是相關的棒球新聞。\n",
        "- news_chef 會發現文章是英文，需要翻譯。\n",
        "- translator 會將文章翻譯成繁體中文。\n",
        "- 翻譯後的文章會再次通過 news_chef 評估。\n",
        "- 如果文章仍然較短，可能會被送到 expander 進行擴展。\n",
        "最終，如果符合發布標準，文章會被送到 publisher。"
      ],
      "metadata": {
        "id": "_B-xGq8mC7pI"
      }
    },
    {
      "cell_type": "code",
      "source": [],
      "metadata": {
        "id": "9uiyqcMCCHPx"
      },
      "execution_count": null,
      "outputs": []
    }
  ]
}
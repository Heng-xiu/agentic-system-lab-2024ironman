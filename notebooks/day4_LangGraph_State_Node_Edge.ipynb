{
  "nbformat": 4,
  "nbformat_minor": 0,
  "metadata": {
    "colab": {
      "provenance": [],
      "toc_visible": true
    },
    "kernelspec": {
      "name": "python3",
      "display_name": "Python 3"
    },
    "language_info": {
      "name": "python"
    }
  },
  "cells": [
    {
      "cell_type": "markdown",
      "source": [
        "# 🥱 LangGraph 入門教程：解析 AI 代理工作流程\n",
        "\n",
        "你是否聽說過 LangChain 和 LangChain ? 它們能夠利用大型語言模型(LLMs)自主地自動化各種工作流程。但是,當我們面對複雜的條件流程或需要整合多個工作流時,傳統的 LangChain 可能就不太適用了。這就是 LangGraph 登場的時候。\n",
        "\n",
        "LangGraph 是 LangChain 團隊開發的一個套件,旨在創建更靈活、更複雜的工作流程。它允許我們將工作流程視覺化為圖形,大大增強了我們處理複雜場景的能力。讓我們一起探索 LangGraph 的世界吧!\n",
        "\n",
        "❤️ Created by [hengshiousheu](https://huggingface.co/Heng666)."
      ],
      "metadata": {
        "id": "TmVLIl5WfV3o"
      }
    },
    {
      "cell_type": "markdown",
      "source": [
        "## 環境建置"
      ],
      "metadata": {
        "id": "bWgrk0a6fYqB"
      }
    },
    {
      "cell_type": "markdown",
      "source": [
        "### 安裝套件包\n",
        "\n",
        "在本演練中，我們將使用以下套件："
      ],
      "metadata": {
        "id": "BqRZ5omP_4dd"
      }
    },
    {
      "cell_type": "code",
      "execution_count": null,
      "metadata": {
        "id": "94R3nAch0nsr"
      },
      "outputs": [],
      "source": [
        "%%capture --no-stderr\n",
        "%pip install --upgrade --quiet langchain\n",
        "%pip install --upgrade --quiet langchain-openai\n",
        "%pip install --upgrade --quiet langgraph\n",
        "%pip install --upgrade --quiet langchain-community"
      ]
    },
    {
      "cell_type": "markdown",
      "source": [
        "我們需要設置 環境變數 OPENAI_API_KEY ，可以直接完成，如下所示："
      ],
      "metadata": {
        "id": "FfzmShjxfeJX"
      }
    },
    {
      "cell_type": "code",
      "source": [
        "import os\n",
        "import getpass\n",
        "from google.colab import userdata\n",
        "\n",
        "os.environ[\"OPENAI_API_KEY\"] = userdata.get('OPENAI_API_KEY')"
      ],
      "metadata": {
        "id": "w8E4YvEbfd2q"
      },
      "execution_count": null,
      "outputs": []
    },
    {
      "cell_type": "markdown",
      "source": [
        "📌 實用提示：確保所有環境變數都正確設置，這對於順利運行後續程式碼至關重要。"
      ],
      "metadata": {
        "id": "T-YznhHmfi9P"
      }
    },
    {
      "cell_type": "markdown",
      "source": [
        "## LangGraph 是什麼?\n",
        "\n",
        "想像你正在開發一個全方位的客戶服務 AI 系統。這個系統需要處理多種任務：回答產品問題、處理退貨請求、發送訂單更新,甚至生成個性化的促銷郵件。使用傳統的 LangChain 方法,你可能會為每個任務創建單獨的代理或工具。但是,當這些任務需要相互協作時,問題就出現了。\n",
        "\n",
        "例如,一個簡單的客戶查詢可能演變成一系列複雜的操作：\n",
        "1. 檢查訂單狀態\n",
        "2. 如果訂單延遲,生成道歉信\n",
        "3. 同時啟動退款流程\n",
        "4. 最後,發送一個個性化的折扣碼來挽留客戶\n",
        "\n",
        "LangChain 在處理這種複雜、交互的工作流時會遇到困難。它的線性執行模式難以應對需要根據不同條件跳轉到不同任務的場景。此外,在 LangChain 中重複使用先前任務的輸出或維護跨多個步驟的狀態也不太容易。\n",
        "\n",
        "這就是 LangGraph 的優勢所在。LangGraph 將你的整個工作流程視覺化為一個圖形：\n",
        "- 每個任務（如檢查訂單、生成郵件、處理退款）都是圖中的一個節點\n",
        "- 節點之間的連接（邊）定義了任務的執行順序和條件\n",
        "- 整個系統共享一個狀態,使得信息可以在不同任務間無縫傳遞\n",
        "\n",
        "![圖片：客戶服務工作流程圖示例](https://i.imgur.com/A21aMFL.png)\n",
        "\n",
        "使用 LangGraph,你可以輕鬆定義複雜的條件路徑（例如,只有在訂單延遲時才發送道歉信）,創建循環（比如在客戶不滿意時重複提供解決方案）,甚至並行執行多個任務。這種靈活性使得構建真正智能、響應迅速的 AI 系統成為可能。"
      ],
      "metadata": {
        "id": "gYbrbU5JhgVF"
      }
    },
    {
      "cell_type": "markdown",
      "source": [
        "## LangChain vs LangGraph：關鍵區別\n",
        "\n",
        "讀到這裡，你可能會想：「LangGraph 聽起來很強大，但它與 LangChain 到底有什麼不同？」讓我們快速梳理一下關鍵區別：\n",
        "\n",
        "1. 工作流結構：\n",
        "   - LangChain：主要是線性的，適合順序執行的任務。\n",
        "   - LangGraph：基於圖的結構，適合複雜、非線性的工作流。\n",
        "\n",
        "2. 靈活性：\n",
        "   - LangChain：在處理條件分支和循環時較為受限。\n",
        "   - LangGraph：可以輕鬆定義條件路徑、循環和並行任務。\n",
        "\n",
        "3. 狀態管理：\n",
        "   - LangChain：在跨多個步驟維護狀態時可能遇到困難。\n",
        "   - LangGraph：提供了一個共享的狀態系統，方便在整個工作流中傳遞信息。\n",
        "\n",
        "4. 可視化：\n",
        "   - LangChain：工作流程可能不太直觀。\n",
        "   - LangGraph：將工作流視覺化為圖，使複雜系統更易於理解和設計。\n",
        "\n",
        "5. 使用場景：\n",
        "   - LangChain：適合相對簡單、直接的 AI 任務。\n",
        "   - LangGraph：適合需要複雜決策和多路徑執行的高級 AI 系統。\n",
        "\n",
        "記住，LangGraph 並不是要取代 LangChain，而是對其進行補充和擴展。在許多情況下，你可能會發現將兩者結合使用是最佳選擇。"
      ],
      "metadata": {
        "id": "Dgisc36aumn_"
      }
    },
    {
      "cell_type": "markdown",
      "source": [
        "## LangGraph 的核心元件\n",
        "\n",
        "LangGraph 通過專注於四個主要元件來簡化 AI 代理開發：\n",
        "\n",
        "1. **圖形(Graph)**: 這是 LangGraph 的核心，就像一張路線圖，包含了所有的節點和它們之間的連接。\n",
        "\n",
        "2. **狀態(State)**: 想像這是一個共享的記事本，記錄了整個過程中的重要信息。每個節點都可以讀寫這個記事本。\n",
        "\n",
        "3. **節點(Node)**: 這些是圖中的各個站點，每個站點都代表一個特定的任務或檢查點。\n",
        "\n",
        "4. **邊(Edge)**: 這些是連接節點的路徑，決定了信息如何從一個節點流向另一個節點。\n",
        "\n",
        "LangGraph 就像一個郵件配送中心。郵件（狀態）在不同的工作站（節點）之間傳遞，根據特定的規則（邊）決定下一步去哪裡。當整個系統啟動時，所有的節點都在等待，直到收到相應的資訊才開始工作。\n",
        "\n",
        "這種設計讓我們能夠構建出既靈活又強大的 AI 工作流程。"
      ],
      "metadata": {
        "id": "btDwzyINi-xJ"
      }
    },
    {
      "cell_type": "markdown",
      "source": [
        "### 節點(Node)：工作流程的基石\n",
        "\n",
        "在 LangGraph 中，節點就像是工作流程中的專業人員，每個都有自己的特定任務。想像一下一個高效的工廠：\n",
        "\n",
        "每個節點都是一個工作站，負責接收原材料（輸入），進行加工（處理），然後產出成品（輸出）。這些「工作站」可以執行各種操作，從簡單的資料轉換到複雜的下達決策。\n",
        "\n",
        "讓我們通過一個簡單的例子來看看節點是如何工作的："
      ],
      "metadata": {
        "id": "iSxkxbT3jBdX"
      }
    },
    {
      "cell_type": "code",
      "source": [
        "def function1(input_1):\n",
        "  return input_1 + \" Function1處理完畢\"\n",
        "\n",
        "def function2(input_2):\n",
        "  return input_2 + \" Function2處理完畢\""
      ],
      "metadata": {
        "id": "xLyQWMGjlhP_"
      },
      "execution_count": null,
      "outputs": []
    },
    {
      "cell_type": "markdown",
      "source": [
        "這裡，`function1` 和 `function2` 就像兩個不同的工作站。它們各自接收一個輸入，進行一些處理，然後返回結果。\n",
        "\n",
        "現在，我們來看看如何將這些「工作站」添加到我們的 LangGraph「工廠」中："
      ],
      "metadata": {
        "id": "UuaRLfQZlmsu"
      }
    },
    {
      "cell_type": "code",
      "source": [
        "from langgraph.graph import Graph\n",
        "\n",
        "# 定義一個圖\n",
        "graph = Graph()\n",
        "\n",
        "graph.add_node(\"node_1\", function1)\n",
        "graph.add_node(\"node_2\", function2)"
      ],
      "metadata": {
        "id": "5OPeom0nlk34"
      },
      "execution_count": null,
      "outputs": []
    },
    {
      "cell_type": "markdown",
      "source": [
        "通過 `add_node` 方法，我們將這些功能集成到我們的工作流程圖中。每個節點都有一個唯一的名稱（如 \"node_1\"），這樣我們就可以在後續的工作流程中明確地引用它們。\n",
        "\n",
        "你能想像這些節點如何在更複雜的場景中工作嗎？比如，在客戶服務系統中，一個節點可能負責分析客戶查詢的情緒，而另一個節點則根據這個分析決定最佳的回應策略。\n",
        "\n",
        "讓我們繼續介紹下一個重要的概念：邊（Edge）。"
      ],
      "metadata": {
        "id": "8P54KOaGlomH"
      }
    },
    {
      "cell_type": "markdown",
      "source": [
        "### 邊(Edge)：連接節點的橋樑\n",
        "\n",
        "在 LangGraph 中，邊就像是工作流程中的傳送帶或決策點。它們定義了信息如何在節點之間流動，以及在什麼條件下流動。想像一下一個複雜的物流系統：\n",
        "\n",
        "邊決定了包裹（在我們的案例中是數據或狀態）應該送到哪個下一站。有時候這是一個簡單的直線運輸，有時候則需要根據包裹的特性做出決策。\n",
        "\n",
        "LangGraph 提供了幾種類型的邊，讓我們來看看："
      ],
      "metadata": {
        "id": "8LycaKq6jDx8"
      }
    },
    {
      "cell_type": "markdown",
      "source": [
        "### 普通邊(Simple Edge)\n",
        "\n",
        "邊定義了節點之間的連接,決定了圖中執行的流程。它們指定了一個節點的輸出如何作為輸入傳遞給另一個節點。邊可以是普通的(直接連接兩個節點)或條件的(根據某些標準路由到不同的節點)。\n",
        "\n",
        "最基本的邊,直接連接兩個節點。使用 `add_edge` 方法來添加:\n"
      ],
      "metadata": {
        "id": "eALnoKO9mSda"
      }
    },
    {
      "cell_type": "code",
      "source": [
        "graph.add_edge('node_1', 'node_2')"
      ],
      "metadata": {
        "id": "K48NmxVPmgDn"
      },
      "execution_count": null,
      "outputs": []
    },
    {
      "cell_type": "markdown",
      "source": [
        "這行程式碼告訴系統，'node_1' 完成處理後，訊息應該直接傳送到 'node_2'。"
      ],
      "metadata": {
        "id": "oh0jC3JnvoG7"
      }
    },
    {
      "cell_type": "markdown",
      "source": [
        "#### 入口點(Entry Point)和終點(End Point)\n",
        "\n",
        "入口點是圖開始執行時運行的第一個節點。我們使用 START 節點來指定圖的入口:"
      ],
      "metadata": {
        "id": "qY2SiwAjmnfA"
      }
    },
    {
      "cell_type": "code",
      "source": [
        "from langgraph.graph import START\n",
        "from langgraph.graph import END\n",
        "\n",
        "graph.add_edge(START, \"node_a\")\n",
        "graph.add_edge(\"node_2\", END)"
      ],
      "metadata": {
        "id": "CKfdCI9im7sa"
      },
      "execution_count": null,
      "outputs": []
    },
    {
      "cell_type": "markdown",
      "source": [
        "這就像是在說：\"工作從這裡開始，到那裡結束\"。"
      ],
      "metadata": {
        "id": "QJ40NTV_vzeX"
      }
    },
    {
      "cell_type": "markdown",
      "source": [
        "### 條件邊(Conditional Edge)\n",
        "\n",
        "條件邊允許我們根據特定條件選擇下一個執行的節點。使用 `add_conditional_edges` 方法來添加:\n"
      ],
      "metadata": {
        "id": "vMQP37AQnHiH"
      }
    },
    {
      "cell_type": "code",
      "source": [
        "def where_to_go(state):\n",
        "  # Your Logic here\n",
        "  if state['Condition']:\n",
        "    return \"end\"\n",
        "  else:\n",
        "    return \"continue\"\n",
        "\n",
        "# agent node is connected with 2 nodes END and weather_tool\n",
        "graph.add_conditional_edges('agent',where_to_go,{\n",
        "    \"end\": END,\n",
        "    \"continue\": \"weather_tool\"\n",
        "})"
      ],
      "metadata": {
        "id": "xmRL1Or_neC5"
      },
      "execution_count": null,
      "outputs": []
    },
    {
      "cell_type": "markdown",
      "source": [
        "### 狀態(state)：消息的共享中心\n",
        "\n",
        "在 LangGraph 中,狀態是捕獲應用程序當前快照的共享資料結構。它可以是任何 Python 類型,但通常是 TypedDict 或 Pydantic BaseModel。狀態使節點能夠相互通信和交換訊息\n",
        "\n",
        "有兩種類型的圖可以在 LangGraph 中創建::\n",
        "\n",
        "- 基本圖(Basic Graph): 只能將一個節點的輸出傳遞給下一個節點。因為無法包含狀態\n",
        "- 有狀態圖圖(Stateful Graph): 可以包含在節點之間傳遞的狀態,並且可以在任何節點訪問此狀態。\n",
        "\n",
        "這裡是如何定義狀態並將其傳遞給有狀態圖的範例:"
      ],
      "metadata": {
        "id": "4nInKr-rjTLs"
      }
    },
    {
      "cell_type": "code",
      "source": [
        "import operator\n",
        "from typing import TypedDict, Annotated, List\n",
        "from langgraph.graph import StateGraph\n",
        "\n",
        "class AllState(TypedDict):\n",
        "    messages: Annotated[list[str], operator.add]\n",
        "\n",
        "graph = StateGraph(AllState)"
      ],
      "metadata": {
        "id": "whGoiO_7oUff"
      },
      "execution_count": null,
      "outputs": []
    },
    {
      "cell_type": "markdown",
      "source": [
        "在這個例子中,我們使用 TypedDict 定義了一個包含 `messages` 鍵的字典。該鍵預期持有一個字符串列表。我們使用 `operator.add` 函數作為 reducer,這意味著當新消息被添加到列表時,它們將與現有消息組合。\n"
      ],
      "metadata": {
        "id": "5zfV1z2Vwcfn"
      }
    },
    {
      "cell_type": "markdown",
      "source": [
        "### 圖(Graph): LangGraph 的核心結構\n",
        "\n",
        "LangGraph 的核心是將代理工作流程建模為圖，你可以制定你的 AI 代理行為，使用上面介紹的關鍵元素：\n",
        "\n",
        "> 喔對了，LangGraph 還有個特別的 `MessageGraph` 類別。這種圖的狀態就只是一串訊息列表。雖然主要用在聊天機器人上，但大多數應用可能需要更複雜的狀態結構。\n",
        "\n",
        "想要開始打造你的 LangGraph 嗎？來看看這個簡單的範例："
      ],
      "metadata": {
        "id": "ti6_b-WVjUpB"
      }
    },
    {
      "cell_type": "code",
      "source": [
        "class AllState(TypedDict):\n",
        "    messages: Annotated[list[str], operator.add]\n",
        "\n",
        "graph = StateGraph(AllState)\n",
        "app = graph.compile()"
      ],
      "metadata": {
        "id": "EeNGXsqejFia"
      },
      "execution_count": null,
      "outputs": []
    },
    {
      "cell_type": "markdown",
      "source": [
        "## 實戰應用：天氣查詢 Agent\n",
        "\n",
        "現在我們了解了 langgraph 及其元件，然後讓我們使用 langgraph 建立一個基本工作流程。我們將創建一個天氣助手，它可以為我們提供任何位置的天氣資訊，讓我們通過一個實際的例子來了解運作機制：\n",
        "\n",
        "最後我們會實現出以下工作流程圖\n",
        "![簡易圖](https://i.imgur.com/OV96KYj.png)"
      ],
      "metadata": {
        "id": "ozhSalPQr5x4"
      }
    },
    {
      "cell_type": "markdown",
      "source": [
        "首先先來建立整張圖的狀態，我們將創建一種稱為「Messages」的狀態，它將儲存整個工作流程中發生的所有對話。所以讓我們先創建它！"
      ],
      "metadata": {
        "id": "rxzLLXip1w36"
      }
    },
    {
      "cell_type": "code",
      "source": [
        "from typing import TypedDict, Annotated, Sequence\n",
        "import operator\n",
        "class AllState(TypedDict):\n",
        "    messages: Annotated[Sequence[str], operator.add]"
      ],
      "metadata": {
        "id": "ad_lKkcW14kL"
      },
      "execution_count": null,
      "outputs": []
    },
    {
      "cell_type": "markdown",
      "source": [
        "我們將創建一個節點，該節點將接受用戶輸入並從用戶的查詢中提取城市名稱，並將其傳遞到下一個節點"
      ],
      "metadata": {
        "id": "vS9ZjBC_1QxA"
      }
    },
    {
      "cell_type": "code",
      "source": [
        "from langchain_openai import ChatOpenAI\n",
        "from langchain.prompts import ChatPromptTemplate\n",
        "\n",
        "model = ChatOpenAI(temperature=0.4)\n",
        "prompt_str = \"\"\"\n",
        "You are given one question and you have to extract city name from it\n",
        "Don't respond anything except the city name and don't reply anything if you can't find city name\n",
        "Only reply the city name if it exists or reply 'no_response' if there is no city name in question\n",
        "\n",
        "  Here is the question:\n",
        "  {user_query}\n",
        "\"\"\"\n",
        "prompt = ChatPromptTemplate.from_template(prompt_str)\n",
        "\n",
        "chain = prompt | model\n",
        "res = chain.invoke({\"user_query\": \"請問高雄天氣如何?\"})\n",
        "res.content"
      ],
      "metadata": {
        "colab": {
          "base_uri": "https://localhost:8080/",
          "height": 36
        },
        "id": "reU6K0tt0rFm",
        "outputId": "125d26bd-a85c-4887-f668-f525eef33e8f"
      },
      "execution_count": null,
      "outputs": [
        {
          "output_type": "execute_result",
          "data": {
            "text/plain": [
              "'高雄'"
            ],
            "application/vnd.google.colaboratory.intrinsic+json": {
              "type": "string"
            }
          },
          "metadata": {},
          "execution_count": 39
        }
      ]
    },
    {
      "cell_type": "markdown",
      "source": [
        "接著創造另一個節點，這邊模擬函數可以回傳該城市的天氣狀況，實務上你可以接提供服務的 API，力如 openWeather 就可行。"
      ],
      "metadata": {
        "id": "5NMLqacj1Ti3"
      }
    },
    {
      "cell_type": "code",
      "source": [
        "def get_taiwan_weather(city: str) -> str:\n",
        "    \"\"\"查詢台灣特定城市的天氣狀況。\"\"\"\n",
        "    weather_data = {\n",
        "        \"台北\": \"晴天，溫度28°C\",\n",
        "        \"台中\": \"多雲，溫度26°C\",\n",
        "        \"高雄\": \"陰天，溫度30°C\"\n",
        "    }\n",
        "    return f\"{city}的天氣：{weather_data.get(city, '暫無資料')}\"\n",
        "\n",
        "res = get_taiwan_weather(res.content)\n",
        "res"
      ],
      "metadata": {
        "colab": {
          "base_uri": "https://localhost:8080/",
          "height": 36
        },
        "id": "UNyqx3Mk0fab",
        "outputId": "f12b1d7c-96a9-4c79-f640-ba09212b3b76"
      },
      "execution_count": null,
      "outputs": [
        {
          "output_type": "execute_result",
          "data": {
            "text/plain": [
              "'高雄的天氣：陰天，溫度30°C'"
            ],
            "application/vnd.google.colaboratory.intrinsic+json": {
              "type": "string"
            }
          },
          "metadata": {},
          "execution_count": 40
        }
      ]
    },
    {
      "cell_type": "markdown",
      "source": [
        "函數都確認可行後，讓我們轉成節點"
      ],
      "metadata": {
        "id": "I4UO2bKG1nAl"
      }
    },
    {
      "cell_type": "code",
      "source": [
        "def call_model(state: AllState):\n",
        "    messages = state[\"messages\"]\n",
        "    response = chain.invoke(messages)\n",
        "    return {\"messages\": [response]}\n",
        "\n",
        "def weather_tool(state):\n",
        "  context = state[\"messages\"]\n",
        "  city_name = context[1].content\n",
        "  data = get_taiwan_weather(city_name)\n",
        "  return {\"messages\": [data]}"
      ],
      "metadata": {
        "id": "G4n7HxUV2LJX"
      },
      "execution_count": null,
      "outputs": []
    },
    {
      "cell_type": "markdown",
      "source": [
        "快速建立圖，將剛剛特兩個節點做連接\n"
      ],
      "metadata": {
        "id": "3It6xTEV3FM4"
      }
    },
    {
      "cell_type": "code",
      "source": [
        "graph_builder = StateGraph(AllState)\n",
        "\n",
        "graph_builder.add_node(\"agent\", call_model)\n",
        "graph_builder.add_node(\"weather\", weather_tool)\n",
        "\n",
        "# Connecting 2 nodes\n",
        "graph_builder.add_edge('agent', 'weather')\n",
        "\n",
        "graph_builder.set_entry_point(\"agent\")\n",
        "graph_builder.set_finish_point(\"weather\")\n",
        "\n",
        "app = graph_builder.compile()"
      ],
      "metadata": {
        "id": "__XpRYCe3IL1"
      },
      "execution_count": null,
      "outputs": []
    },
    {
      "cell_type": "code",
      "source": [
        "init_state = {\"messages\": [\"想知道高雄天氣如何？\"]}\n",
        "response = app.invoke(init_state)\n",
        "response['messages'][-1]"
      ],
      "metadata": {
        "colab": {
          "base_uri": "https://localhost:8080/",
          "height": 36
        },
        "id": "ZsRLwYHg3NK5",
        "outputId": "5fee5786-584d-4a5d-8f9a-71644b619903"
      },
      "execution_count": null,
      "outputs": [
        {
          "output_type": "execute_result",
          "data": {
            "text/plain": [
              "'高雄的天氣：陰天，溫度30°C'"
            ],
            "application/vnd.google.colaboratory.intrinsic+json": {
              "type": "string"
            }
          },
          "metadata": {},
          "execution_count": 36
        }
      ]
    },
    {
      "cell_type": "markdown",
      "source": [
        "可以視覺化查看結果圖"
      ],
      "metadata": {
        "id": "iEh-0z256kQF"
      }
    },
    {
      "cell_type": "code",
      "source": [
        "from IPython.display import Image, display\n",
        "\n",
        "try:\n",
        "    display(Image(app.get_graph().draw_mermaid_png()))\n",
        "except Exception:\n",
        "    # This requires some extra dependencies and is optional\n",
        "    pass"
      ],
      "metadata": {
        "colab": {
          "base_uri": "https://localhost:8080/",
          "height": 320
        },
        "id": "DxSwiJ-u6nbq",
        "outputId": "c9d26a9c-c6c8-4ae5-9c53-0d028636d81a"
      },
      "execution_count": null,
      "outputs": [
        {
          "output_type": "display_data",
          "data": {
            "image/jpeg": "[encoded data removed]",
            "text/plain": [
              "<IPython.core.display.Image object>"
            ]
          },
          "metadata": {}
        }
      ]
    },
    {
      "cell_type": "markdown",
      "source": [
        "看起來目前一切都很優質，另一個問題是，Agent 目前只能回答關於天氣的事項，沒有辦法回答其他內容，例如：李多慧今年幾歲？按照既有流程會直接交給天氣函數去做查詢，然後一切都會爆炸，因此我們需要處理這個議題。\n",
        "\n",
        "如果我們有條件地運行天氣工具會怎麼樣？ 🤔，表示我們只會在使用者詢問天氣資訊時運行該工具，否則我們不會做出任何回應。這是我們需要創建條件邊的地方，所以讓我們創建一個！\n",
        "\n",
        "![img](https://i.imgur.com/KPN6sOH.png)\n",
        "\n",
        "繼續往下開始編寫"
      ],
      "metadata": {
        "id": "nT58orGn63C6"
      }
    },
    {
      "cell_type": "code",
      "source": [
        "from langgraph.graph import Graph, END\n",
        "\n",
        "# Defining condition function\n",
        "def query_classify(state: AllState):\n",
        "  messages = state[\"messages\"]\n",
        "  ctx = messages[0]\n",
        "  if ctx == \"no_response\":\n",
        "    return \"end\"\n",
        "  else:\n",
        "    return \"continue\""
      ],
      "metadata": {
        "id": "0OgMoA-78CY9"
      },
      "execution_count": null,
      "outputs": []
    },
    {
      "cell_type": "code",
      "source": [
        "graph_builder = StateGraph(AllState)\n",
        "\n",
        "graph_builder.add_node(\"agent\", call_model)\n",
        "graph_builder.add_node(\"weather\", weather_tool)\n",
        "\n",
        "graph_builder.set_entry_point(\"agent\")\n",
        "\n",
        "# Create an conditional edge\n",
        "graph_builder.add_conditional_edges('agent',query_classify,{\n",
        "    \"end\": END,\n",
        "    \"continue\": \"weather\"\n",
        "})\n",
        "\n",
        "\n",
        "app = graph_builder.compile()"
      ],
      "metadata": {
        "id": "ERFhbH7p8MEW"
      },
      "execution_count": null,
      "outputs": []
    },
    {
      "cell_type": "code",
      "source": [
        "init_state = {\"messages\": [\"想知道杜拜天氣如何？\"]}\n",
        "response = app.invoke(init_state)\n",
        "response['messages'][-1]"
      ],
      "metadata": {
        "colab": {
          "base_uri": "https://localhost:8080/",
          "height": 36
        },
        "id": "7SLQS0FE89OO",
        "outputId": "7a746659-819a-45af-95e3-ef72588374ec"
      },
      "execution_count": null,
      "outputs": [
        {
          "output_type": "execute_result",
          "data": {
            "text/plain": [
              "'no_response的天氣：暫無資料'"
            ],
            "application/vnd.google.colaboratory.intrinsic+json": {
              "type": "string"
            }
          },
          "metadata": {},
          "execution_count": 47
        }
      ]
    },
    {
      "cell_type": "markdown",
      "source": [
        "哎呀，怎麼還是不對，看來我們需要用一個回應節點來處理最後輸出的結果"
      ],
      "metadata": {
        "id": "MVzDNWkI9HAp"
      }
    },
    {
      "cell_type": "code",
      "source": [
        "from langchain_openai import ChatOpenAI\n",
        "from langchain.prompts import ChatPromptTemplate\n",
        "\n",
        "model = ChatOpenAI(temperature=0.4)\n",
        "response_prompt_str = \"\"\"\n",
        "  You have given a weather information and you have to respond to user's query based on the information\n",
        "\n",
        "  Here is the user query:\n",
        "  ---\n",
        "  {user_query}\n",
        "  ---\n",
        "\n",
        "  Here is the information:\n",
        "  ---\n",
        "  {information}\n",
        "  ---\n",
        "  \"\"\"\n",
        "response_prompt = ChatPromptTemplate.from_template(response_prompt_str)\n",
        "\n",
        "response_chain = response_prompt | model\n",
        "res = response_chain.invoke({\n",
        "    \"user_query\": \"請問杜拜天氣如何?\",\n",
        "    \"information\": \"no_response的天氣：暫無資料\"\n",
        "    })\n",
        "res.content"
      ],
      "metadata": {
        "colab": {
          "base_uri": "https://localhost:8080/",
          "height": 36
        },
        "id": "U-BVhPO49Syg",
        "outputId": "9bb40788-9ccc-478c-9c7f-f0c1ee1b9ee7"
      },
      "execution_count": null,
      "outputs": [
        {
          "output_type": "execute_result",
          "data": {
            "text/plain": [
              "'抱歉，目前沒有杜拜的天氣資料。您可以稍後再詢問或查詢其他天氣資訊。感謝您的理解。'"
            ],
            "application/vnd.google.colaboratory.intrinsic+json": {
              "type": "string"
            }
          },
          "metadata": {},
          "execution_count": 48
        }
      ]
    },
    {
      "cell_type": "markdown",
      "source": [
        "將剛剛建立好的回應函數轉換成節點"
      ],
      "metadata": {
        "id": "wdtmUsOmAT6Y"
      }
    },
    {
      "cell_type": "code",
      "source": [
        "def responder(state: AllState):\n",
        "    messages = state[\"messages\"]\n",
        "    response = response_chain.invoke({\n",
        "        \"user_query\": messages[0],\n",
        "        \"information\": messages[1]\n",
        "    })\n",
        "    return {\"messages\": [response]}"
      ],
      "metadata": {
        "id": "gOxtIhnV9Q_5"
      },
      "execution_count": null,
      "outputs": []
    },
    {
      "cell_type": "markdown",
      "source": [
        "重新編譯整張圖"
      ],
      "metadata": {
        "id": "qVaHKpByAXbz"
      }
    },
    {
      "cell_type": "code",
      "source": [
        "graph_builder = StateGraph(AllState)\n",
        "\n",
        "graph_builder.add_node(\"agent\", call_model)\n",
        "graph_builder.add_node(\"weather\", weather_tool)\n",
        "graph_builder.add_node(\"responder\", responder)\n",
        "\n",
        "graph_builder.set_entry_point(\"agent\")\n",
        "\n",
        "# Create an conditional edge\n",
        "graph_builder.add_conditional_edges('agent',query_classify,{\n",
        "    \"end\": \"responder\",\n",
        "    \"continue\": \"weather\"\n",
        "})\n",
        "graph_builder.add_edge(\"weather\", \"responder\")\n",
        "graph_builder.add_edge(\"responder\", END)\n",
        "\n",
        "\n",
        "\n",
        "app = graph_builder.compile()"
      ],
      "metadata": {
        "id": "iEWk9OBm-WI8"
      },
      "execution_count": null,
      "outputs": []
    },
    {
      "cell_type": "code",
      "source": [
        "from IPython.display import Image, display\n",
        "\n",
        "try:\n",
        "    display(Image(app.get_graph().draw_mermaid_png()))\n",
        "except Exception:\n",
        "    # This requires some extra dependencies and is optional\n",
        "    pass"
      ],
      "metadata": {
        "colab": {
          "base_uri": "https://localhost:8080/",
          "height": 423
        },
        "id": "qmwVYC8E_IWU",
        "outputId": "3dd08dcd-db19-42ea-b574-317b199d2662"
      },
      "execution_count": null,
      "outputs": [
        {
          "output_type": "display_data",
          "data": {
            "image/jpeg": "[encoded data removed]",
            "text/plain": [
              "<IPython.core.display.Image object>"
            ]
          },
          "metadata": {}
        }
      ]
    },
    {
      "cell_type": "markdown",
      "source": [
        "再次視覺化比較流程"
      ],
      "metadata": {
        "id": "mXdKlXWCAPut"
      }
    },
    {
      "cell_type": "code",
      "source": [
        "init_state = {\"messages\": [\"想知道杜拜天氣如何？\"]}\n",
        "response = app.invoke(init_state)\n",
        "response['messages'][-1].content"
      ],
      "metadata": {
        "colab": {
          "base_uri": "https://localhost:8080/",
          "height": 36
        },
        "id": "9XHHuP6R_MAw",
        "outputId": "168ed222-893f-43b2-ec71-483309b7402f"
      },
      "execution_count": null,
      "outputs": [
        {
          "output_type": "execute_result",
          "data": {
            "text/plain": [
              "'抱歉，我無法提供杜拜的天氣信息。如果您需要天氣預報，建議您查詢天氣預報網站或使用天氣應用程式以獲取最新信息。祝您有個愉快的一天！'"
            ],
            "application/vnd.google.colaboratory.intrinsic+json": {
              "type": "string"
            }
          },
          "metadata": {},
          "execution_count": 58
        }
      ]
    },
    {
      "cell_type": "markdown",
      "source": [
        "現在，如果我們問「你好嗎？」之類的問題然後它會用“no_response”響應而不是拋出錯誤，如果您詢問有關天氣資訊的問題，那麼它將使用天氣工具並用響應器響應🚀！"
      ],
      "metadata": {
        "id": "1wdVKhPF_T4S"
      }
    },
    {
      "cell_type": "markdown",
      "source": [
        "##結論\n",
        "\n",
        "在這篇深入淺出的指南中，我們剖析了 LangGraph 的核心要素：節點（Nodes）、邊（Edges）和狀態（State）。這些元素就像是構建智能系統的積木，讓我們能夠打造出靈活多變的 AI 應用。\n",
        "\n",
        "我們透過實際案例，展示了如何運用這些元素來構建一個簡單卻功能強大的圖形結構。節點，就像是系統中的專業處理單元，各司其職；邊則扮演著智能交通管理員的角色，引導資訊流的方向；而狀態，則是整個系統的共享記憶體，確保各個節點能夠無縫協作。\n",
        "\n",
        "這種模塊化的設計理念，不僅提高了系統的可擴展性，更為複雜 AI 應用的開發鋪平了道路。我們期待在未來的系列文章中，能夠帶領大家探索更多進階應用場景，充分發揮 LangGraph 的潛力，一起推動 AI 技術的創新發展。讓我們拭目以待，看看 LangGraph 將如何重塑智能系統的未來！"
      ],
      "metadata": {
        "id": "esMn8t69ktBQ"
      }
    },
    {
      "cell_type": "markdown",
      "source": [
        "## X.參考資料\n",
        "\n",
        "1. https://langchain-ai.github.io/langgraph/concepts/low_level/#messagesstate\n",
        "2. https://readmedium.com/en/https:/medium.com/@kbdhunga/beginners-guide-to-langgraph-understanding-state-nodes-and-edges-part-1-897e6114fa48\n",
        "3. https://www.ionio.ai/blog/a-comprehensive-guide-about-langgraph-code-included#what-is-langgraph"
      ],
      "metadata": {
        "id": "q9w3aJbmk-HM"
      }
    },
    {
      "cell_type": "code",
      "source": [],
      "metadata": {
        "id": "KqqkOFc10Jsy"
      },
      "execution_count": null,
      "outputs": []
    }
  ]
}